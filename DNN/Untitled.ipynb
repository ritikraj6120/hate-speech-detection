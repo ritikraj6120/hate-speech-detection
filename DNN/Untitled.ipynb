{
 "cells": [
  {
   "cell_type": "code",
   "execution_count": 15,
   "id": "d00949c5-6cdf-4fd8-b7d1-e7fdaaa48b5e",
   "metadata": {},
   "outputs": [
    {
     "name": "stdout",
     "output_type": "stream",
     "text": [
      "[[ 0  1  2  3]\n",
      " [ 4  5  6  7]\n",
      " [ 8  9 10 11]\n",
      " [12 13 14 15]\n",
      " [16 17 18 19]]\n",
      "[[20 21]\n",
      " [22 23]\n",
      " [24 25]\n",
      " [26 27]\n",
      " [28 29]]\n"
     ]
    }
   ],
   "source": [
    "import numpy as np\n",
    "x = np.arange(20).reshape(5,4)\n",
    "y = np.arange(20, 30).reshape(5,2)\n",
    "print(x)\n",
    "print(y)"
   ]
  },
  {
   "cell_type": "code",
   "execution_count": 12,
   "id": "da5b1219-6ce7-4634-b6aa-730b72a2c7ed",
   "metadata": {},
   "outputs": [],
   "source": [
    "from tensorflow.keras.layers import Concatenate"
   ]
  },
  {
   "cell_type": "code",
   "execution_count": 16,
   "id": "e15721ce-d3c1-4141-8b9d-cd17b0cce158",
   "metadata": {},
   "outputs": [],
   "source": [
    "z=Concatenate(axis=1)([x, y])"
   ]
  },
  {
   "cell_type": "code",
   "execution_count": 17,
   "id": "826daea1-f2fe-48f4-aa1b-1f354cf075a3",
   "metadata": {},
   "outputs": [
    {
     "name": "stdout",
     "output_type": "stream",
     "text": [
      "tf.Tensor(\n",
      "[[ 0  1  2  3 20 21]\n",
      " [ 4  5  6  7 22 23]\n",
      " [ 8  9 10 11 24 25]\n",
      " [12 13 14 15 26 27]\n",
      " [16 17 18 19 28 29]], shape=(5, 6), dtype=int32)\n"
     ]
    }
   ],
   "source": [
    "print(z)"
   ]
  },
  {
   "cell_type": "code",
   "execution_count": 3,
   "id": "6e5b5921-841c-4436-9990-010e160543ce",
   "metadata": {},
   "outputs": [],
   "source": [
    "import tensorflow as tf"
   ]
  },
  {
   "cell_type": "code",
   "execution_count": 32,
   "id": "9723b084-118d-4932-9f3f-946c94b3c8bc",
   "metadata": {},
   "outputs": [
    {
     "name": "stdout",
     "output_type": "stream",
     "text": [
      "tf.Tensor([0.11476529], shape=(1,), dtype=float32)\n"
     ]
    }
   ],
   "source": [
    "\n",
    "t = tf.random.uniform(shape=[1])\n",
    "print(t)"
   ]
  },
  {
   "cell_type": "code",
   "execution_count": 33,
   "id": "95dd9d9c-4814-4ced-a4df-45261c16be6d",
   "metadata": {},
   "outputs": [
    {
     "data": {
      "text/plain": [
       "<tf.Tensor: shape=(0,), dtype=int32, numpy=array([], dtype=int32)>"
      ]
     },
     "execution_count": 33,
     "metadata": {},
     "output_type": "execute_result"
    }
   ],
   "source": [
    "tf.shape(tf.squeeze(t,axis=-1)) "
   ]
  },
  {
   "cell_type": "code",
   "execution_count": 34,
   "id": "3484bcec-c0eb-467a-bc3f-3a5e2dfbaaac",
   "metadata": {},
   "outputs": [
    {
     "data": {
      "text/plain": [
       "<tf.Tensor: shape=(1,), dtype=float32, numpy=array([0.11476529], dtype=float32)>"
      ]
     },
     "execution_count": 34,
     "metadata": {},
     "output_type": "execute_result"
    }
   ],
   "source": [
    "t"
   ]
  },
  {
   "cell_type": "code",
   "execution_count": 61,
   "id": "18b2f9ff-d902-478c-93df-44db75438aae",
   "metadata": {},
   "outputs": [
    {
     "name": "stdout",
     "output_type": "stream",
     "text": [
      "(2,)\n",
      "tf.Tensor(\n",
      "[[1 2 3]\n",
      " [4 5 6]], shape=(2, 3), dtype=int32)\n",
      "(2, 3)\n"
     ]
    }
   ],
   "source": [
    "x = tf.constant([1, 4])\n",
    "y = tf.constant([2, 5])\n",
    "z = tf.constant([3, 6])\n",
    "print(x.shape)\n",
    "a=tf.stack([x, y, z], axis=-1)\n",
    "print(a)\n",
    "print(a.shape)"
   ]
  },
  {
   "cell_type": "code",
   "execution_count": 75,
   "id": "b470e853-95da-428a-be9b-6f71092631c5",
   "metadata": {},
   "outputs": [
    {
     "name": "stdout",
     "output_type": "stream",
     "text": [
      "tf.Tensor([[ 0.61344016 -1.0509824 ]], shape=(1, 2), dtype=float32)\n",
      "tf.Tensor([[ 0.6401963 -1.1950281]], shape=(1, 2), dtype=float32)\n",
      "2\n",
      "tf.Tensor(\n",
      "[[[ 0.61344016  0.6401963 ]\n",
      "  [-1.0509824  -1.1950281 ]]], shape=(1, 2, 2), dtype=float32)\n",
      "(1, 2, 2)\n"
     ]
    }
   ],
   "source": [
    "x = tf.random.normal(shape=(1,2))\n",
    "y = tf.random.normal(shape=(1,2))\n",
    "print(x)\n",
    "print(y)\n",
    "z=[]\n",
    "z.append(x)\n",
    "z.append(y)\n",
    "print(len(z))\n",
    "a=tf.stack(z, axis=-1)\n",
    "print(a)\n",
    "print(a.shape)"
   ]
  },
  {
   "cell_type": "code",
   "execution_count": 4,
   "id": "199910df-4e8f-48f7-8723-f86ee88dfc2b",
   "metadata": {},
   "outputs": [
    {
     "name": "stdout",
     "output_type": "stream",
     "text": [
      "tf.Tensor(\n",
      "[[-0.6030117]\n",
      " [-0.6278237]], shape=(2, 1), dtype=float32)\n",
      "tf.Tensor([-0.6030117 -0.6278237], shape=(2,), dtype=float32)\n"
     ]
    }
   ],
   "source": [
    "out = tf.random.normal(shape=(2,1))\n",
    "print(out)\n",
    "pred = tf.squeeze(out, axis=-1)\n",
    "print(pred)"
   ]
  },
  {
   "cell_type": "code",
   "execution_count": null,
   "id": "620b0ac1-f361-4814-9b24-eb4e4df7510f",
   "metadata": {},
   "outputs": [],
   "source": [
    "from keras.utils import np_utils"
   ]
  },
  {
   "cell_type": "code",
   "execution_count": 53,
   "id": "88f1c8b3-540d-46be-8bdd-b14a2c89b17e",
   "metadata": {},
   "outputs": [
    {
     "name": "stdout",
     "output_type": "stream",
     "text": [
      "[10]\n",
      "10\n"
     ]
    }
   ],
   "source": [
    "units=[10,2]\n",
    "a=units[:-1]\n",
    "print(a)\n",
    "for unit in a:\n",
    "    print(unit)"
   ]
  },
  {
   "cell_type": "code",
   "execution_count": 57,
   "id": "1970b084-1c41-4d12-b456-620ca1473a23",
   "metadata": {},
   "outputs": [
    {
     "name": "stdout",
     "output_type": "stream",
     "text": [
      "(None, 2)\n",
      "(None, 2)\n"
     ]
    }
   ],
   "source": [
    "from tensorflow.keras.layers import Input\n",
    "a = Input(shape=(2,),dtype='float32',name='taskid_input')\n",
    "print(a.shape)\n",
    "tf.expand_dims(a,-1)\n",
    "print(a.shape)"
   ]
  },
  {
   "cell_type": "code",
   "execution_count": 2,
   "id": "483c3c22-25f4-4e97-b18d-fafe7a9b0531",
   "metadata": {},
   "outputs": [
    {
     "name": "stdout",
     "output_type": "stream",
     "text": [
      "i am\n",
      "am a\n",
      "a good\n",
      "good boy\n",
      "good boy\n"
     ]
    }
   ],
   "source": [
    "tweet=\"i am a good boy\"\n",
    "import nltk\n",
    "content = nltk.word_tokenize(tweet)\n",
    "n = len(content)\n",
    "t = False\n",
    "indices = []\n",
    "category_indeics = []  # 脏词为0，错词为1，其他为2\n",
    "# for word in content\n",
    "for j in range(n):\n",
    "    # if is_number(word):\n",
    "    #     indices.append(vocab['<num>'])\n",
    "    #     num_hit += 1\n",
    "    word = content[j]\n",
    "    if j < n-1:\n",
    "        word_2 = ' '.join(content[j:j+2])\n",
    "    print(word_2)"
   ]
  },
  {
   "cell_type": "code",
   "execution_count": 1,
   "id": "6ad70b69-ef87-4089-aeea-7d6b898e5854",
   "metadata": {},
   "outputs": [
    {
     "name": "stderr",
     "output_type": "stream",
     "text": [
      "C:\\ProgramData\\Anaconda3\\lib\\site-packages\\scipy\\__init__.py:146: UserWarning: A NumPy version >=1.16.5 and <1.23.0 is required for this version of SciPy (detected version 1.24.2\n",
      "  warnings.warn(f\"A NumPy version >={np_minversion} and <{np_maxversion}\"\n"
     ]
    }
   ],
   "source": [
    "import tensorflow as tf\n",
    "from tensorflow.keras.layers import Embedding, Input, concatenate\n",
    "sequence_input_word = Input(shape=(50,), dtype='int32', name='sequence_input')\n",
    "embedded_sequences_word = Embedding(4, 6, name='emb')(sequence_input_word)"
   ]
  },
  {
   "cell_type": "code",
   "execution_count": 2,
   "id": "2b19d66d-9702-4520-abbe-b2e26140a9ce",
   "metadata": {},
   "outputs": [
    {
     "ename": "AttributeError",
     "evalue": "'KerasTensor' object has no attribute 'get_weights'",
     "output_type": "error",
     "traceback": [
      "\u001b[1;31m---------------------------------------------------------------------------\u001b[0m",
      "\u001b[1;31mAttributeError\u001b[0m                            Traceback (most recent call last)",
      "\u001b[1;32m~\\AppData\\Local\\Temp\\ipykernel_11276\\3784846733.py\u001b[0m in \u001b[0;36m<module>\u001b[1;34m\u001b[0m\n\u001b[1;32m----> 1\u001b[1;33m \u001b[0mw\u001b[0m \u001b[1;33m=\u001b[0m \u001b[0membedded_sequences_word\u001b[0m\u001b[1;33m.\u001b[0m\u001b[0mget_weights\u001b[0m\u001b[1;33m(\u001b[0m\u001b[1;33m)\u001b[0m\u001b[1;33m\u001b[0m\u001b[1;33m\u001b[0m\u001b[0m\n\u001b[0m\u001b[0;32m      2\u001b[0m \u001b[0mprint\u001b[0m\u001b[1;33m(\u001b[0m\u001b[0mlen\u001b[0m\u001b[1;33m(\u001b[0m\u001b[0mw\u001b[0m\u001b[1;33m)\u001b[0m\u001b[1;33m)\u001b[0m\u001b[1;33m\u001b[0m\u001b[1;33m\u001b[0m\u001b[0m\n",
      "\u001b[1;31mAttributeError\u001b[0m: 'KerasTensor' object has no attribute 'get_weights'"
     ]
    }
   ],
   "source": [
    "w = embedded_sequences_word.get_weights()\n",
    "print(len(w))"
   ]
  },
  {
   "cell_type": "code",
   "execution_count": 10,
   "id": "8836f9a2-2e39-44e5-8191-c482603a192d",
   "metadata": {},
   "outputs": [
    {
     "name": "stdout",
     "output_type": "stream",
     "text": [
      "[[[0 1 2 3 4]\n",
      "  [5 6 7 8 9]]]\n",
      "[[[20 21 22 23 24 25 26 27 28 29]\n",
      "  [30 31 32 33 34 35 36 37 38 39]]]\n"
     ]
    },
    {
     "data": {
      "text/plain": [
       "<tf.Tensor: shape=(1, 2, 15), dtype=int32, numpy=\n",
       "array([[[ 0,  1,  2,  3,  4, 20, 21, 22, 23, 24, 25, 26, 27, 28, 29],\n",
       "        [ 5,  6,  7,  8,  9, 30, 31, 32, 33, 34, 35, 36, 37, 38, 39]]])>"
      ]
     },
     "execution_count": 10,
     "metadata": {},
     "output_type": "execute_result"
    }
   ],
   "source": [
    "import numpy as np\n",
    "x = np.arange(10).reshape(1, 2, 5)\n",
    "print(x)\n",
    "y = np.arange(20, 40).reshape(1, 2, 10)\n",
    "print(y)\n",
    "z=tf.keras.layers.Concatenate(axis=-1)([x, y])"
   ]
  },
  {
   "cell_type": "code",
   "execution_count": 16,
   "id": "4cbbb907-8cc5-499d-a775-4d0f0fe3c15b",
   "metadata": {},
   "outputs": [
    {
     "name": "stdout",
     "output_type": "stream",
     "text": [
      "1/1 [==============================] - 0s 49ms/step\n",
      "(32, 10, 64)\n"
     ]
    }
   ],
   "source": [
    "model = tf.keras.Sequential()\n",
    "model.add(tf.keras.layers.Embedding(1000, 64, input_length=10))\n",
    "# The model will take as input an integer matrix of size (batch,\n",
    "# input_length), and the largest integer (i.e. word index) in the input\n",
    "# should be no larger than 999 (vocabulary size).\n",
    "# Now model.output_shape is (None, 10, 64), where `None` is the batch\n",
    "# dimension.\n",
    "input_array = np.random.randint(1000, size=(32, 10))\n",
    "model.compile('rmsprop', 'mse')\n",
    "output_array = model.predict(input_array)\n",
    "print(output_array.shape)"
   ]
  },
  {
   "cell_type": "code",
   "execution_count": 19,
   "id": "7e561d66-1411-4e42-9702-d2a337067cfb",
   "metadata": {},
   "outputs": [
    {
     "name": "stdout",
     "output_type": "stream",
     "text": [
      "[]\n"
     ]
    },
    {
     "data": {
      "text/plain": [
       "[array([[1.],\n",
       "        [1.],\n",
       "        [1.]], dtype=float32),\n",
       " array([0.], dtype=float32)]"
      ]
     },
     "execution_count": 19,
     "metadata": {},
     "output_type": "execute_result"
    }
   ],
   "source": [
    "layer_a = tf.keras.layers.Dense(1,\n",
    "  kernel_initializer=tf.constant_initializer(1.))\n",
    "print(layer_a.get_weights())\n",
    "a_out = layer_a(tf.convert_to_tensor([[1., 2., 3.]]))\n",
    "layer_a.get_weights()\n",
    "layer_b = tf.keras.layers.Dense(1,\n",
    "  kernel_initializer=tf.constant_initializer(2.))\n",
    "b_out = layer_b(tf.convert_to_tensor([[10., 20., 30.]]))\n",
    "layer_b.get_weights()\n",
    "layer_b.set_weights(layer_a.get_weights())\n",
    "layer_b.get_weights()"
   ]
  },
  {
   "cell_type": "code",
   "execution_count": 26,
   "id": "d71bf1a4-011a-4385-b112-09e1143d0b3e",
   "metadata": {},
   "outputs": [],
   "source": [
    "a=tf.convert_to_tensor([[0, 1, 2]])\n",
    "embedded_sequences_word = Embedding(5, 2, name='emb')\n",
    "b_out=embedded_sequences_word(a)"
   ]
  },
  {
   "cell_type": "code",
   "execution_count": 28,
   "id": "62de24cb-a82e-41a4-951d-8658d82dd312",
   "metadata": {},
   "outputs": [
    {
     "data": {
      "text/plain": [
       "[]"
      ]
     },
     "execution_count": 28,
     "metadata": {},
     "output_type": "execute_result"
    }
   ],
   "source": [
    "model = tf.keras.Sequential()\n",
    "emb=tf.keras.layers.Embedding(5, 2, input_length=10)\n",
    "emb.get_weights()\n",
    "# The model will take as input an integer matrix of size (batch,\n",
    "# input_length), and the largest integer (i.e. word index) in the input\n",
    "# should be no larger than 999 (vocabulary size).\n",
    "# Now model.output_shape is (None, 10, 64), where `None` is the batch\n",
    "# dimension.\n",
    "# input_array = np.random.randint(1000, size=(32, 10))\n",
    "# model.compile('rmsprop', 'mse')\n",
    "# output_array = model.predict(input_array)\n",
    "# print(output_array.shape)"
   ]
  },
  {
   "cell_type": "code",
   "execution_count": 1,
   "id": "ec1aa468-1d20-4007-a7a2-e09d0be1acec",
   "metadata": {},
   "outputs": [
    {
     "data": {
      "text/plain": [
       "True"
      ]
     },
     "execution_count": 1,
     "metadata": {},
     "output_type": "execute_result"
    }
   ],
   "source": [
    "import tensorflow as tf\n",
    "\n",
    "# # specify the GPU device\n",
    "# physical_devices = tf.config.list_physical_devices('GPU')\n",
    "# tf.config.experimental.set_memory_growth(physical_devices[0], True)\n",
    "\n",
    "# # check if GPU is being used\n",
    "# print(tf.test.is_gpu_available())\n",
    "tf.test.is_built_with_cuda() "
   ]
  },
  {
   "cell_type": "code",
   "execution_count": null,
   "id": "87924b44-f9be-42ce-994f-1ce869d0f979",
   "metadata": {},
   "outputs": [],
   "source": []
  }
 ],
 "metadata": {
  "kernelspec": {
   "display_name": "Python 3 (ipykernel)",
   "language": "python",
   "name": "python3"
  },
  "language_info": {
   "codemirror_mode": {
    "name": "ipython",
    "version": 3
   },
   "file_extension": ".py",
   "mimetype": "text/x-python",
   "name": "python",
   "nbconvert_exporter": "python",
   "pygments_lexer": "ipython3",
   "version": "3.9.15"
  }
 },
 "nbformat": 4,
 "nbformat_minor": 5
}
