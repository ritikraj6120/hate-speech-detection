{
  "cells": [
    {
      "cell_type": "code",
      "execution_count": null,
      "metadata": {
        "id": "NEeUtyi1sQNB"
      },
      "outputs": [],
      "source": [
        "import pandas as pd\n",
        "import numpy as np\n",
        "from numpy import random\n",
        "import nltk\n",
        "import re\n",
        "import spacy\n",
        "import string\n",
        "from nltk.corpus import stopwords\n",
        "import matplotlib.pyplot as plt\n",
        "from sklearn.model_selection import train_test_split\n",
        "from sklearn.feature_extraction.text import CountVectorizer, TfidfVectorizer\n",
        "from sklearn.metrics import accuracy_score, confusion_matrix\n",
        "import seaborn as sns\n",
        "import math\n",
        "import warnings\n",
        "warnings.filterwarnings('ignore')"
      ]
    },
    {
      "cell_type": "code",
      "execution_count": null,
      "metadata": {
        "id": "9oaZxNrJaI9V"
      },
      "outputs": [],
      "source": [
        "from sklearn.metrics import auc\n",
        "from sklearn.metrics import roc_curve\n",
        "from sklearn.metrics import roc_auc_score\n",
        "from sklearn.metrics import accuracy_score\n",
        "from sklearn.metrics import classification_report\n",
        "from sklearn.metrics import precision_recall_curve\n",
        "from sklearn.datasets import make_classification"
      ]
    },
    {
      "cell_type": "markdown",
      "metadata": {
        "id": "dgiruaDyTm_7"
      },
      "source": [
        "#CrisisLexT6"
      ]
    },
    {
      "cell_type": "markdown",
      "metadata": {
        "id": "XipBMb6nBK6w"
      },
      "source": [
        "##Data Preprocessing"
      ]
    },
    {
      "cell_type": "code",
      "execution_count": null,
      "metadata": {
        "id": "K7TWvQ-ixBRz"
      },
      "outputs": [],
      "source": [
        "df1=pd.read_csv(\"/content/CrisisLexT6.csv\")"
      ]
    },
    {
      "cell_type": "code",
      "execution_count": null,
      "metadata": {
        "colab": {
          "base_uri": "https://localhost:8080/",
          "height": 206
        },
        "id": "gUYXU5hHxSpc",
        "outputId": "65375d93-db7d-40fb-96c5-f25921dbf2a5"
      },
      "outputs": [
        {
          "data": {
            "text/html": [
              "\n",
              "  <div id=\"df-70199d1c-1363-40a0-9f7f-139d45cae19c\">\n",
              "    <div class=\"colab-df-container\">\n",
              "      <div>\n",
              "<style scoped>\n",
              "    .dataframe tbody tr th:only-of-type {\n",
              "        vertical-align: middle;\n",
              "    }\n",
              "\n",
              "    .dataframe tbody tr th {\n",
              "        vertical-align: top;\n",
              "    }\n",
              "\n",
              "    .dataframe thead th {\n",
              "        text-align: right;\n",
              "    }\n",
              "</style>\n",
              "<table border=\"1\" class=\"dataframe\">\n",
              "  <thead>\n",
              "    <tr style=\"text-align: right;\">\n",
              "      <th></th>\n",
              "      <th>tweet id</th>\n",
              "      <th>tweet</th>\n",
              "      <th>label</th>\n",
              "    </tr>\n",
              "  </thead>\n",
              "  <tbody>\n",
              "    <tr>\n",
              "      <th>0</th>\n",
              "      <td>'336710056655593472'</td>\n",
              "      <td>RT @BBCBreaking: Death toll after #Oklahoma to...</td>\n",
              "      <td>Torndo</td>\n",
              "    </tr>\n",
              "    <tr>\n",
              "      <th>1</th>\n",
              "      <td>'262835144409366528'</td>\n",
              "      <td>RT @GhoshAmitav: Interesting Hurricane Sandy m...</td>\n",
              "      <td>Hurricane</td>\n",
              "    </tr>\n",
              "    <tr>\n",
              "      <th>2</th>\n",
              "      <td>'324736258213564416'</td>\n",
              "      <td>RT @saratdg: @DianneG: Amatuer cell phone vide...</td>\n",
              "      <td>Explosion</td>\n",
              "    </tr>\n",
              "    <tr>\n",
              "      <th>3</th>\n",
              "      <td>'263112797318160384'</td>\n",
              "      <td>«@WorkaholicBlake What if gangnam style is act...</td>\n",
              "      <td>Hurricane</td>\n",
              "    </tr>\n",
              "    <tr>\n",
              "      <th>4</th>\n",
              "      <td>'295813643914854400'</td>\n",
              "      <td>@wwos9 where can we watch it in qld? We've had...</td>\n",
              "      <td>Queens_flood</td>\n",
              "    </tr>\n",
              "  </tbody>\n",
              "</table>\n",
              "</div>\n",
              "      <button class=\"colab-df-convert\" onclick=\"convertToInteractive('df-70199d1c-1363-40a0-9f7f-139d45cae19c')\"\n",
              "              title=\"Convert this dataframe to an interactive table.\"\n",
              "              style=\"display:none;\">\n",
              "        \n",
              "  <svg xmlns=\"http://www.w3.org/2000/svg\" height=\"24px\"viewBox=\"0 0 24 24\"\n",
              "       width=\"24px\">\n",
              "    <path d=\"M0 0h24v24H0V0z\" fill=\"none\"/>\n",
              "    <path d=\"M18.56 5.44l.94 2.06.94-2.06 2.06-.94-2.06-.94-.94-2.06-.94 2.06-2.06.94zm-11 1L8.5 8.5l.94-2.06 2.06-.94-2.06-.94L8.5 2.5l-.94 2.06-2.06.94zm10 10l.94 2.06.94-2.06 2.06-.94-2.06-.94-.94-2.06-.94 2.06-2.06.94z\"/><path d=\"M17.41 7.96l-1.37-1.37c-.4-.4-.92-.59-1.43-.59-.52 0-1.04.2-1.43.59L10.3 9.45l-7.72 7.72c-.78.78-.78 2.05 0 2.83L4 21.41c.39.39.9.59 1.41.59.51 0 1.02-.2 1.41-.59l7.78-7.78 2.81-2.81c.8-.78.8-2.07 0-2.86zM5.41 20L4 18.59l7.72-7.72 1.47 1.35L5.41 20z\"/>\n",
              "  </svg>\n",
              "      </button>\n",
              "      \n",
              "  <style>\n",
              "    .colab-df-container {\n",
              "      display:flex;\n",
              "      flex-wrap:wrap;\n",
              "      gap: 12px;\n",
              "    }\n",
              "\n",
              "    .colab-df-convert {\n",
              "      background-color: #E8F0FE;\n",
              "      border: none;\n",
              "      border-radius: 50%;\n",
              "      cursor: pointer;\n",
              "      display: none;\n",
              "      fill: #1967D2;\n",
              "      height: 32px;\n",
              "      padding: 0 0 0 0;\n",
              "      width: 32px;\n",
              "    }\n",
              "\n",
              "    .colab-df-convert:hover {\n",
              "      background-color: #E2EBFA;\n",
              "      box-shadow: 0px 1px 2px rgba(60, 64, 67, 0.3), 0px 1px 3px 1px rgba(60, 64, 67, 0.15);\n",
              "      fill: #174EA6;\n",
              "    }\n",
              "\n",
              "    [theme=dark] .colab-df-convert {\n",
              "      background-color: #3B4455;\n",
              "      fill: #D2E3FC;\n",
              "    }\n",
              "\n",
              "    [theme=dark] .colab-df-convert:hover {\n",
              "      background-color: #434B5C;\n",
              "      box-shadow: 0px 1px 3px 1px rgba(0, 0, 0, 0.15);\n",
              "      filter: drop-shadow(0px 1px 2px rgba(0, 0, 0, 0.3));\n",
              "      fill: #FFFFFF;\n",
              "    }\n",
              "  </style>\n",
              "\n",
              "      <script>\n",
              "        const buttonEl =\n",
              "          document.querySelector('#df-70199d1c-1363-40a0-9f7f-139d45cae19c button.colab-df-convert');\n",
              "        buttonEl.style.display =\n",
              "          google.colab.kernel.accessAllowed ? 'block' : 'none';\n",
              "\n",
              "        async function convertToInteractive(key) {\n",
              "          const element = document.querySelector('#df-70199d1c-1363-40a0-9f7f-139d45cae19c');\n",
              "          const dataTable =\n",
              "            await google.colab.kernel.invokeFunction('convertToInteractive',\n",
              "                                                     [key], {});\n",
              "          if (!dataTable) return;\n",
              "\n",
              "          const docLinkHtml = 'Like what you see? Visit the ' +\n",
              "            '<a target=\"_blank\" href=https://colab.research.google.com/notebooks/data_table.ipynb>data table notebook</a>'\n",
              "            + ' to learn more about interactive tables.';\n",
              "          element.innerHTML = '';\n",
              "          dataTable['output_type'] = 'display_data';\n",
              "          await google.colab.output.renderOutput(dataTable, element);\n",
              "          const docLink = document.createElement('div');\n",
              "          docLink.innerHTML = docLinkHtml;\n",
              "          element.appendChild(docLink);\n",
              "        }\n",
              "      </script>\n",
              "    </div>\n",
              "  </div>\n",
              "  "
            ],
            "text/plain": [
              "               tweet id                                              tweet  \\\n",
              "0  '336710056655593472'  RT @BBCBreaking: Death toll after #Oklahoma to...   \n",
              "1  '262835144409366528'  RT @GhoshAmitav: Interesting Hurricane Sandy m...   \n",
              "2  '324736258213564416'  RT @saratdg: @DianneG: Amatuer cell phone vide...   \n",
              "3  '263112797318160384'  «@WorkaholicBlake What if gangnam style is act...   \n",
              "4  '295813643914854400'  @wwos9 where can we watch it in qld? We've had...   \n",
              "\n",
              "          label  \n",
              "0        Torndo  \n",
              "1     Hurricane  \n",
              "2     Explosion  \n",
              "3     Hurricane  \n",
              "4  Queens_flood  "
            ]
          },
          "execution_count": 4,
          "metadata": {},
          "output_type": "execute_result"
        }
      ],
      "source": [
        "df1.head()"
      ]
    },
    {
      "cell_type": "code",
      "execution_count": null,
      "metadata": {
        "colab": {
          "base_uri": "https://localhost:8080/"
        },
        "id": "UQRRe7LexUxQ",
        "outputId": "baded3f8-f311-41e9-f07a-7a004c12ae8a"
      },
      "outputs": [
        {
          "data": {
            "text/plain": [
              "(37671, 3)"
            ]
          },
          "execution_count": 5,
          "metadata": {},
          "output_type": "execute_result"
        }
      ],
      "source": [
        "df1.shape"
      ]
    },
    {
      "cell_type": "code",
      "execution_count": null,
      "metadata": {
        "id": "gNRZOaprUPYH"
      },
      "outputs": [],
      "source": [
        "df1.rename(columns={'tweet': 'tweet_text', 'label': 'class_label'}, inplace=True)"
      ]
    },
    {
      "cell_type": "code",
      "execution_count": null,
      "metadata": {
        "colab": {
          "base_uri": "https://localhost:8080/"
        },
        "id": "5w8OPTPexWGX",
        "outputId": "dddbf1b9-9165-4fba-9f3a-195a7a6912df"
      },
      "outputs": [
        {
          "name": "stdout",
          "output_type": "stream",
          "text": [
            "<class 'pandas.core.frame.DataFrame'>\n",
            "RangeIndex: 37671 entries, 0 to 37670\n",
            "Data columns (total 3 columns):\n",
            " #   Column       Non-Null Count  Dtype \n",
            "---  ------       --------------  ----- \n",
            " 0   tweet id     37671 non-null  object\n",
            " 1   tweet_text   37671 non-null  object\n",
            " 2   class_label  37671 non-null  object\n",
            "dtypes: object(3)\n",
            "memory usage: 883.0+ KB\n"
          ]
        }
      ],
      "source": [
        "df1.info()"
      ]
    },
    {
      "cell_type": "code",
      "execution_count": null,
      "metadata": {
        "id": "brq7I0tByop1"
      },
      "outputs": [],
      "source": [
        "df2 = df1"
      ]
    },
    {
      "cell_type": "code",
      "execution_count": null,
      "metadata": {
        "colab": {
          "base_uri": "https://localhost:8080/"
        },
        "id": "GxTq-SLbWGsR",
        "outputId": "e9dea745-9ae4-47f3-c78a-184e83d9f5a7"
      },
      "outputs": [
        {
          "name": "stdout",
          "output_type": "stream",
          "text": [
            "<class 'pandas.core.frame.DataFrame'>\n",
            "RangeIndex: 37671 entries, 0 to 37670\n",
            "Data columns (total 3 columns):\n",
            " #   Column       Non-Null Count  Dtype \n",
            "---  ------       --------------  ----- \n",
            " 0   tweet id     37671 non-null  object\n",
            " 1   tweet_text   37671 non-null  object\n",
            " 2   class_label  37671 non-null  object\n",
            "dtypes: object(3)\n",
            "memory usage: 883.0+ KB\n"
          ]
        }
      ],
      "source": [
        "df2.info()"
      ]
    },
    {
      "cell_type": "code",
      "execution_count": null,
      "metadata": {
        "colab": {
          "base_uri": "https://localhost:8080/"
        },
        "id": "3ZMxQyXzTSCu",
        "outputId": "65d98779-0b0e-4bb1-a633-8244ba2d86ee"
      },
      "outputs": [
        {
          "data": {
            "text/plain": [
              "Hurricane       6138\n",
              "Bombing         5648\n",
              "Queens_flood    5414\n",
              "Explosion       5246\n",
              "NONE            5211\n",
              "Alb_flood       5187\n",
              "Torndo          4827\n",
              "Name: class_label, dtype: int64"
            ]
          },
          "execution_count": 10,
          "metadata": {},
          "output_type": "execute_result"
        }
      ],
      "source": [
        "df2.class_label.value_counts()"
      ]
    },
    {
      "cell_type": "code",
      "execution_count": null,
      "metadata": {
        "colab": {
          "base_uri": "https://localhost:8080/",
          "height": 448
        },
        "id": "HZeQzr9fHsyw",
        "outputId": "88238dcb-adeb-4e3c-ddff-e6040ff0ffce"
      },
      "outputs": [
        {
          "data": {
            "image/png": "[encoded data removed]",
            "text/plain": [
              "<Figure size 1000x400 with 1 Axes>"
            ]
          },
          "metadata": {},
          "output_type": "display_data"
        }
      ],
      "source": [
        "#my_tags = ['caution_and_advice','displaced_people_and_evacuations','infrastructure_and_utility_damage','injured_or_dead_people','missing_or_found_people','not_humanitarian','other_relevant_information','requests_or_urgent_needs','rescue_volunteering_or_donation_effort','sympathy_and_support']\n",
        "plt.figure(figsize=(10,4))\n",
        "df2.class_label.value_counts().plot(kind='bar');"
      ]
    },
    {
      "cell_type": "code",
      "execution_count": null,
      "metadata": {
        "id": "0zAEjWQUVaZR"
      },
      "outputs": [],
      "source": [
        "df2['tweet_text']=df2['tweet_text'].apply(str)"
      ]
    },
    {
      "cell_type": "code",
      "execution_count": null,
      "metadata": {
        "colab": {
          "base_uri": "https://localhost:8080/",
          "height": 206
        },
        "id": "6PP496J_xf2i",
        "outputId": "40b015a2-62c6-47b6-dfed-d0ef8af9f862"
      },
      "outputs": [
        {
          "data": {
            "text/html": [
              "\n",
              "  <div id=\"df-52219658-b742-43ef-ba24-7f104e069b1c\">\n",
              "    <div class=\"colab-df-container\">\n",
              "      <div>\n",
              "<style scoped>\n",
              "    .dataframe tbody tr th:only-of-type {\n",
              "        vertical-align: middle;\n",
              "    }\n",
              "\n",
              "    .dataframe tbody tr th {\n",
              "        vertical-align: top;\n",
              "    }\n",
              "\n",
              "    .dataframe thead th {\n",
              "        text-align: right;\n",
              "    }\n",
              "</style>\n",
              "<table border=\"1\" class=\"dataframe\">\n",
              "  <thead>\n",
              "    <tr style=\"text-align: right;\">\n",
              "      <th></th>\n",
              "      <th>tweet id</th>\n",
              "      <th>tweet_text</th>\n",
              "      <th>class_label</th>\n",
              "      <th>tweet_text_Processed</th>\n",
              "    </tr>\n",
              "  </thead>\n",
              "  <tbody>\n",
              "    <tr>\n",
              "      <th>0</th>\n",
              "      <td>'336710056655593472'</td>\n",
              "      <td>RT @BBCBreaking: Death toll after #Oklahoma to...</td>\n",
              "      <td>Torndo</td>\n",
              "      <td>RT Death toll after Oklahoma tornado rises to ...</td>\n",
              "    </tr>\n",
              "    <tr>\n",
              "      <th>1</th>\n",
              "      <td>'262835144409366528'</td>\n",
              "      <td>RT @GhoshAmitav: Interesting Hurricane Sandy m...</td>\n",
              "      <td>Hurricane</td>\n",
              "      <td>RT Interesting Hurricane Sandy making headline...</td>\n",
              "    </tr>\n",
              "    <tr>\n",
              "      <th>2</th>\n",
              "      <td>'324736258213564416'</td>\n",
              "      <td>RT @saratdg: @DianneG: Amatuer cell phone vide...</td>\n",
              "      <td>Explosion</td>\n",
              "      <td>RT Amatuer cell phone video from father amp da...</td>\n",
              "    </tr>\n",
              "    <tr>\n",
              "      <th>3</th>\n",
              "      <td>'263112797318160384'</td>\n",
              "      <td>«@WorkaholicBlake What if gangnam style is act...</td>\n",
              "      <td>Hurricane</td>\n",
              "      <td>What if gangnam style is actually just a giant...</td>\n",
              "    </tr>\n",
              "    <tr>\n",
              "      <th>4</th>\n",
              "      <td>'295813643914854400'</td>\n",
              "      <td>@wwos9 where can we watch it in qld? We've had...</td>\n",
              "      <td>Queens_flood</td>\n",
              "      <td>where can we watch it in qld We ve had floods ...</td>\n",
              "    </tr>\n",
              "  </tbody>\n",
              "</table>\n",
              "</div>\n",
              "      <button class=\"colab-df-convert\" onclick=\"convertToInteractive('df-52219658-b742-43ef-ba24-7f104e069b1c')\"\n",
              "              title=\"Convert this dataframe to an interactive table.\"\n",
              "              style=\"display:none;\">\n",
              "        \n",
              "  <svg xmlns=\"http://www.w3.org/2000/svg\" height=\"24px\"viewBox=\"0 0 24 24\"\n",
              "       width=\"24px\">\n",
              "    <path d=\"M0 0h24v24H0V0z\" fill=\"none\"/>\n",
              "    <path d=\"M18.56 5.44l.94 2.06.94-2.06 2.06-.94-2.06-.94-.94-2.06-.94 2.06-2.06.94zm-11 1L8.5 8.5l.94-2.06 2.06-.94-2.06-.94L8.5 2.5l-.94 2.06-2.06.94zm10 10l.94 2.06.94-2.06 2.06-.94-2.06-.94-.94-2.06-.94 2.06-2.06.94z\"/><path d=\"M17.41 7.96l-1.37-1.37c-.4-.4-.92-.59-1.43-.59-.52 0-1.04.2-1.43.59L10.3 9.45l-7.72 7.72c-.78.78-.78 2.05 0 2.83L4 21.41c.39.39.9.59 1.41.59.51 0 1.02-.2 1.41-.59l7.78-7.78 2.81-2.81c.8-.78.8-2.07 0-2.86zM5.41 20L4 18.59l7.72-7.72 1.47 1.35L5.41 20z\"/>\n",
              "  </svg>\n",
              "      </button>\n",
              "      \n",
              "  <style>\n",
              "    .colab-df-container {\n",
              "      display:flex;\n",
              "      flex-wrap:wrap;\n",
              "      gap: 12px;\n",
              "    }\n",
              "\n",
              "    .colab-df-convert {\n",
              "      background-color: #E8F0FE;\n",
              "      border: none;\n",
              "      border-radius: 50%;\n",
              "      cursor: pointer;\n",
              "      display: none;\n",
              "      fill: #1967D2;\n",
              "      height: 32px;\n",
              "      padding: 0 0 0 0;\n",
              "      width: 32px;\n",
              "    }\n",
              "\n",
              "    .colab-df-convert:hover {\n",
              "      background-color: #E2EBFA;\n",
              "      box-shadow: 0px 1px 2px rgba(60, 64, 67, 0.3), 0px 1px 3px 1px rgba(60, 64, 67, 0.15);\n",
              "      fill: #174EA6;\n",
              "    }\n",
              "\n",
              "    [theme=dark] .colab-df-convert {\n",
              "      background-color: #3B4455;\n",
              "      fill: #D2E3FC;\n",
              "    }\n",
              "\n",
              "    [theme=dark] .colab-df-convert:hover {\n",
              "      background-color: #434B5C;\n",
              "      box-shadow: 0px 1px 3px 1px rgba(0, 0, 0, 0.15);\n",
              "      filter: drop-shadow(0px 1px 2px rgba(0, 0, 0, 0.3));\n",
              "      fill: #FFFFFF;\n",
              "    }\n",
              "  </style>\n",
              "\n",
              "      <script>\n",
              "        const buttonEl =\n",
              "          document.querySelector('#df-52219658-b742-43ef-ba24-7f104e069b1c button.colab-df-convert');\n",
              "        buttonEl.style.display =\n",
              "          google.colab.kernel.accessAllowed ? 'block' : 'none';\n",
              "\n",
              "        async function convertToInteractive(key) {\n",
              "          const element = document.querySelector('#df-52219658-b742-43ef-ba24-7f104e069b1c');\n",
              "          const dataTable =\n",
              "            await google.colab.kernel.invokeFunction('convertToInteractive',\n",
              "                                                     [key], {});\n",
              "          if (!dataTable) return;\n",
              "\n",
              "          const docLinkHtml = 'Like what you see? Visit the ' +\n",
              "            '<a target=\"_blank\" href=https://colab.research.google.com/notebooks/data_table.ipynb>data table notebook</a>'\n",
              "            + ' to learn more about interactive tables.';\n",
              "          element.innerHTML = '';\n",
              "          dataTable['output_type'] = 'display_data';\n",
              "          await google.colab.output.renderOutput(dataTable, element);\n",
              "          const docLink = document.createElement('div');\n",
              "          docLink.innerHTML = docLinkHtml;\n",
              "          element.appendChild(docLink);\n",
              "        }\n",
              "      </script>\n",
              "    </div>\n",
              "  </div>\n",
              "  "
            ],
            "text/plain": [
              "               tweet id                                         tweet_text  \\\n",
              "0  '336710056655593472'  RT @BBCBreaking: Death toll after #Oklahoma to...   \n",
              "1  '262835144409366528'  RT @GhoshAmitav: Interesting Hurricane Sandy m...   \n",
              "2  '324736258213564416'  RT @saratdg: @DianneG: Amatuer cell phone vide...   \n",
              "3  '263112797318160384'  «@WorkaholicBlake What if gangnam style is act...   \n",
              "4  '295813643914854400'  @wwos9 where can we watch it in qld? We've had...   \n",
              "\n",
              "    class_label                               tweet_text_Processed  \n",
              "0        Torndo  RT Death toll after Oklahoma tornado rises to ...  \n",
              "1     Hurricane  RT Interesting Hurricane Sandy making headline...  \n",
              "2     Explosion  RT Amatuer cell phone video from father amp da...  \n",
              "3     Hurricane  What if gangnam style is actually just a giant...  \n",
              "4  Queens_flood  where can we watch it in qld We ve had floods ...  "
            ]
          },
          "execution_count": 13,
          "metadata": {},
          "output_type": "execute_result"
        }
      ],
      "source": [
        "# Remove HTTP tags\n",
        "df2['tweet_text_Processed'] = df2['tweet_text'].map(lambda x : ' '.join(re.sub(\"(@[A-Za-z0-9]+)|([^0-9A-Za-z \\t])|(\\w+:\\/\\/\\S+)\",\" \",x).split()))\n",
        "df2.head()"
      ]
    },
    {
      "cell_type": "code",
      "execution_count": null,
      "metadata": {
        "colab": {
          "base_uri": "https://localhost:8080/",
          "height": 206
        },
        "id": "ozTDbLGrxx9z",
        "outputId": "b63d1833-339e-4728-a2ce-b14a58a2c3e8"
      },
      "outputs": [
        {
          "data": {
            "text/html": [
              "\n",
              "  <div id=\"df-fc38996c-6ed2-4f2b-8565-910445513523\">\n",
              "    <div class=\"colab-df-container\">\n",
              "      <div>\n",
              "<style scoped>\n",
              "    .dataframe tbody tr th:only-of-type {\n",
              "        vertical-align: middle;\n",
              "    }\n",
              "\n",
              "    .dataframe tbody tr th {\n",
              "        vertical-align: top;\n",
              "    }\n",
              "\n",
              "    .dataframe thead th {\n",
              "        text-align: right;\n",
              "    }\n",
              "</style>\n",
              "<table border=\"1\" class=\"dataframe\">\n",
              "  <thead>\n",
              "    <tr style=\"text-align: right;\">\n",
              "      <th></th>\n",
              "      <th>tweet id</th>\n",
              "      <th>tweet_text</th>\n",
              "      <th>class_label</th>\n",
              "      <th>tweet_text_Processed</th>\n",
              "    </tr>\n",
              "  </thead>\n",
              "  <tbody>\n",
              "    <tr>\n",
              "      <th>0</th>\n",
              "      <td>'336710056655593472'</td>\n",
              "      <td>RT @BBCBreaking: Death toll after #Oklahoma to...</td>\n",
              "      <td>Torndo</td>\n",
              "      <td>rt death toll after oklahoma tornado rises to ...</td>\n",
              "    </tr>\n",
              "    <tr>\n",
              "      <th>1</th>\n",
              "      <td>'262835144409366528'</td>\n",
              "      <td>RT @GhoshAmitav: Interesting Hurricane Sandy m...</td>\n",
              "      <td>Hurricane</td>\n",
              "      <td>rt interesting hurricane sandy making headline...</td>\n",
              "    </tr>\n",
              "    <tr>\n",
              "      <th>2</th>\n",
              "      <td>'324736258213564416'</td>\n",
              "      <td>RT @saratdg: @DianneG: Amatuer cell phone vide...</td>\n",
              "      <td>Explosion</td>\n",
              "      <td>rt amatuer cell phone video from father amp da...</td>\n",
              "    </tr>\n",
              "    <tr>\n",
              "      <th>3</th>\n",
              "      <td>'263112797318160384'</td>\n",
              "      <td>«@WorkaholicBlake What if gangnam style is act...</td>\n",
              "      <td>Hurricane</td>\n",
              "      <td>what if gangnam style is actually just a giant...</td>\n",
              "    </tr>\n",
              "    <tr>\n",
              "      <th>4</th>\n",
              "      <td>'295813643914854400'</td>\n",
              "      <td>@wwos9 where can we watch it in qld? We've had...</td>\n",
              "      <td>Queens_flood</td>\n",
              "      <td>where can we watch it in qld we ve had floods ...</td>\n",
              "    </tr>\n",
              "  </tbody>\n",
              "</table>\n",
              "</div>\n",
              "      <button class=\"colab-df-convert\" onclick=\"convertToInteractive('df-fc38996c-6ed2-4f2b-8565-910445513523')\"\n",
              "              title=\"Convert this dataframe to an interactive table.\"\n",
              "              style=\"display:none;\">\n",
              "        \n",
              "  <svg xmlns=\"http://www.w3.org/2000/svg\" height=\"24px\"viewBox=\"0 0 24 24\"\n",
              "       width=\"24px\">\n",
              "    <path d=\"M0 0h24v24H0V0z\" fill=\"none\"/>\n",
              "    <path d=\"M18.56 5.44l.94 2.06.94-2.06 2.06-.94-2.06-.94-.94-2.06-.94 2.06-2.06.94zm-11 1L8.5 8.5l.94-2.06 2.06-.94-2.06-.94L8.5 2.5l-.94 2.06-2.06.94zm10 10l.94 2.06.94-2.06 2.06-.94-2.06-.94-.94-2.06-.94 2.06-2.06.94z\"/><path d=\"M17.41 7.96l-1.37-1.37c-.4-.4-.92-.59-1.43-.59-.52 0-1.04.2-1.43.59L10.3 9.45l-7.72 7.72c-.78.78-.78 2.05 0 2.83L4 21.41c.39.39.9.59 1.41.59.51 0 1.02-.2 1.41-.59l7.78-7.78 2.81-2.81c.8-.78.8-2.07 0-2.86zM5.41 20L4 18.59l7.72-7.72 1.47 1.35L5.41 20z\"/>\n",
              "  </svg>\n",
              "      </button>\n",
              "      \n",
              "  <style>\n",
              "    .colab-df-container {\n",
              "      display:flex;\n",
              "      flex-wrap:wrap;\n",
              "      gap: 12px;\n",
              "    }\n",
              "\n",
              "    .colab-df-convert {\n",
              "      background-color: #E8F0FE;\n",
              "      border: none;\n",
              "      border-radius: 50%;\n",
              "      cursor: pointer;\n",
              "      display: none;\n",
              "      fill: #1967D2;\n",
              "      height: 32px;\n",
              "      padding: 0 0 0 0;\n",
              "      width: 32px;\n",
              "    }\n",
              "\n",
              "    .colab-df-convert:hover {\n",
              "      background-color: #E2EBFA;\n",
              "      box-shadow: 0px 1px 2px rgba(60, 64, 67, 0.3), 0px 1px 3px 1px rgba(60, 64, 67, 0.15);\n",
              "      fill: #174EA6;\n",
              "    }\n",
              "\n",
              "    [theme=dark] .colab-df-convert {\n",
              "      background-color: #3B4455;\n",
              "      fill: #D2E3FC;\n",
              "    }\n",
              "\n",
              "    [theme=dark] .colab-df-convert:hover {\n",
              "      background-color: #434B5C;\n",
              "      box-shadow: 0px 1px 3px 1px rgba(0, 0, 0, 0.15);\n",
              "      filter: drop-shadow(0px 1px 2px rgba(0, 0, 0, 0.3));\n",
              "      fill: #FFFFFF;\n",
              "    }\n",
              "  </style>\n",
              "\n",
              "      <script>\n",
              "        const buttonEl =\n",
              "          document.querySelector('#df-fc38996c-6ed2-4f2b-8565-910445513523 button.colab-df-convert');\n",
              "        buttonEl.style.display =\n",
              "          google.colab.kernel.accessAllowed ? 'block' : 'none';\n",
              "\n",
              "        async function convertToInteractive(key) {\n",
              "          const element = document.querySelector('#df-fc38996c-6ed2-4f2b-8565-910445513523');\n",
              "          const dataTable =\n",
              "            await google.colab.kernel.invokeFunction('convertToInteractive',\n",
              "                                                     [key], {});\n",
              "          if (!dataTable) return;\n",
              "\n",
              "          const docLinkHtml = 'Like what you see? Visit the ' +\n",
              "            '<a target=\"_blank\" href=https://colab.research.google.com/notebooks/data_table.ipynb>data table notebook</a>'\n",
              "            + ' to learn more about interactive tables.';\n",
              "          element.innerHTML = '';\n",
              "          dataTable['output_type'] = 'display_data';\n",
              "          await google.colab.output.renderOutput(dataTable, element);\n",
              "          const docLink = document.createElement('div');\n",
              "          docLink.innerHTML = docLinkHtml;\n",
              "          element.appendChild(docLink);\n",
              "        }\n",
              "      </script>\n",
              "    </div>\n",
              "  </div>\n",
              "  "
            ],
            "text/plain": [
              "               tweet id                                         tweet_text  \\\n",
              "0  '336710056655593472'  RT @BBCBreaking: Death toll after #Oklahoma to...   \n",
              "1  '262835144409366528'  RT @GhoshAmitav: Interesting Hurricane Sandy m...   \n",
              "2  '324736258213564416'  RT @saratdg: @DianneG: Amatuer cell phone vide...   \n",
              "3  '263112797318160384'  «@WorkaholicBlake What if gangnam style is act...   \n",
              "4  '295813643914854400'  @wwos9 where can we watch it in qld? We've had...   \n",
              "\n",
              "    class_label                               tweet_text_Processed  \n",
              "0        Torndo  rt death toll after oklahoma tornado rises to ...  \n",
              "1     Hurricane  rt interesting hurricane sandy making headline...  \n",
              "2     Explosion  rt amatuer cell phone video from father amp da...  \n",
              "3     Hurricane  what if gangnam style is actually just a giant...  \n",
              "4  Queens_flood  where can we watch it in qld we ve had floods ...  "
            ]
          },
          "execution_count": 14,
          "metadata": {},
          "output_type": "execute_result"
        }
      ],
      "source": [
        "#Lower Case\n",
        "df2['tweet_text_Processed'] = df2['tweet_text_Processed'].map(lambda x: x.lower())\n",
        "df2.head()"
      ]
    },
    {
      "cell_type": "code",
      "execution_count": null,
      "metadata": {
        "colab": {
          "base_uri": "https://localhost:8080/",
          "height": 206
        },
        "id": "jODt47B6zQbs",
        "outputId": "371f0b0f-cf08-44fd-c645-6c9a8b028b47"
      },
      "outputs": [
        {
          "data": {
            "text/html": [
              "\n",
              "  <div id=\"df-ad346b6c-0e08-4fc5-9728-cc057a58117d\">\n",
              "    <div class=\"colab-df-container\">\n",
              "      <div>\n",
              "<style scoped>\n",
              "    .dataframe tbody tr th:only-of-type {\n",
              "        vertical-align: middle;\n",
              "    }\n",
              "\n",
              "    .dataframe tbody tr th {\n",
              "        vertical-align: top;\n",
              "    }\n",
              "\n",
              "    .dataframe thead th {\n",
              "        text-align: right;\n",
              "    }\n",
              "</style>\n",
              "<table border=\"1\" class=\"dataframe\">\n",
              "  <thead>\n",
              "    <tr style=\"text-align: right;\">\n",
              "      <th></th>\n",
              "      <th>tweet id</th>\n",
              "      <th>tweet_text</th>\n",
              "      <th>class_label</th>\n",
              "      <th>tweet_text_Processed</th>\n",
              "    </tr>\n",
              "  </thead>\n",
              "  <tbody>\n",
              "    <tr>\n",
              "      <th>0</th>\n",
              "      <td>'336710056655593472'</td>\n",
              "      <td>RT @BBCBreaking: Death toll after #Oklahoma to...</td>\n",
              "      <td>Torndo</td>\n",
              "      <td>rt death toll after oklahoma tornado rises to ...</td>\n",
              "    </tr>\n",
              "    <tr>\n",
              "      <th>1</th>\n",
              "      <td>'262835144409366528'</td>\n",
              "      <td>RT @GhoshAmitav: Interesting Hurricane Sandy m...</td>\n",
              "      <td>Hurricane</td>\n",
              "      <td>rt interesting hurricane sandy making headline...</td>\n",
              "    </tr>\n",
              "    <tr>\n",
              "      <th>2</th>\n",
              "      <td>'324736258213564416'</td>\n",
              "      <td>RT @saratdg: @DianneG: Amatuer cell phone vide...</td>\n",
              "      <td>Explosion</td>\n",
              "      <td>rt amatuer cell phone video from father amp da...</td>\n",
              "    </tr>\n",
              "    <tr>\n",
              "      <th>3</th>\n",
              "      <td>'263112797318160384'</td>\n",
              "      <td>«@WorkaholicBlake What if gangnam style is act...</td>\n",
              "      <td>Hurricane</td>\n",
              "      <td>what if gangnam style is actually just a giant...</td>\n",
              "    </tr>\n",
              "    <tr>\n",
              "      <th>4</th>\n",
              "      <td>'295813643914854400'</td>\n",
              "      <td>@wwos9 where can we watch it in qld? We've had...</td>\n",
              "      <td>Queens_flood</td>\n",
              "      <td>where can we watch it in qld we ve had floods ...</td>\n",
              "    </tr>\n",
              "  </tbody>\n",
              "</table>\n",
              "</div>\n",
              "      <button class=\"colab-df-convert\" onclick=\"convertToInteractive('df-ad346b6c-0e08-4fc5-9728-cc057a58117d')\"\n",
              "              title=\"Convert this dataframe to an interactive table.\"\n",
              "              style=\"display:none;\">\n",
              "        \n",
              "  <svg xmlns=\"http://www.w3.org/2000/svg\" height=\"24px\"viewBox=\"0 0 24 24\"\n",
              "       width=\"24px\">\n",
              "    <path d=\"M0 0h24v24H0V0z\" fill=\"none\"/>\n",
              "    <path d=\"M18.56 5.44l.94 2.06.94-2.06 2.06-.94-2.06-.94-.94-2.06-.94 2.06-2.06.94zm-11 1L8.5 8.5l.94-2.06 2.06-.94-2.06-.94L8.5 2.5l-.94 2.06-2.06.94zm10 10l.94 2.06.94-2.06 2.06-.94-2.06-.94-.94-2.06-.94 2.06-2.06.94z\"/><path d=\"M17.41 7.96l-1.37-1.37c-.4-.4-.92-.59-1.43-.59-.52 0-1.04.2-1.43.59L10.3 9.45l-7.72 7.72c-.78.78-.78 2.05 0 2.83L4 21.41c.39.39.9.59 1.41.59.51 0 1.02-.2 1.41-.59l7.78-7.78 2.81-2.81c.8-.78.8-2.07 0-2.86zM5.41 20L4 18.59l7.72-7.72 1.47 1.35L5.41 20z\"/>\n",
              "  </svg>\n",
              "      </button>\n",
              "      \n",
              "  <style>\n",
              "    .colab-df-container {\n",
              "      display:flex;\n",
              "      flex-wrap:wrap;\n",
              "      gap: 12px;\n",
              "    }\n",
              "\n",
              "    .colab-df-convert {\n",
              "      background-color: #E8F0FE;\n",
              "      border: none;\n",
              "      border-radius: 50%;\n",
              "      cursor: pointer;\n",
              "      display: none;\n",
              "      fill: #1967D2;\n",
              "      height: 32px;\n",
              "      padding: 0 0 0 0;\n",
              "      width: 32px;\n",
              "    }\n",
              "\n",
              "    .colab-df-convert:hover {\n",
              "      background-color: #E2EBFA;\n",
              "      box-shadow: 0px 1px 2px rgba(60, 64, 67, 0.3), 0px 1px 3px 1px rgba(60, 64, 67, 0.15);\n",
              "      fill: #174EA6;\n",
              "    }\n",
              "\n",
              "    [theme=dark] .colab-df-convert {\n",
              "      background-color: #3B4455;\n",
              "      fill: #D2E3FC;\n",
              "    }\n",
              "\n",
              "    [theme=dark] .colab-df-convert:hover {\n",
              "      background-color: #434B5C;\n",
              "      box-shadow: 0px 1px 3px 1px rgba(0, 0, 0, 0.15);\n",
              "      filter: drop-shadow(0px 1px 2px rgba(0, 0, 0, 0.3));\n",
              "      fill: #FFFFFF;\n",
              "    }\n",
              "  </style>\n",
              "\n",
              "      <script>\n",
              "        const buttonEl =\n",
              "          document.querySelector('#df-ad346b6c-0e08-4fc5-9728-cc057a58117d button.colab-df-convert');\n",
              "        buttonEl.style.display =\n",
              "          google.colab.kernel.accessAllowed ? 'block' : 'none';\n",
              "\n",
              "        async function convertToInteractive(key) {\n",
              "          const element = document.querySelector('#df-ad346b6c-0e08-4fc5-9728-cc057a58117d');\n",
              "          const dataTable =\n",
              "            await google.colab.kernel.invokeFunction('convertToInteractive',\n",
              "                                                     [key], {});\n",
              "          if (!dataTable) return;\n",
              "\n",
              "          const docLinkHtml = 'Like what you see? Visit the ' +\n",
              "            '<a target=\"_blank\" href=https://colab.research.google.com/notebooks/data_table.ipynb>data table notebook</a>'\n",
              "            + ' to learn more about interactive tables.';\n",
              "          element.innerHTML = '';\n",
              "          dataTable['output_type'] = 'display_data';\n",
              "          await google.colab.output.renderOutput(dataTable, element);\n",
              "          const docLink = document.createElement('div');\n",
              "          docLink.innerHTML = docLinkHtml;\n",
              "          element.appendChild(docLink);\n",
              "        }\n",
              "      </script>\n",
              "    </div>\n",
              "  </div>\n",
              "  "
            ],
            "text/plain": [
              "               tweet id                                         tweet_text  \\\n",
              "0  '336710056655593472'  RT @BBCBreaking: Death toll after #Oklahoma to...   \n",
              "1  '262835144409366528'  RT @GhoshAmitav: Interesting Hurricane Sandy m...   \n",
              "2  '324736258213564416'  RT @saratdg: @DianneG: Amatuer cell phone vide...   \n",
              "3  '263112797318160384'  «@WorkaholicBlake What if gangnam style is act...   \n",
              "4  '295813643914854400'  @wwos9 where can we watch it in qld? We've had...   \n",
              "\n",
              "    class_label                               tweet_text_Processed  \n",
              "0        Torndo  rt death toll after oklahoma tornado rises to ...  \n",
              "1     Hurricane  rt interesting hurricane sandy making headline...  \n",
              "2     Explosion  rt amatuer cell phone video from father amp da...  \n",
              "3     Hurricane  what if gangnam style is actually just a giant...  \n",
              "4  Queens_flood  where can we watch it in qld we ve had floods ...  "
            ]
          },
          "execution_count": 15,
          "metadata": {},
          "output_type": "execute_result"
        }
      ],
      "source": [
        "#Remove punctuations\n",
        "df2['tweet_text_Processed'] = df2['tweet_text_Processed'].map(lambda x: re.sub(r'[^\\w\\s]', '', x))\n",
        "df2.head()"
      ]
    },
    {
      "cell_type": "code",
      "execution_count": null,
      "metadata": {
        "colab": {
          "base_uri": "https://localhost:8080/",
          "height": 206
        },
        "id": "CX-ScTWuz1Uf",
        "outputId": "2a359ced-59ad-41ad-fff3-582248adc8e1"
      },
      "outputs": [
        {
          "data": {
            "text/html": [
              "\n",
              "  <div id=\"df-578d3d08-2db6-4d57-a5a6-d547ad87d40f\">\n",
              "    <div class=\"colab-df-container\">\n",
              "      <div>\n",
              "<style scoped>\n",
              "    .dataframe tbody tr th:only-of-type {\n",
              "        vertical-align: middle;\n",
              "    }\n",
              "\n",
              "    .dataframe tbody tr th {\n",
              "        vertical-align: top;\n",
              "    }\n",
              "\n",
              "    .dataframe thead th {\n",
              "        text-align: right;\n",
              "    }\n",
              "</style>\n",
              "<table border=\"1\" class=\"dataframe\">\n",
              "  <thead>\n",
              "    <tr style=\"text-align: right;\">\n",
              "      <th></th>\n",
              "      <th>tweet id</th>\n",
              "      <th>tweet_text</th>\n",
              "      <th>class_label</th>\n",
              "      <th>tweet_text_Processed</th>\n",
              "    </tr>\n",
              "  </thead>\n",
              "  <tbody>\n",
              "    <tr>\n",
              "      <th>0</th>\n",
              "      <td>'336710056655593472'</td>\n",
              "      <td>RT @BBCBreaking: Death toll after #Oklahoma to...</td>\n",
              "      <td>Torndo</td>\n",
              "      <td>rt death toll after oklahoma tornado rises to ...</td>\n",
              "    </tr>\n",
              "    <tr>\n",
              "      <th>1</th>\n",
              "      <td>'262835144409366528'</td>\n",
              "      <td>RT @GhoshAmitav: Interesting Hurricane Sandy m...</td>\n",
              "      <td>Hurricane</td>\n",
              "      <td>rt interesting hurricane sandy making headline...</td>\n",
              "    </tr>\n",
              "    <tr>\n",
              "      <th>2</th>\n",
              "      <td>'324736258213564416'</td>\n",
              "      <td>RT @saratdg: @DianneG: Amatuer cell phone vide...</td>\n",
              "      <td>Explosion</td>\n",
              "      <td>rt amatuer cell phone video from father amp da...</td>\n",
              "    </tr>\n",
              "    <tr>\n",
              "      <th>3</th>\n",
              "      <td>'263112797318160384'</td>\n",
              "      <td>«@WorkaholicBlake What if gangnam style is act...</td>\n",
              "      <td>Hurricane</td>\n",
              "      <td>what if gangnam style is actually just a giant...</td>\n",
              "    </tr>\n",
              "    <tr>\n",
              "      <th>4</th>\n",
              "      <td>'295813643914854400'</td>\n",
              "      <td>@wwos9 where can we watch it in qld? We've had...</td>\n",
              "      <td>Queens_flood</td>\n",
              "      <td>where can we watch it in qld we ve had floods ...</td>\n",
              "    </tr>\n",
              "  </tbody>\n",
              "</table>\n",
              "</div>\n",
              "      <button class=\"colab-df-convert\" onclick=\"convertToInteractive('df-578d3d08-2db6-4d57-a5a6-d547ad87d40f')\"\n",
              "              title=\"Convert this dataframe to an interactive table.\"\n",
              "              style=\"display:none;\">\n",
              "        \n",
              "  <svg xmlns=\"http://www.w3.org/2000/svg\" height=\"24px\"viewBox=\"0 0 24 24\"\n",
              "       width=\"24px\">\n",
              "    <path d=\"M0 0h24v24H0V0z\" fill=\"none\"/>\n",
              "    <path d=\"M18.56 5.44l.94 2.06.94-2.06 2.06-.94-2.06-.94-.94-2.06-.94 2.06-2.06.94zm-11 1L8.5 8.5l.94-2.06 2.06-.94-2.06-.94L8.5 2.5l-.94 2.06-2.06.94zm10 10l.94 2.06.94-2.06 2.06-.94-2.06-.94-.94-2.06-.94 2.06-2.06.94z\"/><path d=\"M17.41 7.96l-1.37-1.37c-.4-.4-.92-.59-1.43-.59-.52 0-1.04.2-1.43.59L10.3 9.45l-7.72 7.72c-.78.78-.78 2.05 0 2.83L4 21.41c.39.39.9.59 1.41.59.51 0 1.02-.2 1.41-.59l7.78-7.78 2.81-2.81c.8-.78.8-2.07 0-2.86zM5.41 20L4 18.59l7.72-7.72 1.47 1.35L5.41 20z\"/>\n",
              "  </svg>\n",
              "      </button>\n",
              "      \n",
              "  <style>\n",
              "    .colab-df-container {\n",
              "      display:flex;\n",
              "      flex-wrap:wrap;\n",
              "      gap: 12px;\n",
              "    }\n",
              "\n",
              "    .colab-df-convert {\n",
              "      background-color: #E8F0FE;\n",
              "      border: none;\n",
              "      border-radius: 50%;\n",
              "      cursor: pointer;\n",
              "      display: none;\n",
              "      fill: #1967D2;\n",
              "      height: 32px;\n",
              "      padding: 0 0 0 0;\n",
              "      width: 32px;\n",
              "    }\n",
              "\n",
              "    .colab-df-convert:hover {\n",
              "      background-color: #E2EBFA;\n",
              "      box-shadow: 0px 1px 2px rgba(60, 64, 67, 0.3), 0px 1px 3px 1px rgba(60, 64, 67, 0.15);\n",
              "      fill: #174EA6;\n",
              "    }\n",
              "\n",
              "    [theme=dark] .colab-df-convert {\n",
              "      background-color: #3B4455;\n",
              "      fill: #D2E3FC;\n",
              "    }\n",
              "\n",
              "    [theme=dark] .colab-df-convert:hover {\n",
              "      background-color: #434B5C;\n",
              "      box-shadow: 0px 1px 3px 1px rgba(0, 0, 0, 0.15);\n",
              "      filter: drop-shadow(0px 1px 2px rgba(0, 0, 0, 0.3));\n",
              "      fill: #FFFFFF;\n",
              "    }\n",
              "  </style>\n",
              "\n",
              "      <script>\n",
              "        const buttonEl =\n",
              "          document.querySelector('#df-578d3d08-2db6-4d57-a5a6-d547ad87d40f button.colab-df-convert');\n",
              "        buttonEl.style.display =\n",
              "          google.colab.kernel.accessAllowed ? 'block' : 'none';\n",
              "\n",
              "        async function convertToInteractive(key) {\n",
              "          const element = document.querySelector('#df-578d3d08-2db6-4d57-a5a6-d547ad87d40f');\n",
              "          const dataTable =\n",
              "            await google.colab.kernel.invokeFunction('convertToInteractive',\n",
              "                                                     [key], {});\n",
              "          if (!dataTable) return;\n",
              "\n",
              "          const docLinkHtml = 'Like what you see? Visit the ' +\n",
              "            '<a target=\"_blank\" href=https://colab.research.google.com/notebooks/data_table.ipynb>data table notebook</a>'\n",
              "            + ' to learn more about interactive tables.';\n",
              "          element.innerHTML = '';\n",
              "          dataTable['output_type'] = 'display_data';\n",
              "          await google.colab.output.renderOutput(dataTable, element);\n",
              "          const docLink = document.createElement('div');\n",
              "          docLink.innerHTML = docLinkHtml;\n",
              "          element.appendChild(docLink);\n",
              "        }\n",
              "      </script>\n",
              "    </div>\n",
              "  </div>\n",
              "  "
            ],
            "text/plain": [
              "               tweet id                                         tweet_text  \\\n",
              "0  '336710056655593472'  RT @BBCBreaking: Death toll after #Oklahoma to...   \n",
              "1  '262835144409366528'  RT @GhoshAmitav: Interesting Hurricane Sandy m...   \n",
              "2  '324736258213564416'  RT @saratdg: @DianneG: Amatuer cell phone vide...   \n",
              "3  '263112797318160384'  «@WorkaholicBlake What if gangnam style is act...   \n",
              "4  '295813643914854400'  @wwos9 where can we watch it in qld? We've had...   \n",
              "\n",
              "    class_label                               tweet_text_Processed  \n",
              "0        Torndo  rt death toll after oklahoma tornado rises to ...  \n",
              "1     Hurricane  rt interesting hurricane sandy making headline...  \n",
              "2     Explosion  rt amatuer cell phone video from father amp da...  \n",
              "3     Hurricane  what if gangnam style is actually just a giant...  \n",
              "4  Queens_flood  where can we watch it in qld we ve had floods ...  "
            ]
          },
          "execution_count": 16,
          "metadata": {},
          "output_type": "execute_result"
        }
      ],
      "source": [
        "#Remove unicodes\n",
        "df2['tweet_text_Processed'] = df2['tweet_text_Processed'].map(lambda x : re.sub(r'[^\\x00-\\x7F]+',' ', x))\n",
        "df2.head()"
      ]
    },
    {
      "cell_type": "code",
      "execution_count": null,
      "metadata": {
        "id": "x2l1WbLl0BAo"
      },
      "outputs": [],
      "source": [
        "from nltk.stem import WordNetLemmatizer\n",
        "from nltk.corpus import stopwords "
      ]
    },
    {
      "cell_type": "code",
      "execution_count": null,
      "metadata": {
        "colab": {
          "base_uri": "https://localhost:8080/",
          "height": 242
        },
        "id": "K8B8txwL0EZz",
        "outputId": "795e407f-a5c0-48f5-85a1-4872ebd21a5c"
      },
      "outputs": [
        {
          "name": "stderr",
          "output_type": "stream",
          "text": [
            "[nltk_data] Downloading package stopwords to /root/nltk_data...\n",
            "[nltk_data]   Unzipping corpora/stopwords.zip.\n"
          ]
        },
        {
          "data": {
            "text/html": [
              "\n",
              "  <div id=\"df-955ce06f-7afe-49ef-9b2d-7096fc62b130\">\n",
              "    <div class=\"colab-df-container\">\n",
              "      <div>\n",
              "<style scoped>\n",
              "    .dataframe tbody tr th:only-of-type {\n",
              "        vertical-align: middle;\n",
              "    }\n",
              "\n",
              "    .dataframe tbody tr th {\n",
              "        vertical-align: top;\n",
              "    }\n",
              "\n",
              "    .dataframe thead th {\n",
              "        text-align: right;\n",
              "    }\n",
              "</style>\n",
              "<table border=\"1\" class=\"dataframe\">\n",
              "  <thead>\n",
              "    <tr style=\"text-align: right;\">\n",
              "      <th></th>\n",
              "      <th>tweet id</th>\n",
              "      <th>tweet_text</th>\n",
              "      <th>class_label</th>\n",
              "      <th>tweet_text_Processed</th>\n",
              "    </tr>\n",
              "  </thead>\n",
              "  <tbody>\n",
              "    <tr>\n",
              "      <th>0</th>\n",
              "      <td>'336710056655593472'</td>\n",
              "      <td>RT @BBCBreaking: Death toll after #Oklahoma to...</td>\n",
              "      <td>Torndo</td>\n",
              "      <td>rt death toll oklahoma tornado rises 91 oklaho...</td>\n",
              "    </tr>\n",
              "    <tr>\n",
              "      <th>1</th>\n",
              "      <td>'262835144409366528'</td>\n",
              "      <td>RT @GhoshAmitav: Interesting Hurricane Sandy m...</td>\n",
              "      <td>Hurricane</td>\n",
              "      <td>rt interesting hurricane sandy making headline...</td>\n",
              "    </tr>\n",
              "    <tr>\n",
              "      <th>2</th>\n",
              "      <td>'324736258213564416'</td>\n",
              "      <td>RT @saratdg: @DianneG: Amatuer cell phone vide...</td>\n",
              "      <td>Explosion</td>\n",
              "      <td>rt amatuer cell phone video father amp daughte...</td>\n",
              "    </tr>\n",
              "    <tr>\n",
              "      <th>3</th>\n",
              "      <td>'263112797318160384'</td>\n",
              "      <td>«@WorkaholicBlake What if gangnam style is act...</td>\n",
              "      <td>Hurricane</td>\n",
              "      <td>gangnam style actually giant rain dance brough...</td>\n",
              "    </tr>\n",
              "    <tr>\n",
              "      <th>4</th>\n",
              "      <td>'295813643914854400'</td>\n",
              "      <td>@wwos9 where can we watch it in qld? We've had...</td>\n",
              "      <td>Queens_flood</td>\n",
              "      <td>watch qld floods day need fun</td>\n",
              "    </tr>\n",
              "  </tbody>\n",
              "</table>\n",
              "</div>\n",
              "      <button class=\"colab-df-convert\" onclick=\"convertToInteractive('df-955ce06f-7afe-49ef-9b2d-7096fc62b130')\"\n",
              "              title=\"Convert this dataframe to an interactive table.\"\n",
              "              style=\"display:none;\">\n",
              "        \n",
              "  <svg xmlns=\"http://www.w3.org/2000/svg\" height=\"24px\"viewBox=\"0 0 24 24\"\n",
              "       width=\"24px\">\n",
              "    <path d=\"M0 0h24v24H0V0z\" fill=\"none\"/>\n",
              "    <path d=\"M18.56 5.44l.94 2.06.94-2.06 2.06-.94-2.06-.94-.94-2.06-.94 2.06-2.06.94zm-11 1L8.5 8.5l.94-2.06 2.06-.94-2.06-.94L8.5 2.5l-.94 2.06-2.06.94zm10 10l.94 2.06.94-2.06 2.06-.94-2.06-.94-.94-2.06-.94 2.06-2.06.94z\"/><path d=\"M17.41 7.96l-1.37-1.37c-.4-.4-.92-.59-1.43-.59-.52 0-1.04.2-1.43.59L10.3 9.45l-7.72 7.72c-.78.78-.78 2.05 0 2.83L4 21.41c.39.39.9.59 1.41.59.51 0 1.02-.2 1.41-.59l7.78-7.78 2.81-2.81c.8-.78.8-2.07 0-2.86zM5.41 20L4 18.59l7.72-7.72 1.47 1.35L5.41 20z\"/>\n",
              "  </svg>\n",
              "      </button>\n",
              "      \n",
              "  <style>\n",
              "    .colab-df-container {\n",
              "      display:flex;\n",
              "      flex-wrap:wrap;\n",
              "      gap: 12px;\n",
              "    }\n",
              "\n",
              "    .colab-df-convert {\n",
              "      background-color: #E8F0FE;\n",
              "      border: none;\n",
              "      border-radius: 50%;\n",
              "      cursor: pointer;\n",
              "      display: none;\n",
              "      fill: #1967D2;\n",
              "      height: 32px;\n",
              "      padding: 0 0 0 0;\n",
              "      width: 32px;\n",
              "    }\n",
              "\n",
              "    .colab-df-convert:hover {\n",
              "      background-color: #E2EBFA;\n",
              "      box-shadow: 0px 1px 2px rgba(60, 64, 67, 0.3), 0px 1px 3px 1px rgba(60, 64, 67, 0.15);\n",
              "      fill: #174EA6;\n",
              "    }\n",
              "\n",
              "    [theme=dark] .colab-df-convert {\n",
              "      background-color: #3B4455;\n",
              "      fill: #D2E3FC;\n",
              "    }\n",
              "\n",
              "    [theme=dark] .colab-df-convert:hover {\n",
              "      background-color: #434B5C;\n",
              "      box-shadow: 0px 1px 3px 1px rgba(0, 0, 0, 0.15);\n",
              "      filter: drop-shadow(0px 1px 2px rgba(0, 0, 0, 0.3));\n",
              "      fill: #FFFFFF;\n",
              "    }\n",
              "  </style>\n",
              "\n",
              "      <script>\n",
              "        const buttonEl =\n",
              "          document.querySelector('#df-955ce06f-7afe-49ef-9b2d-7096fc62b130 button.colab-df-convert');\n",
              "        buttonEl.style.display =\n",
              "          google.colab.kernel.accessAllowed ? 'block' : 'none';\n",
              "\n",
              "        async function convertToInteractive(key) {\n",
              "          const element = document.querySelector('#df-955ce06f-7afe-49ef-9b2d-7096fc62b130');\n",
              "          const dataTable =\n",
              "            await google.colab.kernel.invokeFunction('convertToInteractive',\n",
              "                                                     [key], {});\n",
              "          if (!dataTable) return;\n",
              "\n",
              "          const docLinkHtml = 'Like what you see? Visit the ' +\n",
              "            '<a target=\"_blank\" href=https://colab.research.google.com/notebooks/data_table.ipynb>data table notebook</a>'\n",
              "            + ' to learn more about interactive tables.';\n",
              "          element.innerHTML = '';\n",
              "          dataTable['output_type'] = 'display_data';\n",
              "          await google.colab.output.renderOutput(dataTable, element);\n",
              "          const docLink = document.createElement('div');\n",
              "          docLink.innerHTML = docLinkHtml;\n",
              "          element.appendChild(docLink);\n",
              "        }\n",
              "      </script>\n",
              "    </div>\n",
              "  </div>\n",
              "  "
            ],
            "text/plain": [
              "               tweet id                                         tweet_text  \\\n",
              "0  '336710056655593472'  RT @BBCBreaking: Death toll after #Oklahoma to...   \n",
              "1  '262835144409366528'  RT @GhoshAmitav: Interesting Hurricane Sandy m...   \n",
              "2  '324736258213564416'  RT @saratdg: @DianneG: Amatuer cell phone vide...   \n",
              "3  '263112797318160384'  «@WorkaholicBlake What if gangnam style is act...   \n",
              "4  '295813643914854400'  @wwos9 where can we watch it in qld? We've had...   \n",
              "\n",
              "    class_label                               tweet_text_Processed  \n",
              "0        Torndo  rt death toll oklahoma tornado rises 91 oklaho...  \n",
              "1     Hurricane  rt interesting hurricane sandy making headline...  \n",
              "2     Explosion  rt amatuer cell phone video father amp daughte...  \n",
              "3     Hurricane  gangnam style actually giant rain dance brough...  \n",
              "4  Queens_flood                      watch qld floods day need fun  "
            ]
          },
          "execution_count": 18,
          "metadata": {},
          "output_type": "execute_result"
        }
      ],
      "source": [
        "# Remove stopwords\n",
        "nltk.download('stopwords')\n",
        "stop_words = stopwords.words('english')\n",
        "df2['tweet_text_Processed'] = df2['tweet_text_Processed'].map(lambda x : ' '.join([w for w in x.split() if w not in stop_words]))\n",
        "df2.head()"
      ]
    },
    {
      "cell_type": "code",
      "execution_count": null,
      "metadata": {
        "colab": {
          "base_uri": "https://localhost:8080/"
        },
        "id": "7kGsINmB0w98",
        "outputId": "cc2ed1f8-f8f9-441b-b511-107ad231be71"
      },
      "outputs": [
        {
          "name": "stderr",
          "output_type": "stream",
          "text": [
            "[nltk_data] Downloading package wordnet to /root/nltk_data...\n"
          ]
        },
        {
          "data": {
            "text/plain": [
              "True"
            ]
          },
          "execution_count": 19,
          "metadata": {},
          "output_type": "execute_result"
        }
      ],
      "source": [
        "nltk.download('wordnet')"
      ]
    },
    {
      "cell_type": "code",
      "execution_count": null,
      "metadata": {
        "colab": {
          "base_uri": "https://localhost:8080/"
        },
        "id": "ah4anBoN_P9i",
        "outputId": "e0bebf19-fded-4aa8-cd66-866c8d70456d"
      },
      "outputs": [
        {
          "name": "stderr",
          "output_type": "stream",
          "text": [
            "[nltk_data] Downloading package omw-1.4 to /root/nltk_data...\n"
          ]
        },
        {
          "data": {
            "text/plain": [
              "True"
            ]
          },
          "execution_count": 20,
          "metadata": {},
          "output_type": "execute_result"
        }
      ],
      "source": [
        "import nltk\n",
        "nltk.download('omw-1.4')"
      ]
    },
    {
      "cell_type": "code",
      "execution_count": null,
      "metadata": {
        "colab": {
          "base_uri": "https://localhost:8080/",
          "height": 206
        },
        "id": "EcRp3naC0KQK",
        "outputId": "ca1a423c-00ab-4f8e-90b1-a1eb2b66f298"
      },
      "outputs": [
        {
          "data": {
            "text/html": [
              "\n",
              "  <div id=\"df-8a3baa6d-d0ed-43b9-9d30-2f6255298198\">\n",
              "    <div class=\"colab-df-container\">\n",
              "      <div>\n",
              "<style scoped>\n",
              "    .dataframe tbody tr th:only-of-type {\n",
              "        vertical-align: middle;\n",
              "    }\n",
              "\n",
              "    .dataframe tbody tr th {\n",
              "        vertical-align: top;\n",
              "    }\n",
              "\n",
              "    .dataframe thead th {\n",
              "        text-align: right;\n",
              "    }\n",
              "</style>\n",
              "<table border=\"1\" class=\"dataframe\">\n",
              "  <thead>\n",
              "    <tr style=\"text-align: right;\">\n",
              "      <th></th>\n",
              "      <th>tweet id</th>\n",
              "      <th>tweet_text</th>\n",
              "      <th>class_label</th>\n",
              "      <th>tweet_text_Processed</th>\n",
              "    </tr>\n",
              "  </thead>\n",
              "  <tbody>\n",
              "    <tr>\n",
              "      <th>0</th>\n",
              "      <td>'336710056655593472'</td>\n",
              "      <td>RT @BBCBreaking: Death toll after #Oklahoma to...</td>\n",
              "      <td>Torndo</td>\n",
              "      <td>rt death toll oklahoma tornado rise 91 oklahom...</td>\n",
              "    </tr>\n",
              "    <tr>\n",
              "      <th>1</th>\n",
              "      <td>'262835144409366528'</td>\n",
              "      <td>RT @GhoshAmitav: Interesting Hurricane Sandy m...</td>\n",
              "      <td>Hurricane</td>\n",
              "      <td>rt interesting hurricane sandy making headline...</td>\n",
              "    </tr>\n",
              "    <tr>\n",
              "      <th>2</th>\n",
              "      <td>'324736258213564416'</td>\n",
              "      <td>RT @saratdg: @DianneG: Amatuer cell phone vide...</td>\n",
              "      <td>Explosion</td>\n",
              "      <td>rt amatuer cell phone video father amp daughte...</td>\n",
              "    </tr>\n",
              "    <tr>\n",
              "      <th>3</th>\n",
              "      <td>'263112797318160384'</td>\n",
              "      <td>«@WorkaholicBlake What if gangnam style is act...</td>\n",
              "      <td>Hurricane</td>\n",
              "      <td>gangnam style actually giant rain dance brough...</td>\n",
              "    </tr>\n",
              "    <tr>\n",
              "      <th>4</th>\n",
              "      <td>'295813643914854400'</td>\n",
              "      <td>@wwos9 where can we watch it in qld? We've had...</td>\n",
              "      <td>Queens_flood</td>\n",
              "      <td>watch qld flood day need fun</td>\n",
              "    </tr>\n",
              "  </tbody>\n",
              "</table>\n",
              "</div>\n",
              "      <button class=\"colab-df-convert\" onclick=\"convertToInteractive('df-8a3baa6d-d0ed-43b9-9d30-2f6255298198')\"\n",
              "              title=\"Convert this dataframe to an interactive table.\"\n",
              "              style=\"display:none;\">\n",
              "        \n",
              "  <svg xmlns=\"http://www.w3.org/2000/svg\" height=\"24px\"viewBox=\"0 0 24 24\"\n",
              "       width=\"24px\">\n",
              "    <path d=\"M0 0h24v24H0V0z\" fill=\"none\"/>\n",
              "    <path d=\"M18.56 5.44l.94 2.06.94-2.06 2.06-.94-2.06-.94-.94-2.06-.94 2.06-2.06.94zm-11 1L8.5 8.5l.94-2.06 2.06-.94-2.06-.94L8.5 2.5l-.94 2.06-2.06.94zm10 10l.94 2.06.94-2.06 2.06-.94-2.06-.94-.94-2.06-.94 2.06-2.06.94z\"/><path d=\"M17.41 7.96l-1.37-1.37c-.4-.4-.92-.59-1.43-.59-.52 0-1.04.2-1.43.59L10.3 9.45l-7.72 7.72c-.78.78-.78 2.05 0 2.83L4 21.41c.39.39.9.59 1.41.59.51 0 1.02-.2 1.41-.59l7.78-7.78 2.81-2.81c.8-.78.8-2.07 0-2.86zM5.41 20L4 18.59l7.72-7.72 1.47 1.35L5.41 20z\"/>\n",
              "  </svg>\n",
              "      </button>\n",
              "      \n",
              "  <style>\n",
              "    .colab-df-container {\n",
              "      display:flex;\n",
              "      flex-wrap:wrap;\n",
              "      gap: 12px;\n",
              "    }\n",
              "\n",
              "    .colab-df-convert {\n",
              "      background-color: #E8F0FE;\n",
              "      border: none;\n",
              "      border-radius: 50%;\n",
              "      cursor: pointer;\n",
              "      display: none;\n",
              "      fill: #1967D2;\n",
              "      height: 32px;\n",
              "      padding: 0 0 0 0;\n",
              "      width: 32px;\n",
              "    }\n",
              "\n",
              "    .colab-df-convert:hover {\n",
              "      background-color: #E2EBFA;\n",
              "      box-shadow: 0px 1px 2px rgba(60, 64, 67, 0.3), 0px 1px 3px 1px rgba(60, 64, 67, 0.15);\n",
              "      fill: #174EA6;\n",
              "    }\n",
              "\n",
              "    [theme=dark] .colab-df-convert {\n",
              "      background-color: #3B4455;\n",
              "      fill: #D2E3FC;\n",
              "    }\n",
              "\n",
              "    [theme=dark] .colab-df-convert:hover {\n",
              "      background-color: #434B5C;\n",
              "      box-shadow: 0px 1px 3px 1px rgba(0, 0, 0, 0.15);\n",
              "      filter: drop-shadow(0px 1px 2px rgba(0, 0, 0, 0.3));\n",
              "      fill: #FFFFFF;\n",
              "    }\n",
              "  </style>\n",
              "\n",
              "      <script>\n",
              "        const buttonEl =\n",
              "          document.querySelector('#df-8a3baa6d-d0ed-43b9-9d30-2f6255298198 button.colab-df-convert');\n",
              "        buttonEl.style.display =\n",
              "          google.colab.kernel.accessAllowed ? 'block' : 'none';\n",
              "\n",
              "        async function convertToInteractive(key) {\n",
              "          const element = document.querySelector('#df-8a3baa6d-d0ed-43b9-9d30-2f6255298198');\n",
              "          const dataTable =\n",
              "            await google.colab.kernel.invokeFunction('convertToInteractive',\n",
              "                                                     [key], {});\n",
              "          if (!dataTable) return;\n",
              "\n",
              "          const docLinkHtml = 'Like what you see? Visit the ' +\n",
              "            '<a target=\"_blank\" href=https://colab.research.google.com/notebooks/data_table.ipynb>data table notebook</a>'\n",
              "            + ' to learn more about interactive tables.';\n",
              "          element.innerHTML = '';\n",
              "          dataTable['output_type'] = 'display_data';\n",
              "          await google.colab.output.renderOutput(dataTable, element);\n",
              "          const docLink = document.createElement('div');\n",
              "          docLink.innerHTML = docLinkHtml;\n",
              "          element.appendChild(docLink);\n",
              "        }\n",
              "      </script>\n",
              "    </div>\n",
              "  </div>\n",
              "  "
            ],
            "text/plain": [
              "               tweet id                                         tweet_text  \\\n",
              "0  '336710056655593472'  RT @BBCBreaking: Death toll after #Oklahoma to...   \n",
              "1  '262835144409366528'  RT @GhoshAmitav: Interesting Hurricane Sandy m...   \n",
              "2  '324736258213564416'  RT @saratdg: @DianneG: Amatuer cell phone vide...   \n",
              "3  '263112797318160384'  «@WorkaholicBlake What if gangnam style is act...   \n",
              "4  '295813643914854400'  @wwos9 where can we watch it in qld? We've had...   \n",
              "\n",
              "    class_label                               tweet_text_Processed  \n",
              "0        Torndo  rt death toll oklahoma tornado rise 91 oklahom...  \n",
              "1     Hurricane  rt interesting hurricane sandy making headline...  \n",
              "2     Explosion  rt amatuer cell phone video father amp daughte...  \n",
              "3     Hurricane  gangnam style actually giant rain dance brough...  \n",
              "4  Queens_flood                       watch qld flood day need fun  "
            ]
          },
          "execution_count": 21,
          "metadata": {},
          "output_type": "execute_result"
        }
      ],
      "source": [
        "# Lemmatize the text\n",
        "lemmer = WordNetLemmatizer()\n",
        "\n",
        "df2['tweet_text_Processed'] = df2['tweet_text_Processed'].map(lambda x : ' '.join([lemmer.lemmatize(w) for w in x.split() if w not in stop_words]))\n",
        "df2.head()"
      ]
    },
    {
      "cell_type": "code",
      "execution_count": null,
      "metadata": {
        "colab": {
          "base_uri": "https://localhost:8080/",
          "height": 206
        },
        "id": "wGCnmCJL0a4j",
        "outputId": "1ab01ba8-f05c-4bfe-c2b4-32dcaddc37cf"
      },
      "outputs": [
        {
          "data": {
            "text/html": [
              "\n",
              "  <div id=\"df-37a7d6b2-ad36-4a35-8305-25251bff9e34\">\n",
              "    <div class=\"colab-df-container\">\n",
              "      <div>\n",
              "<style scoped>\n",
              "    .dataframe tbody tr th:only-of-type {\n",
              "        vertical-align: middle;\n",
              "    }\n",
              "\n",
              "    .dataframe tbody tr th {\n",
              "        vertical-align: top;\n",
              "    }\n",
              "\n",
              "    .dataframe thead th {\n",
              "        text-align: right;\n",
              "    }\n",
              "</style>\n",
              "<table border=\"1\" class=\"dataframe\">\n",
              "  <thead>\n",
              "    <tr style=\"text-align: right;\">\n",
              "      <th></th>\n",
              "      <th>tweet id</th>\n",
              "      <th>tweet_text</th>\n",
              "      <th>class_label</th>\n",
              "      <th>tweet_text_Processed</th>\n",
              "    </tr>\n",
              "  </thead>\n",
              "  <tbody>\n",
              "    <tr>\n",
              "      <th>0</th>\n",
              "      <td>'336710056655593472'</td>\n",
              "      <td>RT @BBCBreaking: Death toll after #Oklahoma to...</td>\n",
              "      <td>Torndo</td>\n",
              "      <td>rt death toll oklahoma tornado rise 91 oklahom...</td>\n",
              "    </tr>\n",
              "    <tr>\n",
              "      <th>1</th>\n",
              "      <td>'262835144409366528'</td>\n",
              "      <td>RT @GhoshAmitav: Interesting Hurricane Sandy m...</td>\n",
              "      <td>Hurricane</td>\n",
              "      <td>rt interesting hurricane sandy making headline...</td>\n",
              "    </tr>\n",
              "    <tr>\n",
              "      <th>2</th>\n",
              "      <td>'324736258213564416'</td>\n",
              "      <td>RT @saratdg: @DianneG: Amatuer cell phone vide...</td>\n",
              "      <td>Explosion</td>\n",
              "      <td>rt amatuer cell phone video father amp daughte...</td>\n",
              "    </tr>\n",
              "    <tr>\n",
              "      <th>3</th>\n",
              "      <td>'263112797318160384'</td>\n",
              "      <td>«@WorkaholicBlake What if gangnam style is act...</td>\n",
              "      <td>Hurricane</td>\n",
              "      <td>gangnam style actually giant rain dance brough...</td>\n",
              "    </tr>\n",
              "    <tr>\n",
              "      <th>4</th>\n",
              "      <td>'295813643914854400'</td>\n",
              "      <td>@wwos9 where can we watch it in qld? We've had...</td>\n",
              "      <td>Queens_flood</td>\n",
              "      <td>watch qld flood day need fun</td>\n",
              "    </tr>\n",
              "  </tbody>\n",
              "</table>\n",
              "</div>\n",
              "      <button class=\"colab-df-convert\" onclick=\"convertToInteractive('df-37a7d6b2-ad36-4a35-8305-25251bff9e34')\"\n",
              "              title=\"Convert this dataframe to an interactive table.\"\n",
              "              style=\"display:none;\">\n",
              "        \n",
              "  <svg xmlns=\"http://www.w3.org/2000/svg\" height=\"24px\"viewBox=\"0 0 24 24\"\n",
              "       width=\"24px\">\n",
              "    <path d=\"M0 0h24v24H0V0z\" fill=\"none\"/>\n",
              "    <path d=\"M18.56 5.44l.94 2.06.94-2.06 2.06-.94-2.06-.94-.94-2.06-.94 2.06-2.06.94zm-11 1L8.5 8.5l.94-2.06 2.06-.94-2.06-.94L8.5 2.5l-.94 2.06-2.06.94zm10 10l.94 2.06.94-2.06 2.06-.94-2.06-.94-.94-2.06-.94 2.06-2.06.94z\"/><path d=\"M17.41 7.96l-1.37-1.37c-.4-.4-.92-.59-1.43-.59-.52 0-1.04.2-1.43.59L10.3 9.45l-7.72 7.72c-.78.78-.78 2.05 0 2.83L4 21.41c.39.39.9.59 1.41.59.51 0 1.02-.2 1.41-.59l7.78-7.78 2.81-2.81c.8-.78.8-2.07 0-2.86zM5.41 20L4 18.59l7.72-7.72 1.47 1.35L5.41 20z\"/>\n",
              "  </svg>\n",
              "      </button>\n",
              "      \n",
              "  <style>\n",
              "    .colab-df-container {\n",
              "      display:flex;\n",
              "      flex-wrap:wrap;\n",
              "      gap: 12px;\n",
              "    }\n",
              "\n",
              "    .colab-df-convert {\n",
              "      background-color: #E8F0FE;\n",
              "      border: none;\n",
              "      border-radius: 50%;\n",
              "      cursor: pointer;\n",
              "      display: none;\n",
              "      fill: #1967D2;\n",
              "      height: 32px;\n",
              "      padding: 0 0 0 0;\n",
              "      width: 32px;\n",
              "    }\n",
              "\n",
              "    .colab-df-convert:hover {\n",
              "      background-color: #E2EBFA;\n",
              "      box-shadow: 0px 1px 2px rgba(60, 64, 67, 0.3), 0px 1px 3px 1px rgba(60, 64, 67, 0.15);\n",
              "      fill: #174EA6;\n",
              "    }\n",
              "\n",
              "    [theme=dark] .colab-df-convert {\n",
              "      background-color: #3B4455;\n",
              "      fill: #D2E3FC;\n",
              "    }\n",
              "\n",
              "    [theme=dark] .colab-df-convert:hover {\n",
              "      background-color: #434B5C;\n",
              "      box-shadow: 0px 1px 3px 1px rgba(0, 0, 0, 0.15);\n",
              "      filter: drop-shadow(0px 1px 2px rgba(0, 0, 0, 0.3));\n",
              "      fill: #FFFFFF;\n",
              "    }\n",
              "  </style>\n",
              "\n",
              "      <script>\n",
              "        const buttonEl =\n",
              "          document.querySelector('#df-37a7d6b2-ad36-4a35-8305-25251bff9e34 button.colab-df-convert');\n",
              "        buttonEl.style.display =\n",
              "          google.colab.kernel.accessAllowed ? 'block' : 'none';\n",
              "\n",
              "        async function convertToInteractive(key) {\n",
              "          const element = document.querySelector('#df-37a7d6b2-ad36-4a35-8305-25251bff9e34');\n",
              "          const dataTable =\n",
              "            await google.colab.kernel.invokeFunction('convertToInteractive',\n",
              "                                                     [key], {});\n",
              "          if (!dataTable) return;\n",
              "\n",
              "          const docLinkHtml = 'Like what you see? Visit the ' +\n",
              "            '<a target=\"_blank\" href=https://colab.research.google.com/notebooks/data_table.ipynb>data table notebook</a>'\n",
              "            + ' to learn more about interactive tables.';\n",
              "          element.innerHTML = '';\n",
              "          dataTable['output_type'] = 'display_data';\n",
              "          await google.colab.output.renderOutput(dataTable, element);\n",
              "          const docLink = document.createElement('div');\n",
              "          docLink.innerHTML = docLinkHtml;\n",
              "          element.appendChild(docLink);\n",
              "        }\n",
              "      </script>\n",
              "    </div>\n",
              "  </div>\n",
              "  "
            ],
            "text/plain": [
              "               tweet id                                         tweet_text  \\\n",
              "0  '336710056655593472'  RT @BBCBreaking: Death toll after #Oklahoma to...   \n",
              "1  '262835144409366528'  RT @GhoshAmitav: Interesting Hurricane Sandy m...   \n",
              "2  '324736258213564416'  RT @saratdg: @DianneG: Amatuer cell phone vide...   \n",
              "3  '263112797318160384'  «@WorkaholicBlake What if gangnam style is act...   \n",
              "4  '295813643914854400'  @wwos9 where can we watch it in qld? We've had...   \n",
              "\n",
              "    class_label                               tweet_text_Processed  \n",
              "0        Torndo  rt death toll oklahoma tornado rise 91 oklahom...  \n",
              "1     Hurricane  rt interesting hurricane sandy making headline...  \n",
              "2     Explosion  rt amatuer cell phone video father amp daughte...  \n",
              "3     Hurricane  gangnam style actually giant rain dance brough...  \n",
              "4  Queens_flood                       watch qld flood day need fun  "
            ]
          },
          "metadata": {},
          "output_type": "display_data"
        }
      ],
      "source": [
        "#Removing Stop words again after Lemmatize\n",
        "df2['tweet_text_Processed'] = df2['tweet_text_Processed'].map(lambda x : ' '.join([w for w in x.split() if w not in stop_words]))\n",
        "display(df2.head())"
      ]
    },
    {
      "cell_type": "code",
      "execution_count": null,
      "metadata": {
        "colab": {
          "base_uri": "https://localhost:8080/"
        },
        "id": "XCnljYJqAebZ",
        "outputId": "d7b441b3-a927-4d0c-a96f-a8bb3f3c8d80"
      },
      "outputs": [
        {
          "data": {
            "text/plain": [
              "369409"
            ]
          },
          "execution_count": 23,
          "metadata": {},
          "output_type": "execute_result"
        }
      ],
      "source": [
        "df2['tweet_text_Processed'].apply(lambda x: len(x.split(' '))).sum()"
      ]
    },
    {
      "cell_type": "code",
      "execution_count": null,
      "metadata": {
        "id": "b0lY3pm69upn"
      },
      "outputs": [],
      "source": [
        "df2['num_class_label']=df2['class_label'].replace(['Hurricane', 'Bombing', 'Queens_flood', 'Explosion', 'Alb_flood', 'Torndo', 'NONE' ],\n",
        "                        [0, 1, 2, 3, 4, 5,6], inplace=False)"
      ]
    },
    {
      "cell_type": "code",
      "execution_count": null,
      "metadata": {
        "colab": {
          "base_uri": "https://localhost:8080/",
          "height": 206
        },
        "id": "LOUb9XUN1QYu",
        "outputId": "14783cb5-4bc8-44d3-8b5f-b6d2097a4cab"
      },
      "outputs": [
        {
          "data": {
            "text/html": [
              "\n",
              "  <div id=\"df-7a92de14-7a5f-49de-932f-ac523de8082d\">\n",
              "    <div class=\"colab-df-container\">\n",
              "      <div>\n",
              "<style scoped>\n",
              "    .dataframe tbody tr th:only-of-type {\n",
              "        vertical-align: middle;\n",
              "    }\n",
              "\n",
              "    .dataframe tbody tr th {\n",
              "        vertical-align: top;\n",
              "    }\n",
              "\n",
              "    .dataframe thead th {\n",
              "        text-align: right;\n",
              "    }\n",
              "</style>\n",
              "<table border=\"1\" class=\"dataframe\">\n",
              "  <thead>\n",
              "    <tr style=\"text-align: right;\">\n",
              "      <th></th>\n",
              "      <th>tweet id</th>\n",
              "      <th>tweet_text</th>\n",
              "      <th>class_label</th>\n",
              "      <th>tweet_text_Processed</th>\n",
              "      <th>num_class_label</th>\n",
              "    </tr>\n",
              "  </thead>\n",
              "  <tbody>\n",
              "    <tr>\n",
              "      <th>0</th>\n",
              "      <td>'336710056655593472'</td>\n",
              "      <td>RT @BBCBreaking: Death toll after #Oklahoma to...</td>\n",
              "      <td>Torndo</td>\n",
              "      <td>rt death toll oklahoma tornado rise 91 oklahom...</td>\n",
              "      <td>5</td>\n",
              "    </tr>\n",
              "    <tr>\n",
              "      <th>1</th>\n",
              "      <td>'262835144409366528'</td>\n",
              "      <td>RT @GhoshAmitav: Interesting Hurricane Sandy m...</td>\n",
              "      <td>Hurricane</td>\n",
              "      <td>rt interesting hurricane sandy making headline...</td>\n",
              "      <td>0</td>\n",
              "    </tr>\n",
              "    <tr>\n",
              "      <th>2</th>\n",
              "      <td>'324736258213564416'</td>\n",
              "      <td>RT @saratdg: @DianneG: Amatuer cell phone vide...</td>\n",
              "      <td>Explosion</td>\n",
              "      <td>rt amatuer cell phone video father amp daughte...</td>\n",
              "      <td>3</td>\n",
              "    </tr>\n",
              "    <tr>\n",
              "      <th>3</th>\n",
              "      <td>'263112797318160384'</td>\n",
              "      <td>«@WorkaholicBlake What if gangnam style is act...</td>\n",
              "      <td>Hurricane</td>\n",
              "      <td>gangnam style actually giant rain dance brough...</td>\n",
              "      <td>0</td>\n",
              "    </tr>\n",
              "    <tr>\n",
              "      <th>4</th>\n",
              "      <td>'295813643914854400'</td>\n",
              "      <td>@wwos9 where can we watch it in qld? We've had...</td>\n",
              "      <td>Queens_flood</td>\n",
              "      <td>watch qld flood day need fun</td>\n",
              "      <td>2</td>\n",
              "    </tr>\n",
              "  </tbody>\n",
              "</table>\n",
              "</div>\n",
              "      <button class=\"colab-df-convert\" onclick=\"convertToInteractive('df-7a92de14-7a5f-49de-932f-ac523de8082d')\"\n",
              "              title=\"Convert this dataframe to an interactive table.\"\n",
              "              style=\"display:none;\">\n",
              "        \n",
              "  <svg xmlns=\"http://www.w3.org/2000/svg\" height=\"24px\"viewBox=\"0 0 24 24\"\n",
              "       width=\"24px\">\n",
              "    <path d=\"M0 0h24v24H0V0z\" fill=\"none\"/>\n",
              "    <path d=\"M18.56 5.44l.94 2.06.94-2.06 2.06-.94-2.06-.94-.94-2.06-.94 2.06-2.06.94zm-11 1L8.5 8.5l.94-2.06 2.06-.94-2.06-.94L8.5 2.5l-.94 2.06-2.06.94zm10 10l.94 2.06.94-2.06 2.06-.94-2.06-.94-.94-2.06-.94 2.06-2.06.94z\"/><path d=\"M17.41 7.96l-1.37-1.37c-.4-.4-.92-.59-1.43-.59-.52 0-1.04.2-1.43.59L10.3 9.45l-7.72 7.72c-.78.78-.78 2.05 0 2.83L4 21.41c.39.39.9.59 1.41.59.51 0 1.02-.2 1.41-.59l7.78-7.78 2.81-2.81c.8-.78.8-2.07 0-2.86zM5.41 20L4 18.59l7.72-7.72 1.47 1.35L5.41 20z\"/>\n",
              "  </svg>\n",
              "      </button>\n",
              "      \n",
              "  <style>\n",
              "    .colab-df-container {\n",
              "      display:flex;\n",
              "      flex-wrap:wrap;\n",
              "      gap: 12px;\n",
              "    }\n",
              "\n",
              "    .colab-df-convert {\n",
              "      background-color: #E8F0FE;\n",
              "      border: none;\n",
              "      border-radius: 50%;\n",
              "      cursor: pointer;\n",
              "      display: none;\n",
              "      fill: #1967D2;\n",
              "      height: 32px;\n",
              "      padding: 0 0 0 0;\n",
              "      width: 32px;\n",
              "    }\n",
              "\n",
              "    .colab-df-convert:hover {\n",
              "      background-color: #E2EBFA;\n",
              "      box-shadow: 0px 1px 2px rgba(60, 64, 67, 0.3), 0px 1px 3px 1px rgba(60, 64, 67, 0.15);\n",
              "      fill: #174EA6;\n",
              "    }\n",
              "\n",
              "    [theme=dark] .colab-df-convert {\n",
              "      background-color: #3B4455;\n",
              "      fill: #D2E3FC;\n",
              "    }\n",
              "\n",
              "    [theme=dark] .colab-df-convert:hover {\n",
              "      background-color: #434B5C;\n",
              "      box-shadow: 0px 1px 3px 1px rgba(0, 0, 0, 0.15);\n",
              "      filter: drop-shadow(0px 1px 2px rgba(0, 0, 0, 0.3));\n",
              "      fill: #FFFFFF;\n",
              "    }\n",
              "  </style>\n",
              "\n",
              "      <script>\n",
              "        const buttonEl =\n",
              "          document.querySelector('#df-7a92de14-7a5f-49de-932f-ac523de8082d button.colab-df-convert');\n",
              "        buttonEl.style.display =\n",
              "          google.colab.kernel.accessAllowed ? 'block' : 'none';\n",
              "\n",
              "        async function convertToInteractive(key) {\n",
              "          const element = document.querySelector('#df-7a92de14-7a5f-49de-932f-ac523de8082d');\n",
              "          const dataTable =\n",
              "            await google.colab.kernel.invokeFunction('convertToInteractive',\n",
              "                                                     [key], {});\n",
              "          if (!dataTable) return;\n",
              "\n",
              "          const docLinkHtml = 'Like what you see? Visit the ' +\n",
              "            '<a target=\"_blank\" href=https://colab.research.google.com/notebooks/data_table.ipynb>data table notebook</a>'\n",
              "            + ' to learn more about interactive tables.';\n",
              "          element.innerHTML = '';\n",
              "          dataTable['output_type'] = 'display_data';\n",
              "          await google.colab.output.renderOutput(dataTable, element);\n",
              "          const docLink = document.createElement('div');\n",
              "          docLink.innerHTML = docLinkHtml;\n",
              "          element.appendChild(docLink);\n",
              "        }\n",
              "      </script>\n",
              "    </div>\n",
              "  </div>\n",
              "  "
            ],
            "text/plain": [
              "               tweet id                                         tweet_text  \\\n",
              "0  '336710056655593472'  RT @BBCBreaking: Death toll after #Oklahoma to...   \n",
              "1  '262835144409366528'  RT @GhoshAmitav: Interesting Hurricane Sandy m...   \n",
              "2  '324736258213564416'  RT @saratdg: @DianneG: Amatuer cell phone vide...   \n",
              "3  '263112797318160384'  «@WorkaholicBlake What if gangnam style is act...   \n",
              "4  '295813643914854400'  @wwos9 where can we watch it in qld? We've had...   \n",
              "\n",
              "    class_label                               tweet_text_Processed  \\\n",
              "0        Torndo  rt death toll oklahoma tornado rise 91 oklahom...   \n",
              "1     Hurricane  rt interesting hurricane sandy making headline...   \n",
              "2     Explosion  rt amatuer cell phone video father amp daughte...   \n",
              "3     Hurricane  gangnam style actually giant rain dance brough...   \n",
              "4  Queens_flood                       watch qld flood day need fun   \n",
              "\n",
              "   num_class_label  \n",
              "0                5  \n",
              "1                0  \n",
              "2                3  \n",
              "3                0  \n",
              "4                2  "
            ]
          },
          "execution_count": 25,
          "metadata": {},
          "output_type": "execute_result"
        }
      ],
      "source": [
        "df2.head()"
      ]
    },
    {
      "cell_type": "code",
      "execution_count": null,
      "metadata": {
        "colab": {
          "base_uri": "https://localhost:8080/",
          "height": 363
        },
        "id": "aF9Xclxw_iM7",
        "outputId": "6044c85e-671c-40bc-df0d-4109acdbdd50"
      },
      "outputs": [
        {
          "data": {
            "image/png": "[encoded data removed]",
            "text/plain": [
              "<Figure size 1000x400 with 1 Axes>"
            ]
          },
          "metadata": {},
          "output_type": "display_data"
        }
      ],
      "source": [
        "#my_tags = ['caution_and_advice','displaced_people_and_evacuations','infrastructure_and_utility_damage','injured_or_dead_people','missing_or_found_people','not_humanitarian','other_relevant_information','requests_or_urgent_needs','rescue_volunteering_or_donation_effort','sympathy_and_support']\n",
        "plt.figure(figsize=(10,4))\n",
        "df2.num_class_label.value_counts().plot(kind='bar');"
      ]
    },
    {
      "cell_type": "code",
      "execution_count": null,
      "metadata": {
        "colab": {
          "base_uri": "https://localhost:8080/"
        },
        "id": "HteSn53q03ph",
        "outputId": "59206d86-3ad6-4c8b-ef94-b6b196c2c67c"
      },
      "outputs": [
        {
          "name": "stdout",
          "output_type": "stream",
          "text": [
            "There are 37671 rows and 5 columns\n"
          ]
        }
      ],
      "source": [
        "nRow, nCol = df2.shape\n",
        "print('There are {} rows and {} columns'.format(nRow, nCol))"
      ]
    },
    {
      "cell_type": "code",
      "execution_count": null,
      "metadata": {
        "id": "KMdIkiOoIGDd"
      },
      "outputs": [],
      "source": [
        "df=df2"
      ]
    },
    {
      "cell_type": "code",
      "execution_count": null,
      "metadata": {
        "colab": {
          "base_uri": "https://localhost:8080/",
          "height": 423
        },
        "id": "ZW4cVDk2MviD",
        "outputId": "c2969ee3-0a5d-4ae4-a123-743359bf206b"
      },
      "outputs": [
        {
          "data": {
            "text/html": [
              "\n",
              "  <div id=\"df-d8231299-dea4-4c31-9e3d-3df13d5ee295\">\n",
              "    <div class=\"colab-df-container\">\n",
              "      <div>\n",
              "<style scoped>\n",
              "    .dataframe tbody tr th:only-of-type {\n",
              "        vertical-align: middle;\n",
              "    }\n",
              "\n",
              "    .dataframe tbody tr th {\n",
              "        vertical-align: top;\n",
              "    }\n",
              "\n",
              "    .dataframe thead th {\n",
              "        text-align: right;\n",
              "    }\n",
              "</style>\n",
              "<table border=\"1\" class=\"dataframe\">\n",
              "  <thead>\n",
              "    <tr style=\"text-align: right;\">\n",
              "      <th></th>\n",
              "      <th>tweet_text_Processed</th>\n",
              "      <th>class_label</th>\n",
              "      <th>num_class_label</th>\n",
              "    </tr>\n",
              "  </thead>\n",
              "  <tbody>\n",
              "    <tr>\n",
              "      <th>0</th>\n",
              "      <td>rt death toll oklahoma tornado rise 91 oklahom...</td>\n",
              "      <td>Torndo</td>\n",
              "      <td>5</td>\n",
              "    </tr>\n",
              "    <tr>\n",
              "      <th>1</th>\n",
              "      <td>rt interesting hurricane sandy making headline...</td>\n",
              "      <td>Hurricane</td>\n",
              "      <td>0</td>\n",
              "    </tr>\n",
              "    <tr>\n",
              "      <th>2</th>\n",
              "      <td>rt amatuer cell phone video father amp daughte...</td>\n",
              "      <td>Explosion</td>\n",
              "      <td>3</td>\n",
              "    </tr>\n",
              "    <tr>\n",
              "      <th>3</th>\n",
              "      <td>gangnam style actually giant rain dance brough...</td>\n",
              "      <td>Hurricane</td>\n",
              "      <td>0</td>\n",
              "    </tr>\n",
              "    <tr>\n",
              "      <th>4</th>\n",
              "      <td>watch qld flood day need fun</td>\n",
              "      <td>Queens_flood</td>\n",
              "      <td>2</td>\n",
              "    </tr>\n",
              "    <tr>\n",
              "      <th>...</th>\n",
              "      <td>...</td>\n",
              "      <td>...</td>\n",
              "      <td>...</td>\n",
              "    </tr>\n",
              "    <tr>\n",
              "      <th>37666</th>\n",
              "      <td>image scene deadly explosion rock texas town g...</td>\n",
              "      <td>Explosion</td>\n",
              "      <td>3</td>\n",
              "    </tr>\n",
              "    <tr>\n",
              "      <th>37667</th>\n",
              "      <td>15 minute south explosion location</td>\n",
              "      <td>Explosion</td>\n",
              "      <td>3</td>\n",
              "    </tr>\n",
              "    <tr>\n",
              "      <th>37668</th>\n",
              "      <td>fuck sake brisbane lookin ominous flood bigwet...</td>\n",
              "      <td>Queens_flood</td>\n",
              "      <td>2</td>\n",
              "    </tr>\n",
              "    <tr>\n",
              "      <th>37669</th>\n",
              "      <td>wind already destructive storm still mile shor...</td>\n",
              "      <td>Hurricane</td>\n",
              "      <td>0</td>\n",
              "    </tr>\n",
              "    <tr>\n",
              "      <th>37670</th>\n",
              "      <td>rt hound dog need makeover poor harvey yycflood</td>\n",
              "      <td>NONE</td>\n",
              "      <td>6</td>\n",
              "    </tr>\n",
              "  </tbody>\n",
              "</table>\n",
              "<p>37671 rows × 3 columns</p>\n",
              "</div>\n",
              "      <button class=\"colab-df-convert\" onclick=\"convertToInteractive('df-d8231299-dea4-4c31-9e3d-3df13d5ee295')\"\n",
              "              title=\"Convert this dataframe to an interactive table.\"\n",
              "              style=\"display:none;\">\n",
              "        \n",
              "  <svg xmlns=\"http://www.w3.org/2000/svg\" height=\"24px\"viewBox=\"0 0 24 24\"\n",
              "       width=\"24px\">\n",
              "    <path d=\"M0 0h24v24H0V0z\" fill=\"none\"/>\n",
              "    <path d=\"M18.56 5.44l.94 2.06.94-2.06 2.06-.94-2.06-.94-.94-2.06-.94 2.06-2.06.94zm-11 1L8.5 8.5l.94-2.06 2.06-.94-2.06-.94L8.5 2.5l-.94 2.06-2.06.94zm10 10l.94 2.06.94-2.06 2.06-.94-2.06-.94-.94-2.06-.94 2.06-2.06.94z\"/><path d=\"M17.41 7.96l-1.37-1.37c-.4-.4-.92-.59-1.43-.59-.52 0-1.04.2-1.43.59L10.3 9.45l-7.72 7.72c-.78.78-.78 2.05 0 2.83L4 21.41c.39.39.9.59 1.41.59.51 0 1.02-.2 1.41-.59l7.78-7.78 2.81-2.81c.8-.78.8-2.07 0-2.86zM5.41 20L4 18.59l7.72-7.72 1.47 1.35L5.41 20z\"/>\n",
              "  </svg>\n",
              "      </button>\n",
              "      \n",
              "  <style>\n",
              "    .colab-df-container {\n",
              "      display:flex;\n",
              "      flex-wrap:wrap;\n",
              "      gap: 12px;\n",
              "    }\n",
              "\n",
              "    .colab-df-convert {\n",
              "      background-color: #E8F0FE;\n",
              "      border: none;\n",
              "      border-radius: 50%;\n",
              "      cursor: pointer;\n",
              "      display: none;\n",
              "      fill: #1967D2;\n",
              "      height: 32px;\n",
              "      padding: 0 0 0 0;\n",
              "      width: 32px;\n",
              "    }\n",
              "\n",
              "    .colab-df-convert:hover {\n",
              "      background-color: #E2EBFA;\n",
              "      box-shadow: 0px 1px 2px rgba(60, 64, 67, 0.3), 0px 1px 3px 1px rgba(60, 64, 67, 0.15);\n",
              "      fill: #174EA6;\n",
              "    }\n",
              "\n",
              "    [theme=dark] .colab-df-convert {\n",
              "      background-color: #3B4455;\n",
              "      fill: #D2E3FC;\n",
              "    }\n",
              "\n",
              "    [theme=dark] .colab-df-convert:hover {\n",
              "      background-color: #434B5C;\n",
              "      box-shadow: 0px 1px 3px 1px rgba(0, 0, 0, 0.15);\n",
              "      filter: drop-shadow(0px 1px 2px rgba(0, 0, 0, 0.3));\n",
              "      fill: #FFFFFF;\n",
              "    }\n",
              "  </style>\n",
              "\n",
              "      <script>\n",
              "        const buttonEl =\n",
              "          document.querySelector('#df-d8231299-dea4-4c31-9e3d-3df13d5ee295 button.colab-df-convert');\n",
              "        buttonEl.style.display =\n",
              "          google.colab.kernel.accessAllowed ? 'block' : 'none';\n",
              "\n",
              "        async function convertToInteractive(key) {\n",
              "          const element = document.querySelector('#df-d8231299-dea4-4c31-9e3d-3df13d5ee295');\n",
              "          const dataTable =\n",
              "            await google.colab.kernel.invokeFunction('convertToInteractive',\n",
              "                                                     [key], {});\n",
              "          if (!dataTable) return;\n",
              "\n",
              "          const docLinkHtml = 'Like what you see? Visit the ' +\n",
              "            '<a target=\"_blank\" href=https://colab.research.google.com/notebooks/data_table.ipynb>data table notebook</a>'\n",
              "            + ' to learn more about interactive tables.';\n",
              "          element.innerHTML = '';\n",
              "          dataTable['output_type'] = 'display_data';\n",
              "          await google.colab.output.renderOutput(dataTable, element);\n",
              "          const docLink = document.createElement('div');\n",
              "          docLink.innerHTML = docLinkHtml;\n",
              "          element.appendChild(docLink);\n",
              "        }\n",
              "      </script>\n",
              "    </div>\n",
              "  </div>\n",
              "  "
            ],
            "text/plain": [
              "                                    tweet_text_Processed   class_label  \\\n",
              "0      rt death toll oklahoma tornado rise 91 oklahom...        Torndo   \n",
              "1      rt interesting hurricane sandy making headline...     Hurricane   \n",
              "2      rt amatuer cell phone video father amp daughte...     Explosion   \n",
              "3      gangnam style actually giant rain dance brough...     Hurricane   \n",
              "4                           watch qld flood day need fun  Queens_flood   \n",
              "...                                                  ...           ...   \n",
              "37666  image scene deadly explosion rock texas town g...     Explosion   \n",
              "37667                 15 minute south explosion location     Explosion   \n",
              "37668  fuck sake brisbane lookin ominous flood bigwet...  Queens_flood   \n",
              "37669  wind already destructive storm still mile shor...     Hurricane   \n",
              "37670    rt hound dog need makeover poor harvey yycflood          NONE   \n",
              "\n",
              "       num_class_label  \n",
              "0                    5  \n",
              "1                    0  \n",
              "2                    3  \n",
              "3                    0  \n",
              "4                    2  \n",
              "...                ...  \n",
              "37666                3  \n",
              "37667                3  \n",
              "37668                2  \n",
              "37669                0  \n",
              "37670                6  \n",
              "\n",
              "[37671 rows x 3 columns]"
            ]
          },
          "execution_count": 29,
          "metadata": {},
          "output_type": "execute_result"
        }
      ],
      "source": [
        "#Doing some adjustments\n",
        "\n",
        "#a=df['tweet_id']\n",
        "\n",
        "b=df['tweet_text_Processed']\n",
        "\n",
        "c=df['class_label']\n",
        "\n",
        "d=df['num_class_label']\n",
        "\n",
        "df= pd.concat([b,c,d], axis=1)\n",
        "df.rename(columns={'class' : 'num_class_label'}, \n",
        "                    inplace=True)\n",
        "df"
      ]
    },
    {
      "cell_type": "code",
      "execution_count": null,
      "metadata": {
        "colab": {
          "base_uri": "https://localhost:8080/"
        },
        "id": "r8xJlZaXXj_1",
        "outputId": "5ccc9f67-c361-438f-9a14-fb242baefeca"
      },
      "outputs": [
        {
          "data": {
            "text/plain": [
              "(37671, 3)"
            ]
          },
          "execution_count": 30,
          "metadata": {},
          "output_type": "execute_result"
        }
      ],
      "source": [
        "df.shape"
      ]
    },
    {
      "cell_type": "code",
      "execution_count": null,
      "metadata": {
        "id": "QawG3K2Qh_t1"
      },
      "outputs": [],
      "source": []
    },
    {
      "cell_type": "code",
      "execution_count": null,
      "metadata": {
        "colab": {
          "base_uri": "https://localhost:8080/",
          "height": 300
        },
        "id": "wsHphNvvABLN",
        "outputId": "48ea7096-b182-4ee9-e9c7-c9ffa9529e80"
      },
      "outputs": [
        {
          "data": {
            "text/html": [
              "\n",
              "  <div id=\"df-aa96b8f0-d984-4b80-a8f8-3e7b2c0c2a63\">\n",
              "    <div class=\"colab-df-container\">\n",
              "      <div>\n",
              "<style scoped>\n",
              "    .dataframe tbody tr th:only-of-type {\n",
              "        vertical-align: middle;\n",
              "    }\n",
              "\n",
              "    .dataframe tbody tr th {\n",
              "        vertical-align: top;\n",
              "    }\n",
              "\n",
              "    .dataframe thead th {\n",
              "        text-align: right;\n",
              "    }\n",
              "</style>\n",
              "<table border=\"1\" class=\"dataframe\">\n",
              "  <thead>\n",
              "    <tr style=\"text-align: right;\">\n",
              "      <th></th>\n",
              "      <th>tweet_text_Processed</th>\n",
              "      <th>class_label</th>\n",
              "    </tr>\n",
              "    <tr>\n",
              "      <th>num_class_label</th>\n",
              "      <th></th>\n",
              "      <th></th>\n",
              "    </tr>\n",
              "  </thead>\n",
              "  <tbody>\n",
              "    <tr>\n",
              "      <th>0</th>\n",
              "      <td>6138</td>\n",
              "      <td>6138</td>\n",
              "    </tr>\n",
              "    <tr>\n",
              "      <th>1</th>\n",
              "      <td>5648</td>\n",
              "      <td>5648</td>\n",
              "    </tr>\n",
              "    <tr>\n",
              "      <th>2</th>\n",
              "      <td>5414</td>\n",
              "      <td>5414</td>\n",
              "    </tr>\n",
              "    <tr>\n",
              "      <th>3</th>\n",
              "      <td>5246</td>\n",
              "      <td>5246</td>\n",
              "    </tr>\n",
              "    <tr>\n",
              "      <th>4</th>\n",
              "      <td>5187</td>\n",
              "      <td>5187</td>\n",
              "    </tr>\n",
              "    <tr>\n",
              "      <th>5</th>\n",
              "      <td>4827</td>\n",
              "      <td>4827</td>\n",
              "    </tr>\n",
              "    <tr>\n",
              "      <th>6</th>\n",
              "      <td>5211</td>\n",
              "      <td>5211</td>\n",
              "    </tr>\n",
              "  </tbody>\n",
              "</table>\n",
              "</div>\n",
              "      <button class=\"colab-df-convert\" onclick=\"convertToInteractive('df-aa96b8f0-d984-4b80-a8f8-3e7b2c0c2a63')\"\n",
              "              title=\"Convert this dataframe to an interactive table.\"\n",
              "              style=\"display:none;\">\n",
              "        \n",
              "  <svg xmlns=\"http://www.w3.org/2000/svg\" height=\"24px\"viewBox=\"0 0 24 24\"\n",
              "       width=\"24px\">\n",
              "    <path d=\"M0 0h24v24H0V0z\" fill=\"none\"/>\n",
              "    <path d=\"M18.56 5.44l.94 2.06.94-2.06 2.06-.94-2.06-.94-.94-2.06-.94 2.06-2.06.94zm-11 1L8.5 8.5l.94-2.06 2.06-.94-2.06-.94L8.5 2.5l-.94 2.06-2.06.94zm10 10l.94 2.06.94-2.06 2.06-.94-2.06-.94-.94-2.06-.94 2.06-2.06.94z\"/><path d=\"M17.41 7.96l-1.37-1.37c-.4-.4-.92-.59-1.43-.59-.52 0-1.04.2-1.43.59L10.3 9.45l-7.72 7.72c-.78.78-.78 2.05 0 2.83L4 21.41c.39.39.9.59 1.41.59.51 0 1.02-.2 1.41-.59l7.78-7.78 2.81-2.81c.8-.78.8-2.07 0-2.86zM5.41 20L4 18.59l7.72-7.72 1.47 1.35L5.41 20z\"/>\n",
              "  </svg>\n",
              "      </button>\n",
              "      \n",
              "  <style>\n",
              "    .colab-df-container {\n",
              "      display:flex;\n",
              "      flex-wrap:wrap;\n",
              "      gap: 12px;\n",
              "    }\n",
              "\n",
              "    .colab-df-convert {\n",
              "      background-color: #E8F0FE;\n",
              "      border: none;\n",
              "      border-radius: 50%;\n",
              "      cursor: pointer;\n",
              "      display: none;\n",
              "      fill: #1967D2;\n",
              "      height: 32px;\n",
              "      padding: 0 0 0 0;\n",
              "      width: 32px;\n",
              "    }\n",
              "\n",
              "    .colab-df-convert:hover {\n",
              "      background-color: #E2EBFA;\n",
              "      box-shadow: 0px 1px 2px rgba(60, 64, 67, 0.3), 0px 1px 3px 1px rgba(60, 64, 67, 0.15);\n",
              "      fill: #174EA6;\n",
              "    }\n",
              "\n",
              "    [theme=dark] .colab-df-convert {\n",
              "      background-color: #3B4455;\n",
              "      fill: #D2E3FC;\n",
              "    }\n",
              "\n",
              "    [theme=dark] .colab-df-convert:hover {\n",
              "      background-color: #434B5C;\n",
              "      box-shadow: 0px 1px 3px 1px rgba(0, 0, 0, 0.15);\n",
              "      filter: drop-shadow(0px 1px 2px rgba(0, 0, 0, 0.3));\n",
              "      fill: #FFFFFF;\n",
              "    }\n",
              "  </style>\n",
              "\n",
              "      <script>\n",
              "        const buttonEl =\n",
              "          document.querySelector('#df-aa96b8f0-d984-4b80-a8f8-3e7b2c0c2a63 button.colab-df-convert');\n",
              "        buttonEl.style.display =\n",
              "          google.colab.kernel.accessAllowed ? 'block' : 'none';\n",
              "\n",
              "        async function convertToInteractive(key) {\n",
              "          const element = document.querySelector('#df-aa96b8f0-d984-4b80-a8f8-3e7b2c0c2a63');\n",
              "          const dataTable =\n",
              "            await google.colab.kernel.invokeFunction('convertToInteractive',\n",
              "                                                     [key], {});\n",
              "          if (!dataTable) return;\n",
              "\n",
              "          const docLinkHtml = 'Like what you see? Visit the ' +\n",
              "            '<a target=\"_blank\" href=https://colab.research.google.com/notebooks/data_table.ipynb>data table notebook</a>'\n",
              "            + ' to learn more about interactive tables.';\n",
              "          element.innerHTML = '';\n",
              "          dataTable['output_type'] = 'display_data';\n",
              "          await google.colab.output.renderOutput(dataTable, element);\n",
              "          const docLink = document.createElement('div');\n",
              "          docLink.innerHTML = docLinkHtml;\n",
              "          element.appendChild(docLink);\n",
              "        }\n",
              "      </script>\n",
              "    </div>\n",
              "  </div>\n",
              "  "
            ],
            "text/plain": [
              "                 tweet_text_Processed  class_label\n",
              "num_class_label                                   \n",
              "0                                6138         6138\n",
              "1                                5648         5648\n",
              "2                                5414         5414\n",
              "3                                5246         5246\n",
              "4                                5187         5187\n",
              "5                                4827         4827\n",
              "6                                5211         5211"
            ]
          },
          "execution_count": 31,
          "metadata": {},
          "output_type": "execute_result"
        }
      ],
      "source": [
        "# Grouping data by label\n",
        "df.groupby('num_class_label').count()"
      ]
    },
    {
      "cell_type": "code",
      "execution_count": null,
      "metadata": {
        "id": "6Tf9MOv_0Sqr"
      },
      "outputs": [],
      "source": [
        "from sklearn.model_selection import train_test_split"
      ]
    },
    {
      "cell_type": "code",
      "execution_count": null,
      "metadata": {
        "id": "iohddMzE0Sqs"
      },
      "outputs": [],
      "source": [
        "import locale\n",
        "locale.getpreferredencoding = lambda: \"UTF-8\""
      ]
    },
    {
      "cell_type": "code",
      "execution_count": null,
      "metadata": {
        "colab": {
          "base_uri": "https://localhost:8080/"
        },
        "id": "JRmUGvMcBZKQ",
        "outputId": "4d52827d-f96f-45ae-9964-620107fdbcdf"
      },
      "outputs": [
        {
          "name": "stdout",
          "output_type": "stream",
          "text": [
            "Looking in indexes: https://pypi.org/simple, https://us-python.pkg.dev/colab-wheels/public/simple/\n",
            "Collecting bert-for-tf2\n",
            "  Downloading bert-for-tf2-0.14.9.tar.gz (41 kB)\n",
            "\u001b[2K     \u001b[90m━━━━━━━━━━━━━━━━━━━━━━━━━━━━━━━━━━━━━━━━\u001b[0m \u001b[32m41.2/41.2 kB\u001b[0m \u001b[31m2.1 MB/s\u001b[0m eta \u001b[36m0:00:00\u001b[0m\n",
            "\u001b[?25h  Preparing metadata (setup.py) ... \u001b[?25l\u001b[?25hdone\n",
            "Collecting py-params>=0.9.6\n",
            "  Downloading py-params-0.10.2.tar.gz (7.4 kB)\n",
            "  Preparing metadata (setup.py) ... \u001b[?25l\u001b[?25hdone\n",
            "Collecting params-flow>=0.8.0\n",
            "  Downloading params-flow-0.8.2.tar.gz (22 kB)\n",
            "  Preparing metadata (setup.py) ... \u001b[?25l\u001b[?25hdone\n",
            "Requirement already satisfied: numpy in /usr/local/lib/python3.10/dist-packages (from params-flow>=0.8.0->bert-for-tf2) (1.22.4)\n",
            "Requirement already satisfied: tqdm in /usr/local/lib/python3.10/dist-packages (from params-flow>=0.8.0->bert-for-tf2) (4.65.0)\n",
            "Building wheels for collected packages: bert-for-tf2, params-flow, py-params\n",
            "  Building wheel for bert-for-tf2 (setup.py) ... \u001b[?25l\u001b[?25hdone\n",
            "  Created wheel for bert-for-tf2: filename=bert_for_tf2-0.14.9-py3-none-any.whl size=30531 sha256=bafcb35c58296edfcddd3fc981547aa255df0516e437af50c1c170b955179aad\n",
            "  Stored in directory: /root/.cache/pip/wheels/d8/da/50/126d7b8416d9a0e6bf876935c2219a71e72a6529c25e150c56\n",
            "  Building wheel for params-flow (setup.py) ... \u001b[?25l\u001b[?25hdone\n",
            "  Created wheel for params-flow: filename=params_flow-0.8.2-py3-none-any.whl size=19471 sha256=0729072d9b02b46a9fd406d5db1659349143883230c292519fd15e9c3773c029\n",
            "  Stored in directory: /root/.cache/pip/wheels/97/a8/d0/f7419404174976a2686bb98b5c30df01cc71445415f32db9e6\n",
            "  Building wheel for py-params (setup.py) ... \u001b[?25l\u001b[?25hdone\n",
            "  Created wheel for py-params: filename=py_params-0.10.2-py3-none-any.whl size=7910 sha256=1289c250fa8b61c9ccec87df813aadc246747a79f81f51476777b4af4c47d381\n",
            "  Stored in directory: /root/.cache/pip/wheels/69/c8/b3/92666cff9fb312bc3473eaa6b396695b89a7b3e31e90876819\n",
            "Successfully built bert-for-tf2 params-flow py-params\n",
            "Installing collected packages: py-params, params-flow, bert-for-tf2\n",
            "Successfully installed bert-for-tf2-0.14.9 params-flow-0.8.2 py-params-0.10.2\n",
            "Looking in indexes: https://pypi.org/simple, https://us-python.pkg.dev/colab-wheels/public/simple/\n",
            "Collecting sentencepiece\n",
            "  Downloading sentencepiece-0.1.99-cp310-cp310-manylinux_2_17_x86_64.manylinux2014_x86_64.whl (1.3 MB)\n",
            "\u001b[2K     \u001b[90m━━━━━━━━━━━━━━━━━━━━━━━━━━━━━━━━━━━━━━━━\u001b[0m \u001b[32m1.3/1.3 MB\u001b[0m \u001b[31m17.4 MB/s\u001b[0m eta \u001b[36m0:00:00\u001b[0m\n",
            "\u001b[?25hInstalling collected packages: sentencepiece\n",
            "Successfully installed sentencepiece-0.1.99\n"
          ]
        }
      ],
      "source": [
        "!pip install bert-for-tf2\n",
        "!pip install sentencepiece"
      ]
    },
    {
      "cell_type": "code",
      "execution_count": null,
      "metadata": {
        "colab": {
          "base_uri": "https://localhost:8080/"
        },
        "id": "MoBVAc90C2Zw",
        "outputId": "edbc2e56-b582-48d3-99be-54ecf956d13b"
      },
      "outputs": [
        {
          "name": "stdout",
          "output_type": "stream",
          "text": [
            "Colab only includes TensorFlow 2.x; %tensorflow_version has no effect.\n"
          ]
        }
      ],
      "source": [
        "try:\n",
        "    %tensorflow_version 2.x\n",
        "except Exception:\n",
        "    pass\n",
        "import tensorflow as tf\n",
        "\n",
        "import tensorflow_hub as hub\n",
        "\n",
        "from tensorflow.keras import layers\n",
        "import bert"
      ]
    },
    {
      "cell_type": "code",
      "execution_count": null,
      "metadata": {
        "id": "b9u106g3m86s",
        "trusted": true
      },
      "outputs": [],
      "source": [
        "X_train_, X_test, y_train_, y_test = train_test_split(\n",
        "    df.index.values,\n",
        "    df.num_class_label.values,\n",
        "    test_size=0.20,\n",
        "    random_state=42,\n",
        "    stratify=df.num_class_label.values,\n",
        "    )"
      ]
    },
    {
      "cell_type": "code",
      "execution_count": null,
      "metadata": {
        "id": "z4VPmzQFm86s",
        "trusted": true
      },
      "outputs": [],
      "source": [
        "X_train, X_val, y_train, y_val = train_test_split(\n",
        "    df.loc[X_train_].index.values,\n",
        "    df.loc[X_train_].num_class_label.values,\n",
        "    test_size=0.20,\n",
        "    random_state=42,\n",
        "    stratify=df.loc[X_train_].num_class_label.values,  \n",
        ")"
      ]
    },
    {
      "cell_type": "code",
      "execution_count": null,
      "metadata": {
        "id": "IUt0pKEHm86s",
        "trusted": true
      },
      "outputs": [],
      "source": [
        "df['data_type'] = ['not_set']*df.shape[0]\n",
        "df.loc[X_train, 'data_type'] = 'train'\n",
        "df.loc[X_val, 'data_type'] = 'val'\n",
        "df.loc[X_test, 'data_type'] = 'test'"
      ]
    },
    {
      "cell_type": "code",
      "execution_count": null,
      "metadata": {
        "colab": {
          "base_uri": "https://localhost:8080/",
          "height": 739
        },
        "id": "yqMroz3gm86s",
        "outputId": "240b7213-683f-4317-8cfa-47e2110528db",
        "trusted": true
      },
      "outputs": [
        {
          "data": {
            "text/html": [
              "\n",
              "  <div id=\"df-cfbf2c51-290a-4fef-8f51-6522e638747f\">\n",
              "    <div class=\"colab-df-container\">\n",
              "      <div>\n",
              "<style scoped>\n",
              "    .dataframe tbody tr th:only-of-type {\n",
              "        vertical-align: middle;\n",
              "    }\n",
              "\n",
              "    .dataframe tbody tr th {\n",
              "        vertical-align: top;\n",
              "    }\n",
              "\n",
              "    .dataframe thead th {\n",
              "        text-align: right;\n",
              "    }\n",
              "</style>\n",
              "<table border=\"1\" class=\"dataframe\">\n",
              "  <thead>\n",
              "    <tr style=\"text-align: right;\">\n",
              "      <th></th>\n",
              "      <th></th>\n",
              "      <th></th>\n",
              "      <th>tweet_text_Processed</th>\n",
              "    </tr>\n",
              "    <tr>\n",
              "      <th>class_label</th>\n",
              "      <th>num_class_label</th>\n",
              "      <th>data_type</th>\n",
              "      <th></th>\n",
              "    </tr>\n",
              "  </thead>\n",
              "  <tbody>\n",
              "    <tr>\n",
              "      <th rowspan=\"3\" valign=\"top\">Alb_flood</th>\n",
              "      <th rowspan=\"3\" valign=\"top\">4</th>\n",
              "      <th>test</th>\n",
              "      <td>1038</td>\n",
              "    </tr>\n",
              "    <tr>\n",
              "      <th>train</th>\n",
              "      <td>3319</td>\n",
              "    </tr>\n",
              "    <tr>\n",
              "      <th>val</th>\n",
              "      <td>830</td>\n",
              "    </tr>\n",
              "    <tr>\n",
              "      <th rowspan=\"3\" valign=\"top\">Bombing</th>\n",
              "      <th rowspan=\"3\" valign=\"top\">1</th>\n",
              "      <th>test</th>\n",
              "      <td>1130</td>\n",
              "    </tr>\n",
              "    <tr>\n",
              "      <th>train</th>\n",
              "      <td>3614</td>\n",
              "    </tr>\n",
              "    <tr>\n",
              "      <th>val</th>\n",
              "      <td>904</td>\n",
              "    </tr>\n",
              "    <tr>\n",
              "      <th rowspan=\"3\" valign=\"top\">Explosion</th>\n",
              "      <th rowspan=\"3\" valign=\"top\">3</th>\n",
              "      <th>test</th>\n",
              "      <td>1049</td>\n",
              "    </tr>\n",
              "    <tr>\n",
              "      <th>train</th>\n",
              "      <td>3357</td>\n",
              "    </tr>\n",
              "    <tr>\n",
              "      <th>val</th>\n",
              "      <td>840</td>\n",
              "    </tr>\n",
              "    <tr>\n",
              "      <th rowspan=\"3\" valign=\"top\">Hurricane</th>\n",
              "      <th rowspan=\"3\" valign=\"top\">0</th>\n",
              "      <th>test</th>\n",
              "      <td>1228</td>\n",
              "    </tr>\n",
              "    <tr>\n",
              "      <th>train</th>\n",
              "      <td>3928</td>\n",
              "    </tr>\n",
              "    <tr>\n",
              "      <th>val</th>\n",
              "      <td>982</td>\n",
              "    </tr>\n",
              "    <tr>\n",
              "      <th rowspan=\"3\" valign=\"top\">NONE</th>\n",
              "      <th rowspan=\"3\" valign=\"top\">6</th>\n",
              "      <th>test</th>\n",
              "      <td>1042</td>\n",
              "    </tr>\n",
              "    <tr>\n",
              "      <th>train</th>\n",
              "      <td>3335</td>\n",
              "    </tr>\n",
              "    <tr>\n",
              "      <th>val</th>\n",
              "      <td>834</td>\n",
              "    </tr>\n",
              "    <tr>\n",
              "      <th rowspan=\"3\" valign=\"top\">Queens_flood</th>\n",
              "      <th rowspan=\"3\" valign=\"top\">2</th>\n",
              "      <th>test</th>\n",
              "      <td>1083</td>\n",
              "    </tr>\n",
              "    <tr>\n",
              "      <th>train</th>\n",
              "      <td>3465</td>\n",
              "    </tr>\n",
              "    <tr>\n",
              "      <th>val</th>\n",
              "      <td>866</td>\n",
              "    </tr>\n",
              "    <tr>\n",
              "      <th rowspan=\"3\" valign=\"top\">Torndo</th>\n",
              "      <th rowspan=\"3\" valign=\"top\">5</th>\n",
              "      <th>test</th>\n",
              "      <td>965</td>\n",
              "    </tr>\n",
              "    <tr>\n",
              "      <th>train</th>\n",
              "      <td>3090</td>\n",
              "    </tr>\n",
              "    <tr>\n",
              "      <th>val</th>\n",
              "      <td>772</td>\n",
              "    </tr>\n",
              "  </tbody>\n",
              "</table>\n",
              "</div>\n",
              "      <button class=\"colab-df-convert\" onclick=\"convertToInteractive('df-cfbf2c51-290a-4fef-8f51-6522e638747f')\"\n",
              "              title=\"Convert this dataframe to an interactive table.\"\n",
              "              style=\"display:none;\">\n",
              "        \n",
              "  <svg xmlns=\"http://www.w3.org/2000/svg\" height=\"24px\"viewBox=\"0 0 24 24\"\n",
              "       width=\"24px\">\n",
              "    <path d=\"M0 0h24v24H0V0z\" fill=\"none\"/>\n",
              "    <path d=\"M18.56 5.44l.94 2.06.94-2.06 2.06-.94-2.06-.94-.94-2.06-.94 2.06-2.06.94zm-11 1L8.5 8.5l.94-2.06 2.06-.94-2.06-.94L8.5 2.5l-.94 2.06-2.06.94zm10 10l.94 2.06.94-2.06 2.06-.94-2.06-.94-.94-2.06-.94 2.06-2.06.94z\"/><path d=\"M17.41 7.96l-1.37-1.37c-.4-.4-.92-.59-1.43-.59-.52 0-1.04.2-1.43.59L10.3 9.45l-7.72 7.72c-.78.78-.78 2.05 0 2.83L4 21.41c.39.39.9.59 1.41.59.51 0 1.02-.2 1.41-.59l7.78-7.78 2.81-2.81c.8-.78.8-2.07 0-2.86zM5.41 20L4 18.59l7.72-7.72 1.47 1.35L5.41 20z\"/>\n",
              "  </svg>\n",
              "      </button>\n",
              "      \n",
              "  <style>\n",
              "    .colab-df-container {\n",
              "      display:flex;\n",
              "      flex-wrap:wrap;\n",
              "      gap: 12px;\n",
              "    }\n",
              "\n",
              "    .colab-df-convert {\n",
              "      background-color: #E8F0FE;\n",
              "      border: none;\n",
              "      border-radius: 50%;\n",
              "      cursor: pointer;\n",
              "      display: none;\n",
              "      fill: #1967D2;\n",
              "      height: 32px;\n",
              "      padding: 0 0 0 0;\n",
              "      width: 32px;\n",
              "    }\n",
              "\n",
              "    .colab-df-convert:hover {\n",
              "      background-color: #E2EBFA;\n",
              "      box-shadow: 0px 1px 2px rgba(60, 64, 67, 0.3), 0px 1px 3px 1px rgba(60, 64, 67, 0.15);\n",
              "      fill: #174EA6;\n",
              "    }\n",
              "\n",
              "    [theme=dark] .colab-df-convert {\n",
              "      background-color: #3B4455;\n",
              "      fill: #D2E3FC;\n",
              "    }\n",
              "\n",
              "    [theme=dark] .colab-df-convert:hover {\n",
              "      background-color: #434B5C;\n",
              "      box-shadow: 0px 1px 3px 1px rgba(0, 0, 0, 0.15);\n",
              "      filter: drop-shadow(0px 1px 2px rgba(0, 0, 0, 0.3));\n",
              "      fill: #FFFFFF;\n",
              "    }\n",
              "  </style>\n",
              "\n",
              "      <script>\n",
              "        const buttonEl =\n",
              "          document.querySelector('#df-cfbf2c51-290a-4fef-8f51-6522e638747f button.colab-df-convert');\n",
              "        buttonEl.style.display =\n",
              "          google.colab.kernel.accessAllowed ? 'block' : 'none';\n",
              "\n",
              "        async function convertToInteractive(key) {\n",
              "          const element = document.querySelector('#df-cfbf2c51-290a-4fef-8f51-6522e638747f');\n",
              "          const dataTable =\n",
              "            await google.colab.kernel.invokeFunction('convertToInteractive',\n",
              "                                                     [key], {});\n",
              "          if (!dataTable) return;\n",
              "\n",
              "          const docLinkHtml = 'Like what you see? Visit the ' +\n",
              "            '<a target=\"_blank\" href=https://colab.research.google.com/notebooks/data_table.ipynb>data table notebook</a>'\n",
              "            + ' to learn more about interactive tables.';\n",
              "          element.innerHTML = '';\n",
              "          dataTable['output_type'] = 'display_data';\n",
              "          await google.colab.output.renderOutput(dataTable, element);\n",
              "          const docLink = document.createElement('div');\n",
              "          docLink.innerHTML = docLinkHtml;\n",
              "          element.appendChild(docLink);\n",
              "        }\n",
              "      </script>\n",
              "    </div>\n",
              "  </div>\n",
              "  "
            ],
            "text/plain": [
              "                                        tweet_text_Processed\n",
              "class_label  num_class_label data_type                      \n",
              "Alb_flood    4               test                       1038\n",
              "                             train                      3319\n",
              "                             val                         830\n",
              "Bombing      1               test                       1130\n",
              "                             train                      3614\n",
              "                             val                         904\n",
              "Explosion    3               test                       1049\n",
              "                             train                      3357\n",
              "                             val                         840\n",
              "Hurricane    0               test                       1228\n",
              "                             train                      3928\n",
              "                             val                         982\n",
              "NONE         6               test                       1042\n",
              "                             train                      3335\n",
              "                             val                         834\n",
              "Queens_flood 2               test                       1083\n",
              "                             train                      3465\n",
              "                             val                         866\n",
              "Torndo       5               test                        965\n",
              "                             train                      3090\n",
              "                             val                         772"
            ]
          },
          "execution_count": 39,
          "metadata": {},
          "output_type": "execute_result"
        }
      ],
      "source": [
        "df.groupby(['class_label', 'num_class_label', 'data_type']).count()"
      ]
    },
    {
      "cell_type": "code",
      "execution_count": null,
      "metadata": {
        "colab": {
          "base_uri": "https://localhost:8080/",
          "height": 423
        },
        "id": "CbZRLlm5KSrf",
        "outputId": "bda797b0-a7b1-433b-f973-1a8204bd5bd1"
      },
      "outputs": [
        {
          "data": {
            "text/html": [
              "\n",
              "  <div id=\"df-742c4f7a-0857-44d1-a51f-77e2b3991ac7\">\n",
              "    <div class=\"colab-df-container\">\n",
              "      <div>\n",
              "<style scoped>\n",
              "    .dataframe tbody tr th:only-of-type {\n",
              "        vertical-align: middle;\n",
              "    }\n",
              "\n",
              "    .dataframe tbody tr th {\n",
              "        vertical-align: top;\n",
              "    }\n",
              "\n",
              "    .dataframe thead th {\n",
              "        text-align: right;\n",
              "    }\n",
              "</style>\n",
              "<table border=\"1\" class=\"dataframe\">\n",
              "  <thead>\n",
              "    <tr style=\"text-align: right;\">\n",
              "      <th></th>\n",
              "      <th>tweet_text_Processed</th>\n",
              "      <th>class_label</th>\n",
              "      <th>num_class_label</th>\n",
              "      <th>data_type</th>\n",
              "    </tr>\n",
              "  </thead>\n",
              "  <tbody>\n",
              "    <tr>\n",
              "      <th>0</th>\n",
              "      <td>rt death toll oklahoma tornado rise 91 oklahom...</td>\n",
              "      <td>Torndo</td>\n",
              "      <td>5</td>\n",
              "      <td>train</td>\n",
              "    </tr>\n",
              "    <tr>\n",
              "      <th>1</th>\n",
              "      <td>rt interesting hurricane sandy making headline...</td>\n",
              "      <td>Hurricane</td>\n",
              "      <td>0</td>\n",
              "      <td>train</td>\n",
              "    </tr>\n",
              "    <tr>\n",
              "      <th>2</th>\n",
              "      <td>rt amatuer cell phone video father amp daughte...</td>\n",
              "      <td>Explosion</td>\n",
              "      <td>3</td>\n",
              "      <td>train</td>\n",
              "    </tr>\n",
              "    <tr>\n",
              "      <th>3</th>\n",
              "      <td>gangnam style actually giant rain dance brough...</td>\n",
              "      <td>Hurricane</td>\n",
              "      <td>0</td>\n",
              "      <td>train</td>\n",
              "    </tr>\n",
              "    <tr>\n",
              "      <th>4</th>\n",
              "      <td>watch qld flood day need fun</td>\n",
              "      <td>Queens_flood</td>\n",
              "      <td>2</td>\n",
              "      <td>train</td>\n",
              "    </tr>\n",
              "    <tr>\n",
              "      <th>...</th>\n",
              "      <td>...</td>\n",
              "      <td>...</td>\n",
              "      <td>...</td>\n",
              "      <td>...</td>\n",
              "    </tr>\n",
              "    <tr>\n",
              "      <th>37666</th>\n",
              "      <td>image scene deadly explosion rock texas town g...</td>\n",
              "      <td>Explosion</td>\n",
              "      <td>3</td>\n",
              "      <td>test</td>\n",
              "    </tr>\n",
              "    <tr>\n",
              "      <th>37667</th>\n",
              "      <td>15 minute south explosion location</td>\n",
              "      <td>Explosion</td>\n",
              "      <td>3</td>\n",
              "      <td>train</td>\n",
              "    </tr>\n",
              "    <tr>\n",
              "      <th>37668</th>\n",
              "      <td>fuck sake brisbane lookin ominous flood bigwet...</td>\n",
              "      <td>Queens_flood</td>\n",
              "      <td>2</td>\n",
              "      <td>train</td>\n",
              "    </tr>\n",
              "    <tr>\n",
              "      <th>37669</th>\n",
              "      <td>wind already destructive storm still mile shor...</td>\n",
              "      <td>Hurricane</td>\n",
              "      <td>0</td>\n",
              "      <td>train</td>\n",
              "    </tr>\n",
              "    <tr>\n",
              "      <th>37670</th>\n",
              "      <td>rt hound dog need makeover poor harvey yycflood</td>\n",
              "      <td>NONE</td>\n",
              "      <td>6</td>\n",
              "      <td>train</td>\n",
              "    </tr>\n",
              "  </tbody>\n",
              "</table>\n",
              "<p>37671 rows × 4 columns</p>\n",
              "</div>\n",
              "      <button class=\"colab-df-convert\" onclick=\"convertToInteractive('df-742c4f7a-0857-44d1-a51f-77e2b3991ac7')\"\n",
              "              title=\"Convert this dataframe to an interactive table.\"\n",
              "              style=\"display:none;\">\n",
              "        \n",
              "  <svg xmlns=\"http://www.w3.org/2000/svg\" height=\"24px\"viewBox=\"0 0 24 24\"\n",
              "       width=\"24px\">\n",
              "    <path d=\"M0 0h24v24H0V0z\" fill=\"none\"/>\n",
              "    <path d=\"M18.56 5.44l.94 2.06.94-2.06 2.06-.94-2.06-.94-.94-2.06-.94 2.06-2.06.94zm-11 1L8.5 8.5l.94-2.06 2.06-.94-2.06-.94L8.5 2.5l-.94 2.06-2.06.94zm10 10l.94 2.06.94-2.06 2.06-.94-2.06-.94-.94-2.06-.94 2.06-2.06.94z\"/><path d=\"M17.41 7.96l-1.37-1.37c-.4-.4-.92-.59-1.43-.59-.52 0-1.04.2-1.43.59L10.3 9.45l-7.72 7.72c-.78.78-.78 2.05 0 2.83L4 21.41c.39.39.9.59 1.41.59.51 0 1.02-.2 1.41-.59l7.78-7.78 2.81-2.81c.8-.78.8-2.07 0-2.86zM5.41 20L4 18.59l7.72-7.72 1.47 1.35L5.41 20z\"/>\n",
              "  </svg>\n",
              "      </button>\n",
              "      \n",
              "  <style>\n",
              "    .colab-df-container {\n",
              "      display:flex;\n",
              "      flex-wrap:wrap;\n",
              "      gap: 12px;\n",
              "    }\n",
              "\n",
              "    .colab-df-convert {\n",
              "      background-color: #E8F0FE;\n",
              "      border: none;\n",
              "      border-radius: 50%;\n",
              "      cursor: pointer;\n",
              "      display: none;\n",
              "      fill: #1967D2;\n",
              "      height: 32px;\n",
              "      padding: 0 0 0 0;\n",
              "      width: 32px;\n",
              "    }\n",
              "\n",
              "    .colab-df-convert:hover {\n",
              "      background-color: #E2EBFA;\n",
              "      box-shadow: 0px 1px 2px rgba(60, 64, 67, 0.3), 0px 1px 3px 1px rgba(60, 64, 67, 0.15);\n",
              "      fill: #174EA6;\n",
              "    }\n",
              "\n",
              "    [theme=dark] .colab-df-convert {\n",
              "      background-color: #3B4455;\n",
              "      fill: #D2E3FC;\n",
              "    }\n",
              "\n",
              "    [theme=dark] .colab-df-convert:hover {\n",
              "      background-color: #434B5C;\n",
              "      box-shadow: 0px 1px 3px 1px rgba(0, 0, 0, 0.15);\n",
              "      filter: drop-shadow(0px 1px 2px rgba(0, 0, 0, 0.3));\n",
              "      fill: #FFFFFF;\n",
              "    }\n",
              "  </style>\n",
              "\n",
              "      <script>\n",
              "        const buttonEl =\n",
              "          document.querySelector('#df-742c4f7a-0857-44d1-a51f-77e2b3991ac7 button.colab-df-convert');\n",
              "        buttonEl.style.display =\n",
              "          google.colab.kernel.accessAllowed ? 'block' : 'none';\n",
              "\n",
              "        async function convertToInteractive(key) {\n",
              "          const element = document.querySelector('#df-742c4f7a-0857-44d1-a51f-77e2b3991ac7');\n",
              "          const dataTable =\n",
              "            await google.colab.kernel.invokeFunction('convertToInteractive',\n",
              "                                                     [key], {});\n",
              "          if (!dataTable) return;\n",
              "\n",
              "          const docLinkHtml = 'Like what you see? Visit the ' +\n",
              "            '<a target=\"_blank\" href=https://colab.research.google.com/notebooks/data_table.ipynb>data table notebook</a>'\n",
              "            + ' to learn more about interactive tables.';\n",
              "          element.innerHTML = '';\n",
              "          dataTable['output_type'] = 'display_data';\n",
              "          await google.colab.output.renderOutput(dataTable, element);\n",
              "          const docLink = document.createElement('div');\n",
              "          docLink.innerHTML = docLinkHtml;\n",
              "          element.appendChild(docLink);\n",
              "        }\n",
              "      </script>\n",
              "    </div>\n",
              "  </div>\n",
              "  "
            ],
            "text/plain": [
              "                                    tweet_text_Processed   class_label  \\\n",
              "0      rt death toll oklahoma tornado rise 91 oklahom...        Torndo   \n",
              "1      rt interesting hurricane sandy making headline...     Hurricane   \n",
              "2      rt amatuer cell phone video father amp daughte...     Explosion   \n",
              "3      gangnam style actually giant rain dance brough...     Hurricane   \n",
              "4                           watch qld flood day need fun  Queens_flood   \n",
              "...                                                  ...           ...   \n",
              "37666  image scene deadly explosion rock texas town g...     Explosion   \n",
              "37667                 15 minute south explosion location     Explosion   \n",
              "37668  fuck sake brisbane lookin ominous flood bigwet...  Queens_flood   \n",
              "37669  wind already destructive storm still mile shor...     Hurricane   \n",
              "37670    rt hound dog need makeover poor harvey yycflood          NONE   \n",
              "\n",
              "       num_class_label data_type  \n",
              "0                    5     train  \n",
              "1                    0     train  \n",
              "2                    3     train  \n",
              "3                    0     train  \n",
              "4                    2     train  \n",
              "...                ...       ...  \n",
              "37666                3      test  \n",
              "37667                3     train  \n",
              "37668                2     train  \n",
              "37669                0     train  \n",
              "37670                6     train  \n",
              "\n",
              "[37671 rows x 4 columns]"
            ]
          },
          "execution_count": 40,
          "metadata": {},
          "output_type": "execute_result"
        }
      ],
      "source": [
        "df"
      ]
    },
    {
      "cell_type": "code",
      "execution_count": null,
      "metadata": {
        "id": "bWE3QDbYv-Sp"
      },
      "outputs": [],
      "source": [
        "#df.to_csv('file_1.csv')"
      ]
    },
    {
      "cell_type": "code",
      "execution_count": null,
      "metadata": {
        "colab": {
          "base_uri": "https://localhost:8080/",
          "height": 206
        },
        "id": "Gr3otnCMdHK9",
        "outputId": "9382fbdc-6ea1-4584-8f32-4f993c366763"
      },
      "outputs": [
        {
          "data": {
            "text/html": [
              "\n",
              "  <div id=\"df-d60dbf6c-0e26-465f-ac18-31cfe103c95d\">\n",
              "    <div class=\"colab-df-container\">\n",
              "      <div>\n",
              "<style scoped>\n",
              "    .dataframe tbody tr th:only-of-type {\n",
              "        vertical-align: middle;\n",
              "    }\n",
              "\n",
              "    .dataframe tbody tr th {\n",
              "        vertical-align: top;\n",
              "    }\n",
              "\n",
              "    .dataframe thead th {\n",
              "        text-align: right;\n",
              "    }\n",
              "</style>\n",
              "<table border=\"1\" class=\"dataframe\">\n",
              "  <thead>\n",
              "    <tr style=\"text-align: right;\">\n",
              "      <th></th>\n",
              "      <th>tweet_text_Processed</th>\n",
              "      <th>class_label</th>\n",
              "      <th>num_class_label</th>\n",
              "      <th>data_type</th>\n",
              "    </tr>\n",
              "  </thead>\n",
              "  <tbody>\n",
              "    <tr>\n",
              "      <th>0</th>\n",
              "      <td>rt death toll oklahoma tornado rise 91 oklahom...</td>\n",
              "      <td>Torndo</td>\n",
              "      <td>5</td>\n",
              "      <td>train</td>\n",
              "    </tr>\n",
              "    <tr>\n",
              "      <th>1</th>\n",
              "      <td>rt interesting hurricane sandy making headline...</td>\n",
              "      <td>Hurricane</td>\n",
              "      <td>0</td>\n",
              "      <td>train</td>\n",
              "    </tr>\n",
              "    <tr>\n",
              "      <th>2</th>\n",
              "      <td>rt amatuer cell phone video father amp daughte...</td>\n",
              "      <td>Explosion</td>\n",
              "      <td>3</td>\n",
              "      <td>train</td>\n",
              "    </tr>\n",
              "    <tr>\n",
              "      <th>3</th>\n",
              "      <td>gangnam style actually giant rain dance brough...</td>\n",
              "      <td>Hurricane</td>\n",
              "      <td>0</td>\n",
              "      <td>train</td>\n",
              "    </tr>\n",
              "    <tr>\n",
              "      <th>4</th>\n",
              "      <td>watch qld flood day need fun</td>\n",
              "      <td>Queens_flood</td>\n",
              "      <td>2</td>\n",
              "      <td>train</td>\n",
              "    </tr>\n",
              "  </tbody>\n",
              "</table>\n",
              "</div>\n",
              "      <button class=\"colab-df-convert\" onclick=\"convertToInteractive('df-d60dbf6c-0e26-465f-ac18-31cfe103c95d')\"\n",
              "              title=\"Convert this dataframe to an interactive table.\"\n",
              "              style=\"display:none;\">\n",
              "        \n",
              "  <svg xmlns=\"http://www.w3.org/2000/svg\" height=\"24px\"viewBox=\"0 0 24 24\"\n",
              "       width=\"24px\">\n",
              "    <path d=\"M0 0h24v24H0V0z\" fill=\"none\"/>\n",
              "    <path d=\"M18.56 5.44l.94 2.06.94-2.06 2.06-.94-2.06-.94-.94-2.06-.94 2.06-2.06.94zm-11 1L8.5 8.5l.94-2.06 2.06-.94-2.06-.94L8.5 2.5l-.94 2.06-2.06.94zm10 10l.94 2.06.94-2.06 2.06-.94-2.06-.94-.94-2.06-.94 2.06-2.06.94z\"/><path d=\"M17.41 7.96l-1.37-1.37c-.4-.4-.92-.59-1.43-.59-.52 0-1.04.2-1.43.59L10.3 9.45l-7.72 7.72c-.78.78-.78 2.05 0 2.83L4 21.41c.39.39.9.59 1.41.59.51 0 1.02-.2 1.41-.59l7.78-7.78 2.81-2.81c.8-.78.8-2.07 0-2.86zM5.41 20L4 18.59l7.72-7.72 1.47 1.35L5.41 20z\"/>\n",
              "  </svg>\n",
              "      </button>\n",
              "      \n",
              "  <style>\n",
              "    .colab-df-container {\n",
              "      display:flex;\n",
              "      flex-wrap:wrap;\n",
              "      gap: 12px;\n",
              "    }\n",
              "\n",
              "    .colab-df-convert {\n",
              "      background-color: #E8F0FE;\n",
              "      border: none;\n",
              "      border-radius: 50%;\n",
              "      cursor: pointer;\n",
              "      display: none;\n",
              "      fill: #1967D2;\n",
              "      height: 32px;\n",
              "      padding: 0 0 0 0;\n",
              "      width: 32px;\n",
              "    }\n",
              "\n",
              "    .colab-df-convert:hover {\n",
              "      background-color: #E2EBFA;\n",
              "      box-shadow: 0px 1px 2px rgba(60, 64, 67, 0.3), 0px 1px 3px 1px rgba(60, 64, 67, 0.15);\n",
              "      fill: #174EA6;\n",
              "    }\n",
              "\n",
              "    [theme=dark] .colab-df-convert {\n",
              "      background-color: #3B4455;\n",
              "      fill: #D2E3FC;\n",
              "    }\n",
              "\n",
              "    [theme=dark] .colab-df-convert:hover {\n",
              "      background-color: #434B5C;\n",
              "      box-shadow: 0px 1px 3px 1px rgba(0, 0, 0, 0.15);\n",
              "      filter: drop-shadow(0px 1px 2px rgba(0, 0, 0, 0.3));\n",
              "      fill: #FFFFFF;\n",
              "    }\n",
              "  </style>\n",
              "\n",
              "      <script>\n",
              "        const buttonEl =\n",
              "          document.querySelector('#df-d60dbf6c-0e26-465f-ac18-31cfe103c95d button.colab-df-convert');\n",
              "        buttonEl.style.display =\n",
              "          google.colab.kernel.accessAllowed ? 'block' : 'none';\n",
              "\n",
              "        async function convertToInteractive(key) {\n",
              "          const element = document.querySelector('#df-d60dbf6c-0e26-465f-ac18-31cfe103c95d');\n",
              "          const dataTable =\n",
              "            await google.colab.kernel.invokeFunction('convertToInteractive',\n",
              "                                                     [key], {});\n",
              "          if (!dataTable) return;\n",
              "\n",
              "          const docLinkHtml = 'Like what you see? Visit the ' +\n",
              "            '<a target=\"_blank\" href=https://colab.research.google.com/notebooks/data_table.ipynb>data table notebook</a>'\n",
              "            + ' to learn more about interactive tables.';\n",
              "          element.innerHTML = '';\n",
              "          dataTable['output_type'] = 'display_data';\n",
              "          await google.colab.output.renderOutput(dataTable, element);\n",
              "          const docLink = document.createElement('div');\n",
              "          docLink.innerHTML = docLinkHtml;\n",
              "          element.appendChild(docLink);\n",
              "        }\n",
              "      </script>\n",
              "    </div>\n",
              "  </div>\n",
              "  "
            ],
            "text/plain": [
              "                                tweet_text_Processed   class_label  \\\n",
              "0  rt death toll oklahoma tornado rise 91 oklahom...        Torndo   \n",
              "1  rt interesting hurricane sandy making headline...     Hurricane   \n",
              "2  rt amatuer cell phone video father amp daughte...     Explosion   \n",
              "3  gangnam style actually giant rain dance brough...     Hurricane   \n",
              "4                       watch qld flood day need fun  Queens_flood   \n",
              "\n",
              "   num_class_label data_type  \n",
              "0                5     train  \n",
              "1                0     train  \n",
              "2                3     train  \n",
              "3                0     train  \n",
              "4                2     train  "
            ]
          },
          "execution_count": 42,
          "metadata": {},
          "output_type": "execute_result"
        }
      ],
      "source": [
        "df_train = df.loc[df[\"data_type\"]==\"train\"]\n",
        "df_train.head(5)"
      ]
    },
    {
      "cell_type": "code",
      "execution_count": null,
      "metadata": {
        "colab": {
          "base_uri": "https://localhost:8080/",
          "height": 206
        },
        "id": "zX_I51IDdLcA",
        "outputId": "c9a38d2a-7127-4336-9dbb-41a29a4085b2"
      },
      "outputs": [
        {
          "data": {
            "text/html": [
              "\n",
              "  <div id=\"df-ff4cb056-f454-4760-9473-cb7d49caac38\">\n",
              "    <div class=\"colab-df-container\">\n",
              "      <div>\n",
              "<style scoped>\n",
              "    .dataframe tbody tr th:only-of-type {\n",
              "        vertical-align: middle;\n",
              "    }\n",
              "\n",
              "    .dataframe tbody tr th {\n",
              "        vertical-align: top;\n",
              "    }\n",
              "\n",
              "    .dataframe thead th {\n",
              "        text-align: right;\n",
              "    }\n",
              "</style>\n",
              "<table border=\"1\" class=\"dataframe\">\n",
              "  <thead>\n",
              "    <tr style=\"text-align: right;\">\n",
              "      <th></th>\n",
              "      <th>tweet_text_Processed</th>\n",
              "      <th>class_label</th>\n",
              "      <th>num_class_label</th>\n",
              "      <th>data_type</th>\n",
              "    </tr>\n",
              "  </thead>\n",
              "  <tbody>\n",
              "    <tr>\n",
              "      <th>7</th>\n",
              "      <td>rt ontario 4 confirmed 2013 tornado avg 12 yr ...</td>\n",
              "      <td>Torndo</td>\n",
              "      <td>5</td>\n",
              "      <td>val</td>\n",
              "    </tr>\n",
              "    <tr>\n",
              "      <th>21</th>\n",
              "      <td>australia would go fire warning flood warning ...</td>\n",
              "      <td>Queens_flood</td>\n",
              "      <td>2</td>\n",
              "      <td>val</td>\n",
              "    </tr>\n",
              "    <tr>\n",
              "      <th>34</th>\n",
              "      <td>rt every 100 retweets donating 1 000 help rebu...</td>\n",
              "      <td>Hurricane</td>\n",
              "      <td>0</td>\n",
              "      <td>val</td>\n",
              "    </tr>\n",
              "    <tr>\n",
              "      <th>35</th>\n",
              "      <td>rt love prayer oklahoma incredibly devastating</td>\n",
              "      <td>Torndo</td>\n",
              "      <td>5</td>\n",
              "      <td>val</td>\n",
              "    </tr>\n",
              "    <tr>\n",
              "      <th>37</th>\n",
              "      <td>rt happy helping abflood victim client log don...</td>\n",
              "      <td>Alb_flood</td>\n",
              "      <td>4</td>\n",
              "      <td>val</td>\n",
              "    </tr>\n",
              "  </tbody>\n",
              "</table>\n",
              "</div>\n",
              "      <button class=\"colab-df-convert\" onclick=\"convertToInteractive('df-ff4cb056-f454-4760-9473-cb7d49caac38')\"\n",
              "              title=\"Convert this dataframe to an interactive table.\"\n",
              "              style=\"display:none;\">\n",
              "        \n",
              "  <svg xmlns=\"http://www.w3.org/2000/svg\" height=\"24px\"viewBox=\"0 0 24 24\"\n",
              "       width=\"24px\">\n",
              "    <path d=\"M0 0h24v24H0V0z\" fill=\"none\"/>\n",
              "    <path d=\"M18.56 5.44l.94 2.06.94-2.06 2.06-.94-2.06-.94-.94-2.06-.94 2.06-2.06.94zm-11 1L8.5 8.5l.94-2.06 2.06-.94-2.06-.94L8.5 2.5l-.94 2.06-2.06.94zm10 10l.94 2.06.94-2.06 2.06-.94-2.06-.94-.94-2.06-.94 2.06-2.06.94z\"/><path d=\"M17.41 7.96l-1.37-1.37c-.4-.4-.92-.59-1.43-.59-.52 0-1.04.2-1.43.59L10.3 9.45l-7.72 7.72c-.78.78-.78 2.05 0 2.83L4 21.41c.39.39.9.59 1.41.59.51 0 1.02-.2 1.41-.59l7.78-7.78 2.81-2.81c.8-.78.8-2.07 0-2.86zM5.41 20L4 18.59l7.72-7.72 1.47 1.35L5.41 20z\"/>\n",
              "  </svg>\n",
              "      </button>\n",
              "      \n",
              "  <style>\n",
              "    .colab-df-container {\n",
              "      display:flex;\n",
              "      flex-wrap:wrap;\n",
              "      gap: 12px;\n",
              "    }\n",
              "\n",
              "    .colab-df-convert {\n",
              "      background-color: #E8F0FE;\n",
              "      border: none;\n",
              "      border-radius: 50%;\n",
              "      cursor: pointer;\n",
              "      display: none;\n",
              "      fill: #1967D2;\n",
              "      height: 32px;\n",
              "      padding: 0 0 0 0;\n",
              "      width: 32px;\n",
              "    }\n",
              "\n",
              "    .colab-df-convert:hover {\n",
              "      background-color: #E2EBFA;\n",
              "      box-shadow: 0px 1px 2px rgba(60, 64, 67, 0.3), 0px 1px 3px 1px rgba(60, 64, 67, 0.15);\n",
              "      fill: #174EA6;\n",
              "    }\n",
              "\n",
              "    [theme=dark] .colab-df-convert {\n",
              "      background-color: #3B4455;\n",
              "      fill: #D2E3FC;\n",
              "    }\n",
              "\n",
              "    [theme=dark] .colab-df-convert:hover {\n",
              "      background-color: #434B5C;\n",
              "      box-shadow: 0px 1px 3px 1px rgba(0, 0, 0, 0.15);\n",
              "      filter: drop-shadow(0px 1px 2px rgba(0, 0, 0, 0.3));\n",
              "      fill: #FFFFFF;\n",
              "    }\n",
              "  </style>\n",
              "\n",
              "      <script>\n",
              "        const buttonEl =\n",
              "          document.querySelector('#df-ff4cb056-f454-4760-9473-cb7d49caac38 button.colab-df-convert');\n",
              "        buttonEl.style.display =\n",
              "          google.colab.kernel.accessAllowed ? 'block' : 'none';\n",
              "\n",
              "        async function convertToInteractive(key) {\n",
              "          const element = document.querySelector('#df-ff4cb056-f454-4760-9473-cb7d49caac38');\n",
              "          const dataTable =\n",
              "            await google.colab.kernel.invokeFunction('convertToInteractive',\n",
              "                                                     [key], {});\n",
              "          if (!dataTable) return;\n",
              "\n",
              "          const docLinkHtml = 'Like what you see? Visit the ' +\n",
              "            '<a target=\"_blank\" href=https://colab.research.google.com/notebooks/data_table.ipynb>data table notebook</a>'\n",
              "            + ' to learn more about interactive tables.';\n",
              "          element.innerHTML = '';\n",
              "          dataTable['output_type'] = 'display_data';\n",
              "          await google.colab.output.renderOutput(dataTable, element);\n",
              "          const docLink = document.createElement('div');\n",
              "          docLink.innerHTML = docLinkHtml;\n",
              "          element.appendChild(docLink);\n",
              "        }\n",
              "      </script>\n",
              "    </div>\n",
              "  </div>\n",
              "  "
            ],
            "text/plain": [
              "                                 tweet_text_Processed   class_label  \\\n",
              "7   rt ontario 4 confirmed 2013 tornado avg 12 yr ...        Torndo   \n",
              "21  australia would go fire warning flood warning ...  Queens_flood   \n",
              "34  rt every 100 retweets donating 1 000 help rebu...     Hurricane   \n",
              "35     rt love prayer oklahoma incredibly devastating        Torndo   \n",
              "37  rt happy helping abflood victim client log don...     Alb_flood   \n",
              "\n",
              "    num_class_label data_type  \n",
              "7                 5       val  \n",
              "21                2       val  \n",
              "34                0       val  \n",
              "35                5       val  \n",
              "37                4       val  "
            ]
          },
          "execution_count": 43,
          "metadata": {},
          "output_type": "execute_result"
        }
      ],
      "source": [
        "df_val = df.loc[df[\"data_type\"]==\"val\"]\n",
        "df_val.head(5)"
      ]
    },
    {
      "cell_type": "code",
      "execution_count": null,
      "metadata": {
        "colab": {
          "base_uri": "https://localhost:8080/",
          "height": 206
        },
        "id": "RJafzMbhdMNX",
        "outputId": "95bbb49e-02af-4cef-e522-3a9be3cde3fd"
      },
      "outputs": [
        {
          "data": {
            "text/html": [
              "\n",
              "  <div id=\"df-b968e312-44cd-47b2-8cba-2437a62b37f6\">\n",
              "    <div class=\"colab-df-container\">\n",
              "      <div>\n",
              "<style scoped>\n",
              "    .dataframe tbody tr th:only-of-type {\n",
              "        vertical-align: middle;\n",
              "    }\n",
              "\n",
              "    .dataframe tbody tr th {\n",
              "        vertical-align: top;\n",
              "    }\n",
              "\n",
              "    .dataframe thead th {\n",
              "        text-align: right;\n",
              "    }\n",
              "</style>\n",
              "<table border=\"1\" class=\"dataframe\">\n",
              "  <thead>\n",
              "    <tr style=\"text-align: right;\">\n",
              "      <th></th>\n",
              "      <th>tweet_text_Processed</th>\n",
              "      <th>class_label</th>\n",
              "      <th>num_class_label</th>\n",
              "      <th>data_type</th>\n",
              "    </tr>\n",
              "  </thead>\n",
              "  <tbody>\n",
              "    <tr>\n",
              "      <th>6</th>\n",
              "      <td>morning thought great people calgary calgaryst...</td>\n",
              "      <td>Alb_flood</td>\n",
              "      <td>4</td>\n",
              "      <td>test</td>\n",
              "    </tr>\n",
              "    <tr>\n",
              "      <th>10</th>\n",
              "      <td>rt insane nasa satellite view hurricane sandy ...</td>\n",
              "      <td>Hurricane</td>\n",
              "      <td>0</td>\n",
              "      <td>test</td>\n",
              "    </tr>\n",
              "    <tr>\n",
              "      <th>11</th>\n",
              "      <td>queensland flood crisis deepens death toll ris...</td>\n",
              "      <td>Queens_flood</td>\n",
              "      <td>2</td>\n",
              "      <td>test</td>\n",
              "    </tr>\n",
              "    <tr>\n",
              "      <th>13</th>\n",
              "      <td>related functioning 50 pop tart capacity repea...</td>\n",
              "      <td>Hurricane</td>\n",
              "      <td>0</td>\n",
              "      <td>test</td>\n",
              "    </tr>\n",
              "    <tr>\n",
              "      <th>15</th>\n",
              "      <td>made giggle watch news nut lol hurricane</td>\n",
              "      <td>Hurricane</td>\n",
              "      <td>0</td>\n",
              "      <td>test</td>\n",
              "    </tr>\n",
              "  </tbody>\n",
              "</table>\n",
              "</div>\n",
              "      <button class=\"colab-df-convert\" onclick=\"convertToInteractive('df-b968e312-44cd-47b2-8cba-2437a62b37f6')\"\n",
              "              title=\"Convert this dataframe to an interactive table.\"\n",
              "              style=\"display:none;\">\n",
              "        \n",
              "  <svg xmlns=\"http://www.w3.org/2000/svg\" height=\"24px\"viewBox=\"0 0 24 24\"\n",
              "       width=\"24px\">\n",
              "    <path d=\"M0 0h24v24H0V0z\" fill=\"none\"/>\n",
              "    <path d=\"M18.56 5.44l.94 2.06.94-2.06 2.06-.94-2.06-.94-.94-2.06-.94 2.06-2.06.94zm-11 1L8.5 8.5l.94-2.06 2.06-.94-2.06-.94L8.5 2.5l-.94 2.06-2.06.94zm10 10l.94 2.06.94-2.06 2.06-.94-2.06-.94-.94-2.06-.94 2.06-2.06.94z\"/><path d=\"M17.41 7.96l-1.37-1.37c-.4-.4-.92-.59-1.43-.59-.52 0-1.04.2-1.43.59L10.3 9.45l-7.72 7.72c-.78.78-.78 2.05 0 2.83L4 21.41c.39.39.9.59 1.41.59.51 0 1.02-.2 1.41-.59l7.78-7.78 2.81-2.81c.8-.78.8-2.07 0-2.86zM5.41 20L4 18.59l7.72-7.72 1.47 1.35L5.41 20z\"/>\n",
              "  </svg>\n",
              "      </button>\n",
              "      \n",
              "  <style>\n",
              "    .colab-df-container {\n",
              "      display:flex;\n",
              "      flex-wrap:wrap;\n",
              "      gap: 12px;\n",
              "    }\n",
              "\n",
              "    .colab-df-convert {\n",
              "      background-color: #E8F0FE;\n",
              "      border: none;\n",
              "      border-radius: 50%;\n",
              "      cursor: pointer;\n",
              "      display: none;\n",
              "      fill: #1967D2;\n",
              "      height: 32px;\n",
              "      padding: 0 0 0 0;\n",
              "      width: 32px;\n",
              "    }\n",
              "\n",
              "    .colab-df-convert:hover {\n",
              "      background-color: #E2EBFA;\n",
              "      box-shadow: 0px 1px 2px rgba(60, 64, 67, 0.3), 0px 1px 3px 1px rgba(60, 64, 67, 0.15);\n",
              "      fill: #174EA6;\n",
              "    }\n",
              "\n",
              "    [theme=dark] .colab-df-convert {\n",
              "      background-color: #3B4455;\n",
              "      fill: #D2E3FC;\n",
              "    }\n",
              "\n",
              "    [theme=dark] .colab-df-convert:hover {\n",
              "      background-color: #434B5C;\n",
              "      box-shadow: 0px 1px 3px 1px rgba(0, 0, 0, 0.15);\n",
              "      filter: drop-shadow(0px 1px 2px rgba(0, 0, 0, 0.3));\n",
              "      fill: #FFFFFF;\n",
              "    }\n",
              "  </style>\n",
              "\n",
              "      <script>\n",
              "        const buttonEl =\n",
              "          document.querySelector('#df-b968e312-44cd-47b2-8cba-2437a62b37f6 button.colab-df-convert');\n",
              "        buttonEl.style.display =\n",
              "          google.colab.kernel.accessAllowed ? 'block' : 'none';\n",
              "\n",
              "        async function convertToInteractive(key) {\n",
              "          const element = document.querySelector('#df-b968e312-44cd-47b2-8cba-2437a62b37f6');\n",
              "          const dataTable =\n",
              "            await google.colab.kernel.invokeFunction('convertToInteractive',\n",
              "                                                     [key], {});\n",
              "          if (!dataTable) return;\n",
              "\n",
              "          const docLinkHtml = 'Like what you see? Visit the ' +\n",
              "            '<a target=\"_blank\" href=https://colab.research.google.com/notebooks/data_table.ipynb>data table notebook</a>'\n",
              "            + ' to learn more about interactive tables.';\n",
              "          element.innerHTML = '';\n",
              "          dataTable['output_type'] = 'display_data';\n",
              "          await google.colab.output.renderOutput(dataTable, element);\n",
              "          const docLink = document.createElement('div');\n",
              "          docLink.innerHTML = docLinkHtml;\n",
              "          element.appendChild(docLink);\n",
              "        }\n",
              "      </script>\n",
              "    </div>\n",
              "  </div>\n",
              "  "
            ],
            "text/plain": [
              "                                 tweet_text_Processed   class_label  \\\n",
              "6   morning thought great people calgary calgaryst...     Alb_flood   \n",
              "10  rt insane nasa satellite view hurricane sandy ...     Hurricane   \n",
              "11  queensland flood crisis deepens death toll ris...  Queens_flood   \n",
              "13  related functioning 50 pop tart capacity repea...     Hurricane   \n",
              "15           made giggle watch news nut lol hurricane     Hurricane   \n",
              "\n",
              "    num_class_label data_type  \n",
              "6                 4      test  \n",
              "10                0      test  \n",
              "11                2      test  \n",
              "13                0      test  \n",
              "15                0      test  "
            ]
          },
          "execution_count": 44,
          "metadata": {},
          "output_type": "execute_result"
        }
      ],
      "source": [
        "df_test = df.loc[df[\"data_type\"]==\"test\"]\n",
        "df_test.head(5)"
      ]
    },
    {
      "cell_type": "code",
      "execution_count": null,
      "metadata": {
        "colab": {
          "base_uri": "https://localhost:8080/"
        },
        "id": "bOwTfN_aB4vg",
        "outputId": "f4bc8cbe-fe16-46c7-a3af-12989f211e7c"
      },
      "outputs": [
        {
          "data": {
            "text/plain": [
              "tweet_text_Processed    object\n",
              "class_label             object\n",
              "num_class_label          int64\n",
              "data_type               object\n",
              "dtype: object"
            ]
          },
          "execution_count": 45,
          "metadata": {},
          "output_type": "execute_result"
        }
      ],
      "source": [
        "df.dtypes"
      ]
    },
    {
      "cell_type": "code",
      "execution_count": null,
      "metadata": {
        "id": "wYCFIz6MOywR"
      },
      "outputs": [],
      "source": [
        "train_data_labels= df_train.num_class_label.values"
      ]
    },
    {
      "cell_type": "code",
      "execution_count": null,
      "metadata": {
        "colab": {
          "base_uri": "https://localhost:8080/"
        },
        "id": "-nDjfO6TPCdN",
        "outputId": "6da43423-affa-4bb7-f208-387c3b8cd3ae"
      },
      "outputs": [
        {
          "data": {
            "text/plain": [
              "24108"
            ]
          },
          "execution_count": 47,
          "metadata": {},
          "output_type": "execute_result"
        }
      ],
      "source": [
        "len(train_data_labels)"
      ]
    },
    {
      "cell_type": "code",
      "execution_count": null,
      "metadata": {
        "colab": {
          "base_uri": "https://localhost:8080/"
        },
        "id": "POykwh2-PFL5",
        "outputId": "964aca37-1206-4db5-d1fb-799b81ccdb13"
      },
      "outputs": [
        {
          "name": "stdout",
          "output_type": "stream",
          "text": [
            "[5 0 3 ... 2 0 6]\n"
          ]
        }
      ],
      "source": [
        "print(train_data_labels)"
      ]
    },
    {
      "cell_type": "code",
      "execution_count": null,
      "metadata": {
        "id": "fPkJdacGPV_g"
      },
      "outputs": [],
      "source": [
        "val_data_labels= df_val.num_class_label.values"
      ]
    },
    {
      "cell_type": "code",
      "execution_count": null,
      "metadata": {
        "colab": {
          "base_uri": "https://localhost:8080/"
        },
        "id": "b6XQz7J8PV_g",
        "outputId": "7be849bc-dc77-4312-cfa6-a52d5f94015a"
      },
      "outputs": [
        {
          "data": {
            "text/plain": [
              "6028"
            ]
          },
          "execution_count": 50,
          "metadata": {},
          "output_type": "execute_result"
        }
      ],
      "source": [
        "len(val_data_labels)"
      ]
    },
    {
      "cell_type": "code",
      "execution_count": null,
      "metadata": {
        "colab": {
          "base_uri": "https://localhost:8080/"
        },
        "id": "t0Z872-JPV_g",
        "outputId": "5273fdb0-6a8c-4df7-ea9a-e7a8434f0f82"
      },
      "outputs": [
        {
          "name": "stdout",
          "output_type": "stream",
          "text": [
            "[5 2 0 ... 6 4 5]\n"
          ]
        }
      ],
      "source": [
        "print(val_data_labels)"
      ]
    },
    {
      "cell_type": "code",
      "execution_count": null,
      "metadata": {
        "id": "wdYAqPy7PWhf"
      },
      "outputs": [],
      "source": [
        "test_data_labels= df_test.num_class_label.values"
      ]
    },
    {
      "cell_type": "code",
      "execution_count": null,
      "metadata": {
        "colab": {
          "base_uri": "https://localhost:8080/"
        },
        "id": "GShFPLK1PWhg",
        "outputId": "92ff43f0-9c36-4190-c2e7-ae2b2414b5b3"
      },
      "outputs": [
        {
          "data": {
            "text/plain": [
              "7535"
            ]
          },
          "execution_count": 53,
          "metadata": {},
          "output_type": "execute_result"
        }
      ],
      "source": [
        "len(test_data_labels)"
      ]
    },
    {
      "cell_type": "code",
      "execution_count": null,
      "metadata": {
        "colab": {
          "base_uri": "https://localhost:8080/"
        },
        "id": "VVqR-LgoPWhg",
        "outputId": "2ec7a424-8d81-4cca-be35-5df07ce48a44"
      },
      "outputs": [
        {
          "name": "stdout",
          "output_type": "stream",
          "text": [
            "[4 0 2 ... 6 6 3]\n"
          ]
        }
      ],
      "source": [
        "print(test_data_labels)"
      ]
    },
    {
      "cell_type": "code",
      "execution_count": null,
      "metadata": {
        "id": "Hp5_71T-B-4C"
      },
      "outputs": [],
      "source": [
        "def clean_tweet(tweet):\n",
        "    #tweet = re.sub(r\"@[A-Za-z0-9]+\", ' ', tweet)\n",
        "    #tweet = re.sub(r\"https?://[A-Za-z0-9./]+\", ' ', tweet)\n",
        "    #tweet = re.sub(r\"[^a-Za-Z.!?']\", ' ', tweet)\n",
        "    tweet = re.sub(r\" +\", ' ', tweet)\n",
        "    return tweet"
      ]
    },
    {
      "cell_type": "code",
      "execution_count": null,
      "metadata": {
        "id": "8dG55PzNIUQU"
      },
      "outputs": [],
      "source": [
        "train_data_clean = [clean_tweet(tweet) for tweet in df_train.tweet_text_Processed]"
      ]
    },
    {
      "cell_type": "code",
      "execution_count": null,
      "metadata": {
        "colab": {
          "base_uri": "https://localhost:8080/"
        },
        "id": "h84khS-wIlLq",
        "outputId": "c0e1d925-f079-41bd-89aa-f70064d6488a"
      },
      "outputs": [
        {
          "name": "stdout",
          "output_type": "stream",
          "text": [
            "['rt death toll oklahoma tornado rise 91 oklahoma city medical examiner office']\n"
          ]
        }
      ],
      "source": [
        "print(train_data_clean[0:1])"
      ]
    },
    {
      "cell_type": "code",
      "execution_count": null,
      "metadata": {
        "colab": {
          "base_uri": "https://localhost:8080/"
        },
        "id": "fsq4YRu0Mt4R",
        "outputId": "38cfecba-dea8-40b5-93d3-4762238adc34"
      },
      "outputs": [
        {
          "data": {
            "text/plain": [
              "24108"
            ]
          },
          "execution_count": 58,
          "metadata": {},
          "output_type": "execute_result"
        }
      ],
      "source": [
        "len(train_data_clean)"
      ]
    },
    {
      "cell_type": "code",
      "execution_count": null,
      "metadata": {
        "id": "w9fhZsR5NDfF"
      },
      "outputs": [],
      "source": [
        "val_data_clean = [clean_tweet(tweet) for tweet in df_val.tweet_text_Processed]"
      ]
    },
    {
      "cell_type": "code",
      "execution_count": null,
      "metadata": {
        "colab": {
          "base_uri": "https://localhost:8080/"
        },
        "id": "8y1oUE8UND0n",
        "outputId": "be3b1764-3edf-4f5b-ba7f-019d9021746c"
      },
      "outputs": [
        {
          "data": {
            "text/plain": [
              "6028"
            ]
          },
          "execution_count": 60,
          "metadata": {},
          "output_type": "execute_result"
        }
      ],
      "source": [
        "len(val_data_clean)"
      ]
    },
    {
      "cell_type": "code",
      "execution_count": null,
      "metadata": {
        "id": "QocGAYrvND6R"
      },
      "outputs": [],
      "source": [
        "test_data_clean = [clean_tweet(tweet) for tweet in df_test.tweet_text_Processed]"
      ]
    },
    {
      "cell_type": "code",
      "execution_count": null,
      "metadata": {
        "colab": {
          "base_uri": "https://localhost:8080/"
        },
        "id": "H9YBl04nNSUa",
        "outputId": "aae4fcf6-2496-45c1-e23e-7ff8587e2905"
      },
      "outputs": [
        {
          "data": {
            "text/plain": [
              "7535"
            ]
          },
          "execution_count": 62,
          "metadata": {},
          "output_type": "execute_result"
        }
      ],
      "source": [
        "len(test_data_clean)"
      ]
    },
    {
      "cell_type": "code",
      "execution_count": null,
      "metadata": {
        "id": "p6qkFMlTNibx"
      },
      "outputs": [],
      "source": [
        "FullTokenizer = bert.bert_tokenization.FullTokenizer\n",
        "bert_layer = hub.KerasLayer(\"https://tfhub.dev/tensorflow/bert_en_uncased_L-12_H-768_A-12/1\",\n",
        "                            trainable=False)\n",
        "vocab_file = bert_layer.resolved_object.vocab_file.asset_path.numpy()\n",
        "do_lower_case= bert_layer.resolved_object.do_lower_case.numpy()\n",
        "tokenizer = FullTokenizer(vocab_file, do_lower_case) "
      ]
    },
    {
      "cell_type": "code",
      "execution_count": null,
      "metadata": {
        "id": "-tcjMC_7Nieh"
      },
      "outputs": [],
      "source": [
        "def encode_sentence(sent):\n",
        "    return [\"[CLS]\"] + tokenizer.tokenize(sent) + [\"[SEP]\"]"
      ]
    },
    {
      "cell_type": "code",
      "execution_count": null,
      "metadata": {
        "id": "YjHoWX6LNihW"
      },
      "outputs": [],
      "source": [
        "train_data_inputs = [encode_sentence(sentence) for sentence in train_data_clean]"
      ]
    },
    {
      "cell_type": "code",
      "execution_count": null,
      "metadata": {
        "colab": {
          "base_uri": "https://localhost:8080/"
        },
        "id": "WGdJs2P9NikK",
        "outputId": "2d13507b-6d72-43f4-a494-5c8691e461ac"
      },
      "outputs": [
        {
          "name": "stdout",
          "output_type": "stream",
          "text": [
            "['[CLS]', 'rt', 'death', 'toll', 'oklahoma', 'tornado', 'rise', '91', 'oklahoma', 'city', 'medical', 'examiner', 'office', '[SEP]']\n"
          ]
        }
      ],
      "source": [
        "print(train_data_inputs[0])"
      ]
    },
    {
      "cell_type": "code",
      "execution_count": null,
      "metadata": {
        "colab": {
          "base_uri": "https://localhost:8080/"
        },
        "id": "BAhFlc0XuIY_",
        "outputId": "a00989dc-4dce-4af1-da3e-a9eacc875598"
      },
      "outputs": [
        {
          "name": "stdout",
          "output_type": "stream",
          "text": [
            "14\n"
          ]
        }
      ],
      "source": [
        "print(len(train_data_inputs[0]))"
      ]
    },
    {
      "cell_type": "code",
      "execution_count": null,
      "metadata": {
        "id": "aatU4Uj6Nim1"
      },
      "outputs": [],
      "source": [
        "val_data_inputs = [encode_sentence(sentence) for sentence in val_data_clean]"
      ]
    },
    {
      "cell_type": "code",
      "execution_count": null,
      "metadata": {
        "colab": {
          "base_uri": "https://localhost:8080/"
        },
        "id": "UeSdfbfpNipZ",
        "outputId": "4ff32a44-35da-42e2-e6ed-730cb2fb92a5"
      },
      "outputs": [
        {
          "name": "stdout",
          "output_type": "stream",
          "text": [
            "['[CLS]', 'australia', 'would', 'go', 'fire', 'warning', 'flood', 'warning', 'le', 'week', '[SEP]']\n"
          ]
        }
      ],
      "source": [
        "print(val_data_inputs[1])"
      ]
    },
    {
      "cell_type": "code",
      "execution_count": null,
      "metadata": {
        "id": "uDtRpK9RNvbb"
      },
      "outputs": [],
      "source": [
        "test_data_inputs = [encode_sentence(sentence) for sentence in test_data_clean]"
      ]
    },
    {
      "cell_type": "code",
      "execution_count": null,
      "metadata": {
        "colab": {
          "base_uri": "https://localhost:8080/"
        },
        "id": "djUlT1RcNveM",
        "outputId": "cb8d9cf9-481e-4007-d948-37ea0c1af74a"
      },
      "outputs": [
        {
          "name": "stdout",
          "output_type": "stream",
          "text": [
            "['[CLS]', 'morning', 'thought', 'great', 'people', 'calgary', 'calgary', '##st', '##rong', 'calgary', '##fl', '##ood', 'y', '##y', '##c', '##fl', '##ood', '[SEP]']\n"
          ]
        }
      ],
      "source": [
        "print(test_data_inputs[0])"
      ]
    },
    {
      "cell_type": "code",
      "execution_count": null,
      "metadata": {
        "id": "9hFf0cgKN9dF"
      },
      "outputs": [],
      "source": [
        "def get_ids(tokens):\n",
        "    return tokenizer.convert_tokens_to_ids(tokens)\n",
        "\n",
        "def get_mask(tokens):\n",
        "    return np.char.not_equal(tokens,\"[PAD]\").astype(int)\n",
        "\n",
        "def get_segments(tokens):\n",
        "    seg_ids = []\n",
        "    current_seg_id = 0\n",
        "    for tok in tokens:\n",
        "        seg_ids.append(current_seg_id)\n",
        "        if tok == \"[SEP]\":\n",
        "            current_sig_id = 1-current_seg_id\n",
        "    return seg_ids\n"
      ]
    },
    {
      "cell_type": "code",
      "execution_count": null,
      "metadata": {
        "id": "WAZhoCUFN9gc"
      },
      "outputs": [],
      "source": [
        "data_with_len = [ [sent, train_data_labels[i], len(sent)] for i, sent in enumerate(train_data_inputs) ]\n",
        "random.shuffle(data_with_len)\n",
        "data_with_len.sort(key=lambda x: x[2])\n",
        "train_sorted_all = [([get_ids(sent_lab[0]),\n",
        "                get_mask(sent_lab[0]),\n",
        "                get_segments(sent_lab[0])],\n",
        "               sent_lab[1])\n",
        "              for sent_lab in data_with_len if sent_lab[2] > 2]"
      ]
    },
    {
      "cell_type": "code",
      "execution_count": null,
      "metadata": {
        "id": "YPjCTcHUN9jS"
      },
      "outputs": [],
      "source": [
        "train_all_dataset = tf.data.Dataset.from_generator(lambda: train_sorted_all,\n",
        "                                             output_types=(tf.int32, tf.int32))"
      ]
    },
    {
      "cell_type": "code",
      "execution_count": null,
      "metadata": {
        "id": "poiNbXkzN9mK"
      },
      "outputs": [],
      "source": [
        "BATCH_SIZE = 32\n",
        "train_all_batched = train_all_dataset.padded_batch(BATCH_SIZE,\n",
        "                                       padded_shapes=((3, None), ()),\n",
        "                                       padding_values=(0, 0))"
      ]
    },
    {
      "cell_type": "code",
      "execution_count": null,
      "metadata": {
        "colab": {
          "base_uri": "https://localhost:8080/"
        },
        "id": "m86pxPwFN9rz",
        "outputId": "6dd24880-019e-4299-9ad9-9737d514d4e9"
      },
      "outputs": [
        {
          "data": {
            "text/plain": [
              "24107"
            ]
          },
          "execution_count": 76,
          "metadata": {},
          "output_type": "execute_result"
        }
      ],
      "source": [
        "len(train_sorted_all)"
      ]
    },
    {
      "cell_type": "code",
      "execution_count": null,
      "metadata": {
        "id": "P1FaNA1uTc4W"
      },
      "outputs": [],
      "source": [
        "NB_BATCHES = math.ceil(len(train_sorted_all) /BATCH_SIZE)\n",
        "NB_BATCHES_TRAIN =NB_BATCHES // 1\n",
        "train_all_batched.shuffle(NB_BATCHES)\n",
        "#test_dataset = train_all_batched.take(NB_BATCHES_TRAIN)\n",
        "train_dataset = train_all_batched.take(NB_BATCHES_TRAIN)"
      ]
    },
    {
      "cell_type": "code",
      "execution_count": null,
      "metadata": {
        "colab": {
          "base_uri": "https://localhost:8080/"
        },
        "id": "X52QXpDLTc7Y",
        "outputId": "d289e212-e8fb-4164-9cbc-5ebe694613eb"
      },
      "outputs": [
        {
          "name": "stdout",
          "output_type": "stream",
          "text": [
            "<class 'tensorflow.python.data.ops.take_op._TakeDataset'>\n"
          ]
        }
      ],
      "source": [
        "print(type(train_dataset))"
      ]
    },
    {
      "cell_type": "code",
      "execution_count": null,
      "metadata": {
        "id": "Ob0wKBJTc4Yc"
      },
      "outputs": [],
      "source": [
        "data_with_len = [[sent, val_data_labels[i], len(sent)]\n",
        "                 for i, sent in enumerate(val_data_inputs)]\n",
        "random.shuffle(data_with_len)\n",
        "data_with_len.sort(key=lambda x: x[2])\n",
        "val_sorted_all = [([get_ids(sent_lab[0]),\n",
        "                get_mask(sent_lab[0]),\n",
        "                get_segments(sent_lab[0])],\n",
        "               sent_lab[1])\n",
        "              for sent_lab in data_with_len if sent_lab[2] > 4]"
      ]
    },
    {
      "cell_type": "code",
      "execution_count": null,
      "metadata": {
        "colab": {
          "base_uri": "https://localhost:8080/"
        },
        "id": "NR307DOWs3L3",
        "outputId": "1193b986-212b-4a0c-e17b-17da3a7e20b8"
      },
      "outputs": [
        {
          "name": "stdout",
          "output_type": "stream",
          "text": [
            "6028\n"
          ]
        }
      ],
      "source": [
        "print(len((val_data_labels)))"
      ]
    },
    {
      "cell_type": "code",
      "execution_count": null,
      "metadata": {
        "id": "1gF8RJzndNbC"
      },
      "outputs": [],
      "source": [
        "val_all_dataset = tf.data.Dataset.from_generator(lambda: val_sorted_all,\n",
        "                                             output_types=(tf.int32, tf.int32))"
      ]
    },
    {
      "cell_type": "code",
      "execution_count": null,
      "metadata": {
        "id": "lVD8hweDdNbC"
      },
      "outputs": [],
      "source": [
        "BATCH_SIZE = 32\n",
        "val_all_batched = val_all_dataset.padded_batch(BATCH_SIZE,\n",
        "                                       padded_shapes=((3, None), ()),\n",
        "                                       padding_values=(0, 0))"
      ]
    },
    {
      "cell_type": "code",
      "execution_count": null,
      "metadata": {
        "colab": {
          "base_uri": "https://localhost:8080/"
        },
        "id": "drXW8yG2dNbD",
        "outputId": "e31f50f2-c535-4194-b4a7-6431f5a19401"
      },
      "outputs": [
        {
          "data": {
            "text/plain": [
              "5977"
            ]
          },
          "execution_count": 83,
          "metadata": {},
          "output_type": "execute_result"
        }
      ],
      "source": [
        "len(val_sorted_all)"
      ]
    },
    {
      "cell_type": "code",
      "execution_count": null,
      "metadata": {
        "id": "IBAZFtfedNbD"
      },
      "outputs": [],
      "source": [
        "NB_BATCHES = math.ceil(len(val_sorted_all) /BATCH_SIZE)\n",
        "NB_BATCHES_TRAIN =NB_BATCHES // 1\n",
        "val_all_batched.shuffle(NB_BATCHES)\n",
        "#test_dataset = train_all_batched.take(NB_BATCHES_TRAIN)\n",
        "val_dataset = val_all_batched.take(NB_BATCHES_TRAIN)"
      ]
    },
    {
      "cell_type": "code",
      "execution_count": null,
      "metadata": {
        "colab": {
          "base_uri": "https://localhost:8080/"
        },
        "id": "MWnOJgz_dNbE",
        "outputId": "e4aa269d-7ad9-4bc5-f450-ed21db642805"
      },
      "outputs": [
        {
          "name": "stdout",
          "output_type": "stream",
          "text": [
            "<class 'tensorflow.python.data.ops.take_op._TakeDataset'>\n"
          ]
        }
      ],
      "source": [
        "print(type(val_dataset))"
      ]
    },
    {
      "cell_type": "code",
      "execution_count": null,
      "metadata": {
        "id": "C7XKLjz-evs8"
      },
      "outputs": [],
      "source": [
        "data_with_len = [[sent, test_data_labels[i], len(sent)]\n",
        "                 for i, sent in enumerate(test_data_inputs)]\n",
        "random.shuffle(data_with_len)\n",
        "data_with_len.sort(key=lambda x: x[2])\n",
        "test_sorted_all = [([get_ids(sent_lab[0]),\n",
        "                get_mask(sent_lab[0]),\n",
        "                get_segments(sent_lab[0])],\n",
        "               sent_lab[1])\n",
        "              for sent_lab in data_with_len if sent_lab[2] > 2]"
      ]
    },
    {
      "cell_type": "code",
      "execution_count": null,
      "metadata": {
        "id": "nWu0YSN0evs8"
      },
      "outputs": [],
      "source": [
        "test_all_dataset = tf.data.Dataset.from_generator(lambda: test_sorted_all,\n",
        "                                             output_types=(tf.int32, tf.int32))"
      ]
    },
    {
      "cell_type": "code",
      "execution_count": null,
      "metadata": {
        "id": "q1laqXoIevs9"
      },
      "outputs": [],
      "source": [
        "BATCH_SIZE = 32\n",
        "test_all_batched = test_all_dataset.padded_batch(BATCH_SIZE,\n",
        "                                       padded_shapes=((3, None), ()),\n",
        "                                       padding_values=(0, 0))"
      ]
    },
    {
      "cell_type": "code",
      "execution_count": null,
      "metadata": {
        "colab": {
          "base_uri": "https://localhost:8080/"
        },
        "id": "s9QqJGvbevs9",
        "outputId": "ceade3cd-e51e-4e1c-83f8-9869eaea1c52"
      },
      "outputs": [
        {
          "data": {
            "text/plain": [
              "7535"
            ]
          },
          "execution_count": 89,
          "metadata": {},
          "output_type": "execute_result"
        }
      ],
      "source": [
        "len(test_sorted_all)"
      ]
    },
    {
      "cell_type": "code",
      "execution_count": null,
      "metadata": {
        "id": "esahVbFNevs9"
      },
      "outputs": [],
      "source": [
        "NB_BATCHES = math.ceil(len(test_sorted_all) /BATCH_SIZE)\n",
        "NB_BATCHES_TRAIN =NB_BATCHES // 1\n",
        "test_all_batched.shuffle(NB_BATCHES)\n",
        "#test_dataset = train_all_batched.take(NB_BATCHES_TRAIN)\n",
        "test_dataset = test_all_batched.take(NB_BATCHES_TRAIN)"
      ]
    },
    {
      "cell_type": "code",
      "execution_count": null,
      "metadata": {
        "colab": {
          "base_uri": "https://localhost:8080/"
        },
        "id": "w3B6eNe8evs9",
        "outputId": "fecb6e76-dbad-4a7c-eba6-d0b36341ac83"
      },
      "outputs": [
        {
          "name": "stdout",
          "output_type": "stream",
          "text": [
            "<class 'tensorflow.python.data.ops.take_op._TakeDataset'>\n"
          ]
        }
      ],
      "source": [
        "print(type(test_dataset))"
      ]
    },
    {
      "cell_type": "code",
      "execution_count": null,
      "metadata": {
        "id": "7P4-08G1TdCs"
      },
      "outputs": [],
      "source": []
    },
    {
      "cell_type": "markdown",
      "metadata": {
        "id": "WUYHJSg4u-S8"
      },
      "source": [
        "##Model building"
      ]
    },
    {
      "cell_type": "code",
      "execution_count": null,
      "metadata": {
        "id": "Rq-r1vcbAooT"
      },
      "outputs": [],
      "source": [
        "#my_sent = ['[CLS]'] + tokenizer.tokenize(\"Rose are red.\") + [\"[SEP]\"]\n",
        "#bert_layer([tf.expand_dims(tf.cast(get_ids(my_sent), tf.int32), 0),\n",
        "#            tf.expand_dims(tf.cast(get_mask(my_sent), tf.int32), 0),\n",
        "#            tf.expand_dims(tf.cast(get_segments(my_sent), tf.int32), 0)])"
      ]
    },
    {
      "cell_type": "code",
      "execution_count": null,
      "metadata": {
        "id": "lfuleNURTZVg"
      },
      "outputs": [],
      "source": [
        "class DCNNBERTEmbedding(tf.keras.Model):\n",
        "    \n",
        "    def __init__(self,\n",
        "              nb_filters=50,\n",
        "              FFN_units=512,\n",
        "              nb_classes=7,\n",
        "              dropout_rate=0.1,\n",
        "              name=\"dcnn\"):\n",
        "        super(DCNNBERTEmbedding, self).__init__(name=name)\n",
        "\n",
        "        self.bert_layer = hub.KerasLayer(\n",
        "            \"https://tfhub.dev/tensorflow/bert_en_uncased_L-12_H-768_A-12/1\",\n",
        "            trainable=False)\n",
        "\n",
        "        \n",
        "        self.bigram = layers.Conv1D(filters=nb_filters,\n",
        "                                    kernel_size=2,\n",
        "                                    padding='valid',\n",
        "                                    activation='relu')\n",
        "        self.trigram = layers.Conv1D(filters=nb_filters,\n",
        "                                     kernel_size=3,\n",
        "                                     padding='valid',\n",
        "                                     activation='relu')\n",
        "        self.fourgram = layers.Conv1D(filters=nb_filters,\n",
        "                                      kernel_size=4,\n",
        "                                      padding='valid',\n",
        "                                      activation='relu')\n",
        "        self.pool = layers.GlobalMaxPooling1D()\n",
        "\n",
        "        self.dense_1 = layers.Dense(units=FFN_units,\n",
        "                                    activation='relu')\n",
        "        self.dropout = layers.Dropout(rate = dropout_rate)\n",
        "        if nb_classes == 2:\n",
        "            self.last_dense = layers.Dense(units=1,\n",
        "                                           activation='sigmoid')\n",
        "        else:\n",
        "            self.last_dense = layers.Dense(units = nb_classes,\n",
        "                                           activation ='softmax')\n",
        "    \n",
        "\n",
        "    def embed_with_bert(self, all_tokens):\n",
        "        _, embs= self.bert_layer([all_tokens[:, 0, :],\n",
        "                                  all_tokens[:, 1, :],\n",
        "                                  all_tokens[:, 2, :]])\n",
        "        return embs\n",
        "\n",
        "    def call(self, inputs, training):\n",
        "        x= self.embed_with_bert(inputs)\n",
        "\n",
        "        x_1= self.bigram(x)\n",
        "        x_1= self.pool(x_1)\n",
        "        x_2= self.trigram(x)\n",
        "        x_2= self.pool(x_2)\n",
        "        x_3= self.fourgram(x)\n",
        "        x_3= self.pool(x_3)\n",
        "\n",
        "\n",
        "        merged = tf.concat([x_1, x_2, x_3], axis=-1)\n",
        "        merged = self.dense_1(merged)\n",
        "        merged = self.dropout(merged, training)\n",
        "        output= self.last_dense(merged)\n",
        "\n",
        "        return output"
      ]
    },
    {
      "cell_type": "code",
      "execution_count": null,
      "metadata": {
        "id": "6M4Ne9LON9xP"
      },
      "outputs": [],
      "source": []
    },
    {
      "cell_type": "markdown",
      "metadata": {
        "id": "RnLoR7vVvBaW"
      },
      "source": [
        "##Model Training"
      ]
    },
    {
      "cell_type": "code",
      "execution_count": null,
      "metadata": {
        "id": "qWujuuDSu5hX"
      },
      "outputs": [],
      "source": [
        "NB_FILTERS= 100\n",
        "FFN_UNITS= 256\n",
        "NB_CLASSES = 7\n",
        "\n",
        "DROPOUT_RATE = 0.2\n",
        "BATCH_SIZE= 32\n",
        "NB_EPOCHS = 5"
      ]
    },
    {
      "cell_type": "code",
      "execution_count": null,
      "metadata": {
        "id": "aLdLQdiKvwcJ"
      },
      "outputs": [],
      "source": [
        "Dcnn = DCNNBERTEmbedding(nb_filters=NB_FILTERS,\n",
        "            FFN_units = FFN_UNITS,\n",
        "            nb_classes = NB_CLASSES,\n",
        "            dropout_rate = DROPOUT_RATE)"
      ]
    },
    {
      "cell_type": "code",
      "execution_count": null,
      "metadata": {
        "id": "YcK0LXlaw6-j"
      },
      "outputs": [],
      "source": [
        "if NB_CLASSES == 2:\n",
        "    Dcnn.compile(loss='binary_crossentropy',\n",
        "                 optimizer='adam',\n",
        "                 metrics=['accuracy'])\n",
        "else:\n",
        "    Dcnn.compile(loss='sparse_categorical_crossentropy',\n",
        "                 optimizer='adam',\n",
        "                 metrics=['sparse_categorical_accuracy'])\n"
      ]
    },
    {
      "cell_type": "code",
      "execution_count": null,
      "metadata": {
        "id": "qE2RtAlz4fen"
      },
      "outputs": [],
      "source": [
        "#Dcnn.summary()"
      ]
    },
    {
      "cell_type": "code",
      "execution_count": null,
      "metadata": {
        "id": "JWcRrdmL5A1O"
      },
      "outputs": [],
      "source": [
        "from keras.models import Sequential\n",
        "from keras.layers import Dense\n",
        "from keras.utils.vis_utils import plot_model"
      ]
    },
    {
      "cell_type": "code",
      "execution_count": null,
      "metadata": {
        "id": "z3rVVoJD6U-i"
      },
      "outputs": [],
      "source": [
        "#plot_model(Dcnn, to_file='model_plot.png', show_shapes=True, show_layer_names=True)"
      ]
    },
    {
      "cell_type": "code",
      "execution_count": null,
      "metadata": {
        "id": "QFMsZeg46VAy"
      },
      "outputs": [],
      "source": []
    },
    {
      "cell_type": "code",
      "execution_count": null,
      "metadata": {
        "id": "vBAklCQu6VEd"
      },
      "outputs": [],
      "source": []
    },
    {
      "cell_type": "markdown",
      "metadata": {
        "id": "j2wnh6g5JRqt"
      },
      "source": [
        "##Result"
      ]
    },
    {
      "cell_type": "code",
      "execution_count": null,
      "metadata": {
        "colab": {
          "base_uri": "https://localhost:8080/"
        },
        "id": "ObUIBGdIJRCH",
        "outputId": "e8d1d613-ce5a-459b-a6e5-7b4822f58aea"
      },
      "outputs": [
        {
          "name": "stdout",
          "output_type": "stream",
          "text": [
            "Epoch 1/5\n",
            "754/754 [==============================] - 57s 43ms/step - loss: 0.3088 - sparse_categorical_accuracy: 0.9050\n",
            "Epoch 2/5\n",
            "754/754 [==============================] - 29s 38ms/step - loss: 0.1681 - sparse_categorical_accuracy: 0.9496\n",
            "Epoch 3/5\n",
            "754/754 [==============================] - 29s 38ms/step - loss: 0.1094 - sparse_categorical_accuracy: 0.9674\n",
            "Epoch 4/5\n",
            "754/754 [==============================] - 29s 38ms/step - loss: 0.0768 - sparse_categorical_accuracy: 0.9762\n",
            "Epoch 5/5\n",
            "754/754 [==============================] - 29s 38ms/step - loss: 0.0621 - sparse_categorical_accuracy: 0.9797\n"
          ]
        },
        {
          "data": {
            "text/plain": [
              "<keras.callbacks.History at 0x7f33d7b635e0>"
            ]
          },
          "execution_count": 101,
          "metadata": {},
          "output_type": "execute_result"
        }
      ],
      "source": [
        "Dcnn.fit(train_dataset,\n",
        "         epochs=NB_EPOCHS)\n",
        "         #callbacks=[MyCustomCallback()])"
      ]
    },
    {
      "cell_type": "markdown",
      "metadata": {
        "id": "SFpB2Pk1N9bO"
      },
      "source": [
        "##Evaluation"
      ]
    },
    {
      "cell_type": "code",
      "execution_count": null,
      "metadata": {
        "colab": {
          "base_uri": "https://localhost:8080/"
        },
        "id": "KvtCBpw983PK",
        "outputId": "95bd91f9-5f82-4c4c-8b81-e45126736520"
      },
      "outputs": [
        {
          "name": "stdout",
          "output_type": "stream",
          "text": [
            "187/187 [==============================] - 8s 37ms/step\n"
          ]
        }
      ],
      "source": [
        "y_val_predict =Dcnn.predict(val_dataset)"
      ]
    },
    {
      "cell_type": "code",
      "execution_count": null,
      "metadata": {
        "colab": {
          "base_uri": "https://localhost:8080/"
        },
        "id": "Fi1R95S5rHrU",
        "outputId": "4425ff19-fc08-41aa-dfc6-7cf6ab8f2972"
      },
      "outputs": [
        {
          "data": {
            "text/plain": [
              "(5977, 7)"
            ]
          },
          "execution_count": 103,
          "metadata": {},
          "output_type": "execute_result"
        }
      ],
      "source": [
        "y_val_predict.shape"
      ]
    },
    {
      "cell_type": "code",
      "execution_count": null,
      "metadata": {
        "colab": {
          "base_uri": "https://localhost:8080/"
        },
        "id": "JZVJT45P2GTQ",
        "outputId": "918a936a-2d29-4518-ecf9-46cee59f8b22"
      },
      "outputs": [
        {
          "data": {
            "text/plain": [
              "numpy.ndarray"
            ]
          },
          "execution_count": 104,
          "metadata": {},
          "output_type": "execute_result"
        }
      ],
      "source": [
        "type(y_val_predict)"
      ]
    },
    {
      "cell_type": "code",
      "execution_count": null,
      "metadata": {
        "colab": {
          "base_uri": "https://localhost:8080/"
        },
        "id": "FfjKDplcruxQ",
        "outputId": "0c69dd7a-3034-4c03-d962-cddc4b21d4b4"
      },
      "outputs": [
        {
          "data": {
            "text/plain": [
              "False"
            ]
          },
          "execution_count": 105,
          "metadata": {},
          "output_type": "execute_result"
        }
      ],
      "source": [
        "np.isnan(np.min(y_val_predict))"
      ]
    },
    {
      "cell_type": "code",
      "execution_count": null,
      "metadata": {
        "colab": {
          "base_uri": "https://localhost:8080/"
        },
        "id": "rDCKkCGVqElp",
        "outputId": "f000ad99-5314-4cb7-b6b3-25745e8e3171"
      },
      "outputs": [
        {
          "name": "stdout",
          "output_type": "stream",
          "text": [
            "[[9.9999857e-01 1.3003024e-11 5.4560414e-13 ... 8.9237299e-14\n",
            "  1.9272639e-12 1.4185531e-06]\n",
            " [9.9895978e-01 3.9461529e-06 1.1195203e-04 ... 1.7327842e-05\n",
            "  2.7277332e-04 6.2768266e-04]\n",
            " [9.7182870e-04 1.0218612e-02 3.2558778e-04 ... 3.7860085e-04\n",
            "  6.9218851e-03 9.7656506e-01]\n",
            " ...\n",
            " [4.3854562e-16 8.9224321e-21 9.9999976e-01 ... 2.3149636e-14\n",
            "  2.1053280e-17 1.8634860e-07]\n",
            " [1.6151455e-08 3.7968045e-11 2.0163391e-09 ... 9.9999416e-01\n",
            "  3.3875749e-10 5.8085079e-06]\n",
            " [1.1814845e-02 1.2291581e-07 8.5416963e-05 ... 2.0592092e-06\n",
            "  9.8691595e-01 1.1814602e-03]]\n"
          ]
        }
      ],
      "source": [
        "print(y_val_predict)"
      ]
    },
    {
      "cell_type": "code",
      "execution_count": null,
      "metadata": {
        "colab": {
          "base_uri": "https://localhost:8080/"
        },
        "id": "vVWo0WhSN89b",
        "outputId": "020c88ca-8e0b-4c06-faf3-9277e82d7bb4"
      },
      "outputs": [
        {
          "name": "stdout",
          "output_type": "stream",
          "text": [
            "187/187 [==============================] - 8s 37ms/step - loss: 0.3137 - sparse_categorical_accuracy: 0.9222\n",
            "[0.3136705160140991, 0.9222017526626587]\n"
          ]
        }
      ],
      "source": [
        "results =Dcnn.evaluate(val_dataset)\n",
        "print(results)"
      ]
    },
    {
      "cell_type": "code",
      "execution_count": null,
      "metadata": {
        "id": "2c72MKB22hD1"
      },
      "outputs": [],
      "source": []
    },
    {
      "cell_type": "code",
      "execution_count": null,
      "metadata": {
        "id": "-BgR7_yyN99O"
      },
      "outputs": [],
      "source": [
        "classes = np.argmax(y_val_predict, axis=-1)"
      ]
    },
    {
      "cell_type": "code",
      "execution_count": null,
      "metadata": {
        "colab": {
          "base_uri": "https://localhost:8080/"
        },
        "id": "bG342jtjN-A0",
        "outputId": "300ad83f-fe75-4999-863a-c0bc05b2c713"
      },
      "outputs": [
        {
          "name": "stdout",
          "output_type": "stream",
          "text": [
            "1/1 [==============================] - 1s 1s/step\n",
            "1/1 [==============================] - 0s 26ms/step\n",
            "1/1 [==============================] - 0s 26ms/step\n",
            "1/1 [==============================] - 1s 1s/step\n",
            "1/1 [==============================] - 0s 27ms/step\n",
            "1/1 [==============================] - 0s 26ms/step\n",
            "1/1 [==============================] - 0s 26ms/step\n",
            "1/1 [==============================] - 0s 27ms/step\n",
            "1/1 [==============================] - 0s 27ms/step\n",
            "1/1 [==============================] - 0s 30ms/step\n",
            "1/1 [==============================] - 0s 26ms/step\n",
            "1/1 [==============================] - 0s 27ms/step\n",
            "1/1 [==============================] - 0s 27ms/step\n",
            "1/1 [==============================] - 0s 26ms/step\n",
            "1/1 [==============================] - 0s 28ms/step\n",
            "1/1 [==============================] - 0s 26ms/step\n",
            "1/1 [==============================] - 0s 30ms/step\n",
            "1/1 [==============================] - 0s 28ms/step\n",
            "1/1 [==============================] - 0s 27ms/step\n",
            "1/1 [==============================] - 0s 32ms/step\n",
            "1/1 [==============================] - 0s 27ms/step\n",
            "1/1 [==============================] - 0s 30ms/step\n",
            "1/1 [==============================] - 0s 27ms/step\n",
            "1/1 [==============================] - 0s 28ms/step\n",
            "1/1 [==============================] - 0s 26ms/step\n",
            "1/1 [==============================] - 0s 28ms/step\n",
            "1/1 [==============================] - 0s 26ms/step\n",
            "1/1 [==============================] - 0s 28ms/step\n",
            "1/1 [==============================] - 0s 28ms/step\n",
            "1/1 [==============================] - 0s 25ms/step\n",
            "1/1 [==============================] - 0s 27ms/step\n",
            "1/1 [==============================] - 0s 26ms/step\n",
            "1/1 [==============================] - 0s 27ms/step\n",
            "1/1 [==============================] - 0s 26ms/step\n",
            "1/1 [==============================] - 0s 26ms/step\n",
            "1/1 [==============================] - 0s 27ms/step\n",
            "1/1 [==============================] - 0s 27ms/step\n",
            "1/1 [==============================] - 0s 25ms/step\n",
            "1/1 [==============================] - 0s 25ms/step\n",
            "1/1 [==============================] - 0s 25ms/step\n",
            "1/1 [==============================] - 0s 26ms/step\n",
            "1/1 [==============================] - 0s 28ms/step\n",
            "1/1 [==============================] - 0s 29ms/step\n",
            "1/1 [==============================] - 0s 31ms/step\n",
            "1/1 [==============================] - 0s 26ms/step\n",
            "1/1 [==============================] - 0s 26ms/step\n",
            "1/1 [==============================] - 0s 26ms/step\n",
            "1/1 [==============================] - 0s 27ms/step\n",
            "1/1 [==============================] - 0s 26ms/step\n",
            "1/1 [==============================] - 0s 26ms/step\n",
            "1/1 [==============================] - 0s 27ms/step\n",
            "1/1 [==============================] - 0s 26ms/step\n",
            "1/1 [==============================] - 0s 27ms/step\n",
            "1/1 [==============================] - 0s 29ms/step\n",
            "1/1 [==============================] - 0s 28ms/step\n",
            "1/1 [==============================] - 0s 39ms/step\n",
            "1/1 [==============================] - 0s 50ms/step\n",
            "1/1 [==============================] - 0s 43ms/step\n",
            "1/1 [==============================] - 0s 43ms/step\n",
            "1/1 [==============================] - 0s 43ms/step\n",
            "1/1 [==============================] - 0s 39ms/step\n",
            "1/1 [==============================] - 0s 60ms/step\n",
            "1/1 [==============================] - 0s 37ms/step\n",
            "1/1 [==============================] - 0s 40ms/step\n",
            "1/1 [==============================] - 0s 36ms/step\n",
            "1/1 [==============================] - 0s 38ms/step\n",
            "1/1 [==============================] - 0s 38ms/step\n",
            "1/1 [==============================] - 0s 42ms/step\n",
            "1/1 [==============================] - 0s 39ms/step\n",
            "1/1 [==============================] - 0s 40ms/step\n",
            "1/1 [==============================] - 0s 47ms/step\n",
            "1/1 [==============================] - 0s 41ms/step\n",
            "1/1 [==============================] - 0s 51ms/step\n",
            "1/1 [==============================] - 0s 28ms/step\n",
            "1/1 [==============================] - 0s 27ms/step\n",
            "1/1 [==============================] - 0s 30ms/step\n",
            "1/1 [==============================] - 0s 27ms/step\n",
            "1/1 [==============================] - 0s 25ms/step\n",
            "1/1 [==============================] - 0s 30ms/step\n",
            "1/1 [==============================] - 0s 39ms/step\n",
            "1/1 [==============================] - 0s 26ms/step\n",
            "1/1 [==============================] - 0s 26ms/step\n",
            "1/1 [==============================] - 0s 40ms/step\n",
            "1/1 [==============================] - 0s 26ms/step\n",
            "1/1 [==============================] - 0s 29ms/step\n",
            "1/1 [==============================] - 0s 26ms/step\n",
            "1/1 [==============================] - 0s 30ms/step\n",
            "1/1 [==============================] - 0s 33ms/step\n",
            "1/1 [==============================] - 0s 26ms/step\n",
            "1/1 [==============================] - 0s 27ms/step\n",
            "1/1 [==============================] - 0s 26ms/step\n",
            "1/1 [==============================] - 0s 27ms/step\n",
            "1/1 [==============================] - 0s 29ms/step\n",
            "1/1 [==============================] - 0s 27ms/step\n",
            "1/1 [==============================] - 0s 25ms/step\n",
            "1/1 [==============================] - 0s 29ms/step\n",
            "1/1 [==============================] - 0s 28ms/step\n",
            "1/1 [==============================] - 0s 26ms/step\n",
            "1/1 [==============================] - 0s 27ms/step\n",
            "1/1 [==============================] - 0s 28ms/step\n",
            "1/1 [==============================] - 0s 30ms/step\n",
            "1/1 [==============================] - 0s 25ms/step\n",
            "1/1 [==============================] - 0s 26ms/step\n",
            "1/1 [==============================] - 0s 25ms/step\n",
            "1/1 [==============================] - 0s 26ms/step\n",
            "1/1 [==============================] - 0s 28ms/step\n",
            "1/1 [==============================] - 0s 29ms/step\n",
            "1/1 [==============================] - 0s 26ms/step\n",
            "1/1 [==============================] - 0s 27ms/step\n",
            "1/1 [==============================] - 0s 28ms/step\n",
            "1/1 [==============================] - 0s 25ms/step\n",
            "1/1 [==============================] - 0s 26ms/step\n",
            "1/1 [==============================] - 0s 27ms/step\n",
            "1/1 [==============================] - 0s 27ms/step\n",
            "1/1 [==============================] - 0s 25ms/step\n",
            "1/1 [==============================] - 0s 29ms/step\n",
            "1/1 [==============================] - 0s 36ms/step\n",
            "1/1 [==============================] - 0s 28ms/step\n",
            "1/1 [==============================] - 0s 26ms/step\n",
            "1/1 [==============================] - 0s 26ms/step\n",
            "1/1 [==============================] - 0s 25ms/step\n",
            "1/1 [==============================] - 0s 27ms/step\n",
            "1/1 [==============================] - 0s 25ms/step\n",
            "1/1 [==============================] - 0s 29ms/step\n",
            "1/1 [==============================] - 0s 27ms/step\n",
            "1/1 [==============================] - 0s 31ms/step\n",
            "1/1 [==============================] - 0s 29ms/step\n",
            "1/1 [==============================] - 0s 27ms/step\n",
            "1/1 [==============================] - 0s 27ms/step\n",
            "1/1 [==============================] - 0s 28ms/step\n",
            "1/1 [==============================] - 0s 28ms/step\n",
            "1/1 [==============================] - 0s 26ms/step\n",
            "1/1 [==============================] - 0s 27ms/step\n",
            "1/1 [==============================] - 0s 27ms/step\n",
            "1/1 [==============================] - 0s 28ms/step\n",
            "1/1 [==============================] - 0s 28ms/step\n",
            "1/1 [==============================] - 0s 26ms/step\n",
            "1/1 [==============================] - 0s 26ms/step\n",
            "1/1 [==============================] - 0s 27ms/step\n",
            "1/1 [==============================] - 0s 26ms/step\n",
            "1/1 [==============================] - 0s 28ms/step\n",
            "1/1 [==============================] - 0s 26ms/step\n",
            "1/1 [==============================] - 0s 28ms/step\n",
            "1/1 [==============================] - 0s 29ms/step\n",
            "1/1 [==============================] - 0s 26ms/step\n",
            "1/1 [==============================] - 0s 33ms/step\n",
            "1/1 [==============================] - 0s 26ms/step\n",
            "1/1 [==============================] - 0s 28ms/step\n",
            "1/1 [==============================] - 0s 27ms/step\n",
            "1/1 [==============================] - 0s 26ms/step\n",
            "1/1 [==============================] - 0s 25ms/step\n",
            "1/1 [==============================] - 0s 28ms/step\n",
            "1/1 [==============================] - 0s 26ms/step\n",
            "1/1 [==============================] - 0s 26ms/step\n",
            "1/1 [==============================] - 0s 32ms/step\n",
            "1/1 [==============================] - 0s 31ms/step\n",
            "1/1 [==============================] - 0s 40ms/step\n",
            "1/1 [==============================] - 0s 29ms/step\n",
            "1/1 [==============================] - 0s 29ms/step\n",
            "1/1 [==============================] - 0s 28ms/step\n",
            "1/1 [==============================] - 0s 29ms/step\n",
            "1/1 [==============================] - 0s 29ms/step\n",
            "1/1 [==============================] - 0s 27ms/step\n",
            "1/1 [==============================] - 0s 27ms/step\n",
            "1/1 [==============================] - 0s 27ms/step\n",
            "1/1 [==============================] - 0s 27ms/step\n",
            "1/1 [==============================] - 0s 27ms/step\n",
            "1/1 [==============================] - 0s 28ms/step\n",
            "1/1 [==============================] - 0s 26ms/step\n",
            "1/1 [==============================] - 0s 26ms/step\n",
            "1/1 [==============================] - 0s 25ms/step\n",
            "1/1 [==============================] - 0s 25ms/step\n",
            "1/1 [==============================] - 0s 27ms/step\n",
            "1/1 [==============================] - 0s 26ms/step\n",
            "1/1 [==============================] - 0s 26ms/step\n",
            "1/1 [==============================] - 0s 31ms/step\n",
            "1/1 [==============================] - 0s 27ms/step\n",
            "1/1 [==============================] - 0s 25ms/step\n",
            "1/1 [==============================] - 0s 43ms/step\n",
            "1/1 [==============================] - 0s 47ms/step\n",
            "1/1 [==============================] - 0s 39ms/step\n",
            "1/1 [==============================] - 0s 37ms/step\n",
            "1/1 [==============================] - 0s 41ms/step\n",
            "1/1 [==============================] - 0s 43ms/step\n",
            "1/1 [==============================] - 0s 46ms/step\n",
            "1/1 [==============================] - 0s 40ms/step\n",
            "1/1 [==============================] - 2s 2s/step\n"
          ]
        }
      ],
      "source": [
        "tweet = []\n",
        "val_labels = []\n",
        "predictions = []\n",
        "for tweet, labels in val_dataset.take(-1):\n",
        "  tweet = tweet.numpy()\n",
        "  val_labels.append(labels.numpy())\n",
        "  predictions.append(Dcnn.predict(tweet))"
      ]
    },
    {
      "cell_type": "code",
      "execution_count": null,
      "metadata": {
        "colab": {
          "base_uri": "https://localhost:8080/"
        },
        "id": "WKf3JeMDDSsb",
        "outputId": "9c3577d9-1b28-45c6-9f52-cf6189b9b9b2"
      },
      "outputs": [
        {
          "data": {
            "text/plain": [
              "[array([0, 0, 6, 6, 5, 6, 1, 5, 0, 2, 5, 5, 0, 0, 6, 6, 6, 6, 5, 6, 5, 6,\n",
              "        6, 6, 0, 6, 0, 5, 5, 5, 6, 0], dtype=int32)]"
            ]
          },
          "execution_count": 110,
          "metadata": {},
          "output_type": "execute_result"
        }
      ],
      "source": [
        "val_labels[0:1]"
      ]
    },
    {
      "cell_type": "code",
      "execution_count": null,
      "metadata": {
        "colab": {
          "base_uri": "https://localhost:8080/"
        },
        "id": "bE2geGhH1DEt",
        "outputId": "a25f1c09-4d20-45d1-ae85-18d915fefb9f"
      },
      "outputs": [
        {
          "data": {
            "text/plain": [
              "[array([[9.99998569e-01, 1.30030240e-11, 5.45604143e-13, 3.86960673e-13,\n",
              "         8.92372995e-14, 1.92726390e-12, 1.41855310e-06],\n",
              "        [9.98959780e-01, 3.94615290e-06, 1.11952031e-04, 6.58175668e-06,\n",
              "         1.73278422e-05, 2.72773323e-04, 6.27682661e-04],\n",
              "        [9.71828704e-04, 1.02186119e-02, 3.25587782e-04, 4.61841607e-03,\n",
              "         3.78600846e-04, 6.92188507e-03, 9.76565063e-01],\n",
              "        [1.64210480e-02, 5.68420859e-03, 2.08997121e-03, 2.86457827e-04,\n",
              "         3.28733382e-04, 3.56119424e-02, 9.39577579e-01],\n",
              "        [6.34892217e-07, 1.63154841e-08, 5.80926276e-08, 1.24679252e-06,\n",
              "         2.94079939e-07, 9.99974370e-01, 2.35259467e-05],\n",
              "        [8.75852585e-01, 3.28735658e-03, 3.67474044e-03, 2.27278113e-04,\n",
              "         3.35607561e-03, 1.57476973e-03, 1.12027206e-01],\n",
              "        [5.07565604e-12, 9.99995947e-01, 9.86356111e-14, 3.98165776e-06,\n",
              "         1.52008885e-13, 4.65897344e-15, 1.77775561e-07],\n",
              "        [8.50084001e-13, 2.86538329e-16, 1.05224805e-11, 2.24309520e-14,\n",
              "         2.65520943e-14, 9.99998689e-01, 1.32944160e-06],\n",
              "        [1.03347100e-01, 5.07853320e-03, 4.39408794e-03, 3.88247217e-03,\n",
              "         1.21037010e-02, 2.56903470e-02, 8.45503747e-01],\n",
              "        [6.27919235e-07, 8.39246561e-10, 9.99859810e-01, 2.85586638e-10,\n",
              "         1.65870233e-08, 4.43487025e-09, 1.39519660e-04],\n",
              "        [1.54070749e-05, 3.99456866e-07, 4.11284766e-08, 7.58606939e-06,\n",
              "         2.06517871e-06, 9.99950409e-01, 2.40789304e-05],\n",
              "        [2.55587976e-02, 4.65017650e-03, 7.58285820e-03, 9.36145484e-02,\n",
              "         1.57673154e-02, 8.37522864e-01, 1.53034478e-02],\n",
              "        [9.99969840e-01, 7.11489312e-09, 1.31160604e-07, 5.74546188e-10,\n",
              "         1.10651865e-09, 1.22318502e-08, 3.00665124e-05],\n",
              "        [7.93347776e-01, 2.32943590e-03, 2.01812480e-02, 8.41945759e-04,\n",
              "         7.57608889e-03, 1.51515910e-02, 1.60571858e-01],\n",
              "        [9.53000113e-02, 1.87186506e-02, 1.59355048e-02, 1.02010230e-03,\n",
              "         7.66524347e-03, 8.57566390e-03, 8.52784812e-01],\n",
              "        [7.49172468e-04, 1.14069413e-02, 4.29987587e-04, 5.57663143e-01,\n",
              "         7.43680634e-04, 1.47062605e-02, 4.14300829e-01],\n",
              "        [4.41620778e-03, 3.82620492e-04, 2.03761272e-04, 2.55347812e-04,\n",
              "         1.16414551e-04, 2.08688658e-02, 9.73756790e-01],\n",
              "        [2.74260365e-03, 5.72992628e-03, 2.83087511e-03, 7.62635469e-01,\n",
              "         8.80973134e-03, 4.12718095e-02, 1.75979599e-01],\n",
              "        [4.06263412e-10, 1.24948914e-11, 2.72676909e-10, 1.74959591e-09,\n",
              "         1.43207460e-10, 9.99998331e-01, 1.67024132e-06],\n",
              "        [9.99998093e-01, 9.50927809e-11, 6.24951896e-11, 4.91142578e-11,\n",
              "         1.16028096e-12, 1.45948742e-09, 1.92620701e-06],\n",
              "        [1.35725458e-07, 1.91560789e-09, 1.59291813e-09, 1.94966020e-07,\n",
              "         1.55679700e-08, 9.99996066e-01, 3.56558667e-06],\n",
              "        [7.14424908e-01, 7.37104798e-04, 1.03401495e-02, 3.46004163e-05,\n",
              "         1.75154919e-03, 3.27902078e-03, 2.69432664e-01],\n",
              "        [1.50990710e-01, 1.07542274e-03, 2.92606186e-04, 5.17469125e-05,\n",
              "         4.76959540e-05, 3.04777757e-04, 8.47236991e-01],\n",
              "        [2.92966701e-02, 1.77458804e-02, 4.10206558e-04, 3.32209026e-03,\n",
              "         4.47051250e-04, 1.33747403e-02, 9.35403407e-01],\n",
              "        [9.16071713e-01, 5.78395324e-03, 1.97287998e-03, 1.85066287e-03,\n",
              "         5.77299250e-03, 1.24619072e-02, 5.60858585e-02],\n",
              "        [8.36604217e-04, 4.12048321e-05, 3.23940127e-04, 8.40043213e-05,\n",
              "         1.13787273e-05, 4.58190264e-03, 9.94121015e-01],\n",
              "        [9.99997377e-01, 1.44515476e-12, 1.78859460e-14, 4.26349331e-13,\n",
              "         1.70188855e-13, 1.82367879e-12, 2.61301443e-06],\n",
              "        [1.55565795e-04, 7.97909365e-07, 2.17652541e-05, 1.94782715e-05,\n",
              "         8.22702077e-06, 9.99454081e-01, 3.40010942e-04],\n",
              "        [6.81684120e-04, 1.13079102e-06, 7.90347804e-06, 3.06541153e-07,\n",
              "         4.53540281e-07, 9.96209145e-01, 3.09930742e-03],\n",
              "        [8.24120361e-03, 1.29202055e-03, 8.04050174e-03, 5.54476492e-03,\n",
              "         2.25444906e-03, 9.11768973e-01, 6.28579929e-02],\n",
              "        [4.81679857e-01, 1.96196442e-03, 6.91190269e-03, 3.69687972e-04,\n",
              "         1.12897868e-03, 4.46592038e-03, 5.03481686e-01],\n",
              "        [5.94895899e-01, 9.11355310e-04, 3.71415854e-01, 5.80590277e-04,\n",
              "         9.07550473e-03, 7.37179886e-04, 2.23836210e-02]], dtype=float32),\n",
              " array([[9.9996471e-01, 1.4507997e-08, 3.4996734e-07, 3.8898773e-09,\n",
              "         1.9240808e-08, 2.8200789e-08, 3.4886103e-05],\n",
              "        [9.9983907e-01, 1.7325941e-06, 5.5398768e-08, 1.5714666e-06,\n",
              "         5.4258521e-07, 6.6186869e-05, 9.0736474e-05],\n",
              "        [2.3837714e-01, 1.6549008e-02, 1.5933624e-02, 6.7525515e-03,\n",
              "         5.6576580e-03, 9.0984084e-02, 6.2574601e-01],\n",
              "        [2.7824628e-11, 6.0394737e-15, 1.6475478e-12, 1.4463688e-12,\n",
              "         2.0646423e-14, 9.9999988e-01, 1.5583336e-07],\n",
              "        [2.5832969e-10, 2.7155630e-13, 8.1014778e-11, 4.7793271e-12,\n",
              "         1.3305067e-12, 9.9999964e-01, 3.2216300e-07],\n",
              "        [1.7133586e-10, 9.1790605e-07, 1.1990717e-12, 9.9999893e-01,\n",
              "         6.6832345e-11, 1.8726680e-11, 8.9584482e-08],\n",
              "        [5.6597745e-01, 6.2355562e-04, 2.0222744e-02, 2.9462393e-04,\n",
              "         3.2446783e-03, 7.8806818e-02, 3.3083007e-01],\n",
              "        [9.9996161e-01, 1.2387080e-08, 5.4249341e-07, 6.1958794e-08,\n",
              "         1.2481091e-08, 5.1286526e-07, 3.7312988e-05],\n",
              "        [2.5064408e-04, 5.6565987e-06, 5.5429914e-06, 2.6270777e-06,\n",
              "         9.7720329e-07, 3.8902117e-06, 9.9973065e-01],\n",
              "        [9.9999845e-01, 9.2874937e-11, 9.5382188e-11, 1.6781317e-12,\n",
              "         2.3253724e-11, 3.8008103e-09, 1.5181073e-06],\n",
              "        [3.2114916e-02, 7.2011136e-04, 1.7486714e-03, 1.0917295e-02,\n",
              "         4.1938904e-03, 8.0227512e-01, 1.4803003e-01],\n",
              "        [5.9796326e-02, 6.2146317e-02, 3.4378707e-02, 9.7123422e-03,\n",
              "         4.3458790e-02, 1.5627271e-02, 7.7488023e-01],\n",
              "        [2.9565785e-05, 9.6821286e-06, 9.6221953e-08, 2.1954037e-07,\n",
              "         7.4867241e-02, 7.0202685e-07, 9.2509246e-01],\n",
              "        [4.1640133e-01, 1.7387773e-03, 3.2282537e-03, 6.0226906e-05,\n",
              "         2.9406507e-04, 1.9240206e-03, 5.7635337e-01],\n",
              "        [9.9996161e-01, 1.2387080e-08, 5.4249341e-07, 6.1958794e-08,\n",
              "         1.2481091e-08, 5.1286526e-07, 3.7312988e-05],\n",
              "        [8.5034193e-03, 2.1190618e-03, 1.1920077e-02, 2.1620316e-02,\n",
              "         2.7369268e-03, 1.0208893e-01, 8.5101128e-01],\n",
              "        [9.9999952e-01, 2.0367760e-11, 2.2132792e-11, 9.7950034e-13,\n",
              "         1.3059474e-12, 2.6812830e-11, 4.5408780e-07],\n",
              "        [5.0694298e-02, 5.2403845e-03, 2.4258988e-02, 1.7215060e-02,\n",
              "         2.6305504e-02, 6.6678590e-01, 2.0949982e-01],\n",
              "        [8.2252705e-03, 1.4138120e-03, 9.6967332e-03, 7.5413845e-03,\n",
              "         2.4236506e-03, 8.8856775e-01, 8.2131386e-02],\n",
              "        [4.7669199e-01, 7.2394108e-04, 1.0173013e-02, 1.9961796e-03,\n",
              "         6.4983458e-04, 2.0665701e-02, 4.8909926e-01],\n",
              "        [2.5128003e-02, 7.1068001e-01, 3.7537881e-03, 2.5769651e-03,\n",
              "         8.1408015e-03, 5.1880930e-02, 1.9783947e-01],\n",
              "        [9.2396736e-01, 7.3070776e-05, 1.0932148e-04, 5.0498977e-07,\n",
              "         9.4171519e-06, 1.2637569e-04, 7.5714067e-02],\n",
              "        [1.8825289e-02, 3.0724749e-03, 9.3545783e-03, 2.4594371e-03,\n",
              "         2.3649262e-02, 6.4494000e-03, 9.3618959e-01],\n",
              "        [3.0744113e-02, 1.2417083e-02, 3.0717077e-02, 4.4779922e-03,\n",
              "         3.9017554e-03, 8.5351085e-03, 9.0920687e-01],\n",
              "        [8.3386183e-02, 5.7997042e-03, 1.0641389e-01, 9.7854948e-03,\n",
              "         5.1193293e-03, 2.5750872e-02, 7.6374453e-01],\n",
              "        [9.9995065e-01, 1.3485241e-07, 6.1879195e-09, 2.7115759e-08,\n",
              "         1.5587451e-06, 7.9233323e-06, 3.9775434e-05],\n",
              "        [2.4842390e-01, 2.9425508e-05, 3.0206323e-03, 1.4749808e-05,\n",
              "         1.7912951e-05, 1.5599084e-04, 7.4833739e-01],\n",
              "        [7.6721106e-03, 7.5417823e-01, 2.2308994e-02, 9.3447249e-03,\n",
              "         2.3999822e-03, 1.5800038e-03, 2.0251600e-01],\n",
              "        [5.0756560e-12, 9.9999595e-01, 9.8635611e-14, 3.9816578e-06,\n",
              "         1.5200889e-13, 4.6589734e-15, 1.7777556e-07],\n",
              "        [1.2218451e-02, 9.6824736e-04, 6.8559819e-03, 7.1585627e-04,\n",
              "         2.4312084e-04, 5.9240765e-04, 9.7840595e-01],\n",
              "        [7.8252353e-02, 6.3280396e-02, 2.7289690e-02, 1.6663939e-02,\n",
              "         1.5539039e-02, 3.8516220e-02, 7.6045835e-01],\n",
              "        [2.6586871e-03, 3.3331653e-05, 3.9866794e-04, 9.9119672e-04,\n",
              "         2.8567351e-04, 9.9058682e-01, 5.0455690e-03]], dtype=float32)]"
            ]
          },
          "execution_count": 111,
          "metadata": {},
          "output_type": "execute_result"
        }
      ],
      "source": [
        "predictions[0:2]"
      ]
    },
    {
      "cell_type": "code",
      "execution_count": null,
      "metadata": {
        "id": "lTR97xZu1Ot6"
      },
      "outputs": [],
      "source": [
        "from itertools import chain\n",
        "flatten_list = list(chain.from_iterable(predictions))\n",
        "y_pred = np.argmax(flatten_list, axis=-1)"
      ]
    },
    {
      "cell_type": "code",
      "execution_count": null,
      "metadata": {
        "colab": {
          "base_uri": "https://localhost:8080/"
        },
        "id": "u5pPgC1c1SSr",
        "outputId": "5e1d283d-c9f1-45fa-dcdc-216803930dc8"
      },
      "outputs": [
        {
          "data": {
            "text/plain": [
              "numpy.ndarray"
            ]
          },
          "execution_count": 113,
          "metadata": {},
          "output_type": "execute_result"
        }
      ],
      "source": [
        "type(y_pred)"
      ]
    },
    {
      "cell_type": "code",
      "execution_count": null,
      "metadata": {
        "id": "UndkG9mq1UmT"
      },
      "outputs": [],
      "source": [
        "from itertools import chain\n",
        "val_label = np.array(list(chain.from_iterable(val_labels)))"
      ]
    },
    {
      "cell_type": "code",
      "execution_count": null,
      "metadata": {
        "colab": {
          "base_uri": "https://localhost:8080/"
        },
        "id": "K1xWoEUa1iHA",
        "outputId": "27a7d099-7ed9-45e7-8611-5abf7f4f4815"
      },
      "outputs": [
        {
          "data": {
            "text/plain": [
              "numpy.ndarray"
            ]
          },
          "execution_count": 115,
          "metadata": {},
          "output_type": "execute_result"
        }
      ],
      "source": [
        "type(val_label)"
      ]
    },
    {
      "cell_type": "code",
      "execution_count": null,
      "metadata": {
        "colab": {
          "base_uri": "https://localhost:8080/"
        },
        "id": "Jz8IELR413xZ",
        "outputId": "7ee73cb6-0546-414f-b4cc-2c4e5044c2c0"
      },
      "outputs": [
        {
          "name": "stdout",
          "output_type": "stream",
          "text": [
            "              precision    recall  f1-score   support\n",
            "\n",
            "     class 0       0.81      0.98      0.88       975\n",
            "     class 1       0.94      0.94      0.94       902\n",
            "     class 2       0.97      0.96      0.97       866\n",
            "     class 3       0.95      0.96      0.96       840\n",
            "     class 4       0.98      0.96      0.97       830\n",
            "     class 5       0.94      0.96      0.95       769\n",
            "     class 6       0.91      0.68      0.78       795\n",
            "\n",
            "    accuracy                           0.92      5977\n",
            "   macro avg       0.93      0.92      0.92      5977\n",
            "weighted avg       0.93      0.92      0.92      5977\n",
            "\n"
          ]
        }
      ],
      "source": [
        "from sklearn.metrics import classification_report\n",
        "target_names = ['class 0', 'class 1', 'class 2', 'class 3', 'class 4', 'class 5', 'class 6']\n",
        "print(classification_report(val_label, y_pred, target_names=target_names))"
      ]
    },
    {
      "cell_type": "code",
      "execution_count": null,
      "metadata": {
        "id": "qmmKdcps2E9A"
      },
      "outputs": [],
      "source": []
    },
    {
      "cell_type": "code",
      "execution_count": null,
      "metadata": {
        "id": "yaxcdFqd2nSy"
      },
      "outputs": [],
      "source": []
    },
    {
      "cell_type": "code",
      "execution_count": null,
      "metadata": {
        "colab": {
          "base_uri": "https://localhost:8080/"
        },
        "id": "-jNEcW-5fSAx",
        "outputId": "5b4ff6d9-665e-434f-d57e-4c906e797e4c"
      },
      "outputs": [
        {
          "name": "stdout",
          "output_type": "stream",
          "text": [
            "236/236 [==============================] - 8s 35ms/step\n"
          ]
        }
      ],
      "source": [
        "y_test_predict =Dcnn.predict(test_dataset)"
      ]
    },
    {
      "cell_type": "code",
      "execution_count": null,
      "metadata": {
        "colab": {
          "base_uri": "https://localhost:8080/"
        },
        "id": "2KG62X3sfSAx",
        "outputId": "13e09457-7896-4cbd-b583-18179c8d9faf"
      },
      "outputs": [
        {
          "data": {
            "text/plain": [
              "7535"
            ]
          },
          "execution_count": 118,
          "metadata": {},
          "output_type": "execute_result"
        }
      ],
      "source": [
        "len(y_test_predict)"
      ]
    },
    {
      "cell_type": "code",
      "execution_count": null,
      "metadata": {
        "colab": {
          "base_uri": "https://localhost:8080/"
        },
        "id": "6-GPNMpl2_eU",
        "outputId": "4bcc2093-dedc-48d4-edfc-1d5d56a7db3b"
      },
      "outputs": [
        {
          "data": {
            "text/plain": [
              "(7535, 7)"
            ]
          },
          "execution_count": 119,
          "metadata": {},
          "output_type": "execute_result"
        }
      ],
      "source": [
        "y_test_predict.shape"
      ]
    },
    {
      "cell_type": "code",
      "execution_count": null,
      "metadata": {
        "colab": {
          "base_uri": "https://localhost:8080/"
        },
        "id": "nQxNTT3I2_eV",
        "outputId": "021b223e-d522-455d-8e55-f27bc274fde8"
      },
      "outputs": [
        {
          "data": {
            "text/plain": [
              "numpy.ndarray"
            ]
          },
          "execution_count": 120,
          "metadata": {},
          "output_type": "execute_result"
        }
      ],
      "source": [
        "type(y_test_predict)"
      ]
    },
    {
      "cell_type": "code",
      "execution_count": null,
      "metadata": {
        "colab": {
          "base_uri": "https://localhost:8080/"
        },
        "id": "hwHHtWcS2_eV",
        "outputId": "2ff5492f-125f-472b-d8f7-535e69104a32"
      },
      "outputs": [
        {
          "data": {
            "text/plain": [
              "False"
            ]
          },
          "execution_count": 121,
          "metadata": {},
          "output_type": "execute_result"
        }
      ],
      "source": [
        "np.isnan(np.min(y_test_predict))"
      ]
    },
    {
      "cell_type": "code",
      "execution_count": null,
      "metadata": {
        "colab": {
          "base_uri": "https://localhost:8080/"
        },
        "id": "zY8qrp0l2_eV",
        "outputId": "db6c9852-23c7-4719-aa2b-cf6ce3ac73aa"
      },
      "outputs": [
        {
          "name": "stdout",
          "output_type": "stream",
          "text": [
            "[[3.8085207e-03 4.0196560e-06 7.7223522e-06 ... 2.8869092e-06\n",
            "  2.3548284e-05 9.9615294e-01]\n",
            " [2.7513510e-02 5.0208041e-06 1.1811550e-05 ... 1.5017082e-05\n",
            "  4.7402362e-05 9.7240430e-01]\n",
            " [1.3148251e-01 3.5857133e-04 2.0824185e-04 ... 1.8045306e-04\n",
            "  5.4368046e-03 8.6215514e-01]\n",
            " ...\n",
            " [4.7048606e-04 1.3392930e-08 9.9907851e-01 ... 3.8239900e-06\n",
            "  8.7073215e-07 4.4632811e-04]\n",
            " [5.6520072e-08 1.0485950e-13 7.3204886e-13 ... 9.9999917e-01\n",
            "  1.8207909e-11 8.2604117e-07]\n",
            " [6.4939159e-06 1.7118108e-08 1.0916562e-08 ... 9.9994671e-01\n",
            "  2.0013173e-08 4.6785011e-05]]\n"
          ]
        }
      ],
      "source": [
        "print(y_test_predict)"
      ]
    },
    {
      "cell_type": "code",
      "execution_count": null,
      "metadata": {
        "colab": {
          "base_uri": "https://localhost:8080/"
        },
        "id": "4zkR613tfSAy",
        "outputId": "925d8797-3a83-4ba6-9f41-f6c8174fa864"
      },
      "outputs": [
        {
          "name": "stdout",
          "output_type": "stream",
          "text": [
            "236/236 [==============================] - 9s 38ms/step - loss: 0.2924 - sparse_categorical_accuracy: 0.9249\n",
            "[0.292390912771225, 0.9248839020729065]\n"
          ]
        }
      ],
      "source": [
        "results =Dcnn.evaluate(test_dataset)\n",
        "print(results)"
      ]
    },
    {
      "cell_type": "code",
      "execution_count": null,
      "metadata": {
        "id": "LWby5qgt2wLW"
      },
      "outputs": [],
      "source": [
        "test_classes = np.argmax(y_test_predict, axis=-1)"
      ]
    },
    {
      "cell_type": "code",
      "execution_count": null,
      "metadata": {
        "colab": {
          "base_uri": "https://localhost:8080/"
        },
        "id": "N4mncvt_2wLX",
        "outputId": "8fb7025f-a927-4332-d5f7-12fb5c7ee50c"
      },
      "outputs": [
        {
          "name": "stdout",
          "output_type": "stream",
          "text": [
            "1/1 [==============================] - 0s 26ms/step\n",
            "1/1 [==============================] - 0s 25ms/step\n",
            "1/1 [==============================] - 0s 25ms/step\n",
            "1/1 [==============================] - 0s 24ms/step\n",
            "1/1 [==============================] - 0s 24ms/step\n",
            "1/1 [==============================] - 0s 25ms/step\n",
            "1/1 [==============================] - 0s 25ms/step\n",
            "1/1 [==============================] - 0s 25ms/step\n",
            "1/1 [==============================] - 0s 30ms/step\n",
            "1/1 [==============================] - 0s 31ms/step\n",
            "1/1 [==============================] - 0s 25ms/step\n",
            "1/1 [==============================] - 0s 27ms/step\n",
            "1/1 [==============================] - 0s 25ms/step\n",
            "1/1 [==============================] - 0s 25ms/step\n",
            "1/1 [==============================] - 0s 26ms/step\n",
            "1/1 [==============================] - 0s 24ms/step\n",
            "1/1 [==============================] - 0s 24ms/step\n",
            "1/1 [==============================] - 0s 32ms/step\n",
            "1/1 [==============================] - 0s 26ms/step\n",
            "1/1 [==============================] - 0s 25ms/step\n",
            "1/1 [==============================] - 0s 25ms/step\n",
            "1/1 [==============================] - 0s 24ms/step\n",
            "1/1 [==============================] - 0s 24ms/step\n",
            "1/1 [==============================] - 0s 26ms/step\n",
            "1/1 [==============================] - 0s 25ms/step\n",
            "1/1 [==============================] - 0s 33ms/step\n",
            "1/1 [==============================] - 0s 24ms/step\n",
            "1/1 [==============================] - 0s 25ms/step\n",
            "1/1 [==============================] - 0s 24ms/step\n",
            "1/1 [==============================] - 0s 25ms/step\n",
            "1/1 [==============================] - 0s 24ms/step\n",
            "1/1 [==============================] - 0s 25ms/step\n",
            "1/1 [==============================] - 0s 26ms/step\n",
            "1/1 [==============================] - 0s 25ms/step\n",
            "1/1 [==============================] - 0s 25ms/step\n",
            "1/1 [==============================] - 0s 25ms/step\n",
            "1/1 [==============================] - 0s 25ms/step\n",
            "1/1 [==============================] - 0s 27ms/step\n",
            "1/1 [==============================] - 0s 26ms/step\n",
            "1/1 [==============================] - 0s 25ms/step\n",
            "1/1 [==============================] - 0s 24ms/step\n",
            "1/1 [==============================] - 0s 24ms/step\n",
            "1/1 [==============================] - 0s 26ms/step\n",
            "1/1 [==============================] - 0s 26ms/step\n",
            "1/1 [==============================] - 0s 25ms/step\n",
            "1/1 [==============================] - 0s 26ms/step\n",
            "1/1 [==============================] - 0s 23ms/step\n",
            "1/1 [==============================] - 0s 24ms/step\n",
            "1/1 [==============================] - 0s 25ms/step\n",
            "1/1 [==============================] - 0s 25ms/step\n",
            "1/1 [==============================] - 0s 30ms/step\n",
            "1/1 [==============================] - 0s 25ms/step\n",
            "1/1 [==============================] - 0s 26ms/step\n",
            "1/1 [==============================] - 0s 25ms/step\n",
            "1/1 [==============================] - 0s 26ms/step\n",
            "1/1 [==============================] - 0s 38ms/step\n",
            "1/1 [==============================] - 0s 43ms/step\n",
            "1/1 [==============================] - 0s 36ms/step\n",
            "1/1 [==============================] - 0s 36ms/step\n",
            "1/1 [==============================] - 0s 39ms/step\n",
            "1/1 [==============================] - 0s 50ms/step\n",
            "1/1 [==============================] - 0s 36ms/step\n",
            "1/1 [==============================] - 0s 37ms/step\n",
            "1/1 [==============================] - 0s 35ms/step\n",
            "1/1 [==============================] - 0s 33ms/step\n",
            "1/1 [==============================] - 0s 36ms/step\n",
            "1/1 [==============================] - 0s 36ms/step\n",
            "1/1 [==============================] - 0s 37ms/step\n",
            "1/1 [==============================] - 0s 35ms/step\n",
            "1/1 [==============================] - 0s 38ms/step\n",
            "1/1 [==============================] - 0s 40ms/step\n",
            "1/1 [==============================] - 0s 37ms/step\n",
            "1/1 [==============================] - 0s 40ms/step\n",
            "1/1 [==============================] - 0s 37ms/step\n",
            "1/1 [==============================] - 0s 24ms/step\n",
            "1/1 [==============================] - 0s 24ms/step\n",
            "1/1 [==============================] - 0s 25ms/step\n",
            "1/1 [==============================] - 0s 24ms/step\n",
            "1/1 [==============================] - 0s 24ms/step\n",
            "1/1 [==============================] - 0s 25ms/step\n",
            "1/1 [==============================] - 0s 24ms/step\n",
            "1/1 [==============================] - 0s 26ms/step\n",
            "1/1 [==============================] - 0s 24ms/step\n",
            "1/1 [==============================] - 0s 24ms/step\n",
            "1/1 [==============================] - 0s 25ms/step\n",
            "1/1 [==============================] - 0s 25ms/step\n",
            "1/1 [==============================] - 0s 23ms/step\n",
            "1/1 [==============================] - 0s 24ms/step\n",
            "1/1 [==============================] - 0s 26ms/step\n",
            "1/1 [==============================] - 0s 28ms/step\n",
            "1/1 [==============================] - 0s 27ms/step\n",
            "1/1 [==============================] - 0s 30ms/step\n",
            "1/1 [==============================] - 0s 29ms/step\n",
            "1/1 [==============================] - 0s 26ms/step\n",
            "1/1 [==============================] - 0s 27ms/step\n",
            "1/1 [==============================] - 0s 33ms/step\n",
            "1/1 [==============================] - 0s 25ms/step\n",
            "1/1 [==============================] - 0s 24ms/step\n",
            "1/1 [==============================] - 0s 25ms/step\n",
            "1/1 [==============================] - 0s 25ms/step\n",
            "1/1 [==============================] - 0s 26ms/step\n",
            "1/1 [==============================] - 0s 24ms/step\n",
            "1/1 [==============================] - 0s 24ms/step\n",
            "1/1 [==============================] - 0s 24ms/step\n",
            "1/1 [==============================] - 0s 26ms/step\n",
            "1/1 [==============================] - 0s 26ms/step\n",
            "1/1 [==============================] - 0s 24ms/step\n",
            "1/1 [==============================] - 0s 25ms/step\n",
            "1/1 [==============================] - 0s 25ms/step\n",
            "1/1 [==============================] - 0s 24ms/step\n",
            "1/1 [==============================] - 0s 24ms/step\n",
            "1/1 [==============================] - 0s 24ms/step\n",
            "1/1 [==============================] - 0s 24ms/step\n",
            "1/1 [==============================] - 0s 27ms/step\n",
            "1/1 [==============================] - 0s 35ms/step\n",
            "1/1 [==============================] - 0s 25ms/step\n",
            "1/1 [==============================] - 0s 26ms/step\n",
            "1/1 [==============================] - 0s 24ms/step\n",
            "1/1 [==============================] - 0s 26ms/step\n",
            "1/1 [==============================] - 0s 23ms/step\n",
            "1/1 [==============================] - 0s 23ms/step\n",
            "1/1 [==============================] - 0s 24ms/step\n",
            "1/1 [==============================] - 0s 24ms/step\n",
            "1/1 [==============================] - 0s 24ms/step\n",
            "1/1 [==============================] - 0s 24ms/step\n",
            "1/1 [==============================] - 0s 24ms/step\n",
            "1/1 [==============================] - 0s 25ms/step\n",
            "1/1 [==============================] - 0s 25ms/step\n",
            "1/1 [==============================] - 0s 25ms/step\n",
            "1/1 [==============================] - 0s 25ms/step\n",
            "1/1 [==============================] - 0s 25ms/step\n",
            "1/1 [==============================] - 0s 25ms/step\n",
            "1/1 [==============================] - 0s 24ms/step\n",
            "1/1 [==============================] - 0s 24ms/step\n",
            "1/1 [==============================] - 0s 26ms/step\n",
            "1/1 [==============================] - 0s 26ms/step\n",
            "1/1 [==============================] - 0s 25ms/step\n",
            "1/1 [==============================] - 0s 26ms/step\n",
            "1/1 [==============================] - 0s 25ms/step\n",
            "1/1 [==============================] - 0s 25ms/step\n",
            "1/1 [==============================] - 0s 25ms/step\n",
            "1/1 [==============================] - 0s 25ms/step\n",
            "1/1 [==============================] - 0s 27ms/step\n",
            "1/1 [==============================] - 0s 27ms/step\n",
            "1/1 [==============================] - 0s 24ms/step\n",
            "1/1 [==============================] - 0s 26ms/step\n",
            "1/1 [==============================] - 0s 28ms/step\n",
            "1/1 [==============================] - 0s 24ms/step\n",
            "1/1 [==============================] - 0s 27ms/step\n",
            "1/1 [==============================] - 0s 25ms/step\n",
            "1/1 [==============================] - 0s 27ms/step\n",
            "1/1 [==============================] - 0s 25ms/step\n",
            "1/1 [==============================] - 0s 25ms/step\n",
            "1/1 [==============================] - 0s 25ms/step\n",
            "1/1 [==============================] - 0s 28ms/step\n",
            "1/1 [==============================] - 0s 24ms/step\n",
            "1/1 [==============================] - 0s 25ms/step\n",
            "1/1 [==============================] - 0s 24ms/step\n",
            "1/1 [==============================] - 0s 24ms/step\n",
            "1/1 [==============================] - 0s 25ms/step\n",
            "1/1 [==============================] - 0s 24ms/step\n",
            "1/1 [==============================] - 0s 25ms/step\n",
            "1/1 [==============================] - 0s 25ms/step\n",
            "1/1 [==============================] - 0s 24ms/step\n",
            "1/1 [==============================] - 0s 25ms/step\n",
            "1/1 [==============================] - 0s 27ms/step\n",
            "1/1 [==============================] - 0s 26ms/step\n",
            "1/1 [==============================] - 0s 24ms/step\n",
            "1/1 [==============================] - 0s 25ms/step\n",
            "1/1 [==============================] - 0s 27ms/step\n",
            "1/1 [==============================] - 0s 28ms/step\n",
            "1/1 [==============================] - 0s 24ms/step\n",
            "1/1 [==============================] - 0s 27ms/step\n",
            "1/1 [==============================] - 0s 26ms/step\n",
            "1/1 [==============================] - 0s 28ms/step\n",
            "1/1 [==============================] - 0s 25ms/step\n",
            "1/1 [==============================] - 0s 25ms/step\n",
            "1/1 [==============================] - 0s 25ms/step\n",
            "1/1 [==============================] - 0s 26ms/step\n",
            "1/1 [==============================] - 0s 25ms/step\n",
            "1/1 [==============================] - 0s 27ms/step\n",
            "1/1 [==============================] - 0s 27ms/step\n",
            "1/1 [==============================] - 0s 26ms/step\n",
            "1/1 [==============================] - 0s 27ms/step\n",
            "1/1 [==============================] - 0s 25ms/step\n",
            "1/1 [==============================] - 0s 28ms/step\n",
            "1/1 [==============================] - 0s 26ms/step\n",
            "1/1 [==============================] - 0s 39ms/step\n",
            "1/1 [==============================] - 0s 35ms/step\n",
            "1/1 [==============================] - 0s 40ms/step\n",
            "1/1 [==============================] - 0s 38ms/step\n",
            "1/1 [==============================] - 0s 36ms/step\n",
            "1/1 [==============================] - 0s 37ms/step\n",
            "1/1 [==============================] - 0s 35ms/step\n",
            "1/1 [==============================] - 0s 37ms/step\n",
            "1/1 [==============================] - 0s 39ms/step\n",
            "1/1 [==============================] - 0s 35ms/step\n",
            "1/1 [==============================] - 0s 41ms/step\n",
            "1/1 [==============================] - 0s 35ms/step\n",
            "1/1 [==============================] - 0s 36ms/step\n",
            "1/1 [==============================] - 0s 40ms/step\n",
            "1/1 [==============================] - 0s 38ms/step\n",
            "1/1 [==============================] - 0s 36ms/step\n",
            "1/1 [==============================] - 0s 40ms/step\n",
            "1/1 [==============================] - 0s 41ms/step\n",
            "1/1 [==============================] - 0s 26ms/step\n",
            "1/1 [==============================] - 0s 25ms/step\n",
            "1/1 [==============================] - 0s 24ms/step\n",
            "1/1 [==============================] - 0s 26ms/step\n",
            "1/1 [==============================] - 0s 26ms/step\n",
            "1/1 [==============================] - 0s 38ms/step\n",
            "1/1 [==============================] - 0s 26ms/step\n",
            "1/1 [==============================] - 0s 38ms/step\n",
            "1/1 [==============================] - 0s 25ms/step\n",
            "1/1 [==============================] - 0s 24ms/step\n",
            "1/1 [==============================] - 0s 25ms/step\n",
            "1/1 [==============================] - 0s 24ms/step\n",
            "1/1 [==============================] - 0s 24ms/step\n",
            "1/1 [==============================] - 0s 25ms/step\n",
            "1/1 [==============================] - 0s 26ms/step\n",
            "1/1 [==============================] - 0s 27ms/step\n",
            "1/1 [==============================] - 0s 24ms/step\n",
            "1/1 [==============================] - 0s 25ms/step\n",
            "1/1 [==============================] - 0s 25ms/step\n",
            "1/1 [==============================] - 0s 25ms/step\n",
            "1/1 [==============================] - 0s 26ms/step\n",
            "1/1 [==============================] - 0s 25ms/step\n",
            "1/1 [==============================] - 0s 24ms/step\n",
            "1/1 [==============================] - 0s 26ms/step\n",
            "1/1 [==============================] - 0s 25ms/step\n",
            "1/1 [==============================] - 0s 31ms/step\n",
            "1/1 [==============================] - 0s 26ms/step\n",
            "1/1 [==============================] - 0s 25ms/step\n",
            "1/1 [==============================] - 0s 26ms/step\n",
            "1/1 [==============================] - 0s 27ms/step\n",
            "1/1 [==============================] - 0s 28ms/step\n"
          ]
        }
      ],
      "source": [
        "tweet = []\n",
        "test_labels = []\n",
        "predictions = []\n",
        "for tweet, labels in test_dataset.take(-1):\n",
        "  tweet = tweet.numpy()\n",
        "  test_labels.append(labels.numpy())\n",
        "  predictions.append(Dcnn.predict(tweet))"
      ]
    },
    {
      "cell_type": "code",
      "execution_count": null,
      "metadata": {
        "colab": {
          "base_uri": "https://localhost:8080/"
        },
        "id": "RgW9icLM2wLY",
        "outputId": "7bad42ab-1c3f-4174-a4cc-9e3031e5ccf5"
      },
      "outputs": [
        {
          "data": {
            "text/plain": [
              "[array([6, 6, 3, 6, 6, 6, 6, 6, 6, 6, 6, 6, 6, 6, 6, 6, 6, 0, 6, 6, 6, 6,\n",
              "        6, 6, 6, 6, 6, 0, 6, 6, 6, 3], dtype=int32)]"
            ]
          },
          "execution_count": 126,
          "metadata": {},
          "output_type": "execute_result"
        }
      ],
      "source": [
        "test_labels[0:1]"
      ]
    },
    {
      "cell_type": "code",
      "execution_count": null,
      "metadata": {
        "colab": {
          "base_uri": "https://localhost:8080/"
        },
        "id": "d5cV6hma2wLZ",
        "outputId": "02597659-96fd-410d-8e6e-44d1369544fa"
      },
      "outputs": [
        {
          "data": {
            "text/plain": [
              "[array([[3.80852073e-03, 4.01965599e-06, 7.72235217e-06, 3.10393858e-07,\n",
              "         2.88690921e-06, 2.35482839e-05, 9.96152937e-01],\n",
              "        [2.75135096e-02, 5.02080411e-06, 1.18115504e-05, 2.96211624e-06,\n",
              "         1.50170818e-05, 4.74023618e-05, 9.72404301e-01],\n",
              "        [1.31482512e-01, 3.58571328e-04, 2.08241850e-04, 1.78319431e-04,\n",
              "         1.80453062e-04, 5.43680461e-03, 8.62155139e-01],\n",
              "        [1.25532493e-01, 5.21077425e-04, 7.12776091e-04, 1.03484286e-04,\n",
              "         8.44418420e-04, 5.85333165e-03, 8.66432428e-01],\n",
              "        [9.03105885e-02, 2.82601686e-04, 9.13286989e-04, 6.97573050e-05,\n",
              "         2.47454795e-04, 6.55949814e-03, 9.01616752e-01],\n",
              "        [9.07083526e-02, 2.75319471e-05, 7.68151949e-05, 7.64626384e-06,\n",
              "         1.30895904e-04, 2.10511454e-04, 9.08838272e-01],\n",
              "        [4.11221087e-02, 6.96004736e-06, 1.62730521e-05, 5.33104139e-06,\n",
              "         3.60801960e-06, 3.68064153e-04, 9.58477676e-01],\n",
              "        [6.64835036e-01, 1.19570141e-04, 2.16292508e-04, 1.10891451e-05,\n",
              "         1.01708152e-04, 4.11085697e-04, 3.34305167e-01],\n",
              "        [3.49389575e-02, 1.59506490e-05, 9.24971187e-04, 2.31359954e-05,\n",
              "         1.43298545e-04, 3.00361920e-04, 9.63653326e-01],\n",
              "        [1.29592102e-02, 6.36216937e-05, 2.04392694e-04, 5.51327912e-06,\n",
              "         3.39553626e-05, 5.48534386e-04, 9.86184776e-01],\n",
              "        [1.15553163e-01, 4.77792637e-04, 2.40587557e-04, 3.94924748e-04,\n",
              "         1.49828650e-03, 3.86510999e-03, 8.77970159e-01],\n",
              "        [4.06825654e-02, 1.62013399e-04, 2.72727193e-04, 2.26570424e-04,\n",
              "         1.43294121e-04, 2.49048113e-03, 9.56022382e-01],\n",
              "        [5.63776009e-02, 8.33448757e-06, 8.44334354e-05, 1.23081572e-05,\n",
              "         4.52196264e-06, 3.81656195e-04, 9.43131089e-01],\n",
              "        [2.84353167e-01, 2.70402117e-04, 1.61803595e-03, 1.97910413e-04,\n",
              "         1.94986904e-04, 3.13519879e-04, 7.13051975e-01],\n",
              "        [6.21099472e-01, 1.28466159e-03, 3.08047631e-03, 1.55858358e-03,\n",
              "         7.34499656e-04, 1.92017928e-02, 3.53040487e-01],\n",
              "        [3.56730400e-03, 3.59842641e-04, 2.30065710e-03, 9.07612732e-04,\n",
              "         5.12003375e-04, 1.32767512e-02, 9.79075909e-01],\n",
              "        [1.46409159e-03, 1.23115693e-04, 1.58093183e-03, 8.66165065e-05,\n",
              "         1.03657003e-04, 2.49471603e-04, 9.96392071e-01],\n",
              "        [9.98196065e-01, 2.66920460e-06, 1.99706483e-06, 3.37795132e-06,\n",
              "         1.99203678e-05, 5.03108196e-04, 1.27300445e-03],\n",
              "        [7.66072655e-03, 3.53120013e-05, 1.05945813e-03, 6.89315420e-05,\n",
              "         6.75285701e-05, 2.34080086e-04, 9.90874052e-01],\n",
              "        [2.33500469e-02, 1.21968687e-02, 2.14793291e-02, 4.67684632e-03,\n",
              "         2.89923092e-03, 9.20406356e-03, 9.26193655e-01],\n",
              "        [8.43527973e-01, 2.80596258e-04, 3.64620425e-03, 7.31363034e-05,\n",
              "         1.01434496e-04, 4.49920364e-04, 1.51920781e-01],\n",
              "        [3.53741422e-02, 1.58151810e-03, 3.71587463e-03, 7.68704631e-04,\n",
              "         8.20980116e-04, 3.54997744e-03, 9.54188704e-01],\n",
              "        [3.54232006e-02, 3.00429940e-01, 1.79446489e-02, 3.04537952e-01,\n",
              "         1.82459597e-02, 1.46178165e-02, 3.08800519e-01],\n",
              "        [5.27189933e-02, 1.72085091e-02, 4.55597565e-02, 4.73307772e-03,\n",
              "         4.21823468e-03, 1.64552741e-02, 8.59106123e-01],\n",
              "        [1.86163738e-01, 1.48473226e-03, 6.23969361e-02, 2.65671825e-03,\n",
              "         1.29648193e-03, 3.70913111e-02, 7.08910048e-01],\n",
              "        [5.18207736e-02, 4.00531851e-03, 8.34213756e-03, 3.29146441e-03,\n",
              "         3.33037414e-03, 2.64084991e-02, 9.02801454e-01],\n",
              "        [7.13110194e-02, 2.95609445e-03, 5.93902031e-03, 3.11981398e-03,\n",
              "         2.00764206e-03, 9.11667664e-03, 9.05549765e-01],\n",
              "        [3.26047182e-01, 1.91608742e-01, 5.41811762e-03, 3.36600840e-03,\n",
              "         1.00221140e-02, 1.21432003e-02, 4.51394647e-01],\n",
              "        [8.99808824e-01, 3.72001930e-04, 1.28972309e-03, 1.32261164e-04,\n",
              "         4.99023707e-04, 3.09860072e-04, 9.75882933e-02],\n",
              "        [6.95631862e-01, 3.87768657e-03, 1.78142674e-02, 6.60796242e-04,\n",
              "         1.09552434e-02, 8.00587982e-03, 2.63054252e-01],\n",
              "        [7.69194663e-02, 3.13419141e-02, 7.04337237e-03, 1.44777391e-02,\n",
              "         3.31387972e-03, 1.93052441e-02, 8.47598374e-01],\n",
              "        [1.62857816e-01, 1.28950877e-02, 1.77540816e-02, 1.37503399e-03,\n",
              "         1.92642363e-03, 1.06709385e-02, 7.92520523e-01]], dtype=float32),\n",
              " array([[1.02336342e-02, 8.15180101e-06, 9.16588397e-06, 2.83557529e-06,\n",
              "         4.54971996e-05, 9.27820656e-05, 9.89607990e-01],\n",
              "        [4.84445423e-01, 1.22357320e-04, 8.77848215e-05, 9.78119897e-06,\n",
              "         1.76670030e-04, 1.40358432e-04, 5.15017629e-01],\n",
              "        [5.90933152e-02, 1.79730938e-04, 1.14058326e-04, 4.11620522e-06,\n",
              "         1.11845029e-05, 1.35198803e-04, 9.40462351e-01],\n",
              "        [1.02256499e-01, 5.00706903e-07, 7.69607504e-06, 1.32551449e-07,\n",
              "         9.81592962e-07, 6.08621531e-06, 8.97728086e-01],\n",
              "        [7.76492357e-07, 2.70320850e-08, 3.53345786e-06, 3.39237840e-06,\n",
              "         7.02373313e-07, 9.96368885e-01, 3.62271699e-03],\n",
              "        [6.33123696e-01, 7.61204274e-06, 2.88423234e-05, 1.44691001e-06,\n",
              "         1.37092975e-05, 1.70905805e-05, 3.66807610e-01],\n",
              "        [3.71778160e-01, 6.24818262e-04, 1.82779250e-03, 7.04444974e-05,\n",
              "         2.73214217e-04, 1.75559800e-03, 6.23669982e-01],\n",
              "        [9.99717057e-01, 4.29874492e-09, 1.35758196e-08, 4.31518274e-05,\n",
              "         2.38054881e-07, 8.71850858e-08, 2.39483896e-04],\n",
              "        [2.24730538e-04, 1.19941910e-06, 1.13562953e-06, 2.23537043e-07,\n",
              "         5.09901895e-07, 1.48327799e-05, 9.99757349e-01],\n",
              "        [2.92977015e-03, 2.65424137e-06, 4.91751525e-05, 1.78010180e-06,\n",
              "         2.13441967e-06, 1.94613400e-04, 9.96819854e-01],\n",
              "        [3.00134391e-01, 1.05728686e-05, 1.30103708e-05, 1.06749906e-06,\n",
              "         4.19136222e-06, 3.13662531e-05, 6.99805379e-01],\n",
              "        [1.38365747e-02, 5.53983796e-07, 2.29798684e-06, 1.86948679e-08,\n",
              "         3.06255501e-08, 4.70686615e-07, 9.86160100e-01],\n",
              "        [4.12607700e-01, 2.05364032e-07, 8.62561228e-06, 1.55447544e-09,\n",
              "         1.11930838e-07, 7.06035871e-06, 5.87376356e-01],\n",
              "        [4.80746999e-02, 3.69253867e-05, 1.13121059e-04, 1.11419013e-06,\n",
              "         1.31299512e-05, 3.60432241e-05, 9.51725006e-01],\n",
              "        [2.87482530e-01, 6.54113046e-06, 6.30996283e-06, 1.25269892e-07,\n",
              "         3.36060651e-07, 2.40678910e-05, 7.12480068e-01],\n",
              "        [1.11178495e-02, 7.61816636e-08, 2.95649761e-06, 7.40480743e-08,\n",
              "         2.14934445e-07, 1.90442358e-06, 9.88876879e-01],\n",
              "        [6.11810870e-02, 1.05122162e-05, 3.34088945e-05, 2.65408971e-06,\n",
              "         3.10072828e-05, 4.47491911e-04, 9.38293874e-01],\n",
              "        [9.99688268e-01, 2.90052711e-08, 4.87753937e-07, 2.73386718e-08,\n",
              "         9.47707747e-07, 2.89763852e-06, 3.07438255e-04],\n",
              "        [2.92833465e-05, 4.28061320e-09, 3.82106347e-09, 2.66932781e-10,\n",
              "         1.29818462e-03, 6.64011823e-09, 9.98672605e-01],\n",
              "        [9.97616649e-01, 3.88739608e-07, 2.46967079e-06, 5.76350658e-07,\n",
              "         1.08092138e-06, 8.20904552e-06, 2.37069745e-03],\n",
              "        [9.94882226e-01, 7.73093944e-08, 3.70439307e-06, 1.13387451e-08,\n",
              "         6.46891110e-08, 3.31085721e-06, 5.11067826e-03],\n",
              "        [4.22882259e-01, 1.30575456e-04, 1.21931452e-03, 2.09245954e-05,\n",
              "         1.44752092e-04, 4.64014011e-04, 5.75138152e-01],\n",
              "        [9.63380396e-01, 2.11104107e-05, 2.56430340e-05, 5.60526473e-07,\n",
              "         2.72402795e-05, 1.02337137e-04, 3.64426821e-02],\n",
              "        [2.79574115e-02, 1.97120135e-05, 9.26710418e-05, 1.49366624e-05,\n",
              "         1.73107928e-05, 5.93186298e-04, 9.71304715e-01],\n",
              "        [2.20381245e-02, 3.01430468e-04, 1.94861626e-04, 6.09877134e-05,\n",
              "         8.33292288e-05, 5.14640985e-03, 9.72174823e-01],\n",
              "        [4.44796681e-02, 1.69098566e-05, 8.27005260e-06, 1.71395932e-05,\n",
              "         1.69170507e-05, 3.62579485e-05, 9.55424845e-01],\n",
              "        [4.76899324e-04, 1.05603613e-05, 7.39634152e-06, 1.73587509e-07,\n",
              "         7.68129524e-08, 1.14491741e-04, 9.99390364e-01],\n",
              "        [5.72665632e-02, 3.16973962e-03, 6.32095500e-04, 2.41585767e-05,\n",
              "         2.35624364e-04, 4.90979583e-04, 9.38180864e-01],\n",
              "        [1.35714887e-02, 7.52670385e-05, 6.19638959e-05, 1.57262821e-05,\n",
              "         4.00963545e-05, 1.63703531e-04, 9.86071765e-01],\n",
              "        [9.99996066e-01, 1.51280169e-11, 4.88348337e-12, 7.87311015e-12,\n",
              "         2.92292145e-12, 1.50019320e-11, 3.94548761e-06],\n",
              "        [2.08507568e-01, 1.83779013e-03, 7.35450760e-02, 1.84508169e-03,\n",
              "         2.07138564e-02, 6.30839914e-02, 6.30466640e-01],\n",
              "        [2.55587976e-02, 4.65017650e-03, 7.58285820e-03, 9.36145484e-02,\n",
              "         1.57673154e-02, 8.37522864e-01, 1.53034478e-02]], dtype=float32)]"
            ]
          },
          "execution_count": 127,
          "metadata": {},
          "output_type": "execute_result"
        }
      ],
      "source": [
        "predictions[0:2]"
      ]
    },
    {
      "cell_type": "code",
      "execution_count": null,
      "metadata": {
        "id": "s5rxhBvz2wLZ"
      },
      "outputs": [],
      "source": [
        "from itertools import chain\n",
        "flatten_list = list(chain.from_iterable(predictions))\n",
        "test_pred = np.argmax(flatten_list, axis=-1)"
      ]
    },
    {
      "cell_type": "code",
      "execution_count": null,
      "metadata": {
        "colab": {
          "base_uri": "https://localhost:8080/"
        },
        "id": "wolvI_a52wLa",
        "outputId": "63ea9014-73e9-4fc7-b5d9-0332aeef7570"
      },
      "outputs": [
        {
          "data": {
            "text/plain": [
              "numpy.ndarray"
            ]
          },
          "execution_count": 129,
          "metadata": {},
          "output_type": "execute_result"
        }
      ],
      "source": [
        "type(test_pred)"
      ]
    },
    {
      "cell_type": "code",
      "execution_count": null,
      "metadata": {
        "colab": {
          "base_uri": "https://localhost:8080/"
        },
        "id": "4RmQNdCu3_HG",
        "outputId": "f5eadc79-d0bb-47c5-889e-4e4c3e0b4e0e"
      },
      "outputs": [
        {
          "data": {
            "text/plain": [
              "7535"
            ]
          },
          "execution_count": 130,
          "metadata": {},
          "output_type": "execute_result"
        }
      ],
      "source": [
        "len(test_pred)"
      ]
    },
    {
      "cell_type": "code",
      "execution_count": null,
      "metadata": {
        "id": "Mhix2hKn2wLa"
      },
      "outputs": [],
      "source": [
        "from itertools import chain\n",
        "test_label = np.array(list(chain.from_iterable(test_labels)))"
      ]
    },
    {
      "cell_type": "code",
      "execution_count": null,
      "metadata": {
        "colab": {
          "base_uri": "https://localhost:8080/"
        },
        "id": "NpR0ZCFE2wLb",
        "outputId": "b498f7ee-ff77-410b-d811-1ba64c1be4e4"
      },
      "outputs": [
        {
          "data": {
            "text/plain": [
              "numpy.ndarray"
            ]
          },
          "execution_count": 132,
          "metadata": {},
          "output_type": "execute_result"
        }
      ],
      "source": [
        "type(test_label)"
      ]
    },
    {
      "cell_type": "code",
      "execution_count": null,
      "metadata": {
        "colab": {
          "base_uri": "https://localhost:8080/"
        },
        "id": "1HMQNtTX348p",
        "outputId": "fcf07280-ba5c-40d5-e878-1fc79ea4aa8b"
      },
      "outputs": [
        {
          "data": {
            "text/plain": [
              "7535"
            ]
          },
          "execution_count": 133,
          "metadata": {},
          "output_type": "execute_result"
        }
      ],
      "source": [
        "len(test_label)"
      ]
    },
    {
      "cell_type": "code",
      "execution_count": null,
      "metadata": {
        "colab": {
          "base_uri": "https://localhost:8080/"
        },
        "id": "Nbk09Tbx2wLb",
        "outputId": "a761b0c6-d86b-4ec2-d92c-af8811845739"
      },
      "outputs": [
        {
          "name": "stdout",
          "output_type": "stream",
          "text": [
            "              precision    recall  f1-score   support\n",
            "\n",
            "     class 0       0.80      0.97      0.88      1228\n",
            "     class 1       0.95      0.95      0.95      1130\n",
            "     class 2       0.98      0.96      0.97      1083\n",
            "     class 3       0.97      0.97      0.97      1049\n",
            "     class 4       0.97      0.97      0.97      1038\n",
            "     class 5       0.95      0.95      0.95       965\n",
            "     class 6       0.90      0.68      0.78      1042\n",
            "\n",
            "    accuracy                           0.92      7535\n",
            "   macro avg       0.93      0.92      0.92      7535\n",
            "weighted avg       0.93      0.92      0.92      7535\n",
            "\n"
          ]
        }
      ],
      "source": [
        "from sklearn.metrics import classification_report\n",
        "target_names = ['class 0', 'class 1', 'class 2', 'class 3', 'class 4', 'class 5', 'class 6']\n",
        "print(classification_report(test_label, test_pred, target_names=target_names))"
      ]
    },
    {
      "cell_type": "code",
      "execution_count": null,
      "metadata": {
        "colab": {
          "base_uri": "https://localhost:8080/"
        },
        "id": "OxcEZReZ4FnE",
        "outputId": "707eb3dc-4437-46c0-8d0b-76fae4594d1e"
      },
      "outputs": [
        {
          "data": {
            "text/plain": [
              "array([[1189,    5,    6,    0,    2,    5,   21],\n",
              "       [   8, 1079,    0,   20,    1,    6,   16],\n",
              "       [  28,    1, 1041,    0,    3,    3,    7],\n",
              "       [   3,   13,    0, 1020,    0,    3,   10],\n",
              "       [  14,    1,    3,    0, 1006,    2,   12],\n",
              "       [  23,    4,    0,    2,    2,  921,   13],\n",
              "       [ 219,   37,   12,   14,   20,   27,  713]])"
            ]
          },
          "execution_count": 135,
          "metadata": {},
          "output_type": "execute_result"
        }
      ],
      "source": [
        "confusion_matrix(test_label, test_pred)"
      ]
    },
    {
      "cell_type": "code",
      "execution_count": null,
      "metadata": {
        "id": "EvGynLS951Ha"
      },
      "outputs": [],
      "source": []
    },
    {
      "cell_type": "markdown",
      "metadata": {
        "id": "s7MHaUNBT7yf"
      },
      "source": [
        "#CrisisLexT26"
      ]
    },
    {
      "cell_type": "code",
      "execution_count": null,
      "metadata": {
        "id": "w_3xTpHcT_lZ"
      },
      "outputs": [],
      "source": []
    },
    {
      "cell_type": "markdown",
      "metadata": {
        "id": "dpsCYRS_UV0y"
      },
      "source": [
        "##Data Preprocessing"
      ]
    },
    {
      "cell_type": "code",
      "execution_count": null,
      "metadata": {
        "id": "fWIEu5Q1UV0y"
      },
      "outputs": [],
      "source": [
        "df1=pd.read_csv(\"/content/shuffle_Crisislex_T26.csv\")"
      ]
    },
    {
      "cell_type": "code",
      "execution_count": null,
      "metadata": {
        "colab": {
          "base_uri": "https://localhost:8080/",
          "height": 206
        },
        "id": "w4uZGOaoUV0y",
        "outputId": "124f40d9-06d2-423d-9054-2b090129bdde"
      },
      "outputs": [
        {
          "data": {
            "text/html": [
              "\n",
              "  <div id=\"df-222d44b1-05bd-4b45-9d59-395be4c7cc76\">\n",
              "    <div class=\"colab-df-container\">\n",
              "      <div>\n",
              "<style scoped>\n",
              "    .dataframe tbody tr th:only-of-type {\n",
              "        vertical-align: middle;\n",
              "    }\n",
              "\n",
              "    .dataframe tbody tr th {\n",
              "        vertical-align: top;\n",
              "    }\n",
              "\n",
              "    .dataframe thead th {\n",
              "        text-align: right;\n",
              "    }\n",
              "</style>\n",
              "<table border=\"1\" class=\"dataframe\">\n",
              "  <thead>\n",
              "    <tr style=\"text-align: right;\">\n",
              "      <th></th>\n",
              "      <th>Tweet ID</th>\n",
              "      <th>Tweet Text</th>\n",
              "      <th>Informativeness</th>\n",
              "    </tr>\n",
              "  </thead>\n",
              "  <tbody>\n",
              "    <tr>\n",
              "      <th>0</th>\n",
              "      <td>2.330000e+17</td>\n",
              "      <td>RT @KMSians: Let's all pray for those who lost...</td>\n",
              "      <td>Philipinnes_floods</td>\n",
              "    </tr>\n",
              "    <tr>\n",
              "      <th>1</th>\n",
              "      <td>3.020000e+17</td>\n",
              "      <td>RT @Crusaderofchaos: Wow! #Meteor over Russia ...</td>\n",
              "      <td>Russia_meteor</td>\n",
              "    </tr>\n",
              "    <tr>\n",
              "      <th>2</th>\n",
              "      <td>4.010000e+17</td>\n",
              "      <td>RT @ParkerMcKinley: Death Toll in the Philippi...</td>\n",
              "      <td>Typhoon_Yolanda</td>\n",
              "    </tr>\n",
              "    <tr>\n",
              "      <th>3</th>\n",
              "      <td>3.490000e+17</td>\n",
              "      <td>RT @tedhenley: WHOA!?! Heavy erosion UNDER the...</td>\n",
              "      <td>Alberta_floods</td>\n",
              "    </tr>\n",
              "    <tr>\n",
              "      <th>4</th>\n",
              "      <td>4.100000e+17</td>\n",
              "      <td>RT @Polyvinyl: Grab @sslyby's new album for ju...</td>\n",
              "      <td>Typhoon_Yolanda</td>\n",
              "    </tr>\n",
              "  </tbody>\n",
              "</table>\n",
              "</div>\n",
              "      <button class=\"colab-df-convert\" onclick=\"convertToInteractive('df-222d44b1-05bd-4b45-9d59-395be4c7cc76')\"\n",
              "              title=\"Convert this dataframe to an interactive table.\"\n",
              "              style=\"display:none;\">\n",
              "        \n",
              "  <svg xmlns=\"http://www.w3.org/2000/svg\" height=\"24px\"viewBox=\"0 0 24 24\"\n",
              "       width=\"24px\">\n",
              "    <path d=\"M0 0h24v24H0V0z\" fill=\"none\"/>\n",
              "    <path d=\"M18.56 5.44l.94 2.06.94-2.06 2.06-.94-2.06-.94-.94-2.06-.94 2.06-2.06.94zm-11 1L8.5 8.5l.94-2.06 2.06-.94-2.06-.94L8.5 2.5l-.94 2.06-2.06.94zm10 10l.94 2.06.94-2.06 2.06-.94-2.06-.94-.94-2.06-.94 2.06-2.06.94z\"/><path d=\"M17.41 7.96l-1.37-1.37c-.4-.4-.92-.59-1.43-.59-.52 0-1.04.2-1.43.59L10.3 9.45l-7.72 7.72c-.78.78-.78 2.05 0 2.83L4 21.41c.39.39.9.59 1.41.59.51 0 1.02-.2 1.41-.59l7.78-7.78 2.81-2.81c.8-.78.8-2.07 0-2.86zM5.41 20L4 18.59l7.72-7.72 1.47 1.35L5.41 20z\"/>\n",
              "  </svg>\n",
              "      </button>\n",
              "      \n",
              "  <style>\n",
              "    .colab-df-container {\n",
              "      display:flex;\n",
              "      flex-wrap:wrap;\n",
              "      gap: 12px;\n",
              "    }\n",
              "\n",
              "    .colab-df-convert {\n",
              "      background-color: #E8F0FE;\n",
              "      border: none;\n",
              "      border-radius: 50%;\n",
              "      cursor: pointer;\n",
              "      display: none;\n",
              "      fill: #1967D2;\n",
              "      height: 32px;\n",
              "      padding: 0 0 0 0;\n",
              "      width: 32px;\n",
              "    }\n",
              "\n",
              "    .colab-df-convert:hover {\n",
              "      background-color: #E2EBFA;\n",
              "      box-shadow: 0px 1px 2px rgba(60, 64, 67, 0.3), 0px 1px 3px 1px rgba(60, 64, 67, 0.15);\n",
              "      fill: #174EA6;\n",
              "    }\n",
              "\n",
              "    [theme=dark] .colab-df-convert {\n",
              "      background-color: #3B4455;\n",
              "      fill: #D2E3FC;\n",
              "    }\n",
              "\n",
              "    [theme=dark] .colab-df-convert:hover {\n",
              "      background-color: #434B5C;\n",
              "      box-shadow: 0px 1px 3px 1px rgba(0, 0, 0, 0.15);\n",
              "      filter: drop-shadow(0px 1px 2px rgba(0, 0, 0, 0.3));\n",
              "      fill: #FFFFFF;\n",
              "    }\n",
              "  </style>\n",
              "\n",
              "      <script>\n",
              "        const buttonEl =\n",
              "          document.querySelector('#df-222d44b1-05bd-4b45-9d59-395be4c7cc76 button.colab-df-convert');\n",
              "        buttonEl.style.display =\n",
              "          google.colab.kernel.accessAllowed ? 'block' : 'none';\n",
              "\n",
              "        async function convertToInteractive(key) {\n",
              "          const element = document.querySelector('#df-222d44b1-05bd-4b45-9d59-395be4c7cc76');\n",
              "          const dataTable =\n",
              "            await google.colab.kernel.invokeFunction('convertToInteractive',\n",
              "                                                     [key], {});\n",
              "          if (!dataTable) return;\n",
              "\n",
              "          const docLinkHtml = 'Like what you see? Visit the ' +\n",
              "            '<a target=\"_blank\" href=https://colab.research.google.com/notebooks/data_table.ipynb>data table notebook</a>'\n",
              "            + ' to learn more about interactive tables.';\n",
              "          element.innerHTML = '';\n",
              "          dataTable['output_type'] = 'display_data';\n",
              "          await google.colab.output.renderOutput(dataTable, element);\n",
              "          const docLink = document.createElement('div');\n",
              "          docLink.innerHTML = docLinkHtml;\n",
              "          element.appendChild(docLink);\n",
              "        }\n",
              "      </script>\n",
              "    </div>\n",
              "  </div>\n",
              "  "
            ],
            "text/plain": [
              "       Tweet ID                                         Tweet Text  \\\n",
              "0  2.330000e+17  RT @KMSians: Let's all pray for those who lost...   \n",
              "1  3.020000e+17  RT @Crusaderofchaos: Wow! #Meteor over Russia ...   \n",
              "2  4.010000e+17  RT @ParkerMcKinley: Death Toll in the Philippi...   \n",
              "3  3.490000e+17  RT @tedhenley: WHOA!?! Heavy erosion UNDER the...   \n",
              "4  4.100000e+17  RT @Polyvinyl: Grab @sslyby's new album for ju...   \n",
              "\n",
              "      Informativeness  \n",
              "0  Philipinnes_floods  \n",
              "1       Russia_meteor  \n",
              "2     Typhoon_Yolanda  \n",
              "3      Alberta_floods  \n",
              "4     Typhoon_Yolanda  "
            ]
          },
          "execution_count": 137,
          "metadata": {},
          "output_type": "execute_result"
        }
      ],
      "source": [
        "df1.head()"
      ]
    },
    {
      "cell_type": "code",
      "execution_count": null,
      "metadata": {
        "id": "xX6ThOCoW__x"
      },
      "outputs": [],
      "source": [
        "#first_column = df1.columns[0]"
      ]
    },
    {
      "cell_type": "code",
      "execution_count": null,
      "metadata": {
        "id": "aWvZ01e1XEyz"
      },
      "outputs": [],
      "source": [
        "#df1 = df1.drop([first_column], axis=1)"
      ]
    },
    {
      "cell_type": "code",
      "execution_count": null,
      "metadata": {
        "colab": {
          "base_uri": "https://localhost:8080/"
        },
        "id": "ymFW01o-UV0y",
        "outputId": "0905e2d2-a2c3-4efc-d09e-9cf5c0667136"
      },
      "outputs": [
        {
          "data": {
            "text/plain": [
              "(25575, 3)"
            ]
          },
          "execution_count": 140,
          "metadata": {},
          "output_type": "execute_result"
        }
      ],
      "source": [
        "df1.shape"
      ]
    },
    {
      "cell_type": "code",
      "execution_count": null,
      "metadata": {
        "id": "7JFu-uHbUV0z"
      },
      "outputs": [],
      "source": [
        "df1.rename(columns={'Tweet Text': 'tweet_text', 'Informativeness': 'class_label'}, inplace=True)"
      ]
    },
    {
      "cell_type": "code",
      "execution_count": null,
      "metadata": {
        "colab": {
          "base_uri": "https://localhost:8080/"
        },
        "id": "zzn99bjVUV0z",
        "outputId": "e8d6613e-1113-4838-baa1-8e49ca483cc0"
      },
      "outputs": [
        {
          "name": "stdout",
          "output_type": "stream",
          "text": [
            "<class 'pandas.core.frame.DataFrame'>\n",
            "RangeIndex: 25575 entries, 0 to 25574\n",
            "Data columns (total 3 columns):\n",
            " #   Column       Non-Null Count  Dtype  \n",
            "---  ------       --------------  -----  \n",
            " 0   Tweet ID     25575 non-null  float64\n",
            " 1   tweet_text   25575 non-null  object \n",
            " 2   class_label  25575 non-null  object \n",
            "dtypes: float64(1), object(2)\n",
            "memory usage: 599.5+ KB\n"
          ]
        }
      ],
      "source": [
        "df1.info()"
      ]
    },
    {
      "cell_type": "code",
      "execution_count": null,
      "metadata": {
        "id": "9i4vZvb_UV0z"
      },
      "outputs": [],
      "source": [
        "df2 = df1"
      ]
    },
    {
      "cell_type": "code",
      "execution_count": null,
      "metadata": {
        "colab": {
          "base_uri": "https://localhost:8080/"
        },
        "id": "GQIqNwozUV0z",
        "outputId": "6cf4cbd8-2211-44ad-cc5f-f63544c51381"
      },
      "outputs": [
        {
          "name": "stdout",
          "output_type": "stream",
          "text": [
            "<class 'pandas.core.frame.DataFrame'>\n",
            "RangeIndex: 25575 entries, 0 to 25574\n",
            "Data columns (total 3 columns):\n",
            " #   Column       Non-Null Count  Dtype  \n",
            "---  ------       --------------  -----  \n",
            " 0   Tweet ID     25575 non-null  float64\n",
            " 1   tweet_text   25575 non-null  object \n",
            " 2   class_label  25575 non-null  object \n",
            "dtypes: float64(1), object(2)\n",
            "memory usage: 599.5+ KB\n"
          ]
        }
      ],
      "source": [
        "df2.info()"
      ]
    },
    {
      "cell_type": "code",
      "execution_count": null,
      "metadata": {
        "colab": {
          "base_uri": "https://localhost:8080/"
        },
        "id": "GCYmI6PgUV0z",
        "outputId": "1dbf0fef-3f46-4f5a-ac1a-4b63a2f55511"
      },
      "outputs": [
        {
          "data": {
            "text/plain": [
              "Russia_meteor               1132\n",
              "None                        1002\n",
              "NY_train_crash               999\n",
              "Spain_train_crash            991\n",
              "Alberta_floods               981\n",
              "Bohol_earthquake             969\n",
              "Lac_Megantic_train_crash     966\n",
              "Colorado_wildfires           953\n",
              "Brazil_nightclub_fire        952\n",
              "Australia_bushfire           949\n",
              "Italy_earthquakes            940\n",
              "Guatemala_earthquake         940\n",
              "Venezuela_refinery           939\n",
              "Typhoon_Yolanda              939\n",
              "Singapore_haze               933\n",
              "Boston_bombings              929\n",
              "Sardinia_floods              925\n",
              "Colorado_floods              925\n",
              "Manila_floods                921\n",
              "Queensland_floods            919\n",
              "Glasgow_helicopter_crash     918\n",
              "LA_airport_shootings         912\n",
              "West_Texas_explosion         911\n",
              "Savar_building_collapse      911\n",
              "Costa_Rica_earthquake        908\n",
              "Philipinnes_floods           906\n",
              "Typhoon_Pablo                905\n",
              "Name: class_label, dtype: int64"
            ]
          },
          "execution_count": 145,
          "metadata": {},
          "output_type": "execute_result"
        }
      ],
      "source": [
        "df2.class_label.value_counts()"
      ]
    },
    {
      "cell_type": "code",
      "execution_count": null,
      "metadata": {
        "colab": {
          "base_uri": "https://localhost:8080/",
          "height": 535
        },
        "id": "ArwSsiC-UV0z",
        "outputId": "de205a44-7d63-48e9-8e7d-3a24acf0f7e5"
      },
      "outputs": [
        {
          "data": {
            "image/png": "[encoded data removed]",
            "text/plain": [
              "<Figure size 1000x400 with 1 Axes>"
            ]
          },
          "metadata": {},
          "output_type": "display_data"
        }
      ],
      "source": [
        "#my_tags = ['caution_and_advice','displaced_people_and_evacuations','infrastructure_and_utility_damage','injured_or_dead_people','missing_or_found_people','not_humanitarian','other_relevant_information','requests_or_urgent_needs','rescue_volunteering_or_donation_effort','sympathy_and_support']\n",
        "plt.figure(figsize=(10,4))\n",
        "df2.class_label.value_counts().plot(kind='bar');"
      ]
    },
    {
      "cell_type": "code",
      "execution_count": null,
      "metadata": {
        "id": "ZfZA4SX3UV0z"
      },
      "outputs": [],
      "source": [
        "df2['tweet_text']=df2['tweet_text'].apply(str)"
      ]
    },
    {
      "cell_type": "code",
      "execution_count": null,
      "metadata": {
        "colab": {
          "base_uri": "https://localhost:8080/",
          "height": 206
        },
        "id": "LXG-8nygUV00",
        "outputId": "1e9b1b02-1a96-4401-a4ae-296d331d1a86"
      },
      "outputs": [
        {
          "data": {
            "text/html": [
              "\n",
              "  <div id=\"df-46e9e2f5-63cb-439a-9bc1-d18c24edcad0\">\n",
              "    <div class=\"colab-df-container\">\n",
              "      <div>\n",
              "<style scoped>\n",
              "    .dataframe tbody tr th:only-of-type {\n",
              "        vertical-align: middle;\n",
              "    }\n",
              "\n",
              "    .dataframe tbody tr th {\n",
              "        vertical-align: top;\n",
              "    }\n",
              "\n",
              "    .dataframe thead th {\n",
              "        text-align: right;\n",
              "    }\n",
              "</style>\n",
              "<table border=\"1\" class=\"dataframe\">\n",
              "  <thead>\n",
              "    <tr style=\"text-align: right;\">\n",
              "      <th></th>\n",
              "      <th>Tweet ID</th>\n",
              "      <th>tweet_text</th>\n",
              "      <th>class_label</th>\n",
              "      <th>tweet_text_Processed</th>\n",
              "    </tr>\n",
              "  </thead>\n",
              "  <tbody>\n",
              "    <tr>\n",
              "      <th>0</th>\n",
              "      <td>2.330000e+17</td>\n",
              "      <td>RT @KMSians: Let's all pray for those who lost...</td>\n",
              "      <td>Philipinnes_floods</td>\n",
              "      <td>RT Let s all pray for those who lost their hom...</td>\n",
              "    </tr>\n",
              "    <tr>\n",
              "      <th>1</th>\n",
              "      <td>3.020000e+17</td>\n",
              "      <td>RT @Crusaderofchaos: Wow! #Meteor over Russia ...</td>\n",
              "      <td>Russia_meteor</td>\n",
              "      <td>RT Wow Meteor over Russia and for the sonic boom</td>\n",
              "    </tr>\n",
              "    <tr>\n",
              "      <th>2</th>\n",
              "      <td>4.010000e+17</td>\n",
              "      <td>RT @ParkerMcKinley: Death Toll in the Philippi...</td>\n",
              "      <td>Typhoon_Yolanda</td>\n",
              "      <td>RT Death Toll in the Philippines typhoon is 4 ...</td>\n",
              "    </tr>\n",
              "    <tr>\n",
              "      <th>3</th>\n",
              "      <td>3.490000e+17</td>\n",
              "      <td>RT @tedhenley: WHOA!?! Heavy erosion UNDER the...</td>\n",
              "      <td>Alberta_floods</td>\n",
              "      <td>RT WHOA Heavy erosion UNDER the pavement RT 25...</td>\n",
              "    </tr>\n",
              "    <tr>\n",
              "      <th>4</th>\n",
              "      <td>4.100000e+17</td>\n",
              "      <td>RT @Polyvinyl: Grab @sslyby's new album for ju...</td>\n",
              "      <td>Typhoon_Yolanda</td>\n",
              "      <td>RT Grab s new album for just 1 part of a great...</td>\n",
              "    </tr>\n",
              "  </tbody>\n",
              "</table>\n",
              "</div>\n",
              "      <button class=\"colab-df-convert\" onclick=\"convertToInteractive('df-46e9e2f5-63cb-439a-9bc1-d18c24edcad0')\"\n",
              "              title=\"Convert this dataframe to an interactive table.\"\n",
              "              style=\"display:none;\">\n",
              "        \n",
              "  <svg xmlns=\"http://www.w3.org/2000/svg\" height=\"24px\"viewBox=\"0 0 24 24\"\n",
              "       width=\"24px\">\n",
              "    <path d=\"M0 0h24v24H0V0z\" fill=\"none\"/>\n",
              "    <path d=\"M18.56 5.44l.94 2.06.94-2.06 2.06-.94-2.06-.94-.94-2.06-.94 2.06-2.06.94zm-11 1L8.5 8.5l.94-2.06 2.06-.94-2.06-.94L8.5 2.5l-.94 2.06-2.06.94zm10 10l.94 2.06.94-2.06 2.06-.94-2.06-.94-.94-2.06-.94 2.06-2.06.94z\"/><path d=\"M17.41 7.96l-1.37-1.37c-.4-.4-.92-.59-1.43-.59-.52 0-1.04.2-1.43.59L10.3 9.45l-7.72 7.72c-.78.78-.78 2.05 0 2.83L4 21.41c.39.39.9.59 1.41.59.51 0 1.02-.2 1.41-.59l7.78-7.78 2.81-2.81c.8-.78.8-2.07 0-2.86zM5.41 20L4 18.59l7.72-7.72 1.47 1.35L5.41 20z\"/>\n",
              "  </svg>\n",
              "      </button>\n",
              "      \n",
              "  <style>\n",
              "    .colab-df-container {\n",
              "      display:flex;\n",
              "      flex-wrap:wrap;\n",
              "      gap: 12px;\n",
              "    }\n",
              "\n",
              "    .colab-df-convert {\n",
              "      background-color: #E8F0FE;\n",
              "      border: none;\n",
              "      border-radius: 50%;\n",
              "      cursor: pointer;\n",
              "      display: none;\n",
              "      fill: #1967D2;\n",
              "      height: 32px;\n",
              "      padding: 0 0 0 0;\n",
              "      width: 32px;\n",
              "    }\n",
              "\n",
              "    .colab-df-convert:hover {\n",
              "      background-color: #E2EBFA;\n",
              "      box-shadow: 0px 1px 2px rgba(60, 64, 67, 0.3), 0px 1px 3px 1px rgba(60, 64, 67, 0.15);\n",
              "      fill: #174EA6;\n",
              "    }\n",
              "\n",
              "    [theme=dark] .colab-df-convert {\n",
              "      background-color: #3B4455;\n",
              "      fill: #D2E3FC;\n",
              "    }\n",
              "\n",
              "    [theme=dark] .colab-df-convert:hover {\n",
              "      background-color: #434B5C;\n",
              "      box-shadow: 0px 1px 3px 1px rgba(0, 0, 0, 0.15);\n",
              "      filter: drop-shadow(0px 1px 2px rgba(0, 0, 0, 0.3));\n",
              "      fill: #FFFFFF;\n",
              "    }\n",
              "  </style>\n",
              "\n",
              "      <script>\n",
              "        const buttonEl =\n",
              "          document.querySelector('#df-46e9e2f5-63cb-439a-9bc1-d18c24edcad0 button.colab-df-convert');\n",
              "        buttonEl.style.display =\n",
              "          google.colab.kernel.accessAllowed ? 'block' : 'none';\n",
              "\n",
              "        async function convertToInteractive(key) {\n",
              "          const element = document.querySelector('#df-46e9e2f5-63cb-439a-9bc1-d18c24edcad0');\n",
              "          const dataTable =\n",
              "            await google.colab.kernel.invokeFunction('convertToInteractive',\n",
              "                                                     [key], {});\n",
              "          if (!dataTable) return;\n",
              "\n",
              "          const docLinkHtml = 'Like what you see? Visit the ' +\n",
              "            '<a target=\"_blank\" href=https://colab.research.google.com/notebooks/data_table.ipynb>data table notebook</a>'\n",
              "            + ' to learn more about interactive tables.';\n",
              "          element.innerHTML = '';\n",
              "          dataTable['output_type'] = 'display_data';\n",
              "          await google.colab.output.renderOutput(dataTable, element);\n",
              "          const docLink = document.createElement('div');\n",
              "          docLink.innerHTML = docLinkHtml;\n",
              "          element.appendChild(docLink);\n",
              "        }\n",
              "      </script>\n",
              "    </div>\n",
              "  </div>\n",
              "  "
            ],
            "text/plain": [
              "       Tweet ID                                         tweet_text  \\\n",
              "0  2.330000e+17  RT @KMSians: Let's all pray for those who lost...   \n",
              "1  3.020000e+17  RT @Crusaderofchaos: Wow! #Meteor over Russia ...   \n",
              "2  4.010000e+17  RT @ParkerMcKinley: Death Toll in the Philippi...   \n",
              "3  3.490000e+17  RT @tedhenley: WHOA!?! Heavy erosion UNDER the...   \n",
              "4  4.100000e+17  RT @Polyvinyl: Grab @sslyby's new album for ju...   \n",
              "\n",
              "          class_label                               tweet_text_Processed  \n",
              "0  Philipinnes_floods  RT Let s all pray for those who lost their hom...  \n",
              "1       Russia_meteor   RT Wow Meteor over Russia and for the sonic boom  \n",
              "2     Typhoon_Yolanda  RT Death Toll in the Philippines typhoon is 4 ...  \n",
              "3      Alberta_floods  RT WHOA Heavy erosion UNDER the pavement RT 25...  \n",
              "4     Typhoon_Yolanda  RT Grab s new album for just 1 part of a great...  "
            ]
          },
          "execution_count": 148,
          "metadata": {},
          "output_type": "execute_result"
        }
      ],
      "source": [
        "# Remove HTTP tags\n",
        "df2['tweet_text_Processed'] = df2['tweet_text'].map(lambda x : ' '.join(re.sub(\"(@[A-Za-z0-9]+)|([^0-9A-Za-z \\t])|(\\w+:\\/\\/\\S+)\",\" \",x).split()))\n",
        "df2.head()"
      ]
    },
    {
      "cell_type": "code",
      "execution_count": null,
      "metadata": {
        "colab": {
          "base_uri": "https://localhost:8080/",
          "height": 206
        },
        "id": "_G1jEQtXUV00",
        "outputId": "9e2cdd52-f781-48c7-e074-51c014164fec"
      },
      "outputs": [
        {
          "data": {
            "text/html": [
              "\n",
              "  <div id=\"df-45619045-3857-4f42-8d94-71c6f0078405\">\n",
              "    <div class=\"colab-df-container\">\n",
              "      <div>\n",
              "<style scoped>\n",
              "    .dataframe tbody tr th:only-of-type {\n",
              "        vertical-align: middle;\n",
              "    }\n",
              "\n",
              "    .dataframe tbody tr th {\n",
              "        vertical-align: top;\n",
              "    }\n",
              "\n",
              "    .dataframe thead th {\n",
              "        text-align: right;\n",
              "    }\n",
              "</style>\n",
              "<table border=\"1\" class=\"dataframe\">\n",
              "  <thead>\n",
              "    <tr style=\"text-align: right;\">\n",
              "      <th></th>\n",
              "      <th>Tweet ID</th>\n",
              "      <th>tweet_text</th>\n",
              "      <th>class_label</th>\n",
              "      <th>tweet_text_Processed</th>\n",
              "    </tr>\n",
              "  </thead>\n",
              "  <tbody>\n",
              "    <tr>\n",
              "      <th>0</th>\n",
              "      <td>2.330000e+17</td>\n",
              "      <td>RT @KMSians: Let's all pray for those who lost...</td>\n",
              "      <td>Philipinnes_floods</td>\n",
              "      <td>rt let s all pray for those who lost their hom...</td>\n",
              "    </tr>\n",
              "    <tr>\n",
              "      <th>1</th>\n",
              "      <td>3.020000e+17</td>\n",
              "      <td>RT @Crusaderofchaos: Wow! #Meteor over Russia ...</td>\n",
              "      <td>Russia_meteor</td>\n",
              "      <td>rt wow meteor over russia and for the sonic boom</td>\n",
              "    </tr>\n",
              "    <tr>\n",
              "      <th>2</th>\n",
              "      <td>4.010000e+17</td>\n",
              "      <td>RT @ParkerMcKinley: Death Toll in the Philippi...</td>\n",
              "      <td>Typhoon_Yolanda</td>\n",
              "      <td>rt death toll in the philippines typhoon is 4 ...</td>\n",
              "    </tr>\n",
              "    <tr>\n",
              "      <th>3</th>\n",
              "      <td>3.490000e+17</td>\n",
              "      <td>RT @tedhenley: WHOA!?! Heavy erosion UNDER the...</td>\n",
              "      <td>Alberta_floods</td>\n",
              "      <td>rt whoa heavy erosion under the pavement rt 25...</td>\n",
              "    </tr>\n",
              "    <tr>\n",
              "      <th>4</th>\n",
              "      <td>4.100000e+17</td>\n",
              "      <td>RT @Polyvinyl: Grab @sslyby's new album for ju...</td>\n",
              "      <td>Typhoon_Yolanda</td>\n",
              "      <td>rt grab s new album for just 1 part of a great...</td>\n",
              "    </tr>\n",
              "  </tbody>\n",
              "</table>\n",
              "</div>\n",
              "      <button class=\"colab-df-convert\" onclick=\"convertToInteractive('df-45619045-3857-4f42-8d94-71c6f0078405')\"\n",
              "              title=\"Convert this dataframe to an interactive table.\"\n",
              "              style=\"display:none;\">\n",
              "        \n",
              "  <svg xmlns=\"http://www.w3.org/2000/svg\" height=\"24px\"viewBox=\"0 0 24 24\"\n",
              "       width=\"24px\">\n",
              "    <path d=\"M0 0h24v24H0V0z\" fill=\"none\"/>\n",
              "    <path d=\"M18.56 5.44l.94 2.06.94-2.06 2.06-.94-2.06-.94-.94-2.06-.94 2.06-2.06.94zm-11 1L8.5 8.5l.94-2.06 2.06-.94-2.06-.94L8.5 2.5l-.94 2.06-2.06.94zm10 10l.94 2.06.94-2.06 2.06-.94-2.06-.94-.94-2.06-.94 2.06-2.06.94z\"/><path d=\"M17.41 7.96l-1.37-1.37c-.4-.4-.92-.59-1.43-.59-.52 0-1.04.2-1.43.59L10.3 9.45l-7.72 7.72c-.78.78-.78 2.05 0 2.83L4 21.41c.39.39.9.59 1.41.59.51 0 1.02-.2 1.41-.59l7.78-7.78 2.81-2.81c.8-.78.8-2.07 0-2.86zM5.41 20L4 18.59l7.72-7.72 1.47 1.35L5.41 20z\"/>\n",
              "  </svg>\n",
              "      </button>\n",
              "      \n",
              "  <style>\n",
              "    .colab-df-container {\n",
              "      display:flex;\n",
              "      flex-wrap:wrap;\n",
              "      gap: 12px;\n",
              "    }\n",
              "\n",
              "    .colab-df-convert {\n",
              "      background-color: #E8F0FE;\n",
              "      border: none;\n",
              "      border-radius: 50%;\n",
              "      cursor: pointer;\n",
              "      display: none;\n",
              "      fill: #1967D2;\n",
              "      height: 32px;\n",
              "      padding: 0 0 0 0;\n",
              "      width: 32px;\n",
              "    }\n",
              "\n",
              "    .colab-df-convert:hover {\n",
              "      background-color: #E2EBFA;\n",
              "      box-shadow: 0px 1px 2px rgba(60, 64, 67, 0.3), 0px 1px 3px 1px rgba(60, 64, 67, 0.15);\n",
              "      fill: #174EA6;\n",
              "    }\n",
              "\n",
              "    [theme=dark] .colab-df-convert {\n",
              "      background-color: #3B4455;\n",
              "      fill: #D2E3FC;\n",
              "    }\n",
              "\n",
              "    [theme=dark] .colab-df-convert:hover {\n",
              "      background-color: #434B5C;\n",
              "      box-shadow: 0px 1px 3px 1px rgba(0, 0, 0, 0.15);\n",
              "      filter: drop-shadow(0px 1px 2px rgba(0, 0, 0, 0.3));\n",
              "      fill: #FFFFFF;\n",
              "    }\n",
              "  </style>\n",
              "\n",
              "      <script>\n",
              "        const buttonEl =\n",
              "          document.querySelector('#df-45619045-3857-4f42-8d94-71c6f0078405 button.colab-df-convert');\n",
              "        buttonEl.style.display =\n",
              "          google.colab.kernel.accessAllowed ? 'block' : 'none';\n",
              "\n",
              "        async function convertToInteractive(key) {\n",
              "          const element = document.querySelector('#df-45619045-3857-4f42-8d94-71c6f0078405');\n",
              "          const dataTable =\n",
              "            await google.colab.kernel.invokeFunction('convertToInteractive',\n",
              "                                                     [key], {});\n",
              "          if (!dataTable) return;\n",
              "\n",
              "          const docLinkHtml = 'Like what you see? Visit the ' +\n",
              "            '<a target=\"_blank\" href=https://colab.research.google.com/notebooks/data_table.ipynb>data table notebook</a>'\n",
              "            + ' to learn more about interactive tables.';\n",
              "          element.innerHTML = '';\n",
              "          dataTable['output_type'] = 'display_data';\n",
              "          await google.colab.output.renderOutput(dataTable, element);\n",
              "          const docLink = document.createElement('div');\n",
              "          docLink.innerHTML = docLinkHtml;\n",
              "          element.appendChild(docLink);\n",
              "        }\n",
              "      </script>\n",
              "    </div>\n",
              "  </div>\n",
              "  "
            ],
            "text/plain": [
              "       Tweet ID                                         tweet_text  \\\n",
              "0  2.330000e+17  RT @KMSians: Let's all pray for those who lost...   \n",
              "1  3.020000e+17  RT @Crusaderofchaos: Wow! #Meteor over Russia ...   \n",
              "2  4.010000e+17  RT @ParkerMcKinley: Death Toll in the Philippi...   \n",
              "3  3.490000e+17  RT @tedhenley: WHOA!?! Heavy erosion UNDER the...   \n",
              "4  4.100000e+17  RT @Polyvinyl: Grab @sslyby's new album for ju...   \n",
              "\n",
              "          class_label                               tweet_text_Processed  \n",
              "0  Philipinnes_floods  rt let s all pray for those who lost their hom...  \n",
              "1       Russia_meteor   rt wow meteor over russia and for the sonic boom  \n",
              "2     Typhoon_Yolanda  rt death toll in the philippines typhoon is 4 ...  \n",
              "3      Alberta_floods  rt whoa heavy erosion under the pavement rt 25...  \n",
              "4     Typhoon_Yolanda  rt grab s new album for just 1 part of a great...  "
            ]
          },
          "execution_count": 149,
          "metadata": {},
          "output_type": "execute_result"
        }
      ],
      "source": [
        "#Lower Case\n",
        "df2['tweet_text_Processed'] = df2['tweet_text_Processed'].map(lambda x: x.lower())\n",
        "df2.head()"
      ]
    },
    {
      "cell_type": "code",
      "execution_count": null,
      "metadata": {
        "colab": {
          "base_uri": "https://localhost:8080/",
          "height": 206
        },
        "id": "QUfTUj8vUV00",
        "outputId": "b4588e51-c797-4791-86d4-c0c848ea66bb"
      },
      "outputs": [
        {
          "data": {
            "text/html": [
              "\n",
              "  <div id=\"df-89d35778-5899-4e62-9ce1-2293ef0c4db6\">\n",
              "    <div class=\"colab-df-container\">\n",
              "      <div>\n",
              "<style scoped>\n",
              "    .dataframe tbody tr th:only-of-type {\n",
              "        vertical-align: middle;\n",
              "    }\n",
              "\n",
              "    .dataframe tbody tr th {\n",
              "        vertical-align: top;\n",
              "    }\n",
              "\n",
              "    .dataframe thead th {\n",
              "        text-align: right;\n",
              "    }\n",
              "</style>\n",
              "<table border=\"1\" class=\"dataframe\">\n",
              "  <thead>\n",
              "    <tr style=\"text-align: right;\">\n",
              "      <th></th>\n",
              "      <th>Tweet ID</th>\n",
              "      <th>tweet_text</th>\n",
              "      <th>class_label</th>\n",
              "      <th>tweet_text_Processed</th>\n",
              "    </tr>\n",
              "  </thead>\n",
              "  <tbody>\n",
              "    <tr>\n",
              "      <th>0</th>\n",
              "      <td>2.330000e+17</td>\n",
              "      <td>RT @KMSians: Let's all pray for those who lost...</td>\n",
              "      <td>Philipinnes_floods</td>\n",
              "      <td>rt let s all pray for those who lost their hom...</td>\n",
              "    </tr>\n",
              "    <tr>\n",
              "      <th>1</th>\n",
              "      <td>3.020000e+17</td>\n",
              "      <td>RT @Crusaderofchaos: Wow! #Meteor over Russia ...</td>\n",
              "      <td>Russia_meteor</td>\n",
              "      <td>rt wow meteor over russia and for the sonic boom</td>\n",
              "    </tr>\n",
              "    <tr>\n",
              "      <th>2</th>\n",
              "      <td>4.010000e+17</td>\n",
              "      <td>RT @ParkerMcKinley: Death Toll in the Philippi...</td>\n",
              "      <td>Typhoon_Yolanda</td>\n",
              "      <td>rt death toll in the philippines typhoon is 4 ...</td>\n",
              "    </tr>\n",
              "    <tr>\n",
              "      <th>3</th>\n",
              "      <td>3.490000e+17</td>\n",
              "      <td>RT @tedhenley: WHOA!?! Heavy erosion UNDER the...</td>\n",
              "      <td>Alberta_floods</td>\n",
              "      <td>rt whoa heavy erosion under the pavement rt 25...</td>\n",
              "    </tr>\n",
              "    <tr>\n",
              "      <th>4</th>\n",
              "      <td>4.100000e+17</td>\n",
              "      <td>RT @Polyvinyl: Grab @sslyby's new album for ju...</td>\n",
              "      <td>Typhoon_Yolanda</td>\n",
              "      <td>rt grab s new album for just 1 part of a great...</td>\n",
              "    </tr>\n",
              "  </tbody>\n",
              "</table>\n",
              "</div>\n",
              "      <button class=\"colab-df-convert\" onclick=\"convertToInteractive('df-89d35778-5899-4e62-9ce1-2293ef0c4db6')\"\n",
              "              title=\"Convert this dataframe to an interactive table.\"\n",
              "              style=\"display:none;\">\n",
              "        \n",
              "  <svg xmlns=\"http://www.w3.org/2000/svg\" height=\"24px\"viewBox=\"0 0 24 24\"\n",
              "       width=\"24px\">\n",
              "    <path d=\"M0 0h24v24H0V0z\" fill=\"none\"/>\n",
              "    <path d=\"M18.56 5.44l.94 2.06.94-2.06 2.06-.94-2.06-.94-.94-2.06-.94 2.06-2.06.94zm-11 1L8.5 8.5l.94-2.06 2.06-.94-2.06-.94L8.5 2.5l-.94 2.06-2.06.94zm10 10l.94 2.06.94-2.06 2.06-.94-2.06-.94-.94-2.06-.94 2.06-2.06.94z\"/><path d=\"M17.41 7.96l-1.37-1.37c-.4-.4-.92-.59-1.43-.59-.52 0-1.04.2-1.43.59L10.3 9.45l-7.72 7.72c-.78.78-.78 2.05 0 2.83L4 21.41c.39.39.9.59 1.41.59.51 0 1.02-.2 1.41-.59l7.78-7.78 2.81-2.81c.8-.78.8-2.07 0-2.86zM5.41 20L4 18.59l7.72-7.72 1.47 1.35L5.41 20z\"/>\n",
              "  </svg>\n",
              "      </button>\n",
              "      \n",
              "  <style>\n",
              "    .colab-df-container {\n",
              "      display:flex;\n",
              "      flex-wrap:wrap;\n",
              "      gap: 12px;\n",
              "    }\n",
              "\n",
              "    .colab-df-convert {\n",
              "      background-color: #E8F0FE;\n",
              "      border: none;\n",
              "      border-radius: 50%;\n",
              "      cursor: pointer;\n",
              "      display: none;\n",
              "      fill: #1967D2;\n",
              "      height: 32px;\n",
              "      padding: 0 0 0 0;\n",
              "      width: 32px;\n",
              "    }\n",
              "\n",
              "    .colab-df-convert:hover {\n",
              "      background-color: #E2EBFA;\n",
              "      box-shadow: 0px 1px 2px rgba(60, 64, 67, 0.3), 0px 1px 3px 1px rgba(60, 64, 67, 0.15);\n",
              "      fill: #174EA6;\n",
              "    }\n",
              "\n",
              "    [theme=dark] .colab-df-convert {\n",
              "      background-color: #3B4455;\n",
              "      fill: #D2E3FC;\n",
              "    }\n",
              "\n",
              "    [theme=dark] .colab-df-convert:hover {\n",
              "      background-color: #434B5C;\n",
              "      box-shadow: 0px 1px 3px 1px rgba(0, 0, 0, 0.15);\n",
              "      filter: drop-shadow(0px 1px 2px rgba(0, 0, 0, 0.3));\n",
              "      fill: #FFFFFF;\n",
              "    }\n",
              "  </style>\n",
              "\n",
              "      <script>\n",
              "        const buttonEl =\n",
              "          document.querySelector('#df-89d35778-5899-4e62-9ce1-2293ef0c4db6 button.colab-df-convert');\n",
              "        buttonEl.style.display =\n",
              "          google.colab.kernel.accessAllowed ? 'block' : 'none';\n",
              "\n",
              "        async function convertToInteractive(key) {\n",
              "          const element = document.querySelector('#df-89d35778-5899-4e62-9ce1-2293ef0c4db6');\n",
              "          const dataTable =\n",
              "            await google.colab.kernel.invokeFunction('convertToInteractive',\n",
              "                                                     [key], {});\n",
              "          if (!dataTable) return;\n",
              "\n",
              "          const docLinkHtml = 'Like what you see? Visit the ' +\n",
              "            '<a target=\"_blank\" href=https://colab.research.google.com/notebooks/data_table.ipynb>data table notebook</a>'\n",
              "            + ' to learn more about interactive tables.';\n",
              "          element.innerHTML = '';\n",
              "          dataTable['output_type'] = 'display_data';\n",
              "          await google.colab.output.renderOutput(dataTable, element);\n",
              "          const docLink = document.createElement('div');\n",
              "          docLink.innerHTML = docLinkHtml;\n",
              "          element.appendChild(docLink);\n",
              "        }\n",
              "      </script>\n",
              "    </div>\n",
              "  </div>\n",
              "  "
            ],
            "text/plain": [
              "       Tweet ID                                         tweet_text  \\\n",
              "0  2.330000e+17  RT @KMSians: Let's all pray for those who lost...   \n",
              "1  3.020000e+17  RT @Crusaderofchaos: Wow! #Meteor over Russia ...   \n",
              "2  4.010000e+17  RT @ParkerMcKinley: Death Toll in the Philippi...   \n",
              "3  3.490000e+17  RT @tedhenley: WHOA!?! Heavy erosion UNDER the...   \n",
              "4  4.100000e+17  RT @Polyvinyl: Grab @sslyby's new album for ju...   \n",
              "\n",
              "          class_label                               tweet_text_Processed  \n",
              "0  Philipinnes_floods  rt let s all pray for those who lost their hom...  \n",
              "1       Russia_meteor   rt wow meteor over russia and for the sonic boom  \n",
              "2     Typhoon_Yolanda  rt death toll in the philippines typhoon is 4 ...  \n",
              "3      Alberta_floods  rt whoa heavy erosion under the pavement rt 25...  \n",
              "4     Typhoon_Yolanda  rt grab s new album for just 1 part of a great...  "
            ]
          },
          "execution_count": 150,
          "metadata": {},
          "output_type": "execute_result"
        }
      ],
      "source": [
        "#Remove punctuations\n",
        "df2['tweet_text_Processed'] = df2['tweet_text_Processed'].map(lambda x: re.sub(r'[^\\w\\s]', '', x))\n",
        "df2.head()"
      ]
    },
    {
      "cell_type": "code",
      "execution_count": null,
      "metadata": {
        "colab": {
          "base_uri": "https://localhost:8080/",
          "height": 206
        },
        "id": "GHk39S1zUV00",
        "outputId": "f6f9b434-948a-433c-9541-8c9624e8a201"
      },
      "outputs": [
        {
          "data": {
            "text/html": [
              "\n",
              "  <div id=\"df-3a9cccb6-0443-4782-b7db-dcddcac46ec8\">\n",
              "    <div class=\"colab-df-container\">\n",
              "      <div>\n",
              "<style scoped>\n",
              "    .dataframe tbody tr th:only-of-type {\n",
              "        vertical-align: middle;\n",
              "    }\n",
              "\n",
              "    .dataframe tbody tr th {\n",
              "        vertical-align: top;\n",
              "    }\n",
              "\n",
              "    .dataframe thead th {\n",
              "        text-align: right;\n",
              "    }\n",
              "</style>\n",
              "<table border=\"1\" class=\"dataframe\">\n",
              "  <thead>\n",
              "    <tr style=\"text-align: right;\">\n",
              "      <th></th>\n",
              "      <th>Tweet ID</th>\n",
              "      <th>tweet_text</th>\n",
              "      <th>class_label</th>\n",
              "      <th>tweet_text_Processed</th>\n",
              "    </tr>\n",
              "  </thead>\n",
              "  <tbody>\n",
              "    <tr>\n",
              "      <th>0</th>\n",
              "      <td>2.330000e+17</td>\n",
              "      <td>RT @KMSians: Let's all pray for those who lost...</td>\n",
              "      <td>Philipinnes_floods</td>\n",
              "      <td>rt let s all pray for those who lost their hom...</td>\n",
              "    </tr>\n",
              "    <tr>\n",
              "      <th>1</th>\n",
              "      <td>3.020000e+17</td>\n",
              "      <td>RT @Crusaderofchaos: Wow! #Meteor over Russia ...</td>\n",
              "      <td>Russia_meteor</td>\n",
              "      <td>rt wow meteor over russia and for the sonic boom</td>\n",
              "    </tr>\n",
              "    <tr>\n",
              "      <th>2</th>\n",
              "      <td>4.010000e+17</td>\n",
              "      <td>RT @ParkerMcKinley: Death Toll in the Philippi...</td>\n",
              "      <td>Typhoon_Yolanda</td>\n",
              "      <td>rt death toll in the philippines typhoon is 4 ...</td>\n",
              "    </tr>\n",
              "    <tr>\n",
              "      <th>3</th>\n",
              "      <td>3.490000e+17</td>\n",
              "      <td>RT @tedhenley: WHOA!?! Heavy erosion UNDER the...</td>\n",
              "      <td>Alberta_floods</td>\n",
              "      <td>rt whoa heavy erosion under the pavement rt 25...</td>\n",
              "    </tr>\n",
              "    <tr>\n",
              "      <th>4</th>\n",
              "      <td>4.100000e+17</td>\n",
              "      <td>RT @Polyvinyl: Grab @sslyby's new album for ju...</td>\n",
              "      <td>Typhoon_Yolanda</td>\n",
              "      <td>rt grab s new album for just 1 part of a great...</td>\n",
              "    </tr>\n",
              "  </tbody>\n",
              "</table>\n",
              "</div>\n",
              "      <button class=\"colab-df-convert\" onclick=\"convertToInteractive('df-3a9cccb6-0443-4782-b7db-dcddcac46ec8')\"\n",
              "              title=\"Convert this dataframe to an interactive table.\"\n",
              "              style=\"display:none;\">\n",
              "        \n",
              "  <svg xmlns=\"http://www.w3.org/2000/svg\" height=\"24px\"viewBox=\"0 0 24 24\"\n",
              "       width=\"24px\">\n",
              "    <path d=\"M0 0h24v24H0V0z\" fill=\"none\"/>\n",
              "    <path d=\"M18.56 5.44l.94 2.06.94-2.06 2.06-.94-2.06-.94-.94-2.06-.94 2.06-2.06.94zm-11 1L8.5 8.5l.94-2.06 2.06-.94-2.06-.94L8.5 2.5l-.94 2.06-2.06.94zm10 10l.94 2.06.94-2.06 2.06-.94-2.06-.94-.94-2.06-.94 2.06-2.06.94z\"/><path d=\"M17.41 7.96l-1.37-1.37c-.4-.4-.92-.59-1.43-.59-.52 0-1.04.2-1.43.59L10.3 9.45l-7.72 7.72c-.78.78-.78 2.05 0 2.83L4 21.41c.39.39.9.59 1.41.59.51 0 1.02-.2 1.41-.59l7.78-7.78 2.81-2.81c.8-.78.8-2.07 0-2.86zM5.41 20L4 18.59l7.72-7.72 1.47 1.35L5.41 20z\"/>\n",
              "  </svg>\n",
              "      </button>\n",
              "      \n",
              "  <style>\n",
              "    .colab-df-container {\n",
              "      display:flex;\n",
              "      flex-wrap:wrap;\n",
              "      gap: 12px;\n",
              "    }\n",
              "\n",
              "    .colab-df-convert {\n",
              "      background-color: #E8F0FE;\n",
              "      border: none;\n",
              "      border-radius: 50%;\n",
              "      cursor: pointer;\n",
              "      display: none;\n",
              "      fill: #1967D2;\n",
              "      height: 32px;\n",
              "      padding: 0 0 0 0;\n",
              "      width: 32px;\n",
              "    }\n",
              "\n",
              "    .colab-df-convert:hover {\n",
              "      background-color: #E2EBFA;\n",
              "      box-shadow: 0px 1px 2px rgba(60, 64, 67, 0.3), 0px 1px 3px 1px rgba(60, 64, 67, 0.15);\n",
              "      fill: #174EA6;\n",
              "    }\n",
              "\n",
              "    [theme=dark] .colab-df-convert {\n",
              "      background-color: #3B4455;\n",
              "      fill: #D2E3FC;\n",
              "    }\n",
              "\n",
              "    [theme=dark] .colab-df-convert:hover {\n",
              "      background-color: #434B5C;\n",
              "      box-shadow: 0px 1px 3px 1px rgba(0, 0, 0, 0.15);\n",
              "      filter: drop-shadow(0px 1px 2px rgba(0, 0, 0, 0.3));\n",
              "      fill: #FFFFFF;\n",
              "    }\n",
              "  </style>\n",
              "\n",
              "      <script>\n",
              "        const buttonEl =\n",
              "          document.querySelector('#df-3a9cccb6-0443-4782-b7db-dcddcac46ec8 button.colab-df-convert');\n",
              "        buttonEl.style.display =\n",
              "          google.colab.kernel.accessAllowed ? 'block' : 'none';\n",
              "\n",
              "        async function convertToInteractive(key) {\n",
              "          const element = document.querySelector('#df-3a9cccb6-0443-4782-b7db-dcddcac46ec8');\n",
              "          const dataTable =\n",
              "            await google.colab.kernel.invokeFunction('convertToInteractive',\n",
              "                                                     [key], {});\n",
              "          if (!dataTable) return;\n",
              "\n",
              "          const docLinkHtml = 'Like what you see? Visit the ' +\n",
              "            '<a target=\"_blank\" href=https://colab.research.google.com/notebooks/data_table.ipynb>data table notebook</a>'\n",
              "            + ' to learn more about interactive tables.';\n",
              "          element.innerHTML = '';\n",
              "          dataTable['output_type'] = 'display_data';\n",
              "          await google.colab.output.renderOutput(dataTable, element);\n",
              "          const docLink = document.createElement('div');\n",
              "          docLink.innerHTML = docLinkHtml;\n",
              "          element.appendChild(docLink);\n",
              "        }\n",
              "      </script>\n",
              "    </div>\n",
              "  </div>\n",
              "  "
            ],
            "text/plain": [
              "       Tweet ID                                         tweet_text  \\\n",
              "0  2.330000e+17  RT @KMSians: Let's all pray for those who lost...   \n",
              "1  3.020000e+17  RT @Crusaderofchaos: Wow! #Meteor over Russia ...   \n",
              "2  4.010000e+17  RT @ParkerMcKinley: Death Toll in the Philippi...   \n",
              "3  3.490000e+17  RT @tedhenley: WHOA!?! Heavy erosion UNDER the...   \n",
              "4  4.100000e+17  RT @Polyvinyl: Grab @sslyby's new album for ju...   \n",
              "\n",
              "          class_label                               tweet_text_Processed  \n",
              "0  Philipinnes_floods  rt let s all pray for those who lost their hom...  \n",
              "1       Russia_meteor   rt wow meteor over russia and for the sonic boom  \n",
              "2     Typhoon_Yolanda  rt death toll in the philippines typhoon is 4 ...  \n",
              "3      Alberta_floods  rt whoa heavy erosion under the pavement rt 25...  \n",
              "4     Typhoon_Yolanda  rt grab s new album for just 1 part of a great...  "
            ]
          },
          "execution_count": 151,
          "metadata": {},
          "output_type": "execute_result"
        }
      ],
      "source": [
        "#Remove unicodes\n",
        "df2['tweet_text_Processed'] = df2['tweet_text_Processed'].map(lambda x : re.sub(r'[^\\x00-\\x7F]+',' ', x))\n",
        "df2.head()"
      ]
    },
    {
      "cell_type": "code",
      "execution_count": null,
      "metadata": {
        "id": "GwVWy17XUV00"
      },
      "outputs": [],
      "source": [
        "from nltk.stem import WordNetLemmatizer\n",
        "from nltk.corpus import stopwords "
      ]
    },
    {
      "cell_type": "code",
      "execution_count": null,
      "metadata": {
        "colab": {
          "base_uri": "https://localhost:8080/",
          "height": 242
        },
        "id": "vm6MzSxEUV00",
        "outputId": "30c1718f-4691-4474-f417-285ce86284d6"
      },
      "outputs": [
        {
          "name": "stderr",
          "output_type": "stream",
          "text": [
            "[nltk_data] Downloading package stopwords to /root/nltk_data...\n",
            "[nltk_data]   Package stopwords is already up-to-date!\n"
          ]
        },
        {
          "data": {
            "text/html": [
              "\n",
              "  <div id=\"df-63a57c0c-2c18-4b37-a29b-a50ee3ed44d7\">\n",
              "    <div class=\"colab-df-container\">\n",
              "      <div>\n",
              "<style scoped>\n",
              "    .dataframe tbody tr th:only-of-type {\n",
              "        vertical-align: middle;\n",
              "    }\n",
              "\n",
              "    .dataframe tbody tr th {\n",
              "        vertical-align: top;\n",
              "    }\n",
              "\n",
              "    .dataframe thead th {\n",
              "        text-align: right;\n",
              "    }\n",
              "</style>\n",
              "<table border=\"1\" class=\"dataframe\">\n",
              "  <thead>\n",
              "    <tr style=\"text-align: right;\">\n",
              "      <th></th>\n",
              "      <th>Tweet ID</th>\n",
              "      <th>tweet_text</th>\n",
              "      <th>class_label</th>\n",
              "      <th>tweet_text_Processed</th>\n",
              "    </tr>\n",
              "  </thead>\n",
              "  <tbody>\n",
              "    <tr>\n",
              "      <th>0</th>\n",
              "      <td>2.330000e+17</td>\n",
              "      <td>RT @KMSians: Let's all pray for those who lost...</td>\n",
              "      <td>Philipinnes_floods</td>\n",
              "      <td>rt let pray lost homes living cold starving re...</td>\n",
              "    </tr>\n",
              "    <tr>\n",
              "      <th>1</th>\n",
              "      <td>3.020000e+17</td>\n",
              "      <td>RT @Crusaderofchaos: Wow! #Meteor over Russia ...</td>\n",
              "      <td>Russia_meteor</td>\n",
              "      <td>rt wow meteor russia sonic boom</td>\n",
              "    </tr>\n",
              "    <tr>\n",
              "      <th>2</th>\n",
              "      <td>4.010000e+17</td>\n",
              "      <td>RT @ParkerMcKinley: Death Toll in the Philippi...</td>\n",
              "      <td>Typhoon_Yolanda</td>\n",
              "      <td>rt death toll philippines typhoon 4 000 plus a...</td>\n",
              "    </tr>\n",
              "    <tr>\n",
              "      <th>3</th>\n",
              "      <td>3.490000e+17</td>\n",
              "      <td>RT @tedhenley: WHOA!?! Heavy erosion UNDER the...</td>\n",
              "      <td>Alberta_floods</td>\n",
              "      <td>rt whoa heavy erosion pavement rt 25th ave erl...</td>\n",
              "    </tr>\n",
              "    <tr>\n",
              "      <th>4</th>\n",
              "      <td>4.100000e+17</td>\n",
              "      <td>RT @Polyvinyl: Grab @sslyby's new album for ju...</td>\n",
              "      <td>Typhoon_Yolanda</td>\n",
              "      <td>rt grab new album 1 part great cause philippin...</td>\n",
              "    </tr>\n",
              "  </tbody>\n",
              "</table>\n",
              "</div>\n",
              "      <button class=\"colab-df-convert\" onclick=\"convertToInteractive('df-63a57c0c-2c18-4b37-a29b-a50ee3ed44d7')\"\n",
              "              title=\"Convert this dataframe to an interactive table.\"\n",
              "              style=\"display:none;\">\n",
              "        \n",
              "  <svg xmlns=\"http://www.w3.org/2000/svg\" height=\"24px\"viewBox=\"0 0 24 24\"\n",
              "       width=\"24px\">\n",
              "    <path d=\"M0 0h24v24H0V0z\" fill=\"none\"/>\n",
              "    <path d=\"M18.56 5.44l.94 2.06.94-2.06 2.06-.94-2.06-.94-.94-2.06-.94 2.06-2.06.94zm-11 1L8.5 8.5l.94-2.06 2.06-.94-2.06-.94L8.5 2.5l-.94 2.06-2.06.94zm10 10l.94 2.06.94-2.06 2.06-.94-2.06-.94-.94-2.06-.94 2.06-2.06.94z\"/><path d=\"M17.41 7.96l-1.37-1.37c-.4-.4-.92-.59-1.43-.59-.52 0-1.04.2-1.43.59L10.3 9.45l-7.72 7.72c-.78.78-.78 2.05 0 2.83L4 21.41c.39.39.9.59 1.41.59.51 0 1.02-.2 1.41-.59l7.78-7.78 2.81-2.81c.8-.78.8-2.07 0-2.86zM5.41 20L4 18.59l7.72-7.72 1.47 1.35L5.41 20z\"/>\n",
              "  </svg>\n",
              "      </button>\n",
              "      \n",
              "  <style>\n",
              "    .colab-df-container {\n",
              "      display:flex;\n",
              "      flex-wrap:wrap;\n",
              "      gap: 12px;\n",
              "    }\n",
              "\n",
              "    .colab-df-convert {\n",
              "      background-color: #E8F0FE;\n",
              "      border: none;\n",
              "      border-radius: 50%;\n",
              "      cursor: pointer;\n",
              "      display: none;\n",
              "      fill: #1967D2;\n",
              "      height: 32px;\n",
              "      padding: 0 0 0 0;\n",
              "      width: 32px;\n",
              "    }\n",
              "\n",
              "    .colab-df-convert:hover {\n",
              "      background-color: #E2EBFA;\n",
              "      box-shadow: 0px 1px 2px rgba(60, 64, 67, 0.3), 0px 1px 3px 1px rgba(60, 64, 67, 0.15);\n",
              "      fill: #174EA6;\n",
              "    }\n",
              "\n",
              "    [theme=dark] .colab-df-convert {\n",
              "      background-color: #3B4455;\n",
              "      fill: #D2E3FC;\n",
              "    }\n",
              "\n",
              "    [theme=dark] .colab-df-convert:hover {\n",
              "      background-color: #434B5C;\n",
              "      box-shadow: 0px 1px 3px 1px rgba(0, 0, 0, 0.15);\n",
              "      filter: drop-shadow(0px 1px 2px rgba(0, 0, 0, 0.3));\n",
              "      fill: #FFFFFF;\n",
              "    }\n",
              "  </style>\n",
              "\n",
              "      <script>\n",
              "        const buttonEl =\n",
              "          document.querySelector('#df-63a57c0c-2c18-4b37-a29b-a50ee3ed44d7 button.colab-df-convert');\n",
              "        buttonEl.style.display =\n",
              "          google.colab.kernel.accessAllowed ? 'block' : 'none';\n",
              "\n",
              "        async function convertToInteractive(key) {\n",
              "          const element = document.querySelector('#df-63a57c0c-2c18-4b37-a29b-a50ee3ed44d7');\n",
              "          const dataTable =\n",
              "            await google.colab.kernel.invokeFunction('convertToInteractive',\n",
              "                                                     [key], {});\n",
              "          if (!dataTable) return;\n",
              "\n",
              "          const docLinkHtml = 'Like what you see? Visit the ' +\n",
              "            '<a target=\"_blank\" href=https://colab.research.google.com/notebooks/data_table.ipynb>data table notebook</a>'\n",
              "            + ' to learn more about interactive tables.';\n",
              "          element.innerHTML = '';\n",
              "          dataTable['output_type'] = 'display_data';\n",
              "          await google.colab.output.renderOutput(dataTable, element);\n",
              "          const docLink = document.createElement('div');\n",
              "          docLink.innerHTML = docLinkHtml;\n",
              "          element.appendChild(docLink);\n",
              "        }\n",
              "      </script>\n",
              "    </div>\n",
              "  </div>\n",
              "  "
            ],
            "text/plain": [
              "       Tweet ID                                         tweet_text  \\\n",
              "0  2.330000e+17  RT @KMSians: Let's all pray for those who lost...   \n",
              "1  3.020000e+17  RT @Crusaderofchaos: Wow! #Meteor over Russia ...   \n",
              "2  4.010000e+17  RT @ParkerMcKinley: Death Toll in the Philippi...   \n",
              "3  3.490000e+17  RT @tedhenley: WHOA!?! Heavy erosion UNDER the...   \n",
              "4  4.100000e+17  RT @Polyvinyl: Grab @sslyby's new album for ju...   \n",
              "\n",
              "          class_label                               tweet_text_Processed  \n",
              "0  Philipinnes_floods  rt let pray lost homes living cold starving re...  \n",
              "1       Russia_meteor                    rt wow meteor russia sonic boom  \n",
              "2     Typhoon_Yolanda  rt death toll philippines typhoon 4 000 plus a...  \n",
              "3      Alberta_floods  rt whoa heavy erosion pavement rt 25th ave erl...  \n",
              "4     Typhoon_Yolanda  rt grab new album 1 part great cause philippin...  "
            ]
          },
          "execution_count": 153,
          "metadata": {},
          "output_type": "execute_result"
        }
      ],
      "source": [
        "# Remove stopwords\n",
        "nltk.download('stopwords')\n",
        "stop_words = stopwords.words('english')\n",
        "df2['tweet_text_Processed'] = df2['tweet_text_Processed'].map(lambda x : ' '.join([w for w in x.split() if w not in stop_words]))\n",
        "df2.head()"
      ]
    },
    {
      "cell_type": "code",
      "execution_count": null,
      "metadata": {
        "colab": {
          "base_uri": "https://localhost:8080/"
        },
        "id": "PeDvoPzsUV00",
        "outputId": "cc6b1a6b-aa0b-4686-82b3-3113d5b72a03"
      },
      "outputs": [
        {
          "name": "stderr",
          "output_type": "stream",
          "text": [
            "[nltk_data] Downloading package wordnet to /root/nltk_data...\n",
            "[nltk_data]   Package wordnet is already up-to-date!\n"
          ]
        },
        {
          "data": {
            "text/plain": [
              "True"
            ]
          },
          "execution_count": 154,
          "metadata": {},
          "output_type": "execute_result"
        }
      ],
      "source": [
        "nltk.download('wordnet')"
      ]
    },
    {
      "cell_type": "code",
      "execution_count": null,
      "metadata": {
        "colab": {
          "base_uri": "https://localhost:8080/"
        },
        "id": "t2zKb48nUV00",
        "outputId": "298b004d-2692-49ed-fbe7-563a55a58ce1"
      },
      "outputs": [
        {
          "name": "stderr",
          "output_type": "stream",
          "text": [
            "[nltk_data] Downloading package omw-1.4 to /root/nltk_data...\n",
            "[nltk_data]   Package omw-1.4 is already up-to-date!\n"
          ]
        },
        {
          "data": {
            "text/plain": [
              "True"
            ]
          },
          "execution_count": 155,
          "metadata": {},
          "output_type": "execute_result"
        }
      ],
      "source": [
        "import nltk\n",
        "nltk.download('omw-1.4')"
      ]
    },
    {
      "cell_type": "code",
      "execution_count": null,
      "metadata": {
        "colab": {
          "base_uri": "https://localhost:8080/",
          "height": 206
        },
        "id": "20bzoqt9UV00",
        "outputId": "07a9db0f-ceb8-4461-df61-82279506d0b4"
      },
      "outputs": [
        {
          "data": {
            "text/html": [
              "\n",
              "  <div id=\"df-c1be6810-7cf2-4a62-8fb8-1278cfb87998\">\n",
              "    <div class=\"colab-df-container\">\n",
              "      <div>\n",
              "<style scoped>\n",
              "    .dataframe tbody tr th:only-of-type {\n",
              "        vertical-align: middle;\n",
              "    }\n",
              "\n",
              "    .dataframe tbody tr th {\n",
              "        vertical-align: top;\n",
              "    }\n",
              "\n",
              "    .dataframe thead th {\n",
              "        text-align: right;\n",
              "    }\n",
              "</style>\n",
              "<table border=\"1\" class=\"dataframe\">\n",
              "  <thead>\n",
              "    <tr style=\"text-align: right;\">\n",
              "      <th></th>\n",
              "      <th>Tweet ID</th>\n",
              "      <th>tweet_text</th>\n",
              "      <th>class_label</th>\n",
              "      <th>tweet_text_Processed</th>\n",
              "    </tr>\n",
              "  </thead>\n",
              "  <tbody>\n",
              "    <tr>\n",
              "      <th>0</th>\n",
              "      <td>2.330000e+17</td>\n",
              "      <td>RT @KMSians: Let's all pray for those who lost...</td>\n",
              "      <td>Philipinnes_floods</td>\n",
              "      <td>rt let pray lost home living cold starving res...</td>\n",
              "    </tr>\n",
              "    <tr>\n",
              "      <th>1</th>\n",
              "      <td>3.020000e+17</td>\n",
              "      <td>RT @Crusaderofchaos: Wow! #Meteor over Russia ...</td>\n",
              "      <td>Russia_meteor</td>\n",
              "      <td>rt wow meteor russia sonic boom</td>\n",
              "    </tr>\n",
              "    <tr>\n",
              "      <th>2</th>\n",
              "      <td>4.010000e+17</td>\n",
              "      <td>RT @ParkerMcKinley: Death Toll in the Philippi...</td>\n",
              "      <td>Typhoon_Yolanda</td>\n",
              "      <td>rt death toll philippine typhoon 4 000 plus am...</td>\n",
              "    </tr>\n",
              "    <tr>\n",
              "      <th>3</th>\n",
              "      <td>3.490000e+17</td>\n",
              "      <td>RT @tedhenley: WHOA!?! Heavy erosion UNDER the...</td>\n",
              "      <td>Alberta_floods</td>\n",
              "      <td>rt whoa heavy erosion pavement rt 25th ave erl...</td>\n",
              "    </tr>\n",
              "    <tr>\n",
              "      <th>4</th>\n",
              "      <td>4.100000e+17</td>\n",
              "      <td>RT @Polyvinyl: Grab @sslyby's new album for ju...</td>\n",
              "      <td>Typhoon_Yolanda</td>\n",
              "      <td>rt grab new album 1 part great cause philippin...</td>\n",
              "    </tr>\n",
              "  </tbody>\n",
              "</table>\n",
              "</div>\n",
              "      <button class=\"colab-df-convert\" onclick=\"convertToInteractive('df-c1be6810-7cf2-4a62-8fb8-1278cfb87998')\"\n",
              "              title=\"Convert this dataframe to an interactive table.\"\n",
              "              style=\"display:none;\">\n",
              "        \n",
              "  <svg xmlns=\"http://www.w3.org/2000/svg\" height=\"24px\"viewBox=\"0 0 24 24\"\n",
              "       width=\"24px\">\n",
              "    <path d=\"M0 0h24v24H0V0z\" fill=\"none\"/>\n",
              "    <path d=\"M18.56 5.44l.94 2.06.94-2.06 2.06-.94-2.06-.94-.94-2.06-.94 2.06-2.06.94zm-11 1L8.5 8.5l.94-2.06 2.06-.94-2.06-.94L8.5 2.5l-.94 2.06-2.06.94zm10 10l.94 2.06.94-2.06 2.06-.94-2.06-.94-.94-2.06-.94 2.06-2.06.94z\"/><path d=\"M17.41 7.96l-1.37-1.37c-.4-.4-.92-.59-1.43-.59-.52 0-1.04.2-1.43.59L10.3 9.45l-7.72 7.72c-.78.78-.78 2.05 0 2.83L4 21.41c.39.39.9.59 1.41.59.51 0 1.02-.2 1.41-.59l7.78-7.78 2.81-2.81c.8-.78.8-2.07 0-2.86zM5.41 20L4 18.59l7.72-7.72 1.47 1.35L5.41 20z\"/>\n",
              "  </svg>\n",
              "      </button>\n",
              "      \n",
              "  <style>\n",
              "    .colab-df-container {\n",
              "      display:flex;\n",
              "      flex-wrap:wrap;\n",
              "      gap: 12px;\n",
              "    }\n",
              "\n",
              "    .colab-df-convert {\n",
              "      background-color: #E8F0FE;\n",
              "      border: none;\n",
              "      border-radius: 50%;\n",
              "      cursor: pointer;\n",
              "      display: none;\n",
              "      fill: #1967D2;\n",
              "      height: 32px;\n",
              "      padding: 0 0 0 0;\n",
              "      width: 32px;\n",
              "    }\n",
              "\n",
              "    .colab-df-convert:hover {\n",
              "      background-color: #E2EBFA;\n",
              "      box-shadow: 0px 1px 2px rgba(60, 64, 67, 0.3), 0px 1px 3px 1px rgba(60, 64, 67, 0.15);\n",
              "      fill: #174EA6;\n",
              "    }\n",
              "\n",
              "    [theme=dark] .colab-df-convert {\n",
              "      background-color: #3B4455;\n",
              "      fill: #D2E3FC;\n",
              "    }\n",
              "\n",
              "    [theme=dark] .colab-df-convert:hover {\n",
              "      background-color: #434B5C;\n",
              "      box-shadow: 0px 1px 3px 1px rgba(0, 0, 0, 0.15);\n",
              "      filter: drop-shadow(0px 1px 2px rgba(0, 0, 0, 0.3));\n",
              "      fill: #FFFFFF;\n",
              "    }\n",
              "  </style>\n",
              "\n",
              "      <script>\n",
              "        const buttonEl =\n",
              "          document.querySelector('#df-c1be6810-7cf2-4a62-8fb8-1278cfb87998 button.colab-df-convert');\n",
              "        buttonEl.style.display =\n",
              "          google.colab.kernel.accessAllowed ? 'block' : 'none';\n",
              "\n",
              "        async function convertToInteractive(key) {\n",
              "          const element = document.querySelector('#df-c1be6810-7cf2-4a62-8fb8-1278cfb87998');\n",
              "          const dataTable =\n",
              "            await google.colab.kernel.invokeFunction('convertToInteractive',\n",
              "                                                     [key], {});\n",
              "          if (!dataTable) return;\n",
              "\n",
              "          const docLinkHtml = 'Like what you see? Visit the ' +\n",
              "            '<a target=\"_blank\" href=https://colab.research.google.com/notebooks/data_table.ipynb>data table notebook</a>'\n",
              "            + ' to learn more about interactive tables.';\n",
              "          element.innerHTML = '';\n",
              "          dataTable['output_type'] = 'display_data';\n",
              "          await google.colab.output.renderOutput(dataTable, element);\n",
              "          const docLink = document.createElement('div');\n",
              "          docLink.innerHTML = docLinkHtml;\n",
              "          element.appendChild(docLink);\n",
              "        }\n",
              "      </script>\n",
              "    </div>\n",
              "  </div>\n",
              "  "
            ],
            "text/plain": [
              "       Tweet ID                                         tweet_text  \\\n",
              "0  2.330000e+17  RT @KMSians: Let's all pray for those who lost...   \n",
              "1  3.020000e+17  RT @Crusaderofchaos: Wow! #Meteor over Russia ...   \n",
              "2  4.010000e+17  RT @ParkerMcKinley: Death Toll in the Philippi...   \n",
              "3  3.490000e+17  RT @tedhenley: WHOA!?! Heavy erosion UNDER the...   \n",
              "4  4.100000e+17  RT @Polyvinyl: Grab @sslyby's new album for ju...   \n",
              "\n",
              "          class_label                               tweet_text_Processed  \n",
              "0  Philipinnes_floods  rt let pray lost home living cold starving res...  \n",
              "1       Russia_meteor                    rt wow meteor russia sonic boom  \n",
              "2     Typhoon_Yolanda  rt death toll philippine typhoon 4 000 plus am...  \n",
              "3      Alberta_floods  rt whoa heavy erosion pavement rt 25th ave erl...  \n",
              "4     Typhoon_Yolanda  rt grab new album 1 part great cause philippin...  "
            ]
          },
          "execution_count": 156,
          "metadata": {},
          "output_type": "execute_result"
        }
      ],
      "source": [
        "# Lemmatize the text\n",
        "lemmer = WordNetLemmatizer()\n",
        "\n",
        "df2['tweet_text_Processed'] = df2['tweet_text_Processed'].map(lambda x : ' '.join([lemmer.lemmatize(w) for w in x.split() if w not in stop_words]))\n",
        "df2.head()"
      ]
    },
    {
      "cell_type": "code",
      "execution_count": null,
      "metadata": {
        "colab": {
          "base_uri": "https://localhost:8080/",
          "height": 206
        },
        "id": "W9YtYPwhUV01",
        "outputId": "0707396d-e925-498f-afd4-3953052c7dfc"
      },
      "outputs": [
        {
          "data": {
            "text/html": [
              "\n",
              "  <div id=\"df-b5dc6bdf-2579-4103-98d3-daa1d81815a7\">\n",
              "    <div class=\"colab-df-container\">\n",
              "      <div>\n",
              "<style scoped>\n",
              "    .dataframe tbody tr th:only-of-type {\n",
              "        vertical-align: middle;\n",
              "    }\n",
              "\n",
              "    .dataframe tbody tr th {\n",
              "        vertical-align: top;\n",
              "    }\n",
              "\n",
              "    .dataframe thead th {\n",
              "        text-align: right;\n",
              "    }\n",
              "</style>\n",
              "<table border=\"1\" class=\"dataframe\">\n",
              "  <thead>\n",
              "    <tr style=\"text-align: right;\">\n",
              "      <th></th>\n",
              "      <th>Tweet ID</th>\n",
              "      <th>tweet_text</th>\n",
              "      <th>class_label</th>\n",
              "      <th>tweet_text_Processed</th>\n",
              "    </tr>\n",
              "  </thead>\n",
              "  <tbody>\n",
              "    <tr>\n",
              "      <th>0</th>\n",
              "      <td>2.330000e+17</td>\n",
              "      <td>RT @KMSians: Let's all pray for those who lost...</td>\n",
              "      <td>Philipinnes_floods</td>\n",
              "      <td>rt let pray lost home living cold starving res...</td>\n",
              "    </tr>\n",
              "    <tr>\n",
              "      <th>1</th>\n",
              "      <td>3.020000e+17</td>\n",
              "      <td>RT @Crusaderofchaos: Wow! #Meteor over Russia ...</td>\n",
              "      <td>Russia_meteor</td>\n",
              "      <td>rt wow meteor russia sonic boom</td>\n",
              "    </tr>\n",
              "    <tr>\n",
              "      <th>2</th>\n",
              "      <td>4.010000e+17</td>\n",
              "      <td>RT @ParkerMcKinley: Death Toll in the Philippi...</td>\n",
              "      <td>Typhoon_Yolanda</td>\n",
              "      <td>rt death toll philippine typhoon 4 000 plus am...</td>\n",
              "    </tr>\n",
              "    <tr>\n",
              "      <th>3</th>\n",
              "      <td>3.490000e+17</td>\n",
              "      <td>RT @tedhenley: WHOA!?! Heavy erosion UNDER the...</td>\n",
              "      <td>Alberta_floods</td>\n",
              "      <td>rt whoa heavy erosion pavement rt 25th ave erl...</td>\n",
              "    </tr>\n",
              "    <tr>\n",
              "      <th>4</th>\n",
              "      <td>4.100000e+17</td>\n",
              "      <td>RT @Polyvinyl: Grab @sslyby's new album for ju...</td>\n",
              "      <td>Typhoon_Yolanda</td>\n",
              "      <td>rt grab new album 1 part great cause philippin...</td>\n",
              "    </tr>\n",
              "  </tbody>\n",
              "</table>\n",
              "</div>\n",
              "      <button class=\"colab-df-convert\" onclick=\"convertToInteractive('df-b5dc6bdf-2579-4103-98d3-daa1d81815a7')\"\n",
              "              title=\"Convert this dataframe to an interactive table.\"\n",
              "              style=\"display:none;\">\n",
              "        \n",
              "  <svg xmlns=\"http://www.w3.org/2000/svg\" height=\"24px\"viewBox=\"0 0 24 24\"\n",
              "       width=\"24px\">\n",
              "    <path d=\"M0 0h24v24H0V0z\" fill=\"none\"/>\n",
              "    <path d=\"M18.56 5.44l.94 2.06.94-2.06 2.06-.94-2.06-.94-.94-2.06-.94 2.06-2.06.94zm-11 1L8.5 8.5l.94-2.06 2.06-.94-2.06-.94L8.5 2.5l-.94 2.06-2.06.94zm10 10l.94 2.06.94-2.06 2.06-.94-2.06-.94-.94-2.06-.94 2.06-2.06.94z\"/><path d=\"M17.41 7.96l-1.37-1.37c-.4-.4-.92-.59-1.43-.59-.52 0-1.04.2-1.43.59L10.3 9.45l-7.72 7.72c-.78.78-.78 2.05 0 2.83L4 21.41c.39.39.9.59 1.41.59.51 0 1.02-.2 1.41-.59l7.78-7.78 2.81-2.81c.8-.78.8-2.07 0-2.86zM5.41 20L4 18.59l7.72-7.72 1.47 1.35L5.41 20z\"/>\n",
              "  </svg>\n",
              "      </button>\n",
              "      \n",
              "  <style>\n",
              "    .colab-df-container {\n",
              "      display:flex;\n",
              "      flex-wrap:wrap;\n",
              "      gap: 12px;\n",
              "    }\n",
              "\n",
              "    .colab-df-convert {\n",
              "      background-color: #E8F0FE;\n",
              "      border: none;\n",
              "      border-radius: 50%;\n",
              "      cursor: pointer;\n",
              "      display: none;\n",
              "      fill: #1967D2;\n",
              "      height: 32px;\n",
              "      padding: 0 0 0 0;\n",
              "      width: 32px;\n",
              "    }\n",
              "\n",
              "    .colab-df-convert:hover {\n",
              "      background-color: #E2EBFA;\n",
              "      box-shadow: 0px 1px 2px rgba(60, 64, 67, 0.3), 0px 1px 3px 1px rgba(60, 64, 67, 0.15);\n",
              "      fill: #174EA6;\n",
              "    }\n",
              "\n",
              "    [theme=dark] .colab-df-convert {\n",
              "      background-color: #3B4455;\n",
              "      fill: #D2E3FC;\n",
              "    }\n",
              "\n",
              "    [theme=dark] .colab-df-convert:hover {\n",
              "      background-color: #434B5C;\n",
              "      box-shadow: 0px 1px 3px 1px rgba(0, 0, 0, 0.15);\n",
              "      filter: drop-shadow(0px 1px 2px rgba(0, 0, 0, 0.3));\n",
              "      fill: #FFFFFF;\n",
              "    }\n",
              "  </style>\n",
              "\n",
              "      <script>\n",
              "        const buttonEl =\n",
              "          document.querySelector('#df-b5dc6bdf-2579-4103-98d3-daa1d81815a7 button.colab-df-convert');\n",
              "        buttonEl.style.display =\n",
              "          google.colab.kernel.accessAllowed ? 'block' : 'none';\n",
              "\n",
              "        async function convertToInteractive(key) {\n",
              "          const element = document.querySelector('#df-b5dc6bdf-2579-4103-98d3-daa1d81815a7');\n",
              "          const dataTable =\n",
              "            await google.colab.kernel.invokeFunction('convertToInteractive',\n",
              "                                                     [key], {});\n",
              "          if (!dataTable) return;\n",
              "\n",
              "          const docLinkHtml = 'Like what you see? Visit the ' +\n",
              "            '<a target=\"_blank\" href=https://colab.research.google.com/notebooks/data_table.ipynb>data table notebook</a>'\n",
              "            + ' to learn more about interactive tables.';\n",
              "          element.innerHTML = '';\n",
              "          dataTable['output_type'] = 'display_data';\n",
              "          await google.colab.output.renderOutput(dataTable, element);\n",
              "          const docLink = document.createElement('div');\n",
              "          docLink.innerHTML = docLinkHtml;\n",
              "          element.appendChild(docLink);\n",
              "        }\n",
              "      </script>\n",
              "    </div>\n",
              "  </div>\n",
              "  "
            ],
            "text/plain": [
              "       Tweet ID                                         tweet_text  \\\n",
              "0  2.330000e+17  RT @KMSians: Let's all pray for those who lost...   \n",
              "1  3.020000e+17  RT @Crusaderofchaos: Wow! #Meteor over Russia ...   \n",
              "2  4.010000e+17  RT @ParkerMcKinley: Death Toll in the Philippi...   \n",
              "3  3.490000e+17  RT @tedhenley: WHOA!?! Heavy erosion UNDER the...   \n",
              "4  4.100000e+17  RT @Polyvinyl: Grab @sslyby's new album for ju...   \n",
              "\n",
              "          class_label                               tweet_text_Processed  \n",
              "0  Philipinnes_floods  rt let pray lost home living cold starving res...  \n",
              "1       Russia_meteor                    rt wow meteor russia sonic boom  \n",
              "2     Typhoon_Yolanda  rt death toll philippine typhoon 4 000 plus am...  \n",
              "3      Alberta_floods  rt whoa heavy erosion pavement rt 25th ave erl...  \n",
              "4     Typhoon_Yolanda  rt grab new album 1 part great cause philippin...  "
            ]
          },
          "metadata": {},
          "output_type": "display_data"
        }
      ],
      "source": [
        "#Removing Stop words again after Lemmatize\n",
        "df2['tweet_text_Processed'] = df2['tweet_text_Processed'].map(lambda x : ' '.join([w for w in x.split() if w not in stop_words]))\n",
        "display(df2.head())"
      ]
    },
    {
      "cell_type": "code",
      "execution_count": null,
      "metadata": {
        "colab": {
          "base_uri": "https://localhost:8080/"
        },
        "id": "Wsaf4F0aUV01",
        "outputId": "3f66837e-51ec-42ca-fa91-de4fc37c0381"
      },
      "outputs": [
        {
          "data": {
            "text/plain": [
              "297206"
            ]
          },
          "execution_count": 158,
          "metadata": {},
          "output_type": "execute_result"
        }
      ],
      "source": [
        "df2['tweet_text_Processed'].apply(lambda x: len(x.split(' '))).sum()"
      ]
    },
    {
      "cell_type": "code",
      "execution_count": null,
      "metadata": {
        "id": "0rZYIDsOUV01"
      },
      "outputs": [],
      "source": [
        "df2['num_class_label']=df2['class_label'].replace(['Guatemala_earthquake', 'Sardinia_floods', 'Australia_bushfire', 'Glasgow_helicopter_crash', 'Brazil_nightclub_fire', 'Typhoon_Yolanda', 'Colorado_wildfires', 'None', 'Singapore_haze', 'Queensland_floods', 'West_Texas_explosion', 'Costa_Rica_earthquake', 'Lac_Megantic_train_crash', 'Savar_building_collapse', 'Philipinnes_floods', 'Italy_earthquakes', 'Venezuela_refinery', 'Russia_meteor', 'Manila_floods', 'Colorado_floods', 'NY_train_crash', 'LA_airport_shootings', 'Boston_bombings', 'Spain_train_crash', 'Typhoon_Pablo', 'Bohol_earthquake', 'Alberta_floods'],\n",
        "                        [0, 1, 2, 3, 4, 5, 6, 7, 8, 9, 10, 11, 12, 13, 14, 15, 16, 17, 18, 19, 20, 21, 22, 23, 24, 25, 26], inplace=False)"
      ]
    },
    {
      "cell_type": "code",
      "execution_count": null,
      "metadata": {
        "colab": {
          "base_uri": "https://localhost:8080/",
          "height": 206
        },
        "id": "kt3m4c5xUV01",
        "outputId": "381f279f-304b-4087-9a68-4ba4114eaa99"
      },
      "outputs": [
        {
          "data": {
            "text/html": [
              "\n",
              "  <div id=\"df-46710515-df04-45c6-914b-f9a0c91e49b5\">\n",
              "    <div class=\"colab-df-container\">\n",
              "      <div>\n",
              "<style scoped>\n",
              "    .dataframe tbody tr th:only-of-type {\n",
              "        vertical-align: middle;\n",
              "    }\n",
              "\n",
              "    .dataframe tbody tr th {\n",
              "        vertical-align: top;\n",
              "    }\n",
              "\n",
              "    .dataframe thead th {\n",
              "        text-align: right;\n",
              "    }\n",
              "</style>\n",
              "<table border=\"1\" class=\"dataframe\">\n",
              "  <thead>\n",
              "    <tr style=\"text-align: right;\">\n",
              "      <th></th>\n",
              "      <th>Tweet ID</th>\n",
              "      <th>tweet_text</th>\n",
              "      <th>class_label</th>\n",
              "      <th>tweet_text_Processed</th>\n",
              "      <th>num_class_label</th>\n",
              "    </tr>\n",
              "  </thead>\n",
              "  <tbody>\n",
              "    <tr>\n",
              "      <th>0</th>\n",
              "      <td>2.330000e+17</td>\n",
              "      <td>RT @KMSians: Let's all pray for those who lost...</td>\n",
              "      <td>Philipinnes_floods</td>\n",
              "      <td>rt let pray lost home living cold starving res...</td>\n",
              "      <td>14</td>\n",
              "    </tr>\n",
              "    <tr>\n",
              "      <th>1</th>\n",
              "      <td>3.020000e+17</td>\n",
              "      <td>RT @Crusaderofchaos: Wow! #Meteor over Russia ...</td>\n",
              "      <td>Russia_meteor</td>\n",
              "      <td>rt wow meteor russia sonic boom</td>\n",
              "      <td>17</td>\n",
              "    </tr>\n",
              "    <tr>\n",
              "      <th>2</th>\n",
              "      <td>4.010000e+17</td>\n",
              "      <td>RT @ParkerMcKinley: Death Toll in the Philippi...</td>\n",
              "      <td>Typhoon_Yolanda</td>\n",
              "      <td>rt death toll philippine typhoon 4 000 plus am...</td>\n",
              "      <td>5</td>\n",
              "    </tr>\n",
              "    <tr>\n",
              "      <th>3</th>\n",
              "      <td>3.490000e+17</td>\n",
              "      <td>RT @tedhenley: WHOA!?! Heavy erosion UNDER the...</td>\n",
              "      <td>Alberta_floods</td>\n",
              "      <td>rt whoa heavy erosion pavement rt 25th ave erl...</td>\n",
              "      <td>26</td>\n",
              "    </tr>\n",
              "    <tr>\n",
              "      <th>4</th>\n",
              "      <td>4.100000e+17</td>\n",
              "      <td>RT @Polyvinyl: Grab @sslyby's new album for ju...</td>\n",
              "      <td>Typhoon_Yolanda</td>\n",
              "      <td>rt grab new album 1 part great cause philippin...</td>\n",
              "      <td>5</td>\n",
              "    </tr>\n",
              "  </tbody>\n",
              "</table>\n",
              "</div>\n",
              "      <button class=\"colab-df-convert\" onclick=\"convertToInteractive('df-46710515-df04-45c6-914b-f9a0c91e49b5')\"\n",
              "              title=\"Convert this dataframe to an interactive table.\"\n",
              "              style=\"display:none;\">\n",
              "        \n",
              "  <svg xmlns=\"http://www.w3.org/2000/svg\" height=\"24px\"viewBox=\"0 0 24 24\"\n",
              "       width=\"24px\">\n",
              "    <path d=\"M0 0h24v24H0V0z\" fill=\"none\"/>\n",
              "    <path d=\"M18.56 5.44l.94 2.06.94-2.06 2.06-.94-2.06-.94-.94-2.06-.94 2.06-2.06.94zm-11 1L8.5 8.5l.94-2.06 2.06-.94-2.06-.94L8.5 2.5l-.94 2.06-2.06.94zm10 10l.94 2.06.94-2.06 2.06-.94-2.06-.94-.94-2.06-.94 2.06-2.06.94z\"/><path d=\"M17.41 7.96l-1.37-1.37c-.4-.4-.92-.59-1.43-.59-.52 0-1.04.2-1.43.59L10.3 9.45l-7.72 7.72c-.78.78-.78 2.05 0 2.83L4 21.41c.39.39.9.59 1.41.59.51 0 1.02-.2 1.41-.59l7.78-7.78 2.81-2.81c.8-.78.8-2.07 0-2.86zM5.41 20L4 18.59l7.72-7.72 1.47 1.35L5.41 20z\"/>\n",
              "  </svg>\n",
              "      </button>\n",
              "      \n",
              "  <style>\n",
              "    .colab-df-container {\n",
              "      display:flex;\n",
              "      flex-wrap:wrap;\n",
              "      gap: 12px;\n",
              "    }\n",
              "\n",
              "    .colab-df-convert {\n",
              "      background-color: #E8F0FE;\n",
              "      border: none;\n",
              "      border-radius: 50%;\n",
              "      cursor: pointer;\n",
              "      display: none;\n",
              "      fill: #1967D2;\n",
              "      height: 32px;\n",
              "      padding: 0 0 0 0;\n",
              "      width: 32px;\n",
              "    }\n",
              "\n",
              "    .colab-df-convert:hover {\n",
              "      background-color: #E2EBFA;\n",
              "      box-shadow: 0px 1px 2px rgba(60, 64, 67, 0.3), 0px 1px 3px 1px rgba(60, 64, 67, 0.15);\n",
              "      fill: #174EA6;\n",
              "    }\n",
              "\n",
              "    [theme=dark] .colab-df-convert {\n",
              "      background-color: #3B4455;\n",
              "      fill: #D2E3FC;\n",
              "    }\n",
              "\n",
              "    [theme=dark] .colab-df-convert:hover {\n",
              "      background-color: #434B5C;\n",
              "      box-shadow: 0px 1px 3px 1px rgba(0, 0, 0, 0.15);\n",
              "      filter: drop-shadow(0px 1px 2px rgba(0, 0, 0, 0.3));\n",
              "      fill: #FFFFFF;\n",
              "    }\n",
              "  </style>\n",
              "\n",
              "      <script>\n",
              "        const buttonEl =\n",
              "          document.querySelector('#df-46710515-df04-45c6-914b-f9a0c91e49b5 button.colab-df-convert');\n",
              "        buttonEl.style.display =\n",
              "          google.colab.kernel.accessAllowed ? 'block' : 'none';\n",
              "\n",
              "        async function convertToInteractive(key) {\n",
              "          const element = document.querySelector('#df-46710515-df04-45c6-914b-f9a0c91e49b5');\n",
              "          const dataTable =\n",
              "            await google.colab.kernel.invokeFunction('convertToInteractive',\n",
              "                                                     [key], {});\n",
              "          if (!dataTable) return;\n",
              "\n",
              "          const docLinkHtml = 'Like what you see? Visit the ' +\n",
              "            '<a target=\"_blank\" href=https://colab.research.google.com/notebooks/data_table.ipynb>data table notebook</a>'\n",
              "            + ' to learn more about interactive tables.';\n",
              "          element.innerHTML = '';\n",
              "          dataTable['output_type'] = 'display_data';\n",
              "          await google.colab.output.renderOutput(dataTable, element);\n",
              "          const docLink = document.createElement('div');\n",
              "          docLink.innerHTML = docLinkHtml;\n",
              "          element.appendChild(docLink);\n",
              "        }\n",
              "      </script>\n",
              "    </div>\n",
              "  </div>\n",
              "  "
            ],
            "text/plain": [
              "       Tweet ID                                         tweet_text  \\\n",
              "0  2.330000e+17  RT @KMSians: Let's all pray for those who lost...   \n",
              "1  3.020000e+17  RT @Crusaderofchaos: Wow! #Meteor over Russia ...   \n",
              "2  4.010000e+17  RT @ParkerMcKinley: Death Toll in the Philippi...   \n",
              "3  3.490000e+17  RT @tedhenley: WHOA!?! Heavy erosion UNDER the...   \n",
              "4  4.100000e+17  RT @Polyvinyl: Grab @sslyby's new album for ju...   \n",
              "\n",
              "          class_label                               tweet_text_Processed  \\\n",
              "0  Philipinnes_floods  rt let pray lost home living cold starving res...   \n",
              "1       Russia_meteor                    rt wow meteor russia sonic boom   \n",
              "2     Typhoon_Yolanda  rt death toll philippine typhoon 4 000 plus am...   \n",
              "3      Alberta_floods  rt whoa heavy erosion pavement rt 25th ave erl...   \n",
              "4     Typhoon_Yolanda  rt grab new album 1 part great cause philippin...   \n",
              "\n",
              "   num_class_label  \n",
              "0               14  \n",
              "1               17  \n",
              "2                5  \n",
              "3               26  \n",
              "4                5  "
            ]
          },
          "execution_count": 160,
          "metadata": {},
          "output_type": "execute_result"
        }
      ],
      "source": [
        "df2.head()"
      ]
    },
    {
      "cell_type": "code",
      "execution_count": null,
      "metadata": {
        "colab": {
          "base_uri": "https://localhost:8080/",
          "height": 372
        },
        "id": "XGt-_a-VUV01",
        "outputId": "7cd0ff03-d9bf-4f57-b32e-f944b24cd210"
      },
      "outputs": [
        {
          "data": {
            "image/png": "[encoded data removed]",
            "text/plain": [
              "<Figure size 1000x400 with 1 Axes>"
            ]
          },
          "metadata": {},
          "output_type": "display_data"
        }
      ],
      "source": [
        "#my_tags = ['caution_and_advice','displaced_people_and_evacuations','infrastructure_and_utility_damage','injured_or_dead_people','missing_or_found_people','not_humanitarian','other_relevant_information','requests_or_urgent_needs','rescue_volunteering_or_donation_effort','sympathy_and_support']\n",
        "plt.figure(figsize=(10,4))\n",
        "df2.num_class_label.value_counts().plot(kind='bar');"
      ]
    },
    {
      "cell_type": "code",
      "execution_count": null,
      "metadata": {
        "colab": {
          "base_uri": "https://localhost:8080/"
        },
        "id": "G3XUTY1jZ83N",
        "outputId": "1e18362c-f962-4943-8737-304251fd21dd"
      },
      "outputs": [
        {
          "data": {
            "text/plain": [
              "False"
            ]
          },
          "execution_count": 162,
          "metadata": {},
          "output_type": "execute_result"
        }
      ],
      "source": [
        "df2.num_class_label.isnull().sum().any()"
      ]
    },
    {
      "cell_type": "code",
      "execution_count": null,
      "metadata": {
        "colab": {
          "base_uri": "https://localhost:8080/"
        },
        "id": "OxdVFZvndPXB",
        "outputId": "18e33578-1681-4f42-ebee-211156dbf98c"
      },
      "outputs": [
        {
          "data": {
            "text/plain": [
              "0        14\n",
              "1        17\n",
              "2         5\n",
              "3        26\n",
              "4         5\n",
              "         ..\n",
              "25570    14\n",
              "25571    14\n",
              "25572     1\n",
              "25573    11\n",
              "25574    24\n",
              "Name: num_class_label, Length: 25575, dtype: int64"
            ]
          },
          "execution_count": 163,
          "metadata": {},
          "output_type": "execute_result"
        }
      ],
      "source": [
        "df2.num_class_label"
      ]
    },
    {
      "cell_type": "code",
      "execution_count": null,
      "metadata": {
        "colab": {
          "base_uri": "https://localhost:8080/"
        },
        "id": "qRqYvNB01k3c",
        "outputId": "c7395548-8994-4a03-9e30-2412f8a94f7c"
      },
      "outputs": [
        {
          "data": {
            "text/plain": [
              "array([14, 17,  5, 26, 18, 19, 22,  9, 12, 15,  8, 25, 23, 10, 16,  4,  2,\n",
              "       21,  3,  0, 20,  6, 13,  1, 11, 24,  7])"
            ]
          },
          "execution_count": 164,
          "metadata": {},
          "output_type": "execute_result"
        }
      ],
      "source": [
        "df2.num_class_label.unique()"
      ]
    },
    {
      "cell_type": "code",
      "execution_count": null,
      "metadata": {
        "colab": {
          "base_uri": "https://localhost:8080/"
        },
        "id": "EvwSKVufUV01",
        "outputId": "4d9cd69d-8f63-4c72-d036-50cd62df3eb6"
      },
      "outputs": [
        {
          "name": "stdout",
          "output_type": "stream",
          "text": [
            "There are 25575 rows and 5 columns\n"
          ]
        }
      ],
      "source": [
        "nRow, nCol = df2.shape\n",
        "print('There are {} rows and {} columns'.format(nRow, nCol))"
      ]
    },
    {
      "cell_type": "code",
      "execution_count": null,
      "metadata": {
        "id": "EiaiLuZlUV01"
      },
      "outputs": [],
      "source": [
        "df=df2"
      ]
    },
    {
      "cell_type": "code",
      "execution_count": null,
      "metadata": {
        "colab": {
          "base_uri": "https://localhost:8080/",
          "height": 423
        },
        "id": "J0Zu4s6vUV01",
        "outputId": "d0f50362-7516-4dc3-ea06-4a7e6375fc84"
      },
      "outputs": [
        {
          "data": {
            "text/html": [
              "\n",
              "  <div id=\"df-f32948a5-c386-48b8-9a33-16fa225915b8\">\n",
              "    <div class=\"colab-df-container\">\n",
              "      <div>\n",
              "<style scoped>\n",
              "    .dataframe tbody tr th:only-of-type {\n",
              "        vertical-align: middle;\n",
              "    }\n",
              "\n",
              "    .dataframe tbody tr th {\n",
              "        vertical-align: top;\n",
              "    }\n",
              "\n",
              "    .dataframe thead th {\n",
              "        text-align: right;\n",
              "    }\n",
              "</style>\n",
              "<table border=\"1\" class=\"dataframe\">\n",
              "  <thead>\n",
              "    <tr style=\"text-align: right;\">\n",
              "      <th></th>\n",
              "      <th>tweet_text_Processed</th>\n",
              "      <th>class_label</th>\n",
              "      <th>num_class_label</th>\n",
              "    </tr>\n",
              "  </thead>\n",
              "  <tbody>\n",
              "    <tr>\n",
              "      <th>0</th>\n",
              "      <td>rt let pray lost home living cold starving res...</td>\n",
              "      <td>Philipinnes_floods</td>\n",
              "      <td>14</td>\n",
              "    </tr>\n",
              "    <tr>\n",
              "      <th>1</th>\n",
              "      <td>rt wow meteor russia sonic boom</td>\n",
              "      <td>Russia_meteor</td>\n",
              "      <td>17</td>\n",
              "    </tr>\n",
              "    <tr>\n",
              "      <th>2</th>\n",
              "      <td>rt death toll philippine typhoon 4 000 plus am...</td>\n",
              "      <td>Typhoon_Yolanda</td>\n",
              "      <td>5</td>\n",
              "    </tr>\n",
              "    <tr>\n",
              "      <th>3</th>\n",
              "      <td>rt whoa heavy erosion pavement rt 25th ave erl...</td>\n",
              "      <td>Alberta_floods</td>\n",
              "      <td>26</td>\n",
              "    </tr>\n",
              "    <tr>\n",
              "      <th>4</th>\n",
              "      <td>rt grab new album 1 part great cause philippin...</td>\n",
              "      <td>Typhoon_Yolanda</td>\n",
              "      <td>5</td>\n",
              "    </tr>\n",
              "    <tr>\n",
              "      <th>...</th>\n",
              "      <td>...</td>\n",
              "      <td>...</td>\n",
              "      <td>...</td>\n",
              "    </tr>\n",
              "    <tr>\n",
              "      <th>25570</th>\n",
              "      <td>melyn pabustan w 3 kid 09175119505 purok 3 mal...</td>\n",
              "      <td>Philipinnes_floods</td>\n",
              "      <td>14</td>\n",
              "    </tr>\n",
              "    <tr>\n",
              "      <th>25571</th>\n",
              "      <td>rt hospital need help food amp water ust hospi...</td>\n",
              "      <td>Philipinnes_floods</td>\n",
              "      <td>14</td>\n",
              "    </tr>\n",
              "    <tr>\n",
              "      <th>25572</th>\n",
              "      <td>rt forzasardegna sardegna</td>\n",
              "      <td>Sardinia_floods</td>\n",
              "      <td>1</td>\n",
              "    </tr>\n",
              "    <tr>\n",
              "      <th>25573</th>\n",
              "      <td>rt alaire terremoto de 7 6 grados sacude costa...</td>\n",
              "      <td>Costa_Rica_earthquake</td>\n",
              "      <td>11</td>\n",
              "    </tr>\n",
              "    <tr>\n",
              "      <th>25574</th>\n",
              "      <td>rt praying safety everyone visayas mindanao go...</td>\n",
              "      <td>Typhoon_Pablo</td>\n",
              "      <td>24</td>\n",
              "    </tr>\n",
              "  </tbody>\n",
              "</table>\n",
              "<p>25575 rows × 3 columns</p>\n",
              "</div>\n",
              "      <button class=\"colab-df-convert\" onclick=\"convertToInteractive('df-f32948a5-c386-48b8-9a33-16fa225915b8')\"\n",
              "              title=\"Convert this dataframe to an interactive table.\"\n",
              "              style=\"display:none;\">\n",
              "        \n",
              "  <svg xmlns=\"http://www.w3.org/2000/svg\" height=\"24px\"viewBox=\"0 0 24 24\"\n",
              "       width=\"24px\">\n",
              "    <path d=\"M0 0h24v24H0V0z\" fill=\"none\"/>\n",
              "    <path d=\"M18.56 5.44l.94 2.06.94-2.06 2.06-.94-2.06-.94-.94-2.06-.94 2.06-2.06.94zm-11 1L8.5 8.5l.94-2.06 2.06-.94-2.06-.94L8.5 2.5l-.94 2.06-2.06.94zm10 10l.94 2.06.94-2.06 2.06-.94-2.06-.94-.94-2.06-.94 2.06-2.06.94z\"/><path d=\"M17.41 7.96l-1.37-1.37c-.4-.4-.92-.59-1.43-.59-.52 0-1.04.2-1.43.59L10.3 9.45l-7.72 7.72c-.78.78-.78 2.05 0 2.83L4 21.41c.39.39.9.59 1.41.59.51 0 1.02-.2 1.41-.59l7.78-7.78 2.81-2.81c.8-.78.8-2.07 0-2.86zM5.41 20L4 18.59l7.72-7.72 1.47 1.35L5.41 20z\"/>\n",
              "  </svg>\n",
              "      </button>\n",
              "      \n",
              "  <style>\n",
              "    .colab-df-container {\n",
              "      display:flex;\n",
              "      flex-wrap:wrap;\n",
              "      gap: 12px;\n",
              "    }\n",
              "\n",
              "    .colab-df-convert {\n",
              "      background-color: #E8F0FE;\n",
              "      border: none;\n",
              "      border-radius: 50%;\n",
              "      cursor: pointer;\n",
              "      display: none;\n",
              "      fill: #1967D2;\n",
              "      height: 32px;\n",
              "      padding: 0 0 0 0;\n",
              "      width: 32px;\n",
              "    }\n",
              "\n",
              "    .colab-df-convert:hover {\n",
              "      background-color: #E2EBFA;\n",
              "      box-shadow: 0px 1px 2px rgba(60, 64, 67, 0.3), 0px 1px 3px 1px rgba(60, 64, 67, 0.15);\n",
              "      fill: #174EA6;\n",
              "    }\n",
              "\n",
              "    [theme=dark] .colab-df-convert {\n",
              "      background-color: #3B4455;\n",
              "      fill: #D2E3FC;\n",
              "    }\n",
              "\n",
              "    [theme=dark] .colab-df-convert:hover {\n",
              "      background-color: #434B5C;\n",
              "      box-shadow: 0px 1px 3px 1px rgba(0, 0, 0, 0.15);\n",
              "      filter: drop-shadow(0px 1px 2px rgba(0, 0, 0, 0.3));\n",
              "      fill: #FFFFFF;\n",
              "    }\n",
              "  </style>\n",
              "\n",
              "      <script>\n",
              "        const buttonEl =\n",
              "          document.querySelector('#df-f32948a5-c386-48b8-9a33-16fa225915b8 button.colab-df-convert');\n",
              "        buttonEl.style.display =\n",
              "          google.colab.kernel.accessAllowed ? 'block' : 'none';\n",
              "\n",
              "        async function convertToInteractive(key) {\n",
              "          const element = document.querySelector('#df-f32948a5-c386-48b8-9a33-16fa225915b8');\n",
              "          const dataTable =\n",
              "            await google.colab.kernel.invokeFunction('convertToInteractive',\n",
              "                                                     [key], {});\n",
              "          if (!dataTable) return;\n",
              "\n",
              "          const docLinkHtml = 'Like what you see? Visit the ' +\n",
              "            '<a target=\"_blank\" href=https://colab.research.google.com/notebooks/data_table.ipynb>data table notebook</a>'\n",
              "            + ' to learn more about interactive tables.';\n",
              "          element.innerHTML = '';\n",
              "          dataTable['output_type'] = 'display_data';\n",
              "          await google.colab.output.renderOutput(dataTable, element);\n",
              "          const docLink = document.createElement('div');\n",
              "          docLink.innerHTML = docLinkHtml;\n",
              "          element.appendChild(docLink);\n",
              "        }\n",
              "      </script>\n",
              "    </div>\n",
              "  </div>\n",
              "  "
            ],
            "text/plain": [
              "                                    tweet_text_Processed  \\\n",
              "0      rt let pray lost home living cold starving res...   \n",
              "1                        rt wow meteor russia sonic boom   \n",
              "2      rt death toll philippine typhoon 4 000 plus am...   \n",
              "3      rt whoa heavy erosion pavement rt 25th ave erl...   \n",
              "4      rt grab new album 1 part great cause philippin...   \n",
              "...                                                  ...   \n",
              "25570  melyn pabustan w 3 kid 09175119505 purok 3 mal...   \n",
              "25571  rt hospital need help food amp water ust hospi...   \n",
              "25572                          rt forzasardegna sardegna   \n",
              "25573  rt alaire terremoto de 7 6 grados sacude costa...   \n",
              "25574  rt praying safety everyone visayas mindanao go...   \n",
              "\n",
              "                 class_label  num_class_label  \n",
              "0         Philipinnes_floods               14  \n",
              "1              Russia_meteor               17  \n",
              "2            Typhoon_Yolanda                5  \n",
              "3             Alberta_floods               26  \n",
              "4            Typhoon_Yolanda                5  \n",
              "...                      ...              ...  \n",
              "25570     Philipinnes_floods               14  \n",
              "25571     Philipinnes_floods               14  \n",
              "25572        Sardinia_floods                1  \n",
              "25573  Costa_Rica_earthquake               11  \n",
              "25574          Typhoon_Pablo               24  \n",
              "\n",
              "[25575 rows x 3 columns]"
            ]
          },
          "execution_count": 167,
          "metadata": {},
          "output_type": "execute_result"
        }
      ],
      "source": [
        "#Doing some adjustments\n",
        "\n",
        "#a=df['tweet_id']\n",
        "\n",
        "b=df['tweet_text_Processed']\n",
        "\n",
        "c=df['class_label']\n",
        "\n",
        "d=df['num_class_label']\n",
        "\n",
        "df= pd.concat([b,c,d], axis=1)\n",
        "df.rename(columns={'class' : 'num_class_label'}, \n",
        "                    inplace=True)\n",
        "df"
      ]
    },
    {
      "cell_type": "code",
      "execution_count": null,
      "metadata": {
        "colab": {
          "base_uri": "https://localhost:8080/"
        },
        "id": "o85Omf2bUV01",
        "outputId": "c9f6ce5a-0f89-4d49-9a92-bb83e910dabd"
      },
      "outputs": [
        {
          "data": {
            "text/plain": [
              "(25575, 3)"
            ]
          },
          "execution_count": 168,
          "metadata": {},
          "output_type": "execute_result"
        }
      ],
      "source": [
        "df.shape"
      ]
    },
    {
      "cell_type": "code",
      "execution_count": null,
      "metadata": {
        "id": "yG0iNHu5UV02"
      },
      "outputs": [],
      "source": []
    },
    {
      "cell_type": "code",
      "execution_count": null,
      "metadata": {
        "colab": {
          "base_uri": "https://localhost:8080/",
          "height": 927
        },
        "id": "eSb-WXeYUV02",
        "outputId": "9bd4da94-bcf1-432c-d6da-2afff35c62a8"
      },
      "outputs": [
        {
          "data": {
            "text/html": [
              "\n",
              "  <div id=\"df-5db0e779-d675-4cbf-9f62-050ade1898f0\">\n",
              "    <div class=\"colab-df-container\">\n",
              "      <div>\n",
              "<style scoped>\n",
              "    .dataframe tbody tr th:only-of-type {\n",
              "        vertical-align: middle;\n",
              "    }\n",
              "\n",
              "    .dataframe tbody tr th {\n",
              "        vertical-align: top;\n",
              "    }\n",
              "\n",
              "    .dataframe thead th {\n",
              "        text-align: right;\n",
              "    }\n",
              "</style>\n",
              "<table border=\"1\" class=\"dataframe\">\n",
              "  <thead>\n",
              "    <tr style=\"text-align: right;\">\n",
              "      <th></th>\n",
              "      <th>tweet_text_Processed</th>\n",
              "      <th>class_label</th>\n",
              "    </tr>\n",
              "    <tr>\n",
              "      <th>num_class_label</th>\n",
              "      <th></th>\n",
              "      <th></th>\n",
              "    </tr>\n",
              "  </thead>\n",
              "  <tbody>\n",
              "    <tr>\n",
              "      <th>0</th>\n",
              "      <td>940</td>\n",
              "      <td>940</td>\n",
              "    </tr>\n",
              "    <tr>\n",
              "      <th>1</th>\n",
              "      <td>925</td>\n",
              "      <td>925</td>\n",
              "    </tr>\n",
              "    <tr>\n",
              "      <th>2</th>\n",
              "      <td>949</td>\n",
              "      <td>949</td>\n",
              "    </tr>\n",
              "    <tr>\n",
              "      <th>3</th>\n",
              "      <td>918</td>\n",
              "      <td>918</td>\n",
              "    </tr>\n",
              "    <tr>\n",
              "      <th>4</th>\n",
              "      <td>952</td>\n",
              "      <td>952</td>\n",
              "    </tr>\n",
              "    <tr>\n",
              "      <th>5</th>\n",
              "      <td>939</td>\n",
              "      <td>939</td>\n",
              "    </tr>\n",
              "    <tr>\n",
              "      <th>6</th>\n",
              "      <td>953</td>\n",
              "      <td>953</td>\n",
              "    </tr>\n",
              "    <tr>\n",
              "      <th>7</th>\n",
              "      <td>1002</td>\n",
              "      <td>1002</td>\n",
              "    </tr>\n",
              "    <tr>\n",
              "      <th>8</th>\n",
              "      <td>933</td>\n",
              "      <td>933</td>\n",
              "    </tr>\n",
              "    <tr>\n",
              "      <th>9</th>\n",
              "      <td>919</td>\n",
              "      <td>919</td>\n",
              "    </tr>\n",
              "    <tr>\n",
              "      <th>10</th>\n",
              "      <td>911</td>\n",
              "      <td>911</td>\n",
              "    </tr>\n",
              "    <tr>\n",
              "      <th>11</th>\n",
              "      <td>908</td>\n",
              "      <td>908</td>\n",
              "    </tr>\n",
              "    <tr>\n",
              "      <th>12</th>\n",
              "      <td>966</td>\n",
              "      <td>966</td>\n",
              "    </tr>\n",
              "    <tr>\n",
              "      <th>13</th>\n",
              "      <td>911</td>\n",
              "      <td>911</td>\n",
              "    </tr>\n",
              "    <tr>\n",
              "      <th>14</th>\n",
              "      <td>906</td>\n",
              "      <td>906</td>\n",
              "    </tr>\n",
              "    <tr>\n",
              "      <th>15</th>\n",
              "      <td>940</td>\n",
              "      <td>940</td>\n",
              "    </tr>\n",
              "    <tr>\n",
              "      <th>16</th>\n",
              "      <td>939</td>\n",
              "      <td>939</td>\n",
              "    </tr>\n",
              "    <tr>\n",
              "      <th>17</th>\n",
              "      <td>1132</td>\n",
              "      <td>1132</td>\n",
              "    </tr>\n",
              "    <tr>\n",
              "      <th>18</th>\n",
              "      <td>921</td>\n",
              "      <td>921</td>\n",
              "    </tr>\n",
              "    <tr>\n",
              "      <th>19</th>\n",
              "      <td>925</td>\n",
              "      <td>925</td>\n",
              "    </tr>\n",
              "    <tr>\n",
              "      <th>20</th>\n",
              "      <td>999</td>\n",
              "      <td>999</td>\n",
              "    </tr>\n",
              "    <tr>\n",
              "      <th>21</th>\n",
              "      <td>912</td>\n",
              "      <td>912</td>\n",
              "    </tr>\n",
              "    <tr>\n",
              "      <th>22</th>\n",
              "      <td>929</td>\n",
              "      <td>929</td>\n",
              "    </tr>\n",
              "    <tr>\n",
              "      <th>23</th>\n",
              "      <td>991</td>\n",
              "      <td>991</td>\n",
              "    </tr>\n",
              "    <tr>\n",
              "      <th>24</th>\n",
              "      <td>905</td>\n",
              "      <td>905</td>\n",
              "    </tr>\n",
              "    <tr>\n",
              "      <th>25</th>\n",
              "      <td>969</td>\n",
              "      <td>969</td>\n",
              "    </tr>\n",
              "    <tr>\n",
              "      <th>26</th>\n",
              "      <td>981</td>\n",
              "      <td>981</td>\n",
              "    </tr>\n",
              "  </tbody>\n",
              "</table>\n",
              "</div>\n",
              "      <button class=\"colab-df-convert\" onclick=\"convertToInteractive('df-5db0e779-d675-4cbf-9f62-050ade1898f0')\"\n",
              "              title=\"Convert this dataframe to an interactive table.\"\n",
              "              style=\"display:none;\">\n",
              "        \n",
              "  <svg xmlns=\"http://www.w3.org/2000/svg\" height=\"24px\"viewBox=\"0 0 24 24\"\n",
              "       width=\"24px\">\n",
              "    <path d=\"M0 0h24v24H0V0z\" fill=\"none\"/>\n",
              "    <path d=\"M18.56 5.44l.94 2.06.94-2.06 2.06-.94-2.06-.94-.94-2.06-.94 2.06-2.06.94zm-11 1L8.5 8.5l.94-2.06 2.06-.94-2.06-.94L8.5 2.5l-.94 2.06-2.06.94zm10 10l.94 2.06.94-2.06 2.06-.94-2.06-.94-.94-2.06-.94 2.06-2.06.94z\"/><path d=\"M17.41 7.96l-1.37-1.37c-.4-.4-.92-.59-1.43-.59-.52 0-1.04.2-1.43.59L10.3 9.45l-7.72 7.72c-.78.78-.78 2.05 0 2.83L4 21.41c.39.39.9.59 1.41.59.51 0 1.02-.2 1.41-.59l7.78-7.78 2.81-2.81c.8-.78.8-2.07 0-2.86zM5.41 20L4 18.59l7.72-7.72 1.47 1.35L5.41 20z\"/>\n",
              "  </svg>\n",
              "      </button>\n",
              "      \n",
              "  <style>\n",
              "    .colab-df-container {\n",
              "      display:flex;\n",
              "      flex-wrap:wrap;\n",
              "      gap: 12px;\n",
              "    }\n",
              "\n",
              "    .colab-df-convert {\n",
              "      background-color: #E8F0FE;\n",
              "      border: none;\n",
              "      border-radius: 50%;\n",
              "      cursor: pointer;\n",
              "      display: none;\n",
              "      fill: #1967D2;\n",
              "      height: 32px;\n",
              "      padding: 0 0 0 0;\n",
              "      width: 32px;\n",
              "    }\n",
              "\n",
              "    .colab-df-convert:hover {\n",
              "      background-color: #E2EBFA;\n",
              "      box-shadow: 0px 1px 2px rgba(60, 64, 67, 0.3), 0px 1px 3px 1px rgba(60, 64, 67, 0.15);\n",
              "      fill: #174EA6;\n",
              "    }\n",
              "\n",
              "    [theme=dark] .colab-df-convert {\n",
              "      background-color: #3B4455;\n",
              "      fill: #D2E3FC;\n",
              "    }\n",
              "\n",
              "    [theme=dark] .colab-df-convert:hover {\n",
              "      background-color: #434B5C;\n",
              "      box-shadow: 0px 1px 3px 1px rgba(0, 0, 0, 0.15);\n",
              "      filter: drop-shadow(0px 1px 2px rgba(0, 0, 0, 0.3));\n",
              "      fill: #FFFFFF;\n",
              "    }\n",
              "  </style>\n",
              "\n",
              "      <script>\n",
              "        const buttonEl =\n",
              "          document.querySelector('#df-5db0e779-d675-4cbf-9f62-050ade1898f0 button.colab-df-convert');\n",
              "        buttonEl.style.display =\n",
              "          google.colab.kernel.accessAllowed ? 'block' : 'none';\n",
              "\n",
              "        async function convertToInteractive(key) {\n",
              "          const element = document.querySelector('#df-5db0e779-d675-4cbf-9f62-050ade1898f0');\n",
              "          const dataTable =\n",
              "            await google.colab.kernel.invokeFunction('convertToInteractive',\n",
              "                                                     [key], {});\n",
              "          if (!dataTable) return;\n",
              "\n",
              "          const docLinkHtml = 'Like what you see? Visit the ' +\n",
              "            '<a target=\"_blank\" href=https://colab.research.google.com/notebooks/data_table.ipynb>data table notebook</a>'\n",
              "            + ' to learn more about interactive tables.';\n",
              "          element.innerHTML = '';\n",
              "          dataTable['output_type'] = 'display_data';\n",
              "          await google.colab.output.renderOutput(dataTable, element);\n",
              "          const docLink = document.createElement('div');\n",
              "          docLink.innerHTML = docLinkHtml;\n",
              "          element.appendChild(docLink);\n",
              "        }\n",
              "      </script>\n",
              "    </div>\n",
              "  </div>\n",
              "  "
            ],
            "text/plain": [
              "                 tweet_text_Processed  class_label\n",
              "num_class_label                                   \n",
              "0                                 940          940\n",
              "1                                 925          925\n",
              "2                                 949          949\n",
              "3                                 918          918\n",
              "4                                 952          952\n",
              "5                                 939          939\n",
              "6                                 953          953\n",
              "7                                1002         1002\n",
              "8                                 933          933\n",
              "9                                 919          919\n",
              "10                                911          911\n",
              "11                                908          908\n",
              "12                                966          966\n",
              "13                                911          911\n",
              "14                                906          906\n",
              "15                                940          940\n",
              "16                                939          939\n",
              "17                               1132         1132\n",
              "18                                921          921\n",
              "19                                925          925\n",
              "20                                999          999\n",
              "21                                912          912\n",
              "22                                929          929\n",
              "23                                991          991\n",
              "24                                905          905\n",
              "25                                969          969\n",
              "26                                981          981"
            ]
          },
          "execution_count": 169,
          "metadata": {},
          "output_type": "execute_result"
        }
      ],
      "source": [
        "# Grouping data by label\n",
        "df.groupby('num_class_label').count()"
      ]
    },
    {
      "cell_type": "code",
      "execution_count": null,
      "metadata": {
        "id": "4iAY0OapUV02"
      },
      "outputs": [],
      "source": [
        "from sklearn.model_selection import train_test_split"
      ]
    },
    {
      "cell_type": "code",
      "execution_count": null,
      "metadata": {
        "id": "TMVSV9YZ86p3"
      },
      "outputs": [],
      "source": [
        "import locale\n",
        "locale.getpreferredencoding = lambda: \"UTF-8\""
      ]
    },
    {
      "cell_type": "code",
      "execution_count": null,
      "metadata": {
        "colab": {
          "base_uri": "https://localhost:8080/"
        },
        "id": "t8jZQcbEUV02",
        "outputId": "7f35f165-04d2-43d5-fa32-be6592ad98bd"
      },
      "outputs": [
        {
          "name": "stdout",
          "output_type": "stream",
          "text": [
            "Looking in indexes: https://pypi.org/simple, https://us-python.pkg.dev/colab-wheels/public/simple/\n",
            "Requirement already satisfied: bert-for-tf2 in /usr/local/lib/python3.10/dist-packages (0.14.9)\n",
            "Requirement already satisfied: py-params>=0.9.6 in /usr/local/lib/python3.10/dist-packages (from bert-for-tf2) (0.10.2)\n",
            "Requirement already satisfied: params-flow>=0.8.0 in /usr/local/lib/python3.10/dist-packages (from bert-for-tf2) (0.8.2)\n",
            "Requirement already satisfied: tqdm in /usr/local/lib/python3.10/dist-packages (from params-flow>=0.8.0->bert-for-tf2) (4.65.0)\n",
            "Requirement already satisfied: numpy in /usr/local/lib/python3.10/dist-packages (from params-flow>=0.8.0->bert-for-tf2) (1.22.4)\n",
            "Looking in indexes: https://pypi.org/simple, https://us-python.pkg.dev/colab-wheels/public/simple/\n",
            "Requirement already satisfied: sentencepiece in /usr/local/lib/python3.10/dist-packages (0.1.99)\n"
          ]
        }
      ],
      "source": [
        "!pip install bert-for-tf2\n",
        "!pip install sentencepiece"
      ]
    },
    {
      "cell_type": "code",
      "execution_count": null,
      "metadata": {
        "colab": {
          "base_uri": "https://localhost:8080/"
        },
        "id": "gjZTg2hhUV02",
        "outputId": "560a6e3e-1ca0-49be-9969-fa176717c116"
      },
      "outputs": [
        {
          "name": "stdout",
          "output_type": "stream",
          "text": [
            "Colab only includes TensorFlow 2.x; %tensorflow_version has no effect.\n"
          ]
        }
      ],
      "source": [
        "try:\n",
        "    %tensorflow_version 2.x\n",
        "except Exception:\n",
        "    pass\n",
        "import tensorflow as tf\n",
        "\n",
        "import tensorflow_hub as hub\n",
        "\n",
        "from tensorflow.keras import layers\n",
        "import bert"
      ]
    },
    {
      "cell_type": "code",
      "execution_count": null,
      "metadata": {
        "id": "WMRtHDiPUV02",
        "trusted": true
      },
      "outputs": [],
      "source": [
        "X_train_, X_test, y_train_, y_test = train_test_split(\n",
        "    df.index.values,\n",
        "    df.num_class_label.values,\n",
        "    test_size=0.20,\n",
        "    random_state=42,\n",
        "    stratify=df.num_class_label.values,\n",
        "    )"
      ]
    },
    {
      "cell_type": "code",
      "execution_count": null,
      "metadata": {
        "id": "MqeCJdO0UV02",
        "trusted": true
      },
      "outputs": [],
      "source": [
        "X_train, X_val, y_train, y_val = train_test_split(\n",
        "    df.loc[X_train_].index.values,\n",
        "    df.loc[X_train_].num_class_label.values,\n",
        "    test_size=0.20,\n",
        "    random_state=42,\n",
        "    stratify=df.loc[X_train_].num_class_label.values,  \n",
        ")"
      ]
    },
    {
      "cell_type": "code",
      "execution_count": null,
      "metadata": {
        "id": "iodVNAoJUV02",
        "trusted": true
      },
      "outputs": [],
      "source": [
        "df['data_type'] = ['not_set']*df.shape[0]\n",
        "df.loc[X_train, 'data_type'] = 'train'\n",
        "df.loc[X_val, 'data_type'] = 'val'\n",
        "df.loc[X_test, 'data_type'] = 'test'"
      ]
    },
    {
      "cell_type": "code",
      "execution_count": null,
      "metadata": {
        "colab": {
          "base_uri": "https://localhost:8080/",
          "height": 455
        },
        "id": "ljEFhzA9UV02",
        "outputId": "0e22e2c7-0e07-4962-bc78-8919ee44c045",
        "trusted": true
      },
      "outputs": [
        {
          "data": {
            "text/html": [
              "\n",
              "  <div id=\"df-4a85b6f4-cd43-4117-93be-596aa4341ba3\">\n",
              "    <div class=\"colab-df-container\">\n",
              "      <div>\n",
              "<style scoped>\n",
              "    .dataframe tbody tr th:only-of-type {\n",
              "        vertical-align: middle;\n",
              "    }\n",
              "\n",
              "    .dataframe tbody tr th {\n",
              "        vertical-align: top;\n",
              "    }\n",
              "\n",
              "    .dataframe thead th {\n",
              "        text-align: right;\n",
              "    }\n",
              "</style>\n",
              "<table border=\"1\" class=\"dataframe\">\n",
              "  <thead>\n",
              "    <tr style=\"text-align: right;\">\n",
              "      <th></th>\n",
              "      <th></th>\n",
              "      <th></th>\n",
              "      <th>tweet_text_Processed</th>\n",
              "    </tr>\n",
              "    <tr>\n",
              "      <th>class_label</th>\n",
              "      <th>num_class_label</th>\n",
              "      <th>data_type</th>\n",
              "      <th></th>\n",
              "    </tr>\n",
              "  </thead>\n",
              "  <tbody>\n",
              "    <tr>\n",
              "      <th rowspan=\"3\" valign=\"top\">Alberta_floods</th>\n",
              "      <th rowspan=\"3\" valign=\"top\">26</th>\n",
              "      <th>test</th>\n",
              "      <td>196</td>\n",
              "    </tr>\n",
              "    <tr>\n",
              "      <th>train</th>\n",
              "      <td>628</td>\n",
              "    </tr>\n",
              "    <tr>\n",
              "      <th>val</th>\n",
              "      <td>157</td>\n",
              "    </tr>\n",
              "    <tr>\n",
              "      <th rowspan=\"2\" valign=\"top\">Australia_bushfire</th>\n",
              "      <th rowspan=\"2\" valign=\"top\">2</th>\n",
              "      <th>test</th>\n",
              "      <td>190</td>\n",
              "    </tr>\n",
              "    <tr>\n",
              "      <th>train</th>\n",
              "      <td>607</td>\n",
              "    </tr>\n",
              "    <tr>\n",
              "      <th>...</th>\n",
              "      <th>...</th>\n",
              "      <th>...</th>\n",
              "      <td>...</td>\n",
              "    </tr>\n",
              "    <tr>\n",
              "      <th rowspan=\"2\" valign=\"top\">Venezuela_refinery</th>\n",
              "      <th rowspan=\"2\" valign=\"top\">16</th>\n",
              "      <th>train</th>\n",
              "      <td>601</td>\n",
              "    </tr>\n",
              "    <tr>\n",
              "      <th>val</th>\n",
              "      <td>150</td>\n",
              "    </tr>\n",
              "    <tr>\n",
              "      <th rowspan=\"3\" valign=\"top\">West_Texas_explosion</th>\n",
              "      <th rowspan=\"3\" valign=\"top\">10</th>\n",
              "      <th>test</th>\n",
              "      <td>182</td>\n",
              "    </tr>\n",
              "    <tr>\n",
              "      <th>train</th>\n",
              "      <td>583</td>\n",
              "    </tr>\n",
              "    <tr>\n",
              "      <th>val</th>\n",
              "      <td>146</td>\n",
              "    </tr>\n",
              "  </tbody>\n",
              "</table>\n",
              "<p>81 rows × 1 columns</p>\n",
              "</div>\n",
              "      <button class=\"colab-df-convert\" onclick=\"convertToInteractive('df-4a85b6f4-cd43-4117-93be-596aa4341ba3')\"\n",
              "              title=\"Convert this dataframe to an interactive table.\"\n",
              "              style=\"display:none;\">\n",
              "        \n",
              "  <svg xmlns=\"http://www.w3.org/2000/svg\" height=\"24px\"viewBox=\"0 0 24 24\"\n",
              "       width=\"24px\">\n",
              "    <path d=\"M0 0h24v24H0V0z\" fill=\"none\"/>\n",
              "    <path d=\"M18.56 5.44l.94 2.06.94-2.06 2.06-.94-2.06-.94-.94-2.06-.94 2.06-2.06.94zm-11 1L8.5 8.5l.94-2.06 2.06-.94-2.06-.94L8.5 2.5l-.94 2.06-2.06.94zm10 10l.94 2.06.94-2.06 2.06-.94-2.06-.94-.94-2.06-.94 2.06-2.06.94z\"/><path d=\"M17.41 7.96l-1.37-1.37c-.4-.4-.92-.59-1.43-.59-.52 0-1.04.2-1.43.59L10.3 9.45l-7.72 7.72c-.78.78-.78 2.05 0 2.83L4 21.41c.39.39.9.59 1.41.59.51 0 1.02-.2 1.41-.59l7.78-7.78 2.81-2.81c.8-.78.8-2.07 0-2.86zM5.41 20L4 18.59l7.72-7.72 1.47 1.35L5.41 20z\"/>\n",
              "  </svg>\n",
              "      </button>\n",
              "      \n",
              "  <style>\n",
              "    .colab-df-container {\n",
              "      display:flex;\n",
              "      flex-wrap:wrap;\n",
              "      gap: 12px;\n",
              "    }\n",
              "\n",
              "    .colab-df-convert {\n",
              "      background-color: #E8F0FE;\n",
              "      border: none;\n",
              "      border-radius: 50%;\n",
              "      cursor: pointer;\n",
              "      display: none;\n",
              "      fill: #1967D2;\n",
              "      height: 32px;\n",
              "      padding: 0 0 0 0;\n",
              "      width: 32px;\n",
              "    }\n",
              "\n",
              "    .colab-df-convert:hover {\n",
              "      background-color: #E2EBFA;\n",
              "      box-shadow: 0px 1px 2px rgba(60, 64, 67, 0.3), 0px 1px 3px 1px rgba(60, 64, 67, 0.15);\n",
              "      fill: #174EA6;\n",
              "    }\n",
              "\n",
              "    [theme=dark] .colab-df-convert {\n",
              "      background-color: #3B4455;\n",
              "      fill: #D2E3FC;\n",
              "    }\n",
              "\n",
              "    [theme=dark] .colab-df-convert:hover {\n",
              "      background-color: #434B5C;\n",
              "      box-shadow: 0px 1px 3px 1px rgba(0, 0, 0, 0.15);\n",
              "      filter: drop-shadow(0px 1px 2px rgba(0, 0, 0, 0.3));\n",
              "      fill: #FFFFFF;\n",
              "    }\n",
              "  </style>\n",
              "\n",
              "      <script>\n",
              "        const buttonEl =\n",
              "          document.querySelector('#df-4a85b6f4-cd43-4117-93be-596aa4341ba3 button.colab-df-convert');\n",
              "        buttonEl.style.display =\n",
              "          google.colab.kernel.accessAllowed ? 'block' : 'none';\n",
              "\n",
              "        async function convertToInteractive(key) {\n",
              "          const element = document.querySelector('#df-4a85b6f4-cd43-4117-93be-596aa4341ba3');\n",
              "          const dataTable =\n",
              "            await google.colab.kernel.invokeFunction('convertToInteractive',\n",
              "                                                     [key], {});\n",
              "          if (!dataTable) return;\n",
              "\n",
              "          const docLinkHtml = 'Like what you see? Visit the ' +\n",
              "            '<a target=\"_blank\" href=https://colab.research.google.com/notebooks/data_table.ipynb>data table notebook</a>'\n",
              "            + ' to learn more about interactive tables.';\n",
              "          element.innerHTML = '';\n",
              "          dataTable['output_type'] = 'display_data';\n",
              "          await google.colab.output.renderOutput(dataTable, element);\n",
              "          const docLink = document.createElement('div');\n",
              "          docLink.innerHTML = docLinkHtml;\n",
              "          element.appendChild(docLink);\n",
              "        }\n",
              "      </script>\n",
              "    </div>\n",
              "  </div>\n",
              "  "
            ],
            "text/plain": [
              "                                                tweet_text_Processed\n",
              "class_label          num_class_label data_type                      \n",
              "Alberta_floods       26              test                        196\n",
              "                                     train                       628\n",
              "                                     val                         157\n",
              "Australia_bushfire   2               test                        190\n",
              "                                     train                       607\n",
              "...                                                              ...\n",
              "Venezuela_refinery   16              train                       601\n",
              "                                     val                         150\n",
              "West_Texas_explosion 10              test                        182\n",
              "                                     train                       583\n",
              "                                     val                         146\n",
              "\n",
              "[81 rows x 1 columns]"
            ]
          },
          "execution_count": 177,
          "metadata": {},
          "output_type": "execute_result"
        }
      ],
      "source": [
        "df.groupby(['class_label', 'num_class_label', 'data_type']).count()"
      ]
    },
    {
      "cell_type": "code",
      "execution_count": null,
      "metadata": {
        "colab": {
          "base_uri": "https://localhost:8080/",
          "height": 423
        },
        "id": "HHEfEAYyUV03",
        "outputId": "f49f3926-d8b3-45cf-8ba6-378c650762a8"
      },
      "outputs": [
        {
          "data": {
            "text/html": [
              "\n",
              "  <div id=\"df-daa7fd52-34e3-421b-8403-fd6b198dbdd0\">\n",
              "    <div class=\"colab-df-container\">\n",
              "      <div>\n",
              "<style scoped>\n",
              "    .dataframe tbody tr th:only-of-type {\n",
              "        vertical-align: middle;\n",
              "    }\n",
              "\n",
              "    .dataframe tbody tr th {\n",
              "        vertical-align: top;\n",
              "    }\n",
              "\n",
              "    .dataframe thead th {\n",
              "        text-align: right;\n",
              "    }\n",
              "</style>\n",
              "<table border=\"1\" class=\"dataframe\">\n",
              "  <thead>\n",
              "    <tr style=\"text-align: right;\">\n",
              "      <th></th>\n",
              "      <th>tweet_text_Processed</th>\n",
              "      <th>class_label</th>\n",
              "      <th>num_class_label</th>\n",
              "      <th>data_type</th>\n",
              "    </tr>\n",
              "  </thead>\n",
              "  <tbody>\n",
              "    <tr>\n",
              "      <th>0</th>\n",
              "      <td>rt let pray lost home living cold starving res...</td>\n",
              "      <td>Philipinnes_floods</td>\n",
              "      <td>14</td>\n",
              "      <td>train</td>\n",
              "    </tr>\n",
              "    <tr>\n",
              "      <th>1</th>\n",
              "      <td>rt wow meteor russia sonic boom</td>\n",
              "      <td>Russia_meteor</td>\n",
              "      <td>17</td>\n",
              "      <td>test</td>\n",
              "    </tr>\n",
              "    <tr>\n",
              "      <th>2</th>\n",
              "      <td>rt death toll philippine typhoon 4 000 plus am...</td>\n",
              "      <td>Typhoon_Yolanda</td>\n",
              "      <td>5</td>\n",
              "      <td>val</td>\n",
              "    </tr>\n",
              "    <tr>\n",
              "      <th>3</th>\n",
              "      <td>rt whoa heavy erosion pavement rt 25th ave erl...</td>\n",
              "      <td>Alberta_floods</td>\n",
              "      <td>26</td>\n",
              "      <td>val</td>\n",
              "    </tr>\n",
              "    <tr>\n",
              "      <th>4</th>\n",
              "      <td>rt grab new album 1 part great cause philippin...</td>\n",
              "      <td>Typhoon_Yolanda</td>\n",
              "      <td>5</td>\n",
              "      <td>train</td>\n",
              "    </tr>\n",
              "    <tr>\n",
              "      <th>...</th>\n",
              "      <td>...</td>\n",
              "      <td>...</td>\n",
              "      <td>...</td>\n",
              "      <td>...</td>\n",
              "    </tr>\n",
              "    <tr>\n",
              "      <th>25570</th>\n",
              "      <td>melyn pabustan w 3 kid 09175119505 purok 3 mal...</td>\n",
              "      <td>Philipinnes_floods</td>\n",
              "      <td>14</td>\n",
              "      <td>train</td>\n",
              "    </tr>\n",
              "    <tr>\n",
              "      <th>25571</th>\n",
              "      <td>rt hospital need help food amp water ust hospi...</td>\n",
              "      <td>Philipinnes_floods</td>\n",
              "      <td>14</td>\n",
              "      <td>train</td>\n",
              "    </tr>\n",
              "    <tr>\n",
              "      <th>25572</th>\n",
              "      <td>rt forzasardegna sardegna</td>\n",
              "      <td>Sardinia_floods</td>\n",
              "      <td>1</td>\n",
              "      <td>val</td>\n",
              "    </tr>\n",
              "    <tr>\n",
              "      <th>25573</th>\n",
              "      <td>rt alaire terremoto de 7 6 grados sacude costa...</td>\n",
              "      <td>Costa_Rica_earthquake</td>\n",
              "      <td>11</td>\n",
              "      <td>train</td>\n",
              "    </tr>\n",
              "    <tr>\n",
              "      <th>25574</th>\n",
              "      <td>rt praying safety everyone visayas mindanao go...</td>\n",
              "      <td>Typhoon_Pablo</td>\n",
              "      <td>24</td>\n",
              "      <td>val</td>\n",
              "    </tr>\n",
              "  </tbody>\n",
              "</table>\n",
              "<p>25575 rows × 4 columns</p>\n",
              "</div>\n",
              "      <button class=\"colab-df-convert\" onclick=\"convertToInteractive('df-daa7fd52-34e3-421b-8403-fd6b198dbdd0')\"\n",
              "              title=\"Convert this dataframe to an interactive table.\"\n",
              "              style=\"display:none;\">\n",
              "        \n",
              "  <svg xmlns=\"http://www.w3.org/2000/svg\" height=\"24px\"viewBox=\"0 0 24 24\"\n",
              "       width=\"24px\">\n",
              "    <path d=\"M0 0h24v24H0V0z\" fill=\"none\"/>\n",
              "    <path d=\"M18.56 5.44l.94 2.06.94-2.06 2.06-.94-2.06-.94-.94-2.06-.94 2.06-2.06.94zm-11 1L8.5 8.5l.94-2.06 2.06-.94-2.06-.94L8.5 2.5l-.94 2.06-2.06.94zm10 10l.94 2.06.94-2.06 2.06-.94-2.06-.94-.94-2.06-.94 2.06-2.06.94z\"/><path d=\"M17.41 7.96l-1.37-1.37c-.4-.4-.92-.59-1.43-.59-.52 0-1.04.2-1.43.59L10.3 9.45l-7.72 7.72c-.78.78-.78 2.05 0 2.83L4 21.41c.39.39.9.59 1.41.59.51 0 1.02-.2 1.41-.59l7.78-7.78 2.81-2.81c.8-.78.8-2.07 0-2.86zM5.41 20L4 18.59l7.72-7.72 1.47 1.35L5.41 20z\"/>\n",
              "  </svg>\n",
              "      </button>\n",
              "      \n",
              "  <style>\n",
              "    .colab-df-container {\n",
              "      display:flex;\n",
              "      flex-wrap:wrap;\n",
              "      gap: 12px;\n",
              "    }\n",
              "\n",
              "    .colab-df-convert {\n",
              "      background-color: #E8F0FE;\n",
              "      border: none;\n",
              "      border-radius: 50%;\n",
              "      cursor: pointer;\n",
              "      display: none;\n",
              "      fill: #1967D2;\n",
              "      height: 32px;\n",
              "      padding: 0 0 0 0;\n",
              "      width: 32px;\n",
              "    }\n",
              "\n",
              "    .colab-df-convert:hover {\n",
              "      background-color: #E2EBFA;\n",
              "      box-shadow: 0px 1px 2px rgba(60, 64, 67, 0.3), 0px 1px 3px 1px rgba(60, 64, 67, 0.15);\n",
              "      fill: #174EA6;\n",
              "    }\n",
              "\n",
              "    [theme=dark] .colab-df-convert {\n",
              "      background-color: #3B4455;\n",
              "      fill: #D2E3FC;\n",
              "    }\n",
              "\n",
              "    [theme=dark] .colab-df-convert:hover {\n",
              "      background-color: #434B5C;\n",
              "      box-shadow: 0px 1px 3px 1px rgba(0, 0, 0, 0.15);\n",
              "      filter: drop-shadow(0px 1px 2px rgba(0, 0, 0, 0.3));\n",
              "      fill: #FFFFFF;\n",
              "    }\n",
              "  </style>\n",
              "\n",
              "      <script>\n",
              "        const buttonEl =\n",
              "          document.querySelector('#df-daa7fd52-34e3-421b-8403-fd6b198dbdd0 button.colab-df-convert');\n",
              "        buttonEl.style.display =\n",
              "          google.colab.kernel.accessAllowed ? 'block' : 'none';\n",
              "\n",
              "        async function convertToInteractive(key) {\n",
              "          const element = document.querySelector('#df-daa7fd52-34e3-421b-8403-fd6b198dbdd0');\n",
              "          const dataTable =\n",
              "            await google.colab.kernel.invokeFunction('convertToInteractive',\n",
              "                                                     [key], {});\n",
              "          if (!dataTable) return;\n",
              "\n",
              "          const docLinkHtml = 'Like what you see? Visit the ' +\n",
              "            '<a target=\"_blank\" href=https://colab.research.google.com/notebooks/data_table.ipynb>data table notebook</a>'\n",
              "            + ' to learn more about interactive tables.';\n",
              "          element.innerHTML = '';\n",
              "          dataTable['output_type'] = 'display_data';\n",
              "          await google.colab.output.renderOutput(dataTable, element);\n",
              "          const docLink = document.createElement('div');\n",
              "          docLink.innerHTML = docLinkHtml;\n",
              "          element.appendChild(docLink);\n",
              "        }\n",
              "      </script>\n",
              "    </div>\n",
              "  </div>\n",
              "  "
            ],
            "text/plain": [
              "                                    tweet_text_Processed  \\\n",
              "0      rt let pray lost home living cold starving res...   \n",
              "1                        rt wow meteor russia sonic boom   \n",
              "2      rt death toll philippine typhoon 4 000 plus am...   \n",
              "3      rt whoa heavy erosion pavement rt 25th ave erl...   \n",
              "4      rt grab new album 1 part great cause philippin...   \n",
              "...                                                  ...   \n",
              "25570  melyn pabustan w 3 kid 09175119505 purok 3 mal...   \n",
              "25571  rt hospital need help food amp water ust hospi...   \n",
              "25572                          rt forzasardegna sardegna   \n",
              "25573  rt alaire terremoto de 7 6 grados sacude costa...   \n",
              "25574  rt praying safety everyone visayas mindanao go...   \n",
              "\n",
              "                 class_label  num_class_label data_type  \n",
              "0         Philipinnes_floods               14     train  \n",
              "1              Russia_meteor               17      test  \n",
              "2            Typhoon_Yolanda                5       val  \n",
              "3             Alberta_floods               26       val  \n",
              "4            Typhoon_Yolanda                5     train  \n",
              "...                      ...              ...       ...  \n",
              "25570     Philipinnes_floods               14     train  \n",
              "25571     Philipinnes_floods               14     train  \n",
              "25572        Sardinia_floods                1       val  \n",
              "25573  Costa_Rica_earthquake               11     train  \n",
              "25574          Typhoon_Pablo               24       val  \n",
              "\n",
              "[25575 rows x 4 columns]"
            ]
          },
          "execution_count": 178,
          "metadata": {},
          "output_type": "execute_result"
        }
      ],
      "source": [
        "df"
      ]
    },
    {
      "cell_type": "code",
      "execution_count": null,
      "metadata": {
        "id": "fiTD3yusUV03"
      },
      "outputs": [],
      "source": [
        "#df.to_csv('file_1.csv')"
      ]
    },
    {
      "cell_type": "code",
      "execution_count": null,
      "metadata": {
        "colab": {
          "base_uri": "https://localhost:8080/",
          "height": 206
        },
        "id": "AUPQ_WUbUV03",
        "outputId": "f64ec9a9-a87e-40ac-8088-ef00572a73b1"
      },
      "outputs": [
        {
          "data": {
            "text/html": [
              "\n",
              "  <div id=\"df-80f022ed-32f9-43ef-b911-f4372476d01f\">\n",
              "    <div class=\"colab-df-container\">\n",
              "      <div>\n",
              "<style scoped>\n",
              "    .dataframe tbody tr th:only-of-type {\n",
              "        vertical-align: middle;\n",
              "    }\n",
              "\n",
              "    .dataframe tbody tr th {\n",
              "        vertical-align: top;\n",
              "    }\n",
              "\n",
              "    .dataframe thead th {\n",
              "        text-align: right;\n",
              "    }\n",
              "</style>\n",
              "<table border=\"1\" class=\"dataframe\">\n",
              "  <thead>\n",
              "    <tr style=\"text-align: right;\">\n",
              "      <th></th>\n",
              "      <th>tweet_text_Processed</th>\n",
              "      <th>class_label</th>\n",
              "      <th>num_class_label</th>\n",
              "      <th>data_type</th>\n",
              "    </tr>\n",
              "  </thead>\n",
              "  <tbody>\n",
              "    <tr>\n",
              "      <th>0</th>\n",
              "      <td>rt let pray lost home living cold starving res...</td>\n",
              "      <td>Philipinnes_floods</td>\n",
              "      <td>14</td>\n",
              "      <td>train</td>\n",
              "    </tr>\n",
              "    <tr>\n",
              "      <th>4</th>\n",
              "      <td>rt grab new album 1 part great cause philippin...</td>\n",
              "      <td>Typhoon_Yolanda</td>\n",
              "      <td>5</td>\n",
              "      <td>train</td>\n",
              "    </tr>\n",
              "    <tr>\n",
              "      <th>5</th>\n",
              "      <td>rt</td>\n",
              "      <td>Russia_meteor</td>\n",
              "      <td>17</td>\n",
              "      <td>train</td>\n",
              "    </tr>\n",
              "    <tr>\n",
              "      <th>6</th>\n",
              "      <td>cardinal tagle call unity response philippine ...</td>\n",
              "      <td>Manila_floods</td>\n",
              "      <td>18</td>\n",
              "      <td>train</td>\n",
              "    </tr>\n",
              "    <tr>\n",
              "      <th>7</th>\n",
              "      <td>rt meet 4 colorado republican voted sandy aid ...</td>\n",
              "      <td>Colorado_floods</td>\n",
              "      <td>19</td>\n",
              "      <td>train</td>\n",
              "    </tr>\n",
              "  </tbody>\n",
              "</table>\n",
              "</div>\n",
              "      <button class=\"colab-df-convert\" onclick=\"convertToInteractive('df-80f022ed-32f9-43ef-b911-f4372476d01f')\"\n",
              "              title=\"Convert this dataframe to an interactive table.\"\n",
              "              style=\"display:none;\">\n",
              "        \n",
              "  <svg xmlns=\"http://www.w3.org/2000/svg\" height=\"24px\"viewBox=\"0 0 24 24\"\n",
              "       width=\"24px\">\n",
              "    <path d=\"M0 0h24v24H0V0z\" fill=\"none\"/>\n",
              "    <path d=\"M18.56 5.44l.94 2.06.94-2.06 2.06-.94-2.06-.94-.94-2.06-.94 2.06-2.06.94zm-11 1L8.5 8.5l.94-2.06 2.06-.94-2.06-.94L8.5 2.5l-.94 2.06-2.06.94zm10 10l.94 2.06.94-2.06 2.06-.94-2.06-.94-.94-2.06-.94 2.06-2.06.94z\"/><path d=\"M17.41 7.96l-1.37-1.37c-.4-.4-.92-.59-1.43-.59-.52 0-1.04.2-1.43.59L10.3 9.45l-7.72 7.72c-.78.78-.78 2.05 0 2.83L4 21.41c.39.39.9.59 1.41.59.51 0 1.02-.2 1.41-.59l7.78-7.78 2.81-2.81c.8-.78.8-2.07 0-2.86zM5.41 20L4 18.59l7.72-7.72 1.47 1.35L5.41 20z\"/>\n",
              "  </svg>\n",
              "      </button>\n",
              "      \n",
              "  <style>\n",
              "    .colab-df-container {\n",
              "      display:flex;\n",
              "      flex-wrap:wrap;\n",
              "      gap: 12px;\n",
              "    }\n",
              "\n",
              "    .colab-df-convert {\n",
              "      background-color: #E8F0FE;\n",
              "      border: none;\n",
              "      border-radius: 50%;\n",
              "      cursor: pointer;\n",
              "      display: none;\n",
              "      fill: #1967D2;\n",
              "      height: 32px;\n",
              "      padding: 0 0 0 0;\n",
              "      width: 32px;\n",
              "    }\n",
              "\n",
              "    .colab-df-convert:hover {\n",
              "      background-color: #E2EBFA;\n",
              "      box-shadow: 0px 1px 2px rgba(60, 64, 67, 0.3), 0px 1px 3px 1px rgba(60, 64, 67, 0.15);\n",
              "      fill: #174EA6;\n",
              "    }\n",
              "\n",
              "    [theme=dark] .colab-df-convert {\n",
              "      background-color: #3B4455;\n",
              "      fill: #D2E3FC;\n",
              "    }\n",
              "\n",
              "    [theme=dark] .colab-df-convert:hover {\n",
              "      background-color: #434B5C;\n",
              "      box-shadow: 0px 1px 3px 1px rgba(0, 0, 0, 0.15);\n",
              "      filter: drop-shadow(0px 1px 2px rgba(0, 0, 0, 0.3));\n",
              "      fill: #FFFFFF;\n",
              "    }\n",
              "  </style>\n",
              "\n",
              "      <script>\n",
              "        const buttonEl =\n",
              "          document.querySelector('#df-80f022ed-32f9-43ef-b911-f4372476d01f button.colab-df-convert');\n",
              "        buttonEl.style.display =\n",
              "          google.colab.kernel.accessAllowed ? 'block' : 'none';\n",
              "\n",
              "        async function convertToInteractive(key) {\n",
              "          const element = document.querySelector('#df-80f022ed-32f9-43ef-b911-f4372476d01f');\n",
              "          const dataTable =\n",
              "            await google.colab.kernel.invokeFunction('convertToInteractive',\n",
              "                                                     [key], {});\n",
              "          if (!dataTable) return;\n",
              "\n",
              "          const docLinkHtml = 'Like what you see? Visit the ' +\n",
              "            '<a target=\"_blank\" href=https://colab.research.google.com/notebooks/data_table.ipynb>data table notebook</a>'\n",
              "            + ' to learn more about interactive tables.';\n",
              "          element.innerHTML = '';\n",
              "          dataTable['output_type'] = 'display_data';\n",
              "          await google.colab.output.renderOutput(dataTable, element);\n",
              "          const docLink = document.createElement('div');\n",
              "          docLink.innerHTML = docLinkHtml;\n",
              "          element.appendChild(docLink);\n",
              "        }\n",
              "      </script>\n",
              "    </div>\n",
              "  </div>\n",
              "  "
            ],
            "text/plain": [
              "                                tweet_text_Processed         class_label  \\\n",
              "0  rt let pray lost home living cold starving res...  Philipinnes_floods   \n",
              "4  rt grab new album 1 part great cause philippin...     Typhoon_Yolanda   \n",
              "5                                                 rt       Russia_meteor   \n",
              "6  cardinal tagle call unity response philippine ...       Manila_floods   \n",
              "7  rt meet 4 colorado republican voted sandy aid ...     Colorado_floods   \n",
              "\n",
              "   num_class_label data_type  \n",
              "0               14     train  \n",
              "4                5     train  \n",
              "5               17     train  \n",
              "6               18     train  \n",
              "7               19     train  "
            ]
          },
          "execution_count": 180,
          "metadata": {},
          "output_type": "execute_result"
        }
      ],
      "source": [
        "df_train = df.loc[df[\"data_type\"]==\"train\"]\n",
        "df_train.head(5)"
      ]
    },
    {
      "cell_type": "code",
      "execution_count": null,
      "metadata": {
        "colab": {
          "base_uri": "https://localhost:8080/",
          "height": 206
        },
        "id": "5r1SK3rsUV03",
        "outputId": "19776270-4f9e-4f63-a59b-2a7112c8611f"
      },
      "outputs": [
        {
          "data": {
            "text/html": [
              "\n",
              "  <div id=\"df-a987e22e-c104-4db9-8a12-6006b18e1d01\">\n",
              "    <div class=\"colab-df-container\">\n",
              "      <div>\n",
              "<style scoped>\n",
              "    .dataframe tbody tr th:only-of-type {\n",
              "        vertical-align: middle;\n",
              "    }\n",
              "\n",
              "    .dataframe tbody tr th {\n",
              "        vertical-align: top;\n",
              "    }\n",
              "\n",
              "    .dataframe thead th {\n",
              "        text-align: right;\n",
              "    }\n",
              "</style>\n",
              "<table border=\"1\" class=\"dataframe\">\n",
              "  <thead>\n",
              "    <tr style=\"text-align: right;\">\n",
              "      <th></th>\n",
              "      <th>tweet_text_Processed</th>\n",
              "      <th>class_label</th>\n",
              "      <th>num_class_label</th>\n",
              "      <th>data_type</th>\n",
              "    </tr>\n",
              "  </thead>\n",
              "  <tbody>\n",
              "    <tr>\n",
              "      <th>2</th>\n",
              "      <td>rt death toll philippine typhoon 4 000 plus am...</td>\n",
              "      <td>Typhoon_Yolanda</td>\n",
              "      <td>5</td>\n",
              "      <td>val</td>\n",
              "    </tr>\n",
              "    <tr>\n",
              "      <th>3</th>\n",
              "      <td>rt whoa heavy erosion pavement rt 25th ave erl...</td>\n",
              "      <td>Alberta_floods</td>\n",
              "      <td>26</td>\n",
              "      <td>val</td>\n",
              "    </tr>\n",
              "    <tr>\n",
              "      <th>10</th>\n",
              "      <td>rt new england highway warwick toowoomba yet o...</td>\n",
              "      <td>Queensland_floods</td>\n",
              "      <td>9</td>\n",
              "      <td>val</td>\n",
              "    </tr>\n",
              "    <tr>\n",
              "      <th>14</th>\n",
              "      <td>rt terremoto ferrara respinta la richiesta del...</td>\n",
              "      <td>Italy_earthquakes</td>\n",
              "      <td>15</td>\n",
              "      <td>val</td>\n",
              "    </tr>\n",
              "    <tr>\n",
              "      <th>19</th>\n",
              "      <td>el maquinista del tren que descarril en espa q...</td>\n",
              "      <td>Spain_train_crash</td>\n",
              "      <td>23</td>\n",
              "      <td>val</td>\n",
              "    </tr>\n",
              "  </tbody>\n",
              "</table>\n",
              "</div>\n",
              "      <button class=\"colab-df-convert\" onclick=\"convertToInteractive('df-a987e22e-c104-4db9-8a12-6006b18e1d01')\"\n",
              "              title=\"Convert this dataframe to an interactive table.\"\n",
              "              style=\"display:none;\">\n",
              "        \n",
              "  <svg xmlns=\"http://www.w3.org/2000/svg\" height=\"24px\"viewBox=\"0 0 24 24\"\n",
              "       width=\"24px\">\n",
              "    <path d=\"M0 0h24v24H0V0z\" fill=\"none\"/>\n",
              "    <path d=\"M18.56 5.44l.94 2.06.94-2.06 2.06-.94-2.06-.94-.94-2.06-.94 2.06-2.06.94zm-11 1L8.5 8.5l.94-2.06 2.06-.94-2.06-.94L8.5 2.5l-.94 2.06-2.06.94zm10 10l.94 2.06.94-2.06 2.06-.94-2.06-.94-.94-2.06-.94 2.06-2.06.94z\"/><path d=\"M17.41 7.96l-1.37-1.37c-.4-.4-.92-.59-1.43-.59-.52 0-1.04.2-1.43.59L10.3 9.45l-7.72 7.72c-.78.78-.78 2.05 0 2.83L4 21.41c.39.39.9.59 1.41.59.51 0 1.02-.2 1.41-.59l7.78-7.78 2.81-2.81c.8-.78.8-2.07 0-2.86zM5.41 20L4 18.59l7.72-7.72 1.47 1.35L5.41 20z\"/>\n",
              "  </svg>\n",
              "      </button>\n",
              "      \n",
              "  <style>\n",
              "    .colab-df-container {\n",
              "      display:flex;\n",
              "      flex-wrap:wrap;\n",
              "      gap: 12px;\n",
              "    }\n",
              "\n",
              "    .colab-df-convert {\n",
              "      background-color: #E8F0FE;\n",
              "      border: none;\n",
              "      border-radius: 50%;\n",
              "      cursor: pointer;\n",
              "      display: none;\n",
              "      fill: #1967D2;\n",
              "      height: 32px;\n",
              "      padding: 0 0 0 0;\n",
              "      width: 32px;\n",
              "    }\n",
              "\n",
              "    .colab-df-convert:hover {\n",
              "      background-color: #E2EBFA;\n",
              "      box-shadow: 0px 1px 2px rgba(60, 64, 67, 0.3), 0px 1px 3px 1px rgba(60, 64, 67, 0.15);\n",
              "      fill: #174EA6;\n",
              "    }\n",
              "\n",
              "    [theme=dark] .colab-df-convert {\n",
              "      background-color: #3B4455;\n",
              "      fill: #D2E3FC;\n",
              "    }\n",
              "\n",
              "    [theme=dark] .colab-df-convert:hover {\n",
              "      background-color: #434B5C;\n",
              "      box-shadow: 0px 1px 3px 1px rgba(0, 0, 0, 0.15);\n",
              "      filter: drop-shadow(0px 1px 2px rgba(0, 0, 0, 0.3));\n",
              "      fill: #FFFFFF;\n",
              "    }\n",
              "  </style>\n",
              "\n",
              "      <script>\n",
              "        const buttonEl =\n",
              "          document.querySelector('#df-a987e22e-c104-4db9-8a12-6006b18e1d01 button.colab-df-convert');\n",
              "        buttonEl.style.display =\n",
              "          google.colab.kernel.accessAllowed ? 'block' : 'none';\n",
              "\n",
              "        async function convertToInteractive(key) {\n",
              "          const element = document.querySelector('#df-a987e22e-c104-4db9-8a12-6006b18e1d01');\n",
              "          const dataTable =\n",
              "            await google.colab.kernel.invokeFunction('convertToInteractive',\n",
              "                                                     [key], {});\n",
              "          if (!dataTable) return;\n",
              "\n",
              "          const docLinkHtml = 'Like what you see? Visit the ' +\n",
              "            '<a target=\"_blank\" href=https://colab.research.google.com/notebooks/data_table.ipynb>data table notebook</a>'\n",
              "            + ' to learn more about interactive tables.';\n",
              "          element.innerHTML = '';\n",
              "          dataTable['output_type'] = 'display_data';\n",
              "          await google.colab.output.renderOutput(dataTable, element);\n",
              "          const docLink = document.createElement('div');\n",
              "          docLink.innerHTML = docLinkHtml;\n",
              "          element.appendChild(docLink);\n",
              "        }\n",
              "      </script>\n",
              "    </div>\n",
              "  </div>\n",
              "  "
            ],
            "text/plain": [
              "                                 tweet_text_Processed        class_label  \\\n",
              "2   rt death toll philippine typhoon 4 000 plus am...    Typhoon_Yolanda   \n",
              "3   rt whoa heavy erosion pavement rt 25th ave erl...     Alberta_floods   \n",
              "10  rt new england highway warwick toowoomba yet o...  Queensland_floods   \n",
              "14  rt terremoto ferrara respinta la richiesta del...  Italy_earthquakes   \n",
              "19  el maquinista del tren que descarril en espa q...  Spain_train_crash   \n",
              "\n",
              "    num_class_label data_type  \n",
              "2                 5       val  \n",
              "3                26       val  \n",
              "10                9       val  \n",
              "14               15       val  \n",
              "19               23       val  "
            ]
          },
          "execution_count": 181,
          "metadata": {},
          "output_type": "execute_result"
        }
      ],
      "source": [
        "df_val = df.loc[df[\"data_type\"]==\"val\"]\n",
        "df_val.head(5)"
      ]
    },
    {
      "cell_type": "code",
      "execution_count": null,
      "metadata": {
        "colab": {
          "base_uri": "https://localhost:8080/",
          "height": 206
        },
        "id": "HtflxJp-UV03",
        "outputId": "e725c8cd-5baf-4382-b603-bf55cd8ee863"
      },
      "outputs": [
        {
          "data": {
            "text/html": [
              "\n",
              "  <div id=\"df-f9abfc45-39dd-402d-a01e-597a5065de37\">\n",
              "    <div class=\"colab-df-container\">\n",
              "      <div>\n",
              "<style scoped>\n",
              "    .dataframe tbody tr th:only-of-type {\n",
              "        vertical-align: middle;\n",
              "    }\n",
              "\n",
              "    .dataframe tbody tr th {\n",
              "        vertical-align: top;\n",
              "    }\n",
              "\n",
              "    .dataframe thead th {\n",
              "        text-align: right;\n",
              "    }\n",
              "</style>\n",
              "<table border=\"1\" class=\"dataframe\">\n",
              "  <thead>\n",
              "    <tr style=\"text-align: right;\">\n",
              "      <th></th>\n",
              "      <th>tweet_text_Processed</th>\n",
              "      <th>class_label</th>\n",
              "      <th>num_class_label</th>\n",
              "      <th>data_type</th>\n",
              "    </tr>\n",
              "  </thead>\n",
              "  <tbody>\n",
              "    <tr>\n",
              "      <th>1</th>\n",
              "      <td>rt wow meteor russia sonic boom</td>\n",
              "      <td>Russia_meteor</td>\n",
              "      <td>17</td>\n",
              "      <td>test</td>\n",
              "    </tr>\n",
              "    <tr>\n",
              "      <th>12</th>\n",
              "      <td>rt irving oil dakota holding added lac gantic ...</td>\n",
              "      <td>Lac_Megantic_train_crash</td>\n",
              "      <td>12</td>\n",
              "      <td>test</td>\n",
              "    </tr>\n",
              "    <tr>\n",
              "      <th>15</th>\n",
              "      <td>rt sghaze cleared today lionsxii v johor darul...</td>\n",
              "      <td>Singapore_haze</td>\n",
              "      <td>8</td>\n",
              "      <td>test</td>\n",
              "    </tr>\n",
              "    <tr>\n",
              "      <th>30</th>\n",
              "      <td>rt sad hear nightclub fire brazil tragedy pray...</td>\n",
              "      <td>Brazil_nightclub_fire</td>\n",
              "      <td>4</td>\n",
              "      <td>test</td>\n",
              "    </tr>\n",
              "    <tr>\n",
              "      <th>31</th>\n",
              "      <td>check item found ebay proceeds go nsw fire vic...</td>\n",
              "      <td>Australia_bushfire</td>\n",
              "      <td>2</td>\n",
              "      <td>test</td>\n",
              "    </tr>\n",
              "  </tbody>\n",
              "</table>\n",
              "</div>\n",
              "      <button class=\"colab-df-convert\" onclick=\"convertToInteractive('df-f9abfc45-39dd-402d-a01e-597a5065de37')\"\n",
              "              title=\"Convert this dataframe to an interactive table.\"\n",
              "              style=\"display:none;\">\n",
              "        \n",
              "  <svg xmlns=\"http://www.w3.org/2000/svg\" height=\"24px\"viewBox=\"0 0 24 24\"\n",
              "       width=\"24px\">\n",
              "    <path d=\"M0 0h24v24H0V0z\" fill=\"none\"/>\n",
              "    <path d=\"M18.56 5.44l.94 2.06.94-2.06 2.06-.94-2.06-.94-.94-2.06-.94 2.06-2.06.94zm-11 1L8.5 8.5l.94-2.06 2.06-.94-2.06-.94L8.5 2.5l-.94 2.06-2.06.94zm10 10l.94 2.06.94-2.06 2.06-.94-2.06-.94-.94-2.06-.94 2.06-2.06.94z\"/><path d=\"M17.41 7.96l-1.37-1.37c-.4-.4-.92-.59-1.43-.59-.52 0-1.04.2-1.43.59L10.3 9.45l-7.72 7.72c-.78.78-.78 2.05 0 2.83L4 21.41c.39.39.9.59 1.41.59.51 0 1.02-.2 1.41-.59l7.78-7.78 2.81-2.81c.8-.78.8-2.07 0-2.86zM5.41 20L4 18.59l7.72-7.72 1.47 1.35L5.41 20z\"/>\n",
              "  </svg>\n",
              "      </button>\n",
              "      \n",
              "  <style>\n",
              "    .colab-df-container {\n",
              "      display:flex;\n",
              "      flex-wrap:wrap;\n",
              "      gap: 12px;\n",
              "    }\n",
              "\n",
              "    .colab-df-convert {\n",
              "      background-color: #E8F0FE;\n",
              "      border: none;\n",
              "      border-radius: 50%;\n",
              "      cursor: pointer;\n",
              "      display: none;\n",
              "      fill: #1967D2;\n",
              "      height: 32px;\n",
              "      padding: 0 0 0 0;\n",
              "      width: 32px;\n",
              "    }\n",
              "\n",
              "    .colab-df-convert:hover {\n",
              "      background-color: #E2EBFA;\n",
              "      box-shadow: 0px 1px 2px rgba(60, 64, 67, 0.3), 0px 1px 3px 1px rgba(60, 64, 67, 0.15);\n",
              "      fill: #174EA6;\n",
              "    }\n",
              "\n",
              "    [theme=dark] .colab-df-convert {\n",
              "      background-color: #3B4455;\n",
              "      fill: #D2E3FC;\n",
              "    }\n",
              "\n",
              "    [theme=dark] .colab-df-convert:hover {\n",
              "      background-color: #434B5C;\n",
              "      box-shadow: 0px 1px 3px 1px rgba(0, 0, 0, 0.15);\n",
              "      filter: drop-shadow(0px 1px 2px rgba(0, 0, 0, 0.3));\n",
              "      fill: #FFFFFF;\n",
              "    }\n",
              "  </style>\n",
              "\n",
              "      <script>\n",
              "        const buttonEl =\n",
              "          document.querySelector('#df-f9abfc45-39dd-402d-a01e-597a5065de37 button.colab-df-convert');\n",
              "        buttonEl.style.display =\n",
              "          google.colab.kernel.accessAllowed ? 'block' : 'none';\n",
              "\n",
              "        async function convertToInteractive(key) {\n",
              "          const element = document.querySelector('#df-f9abfc45-39dd-402d-a01e-597a5065de37');\n",
              "          const dataTable =\n",
              "            await google.colab.kernel.invokeFunction('convertToInteractive',\n",
              "                                                     [key], {});\n",
              "          if (!dataTable) return;\n",
              "\n",
              "          const docLinkHtml = 'Like what you see? Visit the ' +\n",
              "            '<a target=\"_blank\" href=https://colab.research.google.com/notebooks/data_table.ipynb>data table notebook</a>'\n",
              "            + ' to learn more about interactive tables.';\n",
              "          element.innerHTML = '';\n",
              "          dataTable['output_type'] = 'display_data';\n",
              "          await google.colab.output.renderOutput(dataTable, element);\n",
              "          const docLink = document.createElement('div');\n",
              "          docLink.innerHTML = docLinkHtml;\n",
              "          element.appendChild(docLink);\n",
              "        }\n",
              "      </script>\n",
              "    </div>\n",
              "  </div>\n",
              "  "
            ],
            "text/plain": [
              "                                 tweet_text_Processed  \\\n",
              "1                     rt wow meteor russia sonic boom   \n",
              "12  rt irving oil dakota holding added lac gantic ...   \n",
              "15  rt sghaze cleared today lionsxii v johor darul...   \n",
              "30  rt sad hear nightclub fire brazil tragedy pray...   \n",
              "31  check item found ebay proceeds go nsw fire vic...   \n",
              "\n",
              "                 class_label  num_class_label data_type  \n",
              "1              Russia_meteor               17      test  \n",
              "12  Lac_Megantic_train_crash               12      test  \n",
              "15            Singapore_haze                8      test  \n",
              "30     Brazil_nightclub_fire                4      test  \n",
              "31        Australia_bushfire                2      test  "
            ]
          },
          "execution_count": 182,
          "metadata": {},
          "output_type": "execute_result"
        }
      ],
      "source": [
        "df_test = df.loc[df[\"data_type\"]==\"test\"]\n",
        "df_test.head(5)"
      ]
    },
    {
      "cell_type": "code",
      "execution_count": null,
      "metadata": {
        "colab": {
          "base_uri": "https://localhost:8080/"
        },
        "id": "SjCxTPbeUV03",
        "outputId": "20db7a05-c382-47af-cd62-132043cead63"
      },
      "outputs": [
        {
          "data": {
            "text/plain": [
              "tweet_text_Processed    object\n",
              "class_label             object\n",
              "num_class_label          int64\n",
              "data_type               object\n",
              "dtype: object"
            ]
          },
          "execution_count": 183,
          "metadata": {},
          "output_type": "execute_result"
        }
      ],
      "source": [
        "df.dtypes"
      ]
    },
    {
      "cell_type": "code",
      "execution_count": null,
      "metadata": {
        "id": "OuJr6Be7UV03"
      },
      "outputs": [],
      "source": [
        "train_data_labels= df_train.num_class_label.values"
      ]
    },
    {
      "cell_type": "code",
      "execution_count": null,
      "metadata": {
        "colab": {
          "base_uri": "https://localhost:8080/"
        },
        "id": "5mBObDUiUV03",
        "outputId": "001d1f30-4124-4bac-d895-cadadd3ac2c1"
      },
      "outputs": [
        {
          "data": {
            "text/plain": [
              "16368"
            ]
          },
          "execution_count": 185,
          "metadata": {},
          "output_type": "execute_result"
        }
      ],
      "source": [
        "len(train_data_labels)"
      ]
    },
    {
      "cell_type": "code",
      "execution_count": null,
      "metadata": {
        "colab": {
          "base_uri": "https://localhost:8080/"
        },
        "id": "MmC0jEsMUV03",
        "outputId": "453ae015-41ba-4500-fce5-37cbba9e9c49"
      },
      "outputs": [
        {
          "name": "stdout",
          "output_type": "stream",
          "text": [
            "[14  5 17 ... 14 14 11]\n"
          ]
        }
      ],
      "source": [
        "print(train_data_labels)"
      ]
    },
    {
      "cell_type": "code",
      "execution_count": null,
      "metadata": {
        "id": "xK3QTKGXUV04"
      },
      "outputs": [],
      "source": [
        "val_data_labels= df_val.num_class_label.values"
      ]
    },
    {
      "cell_type": "code",
      "execution_count": null,
      "metadata": {
        "colab": {
          "base_uri": "https://localhost:8080/"
        },
        "id": "GfF_4eTNUV04",
        "outputId": "47808317-60d3-4398-e774-5512c8b3370d"
      },
      "outputs": [
        {
          "data": {
            "text/plain": [
              "4092"
            ]
          },
          "execution_count": 188,
          "metadata": {},
          "output_type": "execute_result"
        }
      ],
      "source": [
        "len(val_data_labels)"
      ]
    },
    {
      "cell_type": "code",
      "execution_count": null,
      "metadata": {
        "colab": {
          "base_uri": "https://localhost:8080/"
        },
        "id": "5aycuhAVUV04",
        "outputId": "1bf5e620-4b3e-4157-ffe7-79a88bad05b5"
      },
      "outputs": [
        {
          "name": "stdout",
          "output_type": "stream",
          "text": [
            "[ 5 26  9 ... 13  1 24]\n"
          ]
        }
      ],
      "source": [
        "print(val_data_labels)"
      ]
    },
    {
      "cell_type": "code",
      "execution_count": null,
      "metadata": {
        "id": "CKSS0FmhUV04"
      },
      "outputs": [],
      "source": [
        "test_data_labels= df_test.num_class_label.values"
      ]
    },
    {
      "cell_type": "code",
      "execution_count": null,
      "metadata": {
        "colab": {
          "base_uri": "https://localhost:8080/"
        },
        "id": "I-qjkMAlUV04",
        "outputId": "cb84fc3b-1ec1-4373-8fc9-2fe0f9bedfe4"
      },
      "outputs": [
        {
          "data": {
            "text/plain": [
              "5115"
            ]
          },
          "execution_count": 191,
          "metadata": {},
          "output_type": "execute_result"
        }
      ],
      "source": [
        "len(test_data_labels)"
      ]
    },
    {
      "cell_type": "code",
      "execution_count": null,
      "metadata": {
        "colab": {
          "base_uri": "https://localhost:8080/"
        },
        "id": "4wCjN-12UV04",
        "outputId": "5ccd1b48-8975-4012-a09d-39a89521078e"
      },
      "outputs": [
        {
          "name": "stdout",
          "output_type": "stream",
          "text": [
            "[17 12  8 ... 10  4 16]\n"
          ]
        }
      ],
      "source": [
        "print(test_data_labels)"
      ]
    },
    {
      "cell_type": "code",
      "execution_count": null,
      "metadata": {
        "id": "U83_bQX0UV04"
      },
      "outputs": [],
      "source": [
        "def clean_tweet(tweet):\n",
        "    #tweet = re.sub(r\"@[A-Za-z0-9]+\", ' ', tweet)\n",
        "    #tweet = re.sub(r\"https?://[A-Za-z0-9./]+\", ' ', tweet)\n",
        "    #tweet = re.sub(r\"[^a-Za-Z.!?']\", ' ', tweet)\n",
        "    tweet = re.sub(r\" +\", ' ', tweet)\n",
        "    return tweet"
      ]
    },
    {
      "cell_type": "code",
      "execution_count": null,
      "metadata": {
        "id": "eR4Mlcj1UV04"
      },
      "outputs": [],
      "source": [
        "train_data_clean = [clean_tweet(tweet) for tweet in df_train.tweet_text_Processed]"
      ]
    },
    {
      "cell_type": "code",
      "execution_count": null,
      "metadata": {
        "colab": {
          "base_uri": "https://localhost:8080/"
        },
        "id": "xf996-cpUV04",
        "outputId": "46d2d994-4328-4d3a-9cad-d08c531ba4a0"
      },
      "outputs": [
        {
          "name": "stdout",
          "output_type": "stream",
          "text": [
            "['rt let pray lost home living cold starving rescueph godblessph prayersforevery']\n"
          ]
        }
      ],
      "source": [
        "print(train_data_clean[0:1])"
      ]
    },
    {
      "cell_type": "code",
      "execution_count": null,
      "metadata": {
        "colab": {
          "base_uri": "https://localhost:8080/"
        },
        "id": "oX4ckUxUUV04",
        "outputId": "21af5e2a-ab17-4831-cd68-b2d675872c77"
      },
      "outputs": [
        {
          "data": {
            "text/plain": [
              "16368"
            ]
          },
          "execution_count": 196,
          "metadata": {},
          "output_type": "execute_result"
        }
      ],
      "source": [
        "len(train_data_clean)"
      ]
    },
    {
      "cell_type": "code",
      "execution_count": null,
      "metadata": {
        "id": "tflyTPITUV04"
      },
      "outputs": [],
      "source": [
        "val_data_clean = [clean_tweet(tweet) for tweet in df_val.tweet_text_Processed]"
      ]
    },
    {
      "cell_type": "code",
      "execution_count": null,
      "metadata": {
        "colab": {
          "base_uri": "https://localhost:8080/"
        },
        "id": "hYkZxZjCUV05",
        "outputId": "8af5732f-6688-433f-e8b1-b27e00515f69"
      },
      "outputs": [
        {
          "data": {
            "text/plain": [
              "4092"
            ]
          },
          "execution_count": 198,
          "metadata": {},
          "output_type": "execute_result"
        }
      ],
      "source": [
        "len(val_data_clean)"
      ]
    },
    {
      "cell_type": "code",
      "execution_count": null,
      "metadata": {
        "id": "IHVji4D1UV05"
      },
      "outputs": [],
      "source": [
        "test_data_clean = [clean_tweet(tweet) for tweet in df_test.tweet_text_Processed]"
      ]
    },
    {
      "cell_type": "code",
      "execution_count": null,
      "metadata": {
        "colab": {
          "base_uri": "https://localhost:8080/"
        },
        "id": "crR0DplfUV05",
        "outputId": "6f925eb1-8186-48ae-e6d4-6e16183fa3a8"
      },
      "outputs": [
        {
          "data": {
            "text/plain": [
              "5115"
            ]
          },
          "execution_count": 200,
          "metadata": {},
          "output_type": "execute_result"
        }
      ],
      "source": [
        "len(test_data_clean)"
      ]
    },
    {
      "cell_type": "code",
      "execution_count": null,
      "metadata": {
        "id": "zgq-nQ5KUV05"
      },
      "outputs": [],
      "source": [
        "FullTokenizer = bert.bert_tokenization.FullTokenizer\n",
        "bert_layer = hub.KerasLayer(\"https://tfhub.dev/tensorflow/bert_en_uncased_L-12_H-768_A-12/1\",\n",
        "                            trainable=False)\n",
        "vocab_file = bert_layer.resolved_object.vocab_file.asset_path.numpy()\n",
        "do_lower_case= bert_layer.resolved_object.do_lower_case.numpy()\n",
        "tokenizer = FullTokenizer(vocab_file, do_lower_case) "
      ]
    },
    {
      "cell_type": "code",
      "execution_count": null,
      "metadata": {
        "id": "AL4aAC5UUV05"
      },
      "outputs": [],
      "source": [
        "def encode_sentence(sent):\n",
        "    return [\"[CLS]\"] + tokenizer.tokenize(sent) + [\"[SEP]\"]"
      ]
    },
    {
      "cell_type": "code",
      "execution_count": null,
      "metadata": {
        "id": "NT1H8W7JUV05"
      },
      "outputs": [],
      "source": [
        "train_data_inputs = [encode_sentence(sentence) for sentence in train_data_clean]"
      ]
    },
    {
      "cell_type": "code",
      "execution_count": null,
      "metadata": {
        "colab": {
          "base_uri": "https://localhost:8080/"
        },
        "id": "HXoCDyhNUV05",
        "outputId": "6ce0c37f-f2fc-412c-f592-8ade4d73ef78"
      },
      "outputs": [
        {
          "name": "stdout",
          "output_type": "stream",
          "text": [
            "['[CLS]', 'rt', 'let', 'pray', 'lost', 'home', 'living', 'cold', 'starving', 'rescue', '##ph', 'god', '##bles', '##sp', '##h', 'prayers', '##for', '##ever', '##y', '[SEP]']\n"
          ]
        }
      ],
      "source": [
        "print(train_data_inputs[0])"
      ]
    },
    {
      "cell_type": "code",
      "execution_count": null,
      "metadata": {
        "colab": {
          "base_uri": "https://localhost:8080/"
        },
        "id": "eksghpDcUV05",
        "outputId": "a7ee4702-e8ed-492c-f182-9ae90879efc2"
      },
      "outputs": [
        {
          "name": "stdout",
          "output_type": "stream",
          "text": [
            "20\n"
          ]
        }
      ],
      "source": [
        "print(len(train_data_inputs[0]))"
      ]
    },
    {
      "cell_type": "code",
      "execution_count": null,
      "metadata": {
        "id": "t4u-pghOUV05"
      },
      "outputs": [],
      "source": [
        "val_data_inputs = [encode_sentence(sentence) for sentence in val_data_clean]"
      ]
    },
    {
      "cell_type": "code",
      "execution_count": null,
      "metadata": {
        "colab": {
          "base_uri": "https://localhost:8080/"
        },
        "id": "ZnJstuQ6UV05",
        "outputId": "31c55a60-e8d6-46eb-a8d1-457496177dce"
      },
      "outputs": [
        {
          "name": "stdout",
          "output_type": "stream",
          "text": [
            "['[CLS]', 'rt', 'whoa', 'heavy', 'erosion', 'pavement', 'rt', '25th', 'ave', 'er', '##lton', 'mission', 'y', '##y', '##c', '##fl', '##ood', '[SEP]']\n"
          ]
        }
      ],
      "source": [
        "print(val_data_inputs[1])"
      ]
    },
    {
      "cell_type": "code",
      "execution_count": null,
      "metadata": {
        "id": "V2uYhv0mUV06"
      },
      "outputs": [],
      "source": [
        "test_data_inputs = [encode_sentence(sentence) for sentence in test_data_clean]"
      ]
    },
    {
      "cell_type": "code",
      "execution_count": null,
      "metadata": {
        "colab": {
          "base_uri": "https://localhost:8080/"
        },
        "id": "g5uqtmHpUV06",
        "outputId": "40bb4447-f7b6-4d21-e58a-6e2f9fb151e9"
      },
      "outputs": [
        {
          "name": "stdout",
          "output_type": "stream",
          "text": [
            "['[CLS]', 'rt', 'wow', 'meteor', 'russia', 'sonic', 'boom', '[SEP]']\n"
          ]
        }
      ],
      "source": [
        "print(test_data_inputs[0])"
      ]
    },
    {
      "cell_type": "code",
      "execution_count": null,
      "metadata": {
        "id": "sDDfEymDUV06"
      },
      "outputs": [],
      "source": [
        "def get_ids(tokens):\n",
        "    return tokenizer.convert_tokens_to_ids(tokens)\n",
        "\n",
        "def get_mask(tokens):\n",
        "    return np.char.not_equal(tokens,\"[PAD]\").astype(int)\n",
        "\n",
        "def get_segments(tokens):\n",
        "    seg_ids = []\n",
        "    current_seg_id = 0\n",
        "    for tok in tokens:\n",
        "        seg_ids.append(current_seg_id)\n",
        "        if tok == \"[SEP]\":\n",
        "            current_sig_id = 1-current_seg_id\n",
        "    return seg_ids\n"
      ]
    },
    {
      "cell_type": "code",
      "execution_count": null,
      "metadata": {
        "id": "4bUO8oJXUV06"
      },
      "outputs": [],
      "source": [
        "data_with_len = [[sent, train_data_labels[i], len(sent)]\n",
        "                 for i, sent in enumerate(train_data_inputs)]\n",
        "random.shuffle(data_with_len)\n",
        "data_with_len.sort(key=lambda x: x[2])\n",
        "train_sorted_all = [([get_ids(sent_lab[0]),\n",
        "                get_mask(sent_lab[0]),\n",
        "                get_segments(sent_lab[0])],\n",
        "               sent_lab[1])\n",
        "              for sent_lab in data_with_len if sent_lab[2] > 4]"
      ]
    },
    {
      "cell_type": "code",
      "execution_count": null,
      "metadata": {
        "id": "vK4fRPlPUV06"
      },
      "outputs": [],
      "source": [
        "train_all_dataset = tf.data.Dataset.from_generator(lambda: train_sorted_all,\n",
        "                                             output_types=(tf.int32, tf.int32))"
      ]
    },
    {
      "cell_type": "code",
      "execution_count": null,
      "metadata": {
        "id": "y4cHlajAUV06"
      },
      "outputs": [],
      "source": [
        "BATCH_SIZE = 32\n",
        "train_all_batched = train_all_dataset.padded_batch(BATCH_SIZE,\n",
        "                                       padded_shapes=((3, None), ()),\n",
        "                                       padding_values=(0, 0))"
      ]
    },
    {
      "cell_type": "code",
      "execution_count": null,
      "metadata": {
        "colab": {
          "base_uri": "https://localhost:8080/"
        },
        "id": "9UbgdVrsUV06",
        "outputId": "634a9d73-be1c-4521-e0af-7a0aba58c6e3"
      },
      "outputs": [
        {
          "data": {
            "text/plain": [
              "16268"
            ]
          },
          "execution_count": 214,
          "metadata": {},
          "output_type": "execute_result"
        }
      ],
      "source": [
        "len(train_sorted_all)"
      ]
    },
    {
      "cell_type": "code",
      "execution_count": null,
      "metadata": {
        "id": "o9WEl27qUV06"
      },
      "outputs": [],
      "source": [
        "NB_BATCHES = math.ceil(len(train_sorted_all) /BATCH_SIZE)\n",
        "NB_BATCHES_TRAIN =NB_BATCHES // 1\n",
        "train_all_batched.shuffle(NB_BATCHES)\n",
        "#test_dataset = train_all_batched.take(NB_BATCHES_TRAIN)\n",
        "train_dataset = train_all_batched.take(NB_BATCHES_TRAIN)"
      ]
    },
    {
      "cell_type": "code",
      "execution_count": null,
      "metadata": {
        "colab": {
          "base_uri": "https://localhost:8080/"
        },
        "id": "LchDWqZ7UV06",
        "outputId": "e7e3300a-d539-49d2-a258-87938a9f422c"
      },
      "outputs": [
        {
          "name": "stdout",
          "output_type": "stream",
          "text": [
            "<class 'tensorflow.python.data.ops.take_op._TakeDataset'>\n"
          ]
        }
      ],
      "source": [
        "print(type(train_dataset))"
      ]
    },
    {
      "cell_type": "code",
      "execution_count": null,
      "metadata": {
        "id": "7OLhYQmtUV06"
      },
      "outputs": [],
      "source": [
        "data_with_len = [[sent, val_data_labels[i], len(sent)]\n",
        "                 for i, sent in enumerate(val_data_inputs)]\n",
        "random.shuffle(data_with_len)\n",
        "data_with_len.sort(key=lambda x: x[2])\n",
        "val_sorted_all = [([get_ids(sent_lab[0]),\n",
        "                get_mask(sent_lab[0]),\n",
        "                get_segments(sent_lab[0])],\n",
        "               sent_lab[1])\n",
        "              for sent_lab in data_with_len if sent_lab[2] > 4]"
      ]
    },
    {
      "cell_type": "code",
      "execution_count": null,
      "metadata": {
        "colab": {
          "base_uri": "https://localhost:8080/"
        },
        "id": "4juepSLSUV07",
        "outputId": "c3127233-3882-4ba7-8fe9-878850ee4db5"
      },
      "outputs": [
        {
          "name": "stdout",
          "output_type": "stream",
          "text": [
            "4092\n"
          ]
        }
      ],
      "source": [
        "print(len((val_data_labels)))"
      ]
    },
    {
      "cell_type": "code",
      "execution_count": null,
      "metadata": {
        "id": "J3rYDmLTUV07"
      },
      "outputs": [],
      "source": [
        "val_all_dataset = tf.data.Dataset.from_generator(lambda: val_sorted_all,\n",
        "                                             output_types=(tf.int32, tf.int32))"
      ]
    },
    {
      "cell_type": "code",
      "execution_count": null,
      "metadata": {
        "id": "a8jw7ZI0UV07"
      },
      "outputs": [],
      "source": [
        "BATCH_SIZE = 32\n",
        "val_all_batched = val_all_dataset.padded_batch(BATCH_SIZE,\n",
        "                                       padded_shapes=((3, None), ()),\n",
        "                                       padding_values=(0, 0))"
      ]
    },
    {
      "cell_type": "code",
      "execution_count": null,
      "metadata": {
        "colab": {
          "base_uri": "https://localhost:8080/"
        },
        "id": "YxBvYNzDUV07",
        "outputId": "03f82b12-c4fb-448b-b2ce-0654a9c950b7"
      },
      "outputs": [
        {
          "data": {
            "text/plain": [
              "4058"
            ]
          },
          "execution_count": 221,
          "metadata": {},
          "output_type": "execute_result"
        }
      ],
      "source": [
        "len(val_sorted_all)"
      ]
    },
    {
      "cell_type": "code",
      "execution_count": null,
      "metadata": {
        "id": "US4aW8yfUV07"
      },
      "outputs": [],
      "source": [
        "NB_BATCHES = math.ceil(len(val_sorted_all) /BATCH_SIZE)\n",
        "NB_BATCHES_TRAIN =NB_BATCHES // 1\n",
        "val_all_batched.shuffle(NB_BATCHES)\n",
        "#test_dataset = train_all_batched.take(NB_BATCHES_TRAIN)\n",
        "val_dataset = val_all_batched.take(NB_BATCHES_TRAIN)"
      ]
    },
    {
      "cell_type": "code",
      "execution_count": null,
      "metadata": {
        "colab": {
          "base_uri": "https://localhost:8080/"
        },
        "id": "EVB8B7ZIUV07",
        "outputId": "33fbcf41-2dac-4ee7-a4c6-880876906d7e"
      },
      "outputs": [
        {
          "name": "stdout",
          "output_type": "stream",
          "text": [
            "<class 'tensorflow.python.data.ops.take_op._TakeDataset'>\n"
          ]
        }
      ],
      "source": [
        "print(type(val_dataset))"
      ]
    },
    {
      "cell_type": "code",
      "execution_count": null,
      "metadata": {
        "id": "ACmhPXWQUV07"
      },
      "outputs": [],
      "source": [
        "data_with_len = [[sent, test_data_labels[i], len(sent)]\n",
        "                 for i, sent in enumerate(test_data_inputs)]\n",
        "random.shuffle(data_with_len)\n",
        "data_with_len.sort(key=lambda x: x[2])\n",
        "test_sorted_all = [([get_ids(sent_lab[0]),\n",
        "                get_mask(sent_lab[0]),\n",
        "                get_segments(sent_lab[0])],\n",
        "               sent_lab[1])\n",
        "              for sent_lab in data_with_len if sent_lab[2] > 4]"
      ]
    },
    {
      "cell_type": "code",
      "execution_count": null,
      "metadata": {
        "id": "WHx5wSfVUV07"
      },
      "outputs": [],
      "source": [
        "test_all_dataset = tf.data.Dataset.from_generator(lambda: test_sorted_all,\n",
        "                                             output_types=(tf.int32, tf.int32))"
      ]
    },
    {
      "cell_type": "code",
      "execution_count": null,
      "metadata": {
        "id": "UTzWrW8pUV07"
      },
      "outputs": [],
      "source": [
        "BATCH_SIZE = 32\n",
        "test_all_batched = test_all_dataset.padded_batch(BATCH_SIZE,\n",
        "                                       padded_shapes=((3, None), ()),\n",
        "                                       padding_values=(0, 0))"
      ]
    },
    {
      "cell_type": "code",
      "execution_count": null,
      "metadata": {
        "colab": {
          "base_uri": "https://localhost:8080/"
        },
        "id": "waU9MiS8UV07",
        "outputId": "a5d75c8d-c1fb-4a1a-91bd-2a03e21516e1"
      },
      "outputs": [
        {
          "data": {
            "text/plain": [
              "5084"
            ]
          },
          "execution_count": 227,
          "metadata": {},
          "output_type": "execute_result"
        }
      ],
      "source": [
        "len(test_sorted_all)"
      ]
    },
    {
      "cell_type": "code",
      "execution_count": null,
      "metadata": {
        "id": "Ni0kNmndUV08"
      },
      "outputs": [],
      "source": [
        "NB_BATCHES = math.ceil(len(test_sorted_all) /BATCH_SIZE)\n",
        "NB_BATCHES_TRAIN =NB_BATCHES // 1\n",
        "test_all_batched.shuffle(NB_BATCHES)\n",
        "#test_dataset = train_all_batched.take(NB_BATCHES_TRAIN)\n",
        "test_dataset = test_all_batched.take(NB_BATCHES_TRAIN)"
      ]
    },
    {
      "cell_type": "code",
      "execution_count": null,
      "metadata": {
        "colab": {
          "base_uri": "https://localhost:8080/"
        },
        "id": "pLmeEwt3UV08",
        "outputId": "17e4105e-aa7f-4254-c8b2-cd2d1c642c77"
      },
      "outputs": [
        {
          "name": "stdout",
          "output_type": "stream",
          "text": [
            "<class 'tensorflow.python.data.ops.take_op._TakeDataset'>\n"
          ]
        }
      ],
      "source": [
        "print(type(test_dataset))"
      ]
    },
    {
      "cell_type": "code",
      "execution_count": null,
      "metadata": {
        "id": "_x-wiH2DUV08"
      },
      "outputs": [],
      "source": []
    },
    {
      "cell_type": "markdown",
      "metadata": {
        "id": "015VdgmiUV08"
      },
      "source": [
        "##Model building"
      ]
    },
    {
      "cell_type": "code",
      "execution_count": null,
      "metadata": {
        "id": "Bd-OebRcUV08"
      },
      "outputs": [],
      "source": [
        "#my_sent = ['[CLS]'] + tokenizer.tokenize(\"Rose are red.\") + [\"[SEP]\"]\n",
        "#bert_layer([tf.expand_dims(tf.cast(get_ids(my_sent), tf.int32), 0),\n",
        "#            tf.expand_dims(tf.cast(get_mask(my_sent), tf.int32), 0),\n",
        "#            tf.expand_dims(tf.cast(get_segments(my_sent), tf.int32), 0)])"
      ]
    },
    {
      "cell_type": "code",
      "execution_count": null,
      "metadata": {
        "id": "i58dR4PUUV08"
      },
      "outputs": [],
      "source": [
        "class DCNNBERTEmbedding(tf.keras.Model):\n",
        "    \n",
        "    def __init__(self,\n",
        "              nb_filters=50,\n",
        "              FFN_units=512,\n",
        "              nb_classes=7,\n",
        "              dropout_rate=0.1,\n",
        "              name=\"dcnn\"):\n",
        "        super(DCNNBERTEmbedding, self).__init__(name=name)\n",
        "\n",
        "        self.bert_layer = hub.KerasLayer(\n",
        "            \"https://tfhub.dev/tensorflow/bert_en_uncased_L-12_H-768_A-12/1\",\n",
        "            trainable=False)\n",
        "\n",
        "        \n",
        "        self.bigram = layers.Conv1D(filters=nb_filters,\n",
        "                                    kernel_size=2,\n",
        "                                    padding='valid',\n",
        "                                    activation='relu')\n",
        "        self.trigram = layers.Conv1D(filters=nb_filters,\n",
        "                                     kernel_size=3,\n",
        "                                     padding='valid',\n",
        "                                     activation='relu')\n",
        "        self.fourgram = layers.Conv1D(filters=nb_filters,\n",
        "                                      kernel_size=4,\n",
        "                                      padding='valid',\n",
        "                                      activation='relu')\n",
        "        self.pool = layers.GlobalMaxPooling1D()\n",
        "\n",
        "        self.dense_1 = layers.Dense(units=FFN_units,\n",
        "                                    activation='relu')\n",
        "        self.dropout = layers.Dropout(rate = dropout_rate)\n",
        "        if nb_classes == 2:\n",
        "            self.last_dense = layers.Dense(units=1,\n",
        "                                           activation='sigmoid')\n",
        "        else:\n",
        "            self.last_dense = layers.Dense(units = nb_classes,\n",
        "                                           activation ='softmax')\n",
        "    \n",
        "\n",
        "    def embed_with_bert(self, all_tokens):\n",
        "        _, embs= self.bert_layer([all_tokens[:, 0, :],\n",
        "                                  all_tokens[:, 1, :],\n",
        "                                  all_tokens[:, 2, :]])\n",
        "        return embs\n",
        "\n",
        "    def call(self, inputs, training):\n",
        "        x= self.embed_with_bert(inputs)\n",
        "\n",
        "        x_1= self.bigram(x)\n",
        "        x_1= self.pool(x_1)\n",
        "        x_2= self.trigram(x)\n",
        "        x_2= self.pool(x_2)\n",
        "        x_3= self.fourgram(x)\n",
        "        x_3= self.pool(x_3)\n",
        "\n",
        "\n",
        "        merged = tf.concat([x_1, x_2, x_3], axis=-1)\n",
        "        merged = self.dense_1(merged)\n",
        "        merged = self.dropout(merged, training)\n",
        "        output= self.last_dense(merged)\n",
        "\n",
        "        return output"
      ]
    },
    {
      "cell_type": "code",
      "execution_count": null,
      "metadata": {
        "id": "rlLbrN0hUV08"
      },
      "outputs": [],
      "source": []
    },
    {
      "cell_type": "markdown",
      "metadata": {
        "id": "39_TDBiMUV08"
      },
      "source": [
        "##Model Training"
      ]
    },
    {
      "cell_type": "code",
      "execution_count": null,
      "metadata": {
        "id": "qhN2icLrUV08"
      },
      "outputs": [],
      "source": [
        "NB_FILTERS= 100\n",
        "FFN_UNITS= 256\n",
        "NB_CLASSES = 7\n",
        "\n",
        "DROPOUT_RATE = 0.2\n",
        "BATCH_SIZE=32\n",
        "NB_EPOCHS = 50"
      ]
    },
    {
      "cell_type": "code",
      "execution_count": null,
      "metadata": {
        "id": "3xv6JWkpUV08"
      },
      "outputs": [],
      "source": [
        "Dcnn = DCNNBERTEmbedding(nb_filters=NB_FILTERS,\n",
        "            FFN_units = FFN_UNITS,\n",
        "            nb_classes = NB_CLASSES,\n",
        "            dropout_rate = DROPOUT_RATE)"
      ]
    },
    {
      "cell_type": "code",
      "execution_count": null,
      "metadata": {
        "id": "bS4HdjYdUV09"
      },
      "outputs": [],
      "source": [
        "if NB_CLASSES == 2:\n",
        "    Dcnn.compile(loss='binary_crossentropy',\n",
        "                 optimizer='adam',\n",
        "                 metrics=['accuracy'])\n",
        "else:\n",
        "    Dcnn.compile(loss='sparse_categorical_crossentropy',\n",
        "                 optimizer='adam',\n",
        "                 metrics=['sparse_categorical_accuracy'])\n"
      ]
    },
    {
      "cell_type": "code",
      "execution_count": null,
      "metadata": {
        "id": "IZcZB6Z0PNSk"
      },
      "outputs": [],
      "source": [
        "#Dcnn(None, 3, None)"
      ]
    },
    {
      "cell_type": "code",
      "execution_count": null,
      "metadata": {
        "id": "dsK0KndDUV09"
      },
      "outputs": [],
      "source": [
        "#Dcnn.summary()"
      ]
    },
    {
      "cell_type": "code",
      "execution_count": null,
      "metadata": {
        "id": "5k9C5v4CUV09"
      },
      "outputs": [],
      "source": [
        "from keras.models import Sequential\n",
        "from keras.layers import Dense\n",
        "from keras.utils.vis_utils import plot_model"
      ]
    },
    {
      "cell_type": "code",
      "execution_count": null,
      "metadata": {
        "id": "h5Yt1F63UV09"
      },
      "outputs": [],
      "source": [
        "#plot_model(Dcnn, to_file='model_plot.png', show_shapes=True, show_layer_names=True)"
      ]
    },
    {
      "cell_type": "code",
      "execution_count": null,
      "metadata": {
        "id": "kLzTSdEBUV09"
      },
      "outputs": [],
      "source": []
    },
    {
      "cell_type": "code",
      "execution_count": null,
      "metadata": {
        "id": "gIbaj9PoUV09"
      },
      "outputs": [],
      "source": []
    },
    {
      "cell_type": "markdown",
      "metadata": {
        "id": "wgdfw-WPUV09"
      },
      "source": [
        "##Result"
      ]
    },
    {
      "cell_type": "code",
      "execution_count": null,
      "metadata": {
        "colab": {
          "base_uri": "https://localhost:8080/"
        },
        "id": "9JE5AOQGUV09",
        "outputId": "4ae8ec05-6f8d-4328-9159-4107823a549e"
      },
      "outputs": [
        {
          "name": "stdout",
          "output_type": "stream",
          "text": [
            "Epoch 1/50\n",
            "509/509 [==============================] - 59s 65ms/step - loss: nan - sparse_categorical_accuracy: 0.0370\n",
            "Epoch 2/50\n",
            "509/509 [==============================] - 25s 49ms/step - loss: nan - sparse_categorical_accuracy: 0.0370\n",
            "Epoch 3/50\n",
            "509/509 [==============================] - 25s 49ms/step - loss: nan - sparse_categorical_accuracy: 0.0370\n",
            "Epoch 4/50\n",
            "509/509 [==============================] - 25s 49ms/step - loss: nan - sparse_categorical_accuracy: 0.0370\n",
            "Epoch 5/50\n",
            "509/509 [==============================] - 25s 49ms/step - loss: nan - sparse_categorical_accuracy: 0.0370\n",
            "Epoch 6/50\n",
            "509/509 [==============================] - 25s 49ms/step - loss: nan - sparse_categorical_accuracy: 0.0370\n",
            "Epoch 7/50\n",
            "509/509 [==============================] - 25s 50ms/step - loss: nan - sparse_categorical_accuracy: 0.0370\n",
            "Epoch 8/50\n",
            "509/509 [==============================] - 25s 49ms/step - loss: nan - sparse_categorical_accuracy: 0.0370\n",
            "Epoch 9/50\n",
            "509/509 [==============================] - 25s 50ms/step - loss: nan - sparse_categorical_accuracy: 0.0370\n",
            "Epoch 10/50\n",
            "509/509 [==============================] - 25s 49ms/step - loss: nan - sparse_categorical_accuracy: 0.0370\n",
            "Epoch 11/50\n",
            "509/509 [==============================] - 25s 49ms/step - loss: nan - sparse_categorical_accuracy: 0.0370\n",
            "Epoch 12/50\n",
            "509/509 [==============================] - 25s 50ms/step - loss: nan - sparse_categorical_accuracy: 0.0370\n",
            "Epoch 13/50\n",
            "509/509 [==============================] - 25s 49ms/step - loss: nan - sparse_categorical_accuracy: 0.0370\n",
            "Epoch 14/50\n",
            "509/509 [==============================] - 25s 50ms/step - loss: nan - sparse_categorical_accuracy: 0.0370\n",
            "Epoch 15/50\n",
            "509/509 [==============================] - 25s 49ms/step - loss: nan - sparse_categorical_accuracy: 0.0370\n",
            "Epoch 16/50\n",
            "509/509 [==============================] - 25s 50ms/step - loss: nan - sparse_categorical_accuracy: 0.0370\n",
            "Epoch 17/50\n",
            "509/509 [==============================] - 25s 49ms/step - loss: nan - sparse_categorical_accuracy: 0.0370\n",
            "Epoch 18/50\n",
            "509/509 [==============================] - 25s 50ms/step - loss: nan - sparse_categorical_accuracy: 0.0370\n",
            "Epoch 19/50\n",
            "509/509 [==============================] - 25s 49ms/step - loss: nan - sparse_categorical_accuracy: 0.0370\n",
            "Epoch 20/50\n",
            "509/509 [==============================] - 25s 48ms/step - loss: nan - sparse_categorical_accuracy: 0.0370\n",
            "Epoch 21/50\n",
            "509/509 [==============================] - 25s 49ms/step - loss: nan - sparse_categorical_accuracy: 0.0370\n",
            "Epoch 22/50\n",
            "509/509 [==============================] - 25s 50ms/step - loss: nan - sparse_categorical_accuracy: 0.0370\n",
            "Epoch 23/50\n",
            "509/509 [==============================] - 25s 49ms/step - loss: nan - sparse_categorical_accuracy: 0.0370\n",
            "Epoch 24/50\n",
            "509/509 [==============================] - 25s 50ms/step - loss: nan - sparse_categorical_accuracy: 0.0370\n",
            "Epoch 25/50\n",
            "509/509 [==============================] - 25s 49ms/step - loss: nan - sparse_categorical_accuracy: 0.0370\n",
            "Epoch 26/50\n",
            "509/509 [==============================] - 25s 49ms/step - loss: nan - sparse_categorical_accuracy: 0.0370\n",
            "Epoch 27/50\n",
            "509/509 [==============================] - 25s 50ms/step - loss: nan - sparse_categorical_accuracy: 0.0370\n",
            "Epoch 28/50\n",
            "509/509 [==============================] - 25s 50ms/step - loss: nan - sparse_categorical_accuracy: 0.0370\n",
            "Epoch 29/50\n",
            "509/509 [==============================] - 25s 49ms/step - loss: nan - sparse_categorical_accuracy: 0.0370\n",
            "Epoch 30/50\n",
            "509/509 [==============================] - 25s 50ms/step - loss: nan - sparse_categorical_accuracy: 0.0370\n",
            "Epoch 31/50\n",
            "509/509 [==============================] - 25s 49ms/step - loss: nan - sparse_categorical_accuracy: 0.0370\n",
            "Epoch 32/50\n",
            "509/509 [==============================] - 25s 49ms/step - loss: nan - sparse_categorical_accuracy: 0.0370\n",
            "Epoch 33/50\n",
            "509/509 [==============================] - 25s 50ms/step - loss: nan - sparse_categorical_accuracy: 0.0370\n",
            "Epoch 34/50\n",
            "509/509 [==============================] - 25s 49ms/step - loss: nan - sparse_categorical_accuracy: 0.0370\n",
            "Epoch 35/50\n",
            "509/509 [==============================] - 25s 48ms/step - loss: nan - sparse_categorical_accuracy: 0.0370\n",
            "Epoch 36/50\n",
            "509/509 [==============================] - 25s 50ms/step - loss: nan - sparse_categorical_accuracy: 0.0370\n",
            "Epoch 37/50\n",
            "509/509 [==============================] - 25s 49ms/step - loss: nan - sparse_categorical_accuracy: 0.0370\n",
            "Epoch 38/50\n",
            "509/509 [==============================] - 25s 49ms/step - loss: nan - sparse_categorical_accuracy: 0.0370\n",
            "Epoch 39/50\n",
            "509/509 [==============================] - 25s 49ms/step - loss: nan - sparse_categorical_accuracy: 0.0370\n",
            "Epoch 40/50\n",
            "509/509 [==============================] - 25s 50ms/step - loss: nan - sparse_categorical_accuracy: 0.0370\n",
            "Epoch 41/50\n",
            "509/509 [==============================] - 25s 49ms/step - loss: nan - sparse_categorical_accuracy: 0.0370\n",
            "Epoch 42/50\n",
            "509/509 [==============================] - 25s 50ms/step - loss: nan - sparse_categorical_accuracy: 0.0370\n",
            "Epoch 43/50\n",
            "509/509 [==============================] - 25s 49ms/step - loss: nan - sparse_categorical_accuracy: 0.0370\n",
            "Epoch 44/50\n",
            "509/509 [==============================] - 25s 49ms/step - loss: nan - sparse_categorical_accuracy: 0.0370\n",
            "Epoch 45/50\n",
            "509/509 [==============================] - 25s 49ms/step - loss: nan - sparse_categorical_accuracy: 0.0370\n",
            "Epoch 46/50\n",
            "509/509 [==============================] - 25s 49ms/step - loss: nan - sparse_categorical_accuracy: 0.0370\n",
            "Epoch 47/50\n",
            "509/509 [==============================] - 25s 49ms/step - loss: nan - sparse_categorical_accuracy: 0.0370\n",
            "Epoch 48/50\n",
            "509/509 [==============================] - 25s 49ms/step - loss: nan - sparse_categorical_accuracy: 0.0370\n",
            "Epoch 49/50\n",
            "509/509 [==============================] - 25s 50ms/step - loss: nan - sparse_categorical_accuracy: 0.0370\n",
            "Epoch 50/50\n",
            "509/509 [==============================] - 25s 48ms/step - loss: nan - sparse_categorical_accuracy: 0.0370\n"
          ]
        },
        {
          "data": {
            "text/plain": [
              "<keras.callbacks.History at 0x7f3340d96d40>"
            ]
          },
          "execution_count": 239,
          "metadata": {},
          "output_type": "execute_result"
        }
      ],
      "source": [
        "Dcnn.fit(train_dataset,\n",
        "         epochs=NB_EPOCHS)\n",
        "         #callbacks=[MyCustomCallback()])"
      ]
    },
    {
      "cell_type": "markdown",
      "metadata": {
        "id": "cKiIL9RbUV09"
      },
      "source": [
        "##Evaluation"
      ]
    },
    {
      "cell_type": "code",
      "execution_count": null,
      "metadata": {
        "colab": {
          "base_uri": "https://localhost:8080/"
        },
        "id": "1zd4AFZ1UV09",
        "outputId": "dbc2991d-c972-4438-e114-090fa528994b"
      },
      "outputs": [
        {
          "name": "stdout",
          "output_type": "stream",
          "text": [
            "127/127 [==============================] - 6s 48ms/step\n"
          ]
        }
      ],
      "source": [
        "y_val_predict =Dcnn.predict(val_dataset)"
      ]
    },
    {
      "cell_type": "code",
      "execution_count": null,
      "metadata": {
        "colab": {
          "base_uri": "https://localhost:8080/"
        },
        "id": "zqQWBkjnUV09",
        "outputId": "59a46832-10dd-404c-da38-baf9e0d5b122"
      },
      "outputs": [
        {
          "data": {
            "text/plain": [
              "(4058, 7)"
            ]
          },
          "execution_count": 257,
          "metadata": {},
          "output_type": "execute_result"
        }
      ],
      "source": [
        "y_val_predict.shape"
      ]
    },
    {
      "cell_type": "code",
      "execution_count": null,
      "metadata": {
        "colab": {
          "base_uri": "https://localhost:8080/"
        },
        "id": "NrtkOUHOUV0-",
        "outputId": "adceba16-45f3-44f6-a254-b6b401658a57"
      },
      "outputs": [
        {
          "data": {
            "text/plain": [
              "numpy.ndarray"
            ]
          },
          "execution_count": 258,
          "metadata": {},
          "output_type": "execute_result"
        }
      ],
      "source": [
        "type(y_val_predict)"
      ]
    },
    {
      "cell_type": "code",
      "execution_count": null,
      "metadata": {
        "colab": {
          "base_uri": "https://localhost:8080/"
        },
        "id": "Lk13yAz4UV0-",
        "outputId": "5d8638af-c69e-47a1-8340-b7f9636816c4"
      },
      "outputs": [
        {
          "data": {
            "text/plain": [
              "True"
            ]
          },
          "execution_count": 259,
          "metadata": {},
          "output_type": "execute_result"
        }
      ],
      "source": [
        "np.isnan(np.min(y_val_predict))"
      ]
    },
    {
      "cell_type": "code",
      "execution_count": null,
      "metadata": {
        "colab": {
          "base_uri": "https://localhost:8080/"
        },
        "id": "KQoSVfI1UV0-",
        "outputId": "b5951115-c03b-4f92-e0fd-b81e2589b25e"
      },
      "outputs": [
        {
          "name": "stdout",
          "output_type": "stream",
          "text": [
            "[[nan nan nan ... nan nan nan]\n",
            " [nan nan nan ... nan nan nan]\n",
            " [nan nan nan ... nan nan nan]\n",
            " ...\n",
            " [nan nan nan ... nan nan nan]\n",
            " [nan nan nan ... nan nan nan]\n",
            " [nan nan nan ... nan nan nan]]\n"
          ]
        }
      ],
      "source": [
        "print(y_val_predict)"
      ]
    },
    {
      "cell_type": "code",
      "execution_count": null,
      "metadata": {
        "colab": {
          "base_uri": "https://localhost:8080/"
        },
        "id": "F9K2gsMzUV0-",
        "outputId": "3cdf055a-f9ef-49dd-c798-fef515485a84"
      },
      "outputs": [
        {
          "name": "stdout",
          "output_type": "stream",
          "text": [
            "127/127 [==============================] - 6s 49ms/step - loss: nan - sparse_categorical_accuracy: 0.0370\n",
            "[nan, 0.03696402162313461]\n"
          ]
        }
      ],
      "source": [
        "results =Dcnn.evaluate(val_dataset)\n",
        "print(results)"
      ]
    },
    {
      "cell_type": "code",
      "execution_count": null,
      "metadata": {
        "id": "yiDp0PZFUV0-"
      },
      "outputs": [],
      "source": []
    },
    {
      "cell_type": "code",
      "execution_count": null,
      "metadata": {
        "id": "yMUrQh0hUV0-"
      },
      "outputs": [],
      "source": [
        "classes = np.argmax(y_val_predict, axis=-1)"
      ]
    },
    {
      "cell_type": "code",
      "execution_count": null,
      "metadata": {
        "colab": {
          "base_uri": "https://localhost:8080/"
        },
        "id": "lAxhoA3uUV0-",
        "outputId": "1fc4df6b-621a-4430-8d57-1281ab62561b"
      },
      "outputs": [
        {
          "name": "stdout",
          "output_type": "stream",
          "text": [
            "1/1 [==============================] - 0s 27ms/step\n",
            "1/1 [==============================] - 0s 26ms/step\n",
            "1/1 [==============================] - 0s 26ms/step\n",
            "1/1 [==============================] - 0s 26ms/step\n",
            "1/1 [==============================] - 0s 27ms/step\n",
            "1/1 [==============================] - 0s 25ms/step\n",
            "1/1 [==============================] - 0s 24ms/step\n",
            "1/1 [==============================] - 0s 28ms/step\n",
            "1/1 [==============================] - 0s 26ms/step\n",
            "1/1 [==============================] - 0s 26ms/step\n",
            "1/1 [==============================] - 0s 24ms/step\n",
            "1/1 [==============================] - 0s 24ms/step\n",
            "1/1 [==============================] - 0s 26ms/step\n",
            "1/1 [==============================] - 0s 25ms/step\n",
            "1/1 [==============================] - 0s 25ms/step\n",
            "1/1 [==============================] - 0s 25ms/step\n",
            "1/1 [==============================] - 0s 25ms/step\n",
            "1/1 [==============================] - 0s 26ms/step\n",
            "1/1 [==============================] - 0s 26ms/step\n",
            "1/1 [==============================] - 0s 24ms/step\n",
            "1/1 [==============================] - 0s 24ms/step\n",
            "1/1 [==============================] - 0s 25ms/step\n",
            "1/1 [==============================] - 0s 24ms/step\n",
            "1/1 [==============================] - 0s 24ms/step\n",
            "1/1 [==============================] - 0s 25ms/step\n",
            "1/1 [==============================] - 0s 24ms/step\n",
            "1/1 [==============================] - 0s 24ms/step\n",
            "1/1 [==============================] - 0s 24ms/step\n",
            "1/1 [==============================] - 0s 24ms/step\n",
            "1/1 [==============================] - 0s 26ms/step\n",
            "1/1 [==============================] - 0s 26ms/step\n",
            "1/1 [==============================] - 0s 24ms/step\n",
            "1/1 [==============================] - 0s 25ms/step\n",
            "1/1 [==============================] - 0s 24ms/step\n",
            "1/1 [==============================] - 0s 24ms/step\n",
            "1/1 [==============================] - 0s 24ms/step\n",
            "1/1 [==============================] - 0s 25ms/step\n",
            "1/1 [==============================] - 0s 26ms/step\n",
            "1/1 [==============================] - 0s 26ms/step\n",
            "1/1 [==============================] - 0s 25ms/step\n",
            "1/1 [==============================] - 0s 28ms/step\n",
            "1/1 [==============================] - 0s 25ms/step\n",
            "1/1 [==============================] - 0s 24ms/step\n",
            "1/1 [==============================] - 0s 24ms/step\n",
            "1/1 [==============================] - 0s 25ms/step\n",
            "1/1 [==============================] - 0s 25ms/step\n",
            "1/1 [==============================] - 0s 25ms/step\n",
            "1/1 [==============================] - 0s 24ms/step\n",
            "1/1 [==============================] - 0s 26ms/step\n",
            "1/1 [==============================] - 0s 33ms/step\n",
            "1/1 [==============================] - 0s 26ms/step\n",
            "1/1 [==============================] - 0s 25ms/step\n",
            "1/1 [==============================] - 0s 25ms/step\n",
            "1/1 [==============================] - 0s 24ms/step\n",
            "1/1 [==============================] - 0s 24ms/step\n",
            "1/1 [==============================] - 0s 23ms/step\n",
            "1/1 [==============================] - 0s 28ms/step\n",
            "1/1 [==============================] - 0s 24ms/step\n",
            "1/1 [==============================] - 0s 25ms/step\n",
            "1/1 [==============================] - 0s 24ms/step\n",
            "1/1 [==============================] - 0s 25ms/step\n",
            "1/1 [==============================] - 0s 25ms/step\n",
            "1/1 [==============================] - 0s 27ms/step\n",
            "1/1 [==============================] - 0s 31ms/step\n",
            "1/1 [==============================] - 0s 26ms/step\n",
            "1/1 [==============================] - 0s 26ms/step\n",
            "1/1 [==============================] - 0s 26ms/step\n",
            "1/1 [==============================] - 0s 27ms/step\n",
            "1/1 [==============================] - 0s 27ms/step\n",
            "1/1 [==============================] - 0s 25ms/step\n",
            "1/1 [==============================] - 0s 24ms/step\n"
          ]
        }
      ],
      "source": [
        "tweet = []\n",
        "val_labels = []\n",
        "predictions = []\n",
        "for tweet, labels in val_dataset.take(-1):\n",
        "  tweet = tweet.numpy()\n",
        "  val_labels.append(labels.numpy())\n",
        "  predictions.append(Dcnn.predict(tweet))"
      ]
    },
    {
      "cell_type": "code",
      "execution_count": null,
      "metadata": {
        "id": "-YTDvq1sUV0-"
      },
      "outputs": [],
      "source": [
        "val_labels[0:1]"
      ]
    },
    {
      "cell_type": "code",
      "execution_count": null,
      "metadata": {
        "id": "jcLtpaQaUV0-"
      },
      "outputs": [],
      "source": [
        "predictions[0:2]"
      ]
    },
    {
      "cell_type": "code",
      "execution_count": null,
      "metadata": {
        "id": "FLmAZiKCUV0-"
      },
      "outputs": [],
      "source": [
        "from itertools import chain\n",
        "flatten_list = list(chain.from_iterable(predictions))\n",
        "y_pred = np.argmax(flatten_list, axis=-1)"
      ]
    },
    {
      "cell_type": "code",
      "execution_count": null,
      "metadata": {
        "id": "xRRXzkNwUV0-"
      },
      "outputs": [],
      "source": [
        "type(y_pred)"
      ]
    },
    {
      "cell_type": "code",
      "execution_count": null,
      "metadata": {
        "id": "WxUR8EEmUV0_"
      },
      "outputs": [],
      "source": [
        "from itertools import chain\n",
        "val_label = np.array(list(chain.from_iterable(val_labels)))"
      ]
    },
    {
      "cell_type": "code",
      "execution_count": null,
      "metadata": {
        "id": "Mgd0zIWDUV0_"
      },
      "outputs": [],
      "source": [
        "type(val_label)"
      ]
    },
    {
      "cell_type": "code",
      "execution_count": null,
      "metadata": {
        "id": "VEw2d9ETUV0_"
      },
      "outputs": [],
      "source": [
        "#from sklearn.metrics import classification_report\n",
        "#target_names = ['class 0', 'class 1', 'class 2', 'class 3', 'class 4', 'class 5', 'class 6', 'class 7', 'class 8', 'class 9', 'class 10', 'class 11', 'class 12', 'class 13', 'class 14', 'class 15', 'class 16', 'class 17', 'class 18', 'class 19', 'class 20', 'class 21', 'class 22', 'class 23', 'class 24', 'class 25', 'class 26']\n",
        "#print(classification_report(val_label, y_pred, target_names=target_names))"
      ]
    },
    {
      "cell_type": "code",
      "execution_count": null,
      "metadata": {
        "id": "NQPRqk4-EQh_"
      },
      "outputs": [],
      "source": [
        "from sklearn.metrics import classification_report\n",
        "target_names = ['class 0', 'class 1', 'class 2', 'class 3', 'class 4', 'class 5', 'class 6']\n",
        "print(classification_report(val_label, y_pred, target_names=target_names, digits=4))"
      ]
    },
    {
      "cell_type": "code",
      "execution_count": null,
      "metadata": {
        "id": "G21Z27coUV0_"
      },
      "outputs": [],
      "source": []
    },
    {
      "cell_type": "code",
      "execution_count": null,
      "metadata": {
        "id": "v4M_MxdFUV0_"
      },
      "outputs": [],
      "source": []
    },
    {
      "cell_type": "code",
      "execution_count": null,
      "metadata": {
        "id": "I41dOQQxUV0_"
      },
      "outputs": [],
      "source": [
        "y_test_predict =Dcnn.predict(test_dataset)"
      ]
    },
    {
      "cell_type": "code",
      "execution_count": null,
      "metadata": {
        "id": "L7zcnQ5WUV0_"
      },
      "outputs": [],
      "source": [
        "len(y_test_predict)"
      ]
    },
    {
      "cell_type": "code",
      "execution_count": null,
      "metadata": {
        "id": "Qe4JpAsDUV0_"
      },
      "outputs": [],
      "source": [
        "y_test_predict.shape"
      ]
    },
    {
      "cell_type": "code",
      "execution_count": null,
      "metadata": {
        "id": "QaJIW-eOUV0_"
      },
      "outputs": [],
      "source": [
        "type(y_test_predict)"
      ]
    },
    {
      "cell_type": "code",
      "execution_count": null,
      "metadata": {
        "id": "u3t_V0viUV0_"
      },
      "outputs": [],
      "source": [
        "np.isnan(np.min(y_test_predict))"
      ]
    },
    {
      "cell_type": "code",
      "execution_count": null,
      "metadata": {
        "id": "nfj0fX85UV1A"
      },
      "outputs": [],
      "source": [
        "print(y_test_predict)"
      ]
    },
    {
      "cell_type": "code",
      "execution_count": null,
      "metadata": {
        "id": "8oEnLzi8UV1A"
      },
      "outputs": [],
      "source": [
        "results =Dcnn.evaluate(test_dataset)\n",
        "print(results)"
      ]
    },
    {
      "cell_type": "code",
      "execution_count": null,
      "metadata": {
        "id": "o5Y-xgYVUV1A"
      },
      "outputs": [],
      "source": [
        "test_classes = np.argmax(y_test_predict, axis=-1)"
      ]
    },
    {
      "cell_type": "code",
      "execution_count": null,
      "metadata": {
        "id": "Ozz7qKcgUV1A"
      },
      "outputs": [],
      "source": [
        "tweet = []\n",
        "test_labels = []\n",
        "predictions = []\n",
        "for tweet, labels in test_dataset.take(-1):\n",
        "  tweet = tweet.numpy()\n",
        "  test_labels.append(labels.numpy())\n",
        "  predictions.append(Dcnn.predict(tweet))"
      ]
    },
    {
      "cell_type": "code",
      "execution_count": null,
      "metadata": {
        "id": "DOa1KHJ2UV1A"
      },
      "outputs": [],
      "source": [
        "test_labels[0:1]"
      ]
    },
    {
      "cell_type": "code",
      "execution_count": null,
      "metadata": {
        "id": "_qARQx5KUV1A"
      },
      "outputs": [],
      "source": [
        "predictions[0:2]"
      ]
    },
    {
      "cell_type": "code",
      "execution_count": null,
      "metadata": {
        "id": "HaB8siVLUV1A"
      },
      "outputs": [],
      "source": [
        "from itertools import chain\n",
        "flatten_list = list(chain.from_iterable(predictions))\n",
        "test_pred = np.argmax(flatten_list, axis=-1)"
      ]
    },
    {
      "cell_type": "code",
      "execution_count": null,
      "metadata": {
        "id": "Qs1AVj_IUV1A"
      },
      "outputs": [],
      "source": [
        "type(test_pred)"
      ]
    },
    {
      "cell_type": "code",
      "execution_count": null,
      "metadata": {
        "id": "5fUfND_4UV1A"
      },
      "outputs": [],
      "source": [
        "len(test_pred)"
      ]
    },
    {
      "cell_type": "code",
      "execution_count": null,
      "metadata": {
        "id": "OvYaP-DyUV1A"
      },
      "outputs": [],
      "source": [
        "from itertools import chain\n",
        "test_label = np.array(list(chain.from_iterable(test_labels)))"
      ]
    },
    {
      "cell_type": "code",
      "execution_count": null,
      "metadata": {
        "id": "1OSJf2oGUV1A"
      },
      "outputs": [],
      "source": [
        "type(test_label)"
      ]
    },
    {
      "cell_type": "code",
      "execution_count": null,
      "metadata": {
        "id": "wIY8XyK4UV1B"
      },
      "outputs": [],
      "source": [
        "len(test_label)"
      ]
    },
    {
      "cell_type": "code",
      "execution_count": null,
      "metadata": {
        "id": "zYrMtey4UV1B"
      },
      "outputs": [],
      "source": [
        "#from sklearn.metrics import classification_report\n",
        "#target_names = ['class 0', 'class 1', 'class 2', 'class 3', 'class 4', 'class 5', 'class 6', 'class 7', 'class 8', 'class 9', 'class 10', 'class 11', 'class 12', 'class 13', 'class 14', 'class 15', 'class 16', 'class 17', 'class 18', 'class 19', 'class 20', 'class 21', 'class 22', 'class 23', 'class 24', 'class 25', 'class 26']\n",
        "#print(classification_report(test_label, test_pred, target_names=target_names))"
      ]
    },
    {
      "cell_type": "code",
      "execution_count": null,
      "metadata": {
        "id": "84Uib0k-EQiA"
      },
      "outputs": [],
      "source": [
        "from sklearn.metrics import classification_report\n",
        "target_names = ['class 0', 'class 1', 'class 2', 'class 3', 'class 4', 'class 5', 'class 6']\n",
        "print(classification_report(test_label, test_pred, target_names=target_names, digits=4))"
      ]
    },
    {
      "cell_type": "code",
      "execution_count": null,
      "metadata": {
        "id": "-S_becKpUV1B"
      },
      "outputs": [],
      "source": [
        "confusion_matrix(test_label, test_pred)"
      ]
    },
    {
      "cell_type": "code",
      "execution_count": null,
      "metadata": {
        "id": "SY0xeR8AUV1B"
      },
      "outputs": [],
      "source": []
    },
    {
      "cell_type": "markdown",
      "metadata": {
        "id": "2no0OP4dSaYq"
      },
      "source": [
        "#West Texas Explosion"
      ]
    },
    {
      "cell_type": "code",
      "execution_count": null,
      "metadata": {
        "id": "2UomK_t7SdPf"
      },
      "outputs": [],
      "source": []
    },
    {
      "cell_type": "markdown",
      "metadata": {
        "id": "pcXlWFz0SfbY"
      },
      "source": [
        "##Data Preprocessing"
      ]
    },
    {
      "cell_type": "code",
      "execution_count": null,
      "metadata": {
        "id": "aZHORXb7SfbY"
      },
      "outputs": [],
      "source": [
        "df1=pd.read_csv(\"/content/shuffle_data_West_Texas_Explosion.csv\")"
      ]
    },
    {
      "cell_type": "code",
      "execution_count": null,
      "metadata": {
        "id": "V-x7UCK9SfbZ"
      },
      "outputs": [],
      "source": [
        "df1.head()"
      ]
    },
    {
      "cell_type": "code",
      "execution_count": null,
      "metadata": {
        "id": "OZxa3P8eSfbZ"
      },
      "outputs": [],
      "source": [
        "#first_column = df1.columns[0]"
      ]
    },
    {
      "cell_type": "code",
      "execution_count": null,
      "metadata": {
        "id": "prCwNHWXSfbZ"
      },
      "outputs": [],
      "source": [
        "#df1 = df1.drop([first_column], axis=1)"
      ]
    },
    {
      "cell_type": "code",
      "execution_count": null,
      "metadata": {
        "id": "Sp9bKz_eSfbZ"
      },
      "outputs": [],
      "source": [
        "df1.shape"
      ]
    },
    {
      "cell_type": "code",
      "execution_count": null,
      "metadata": {
        "id": "Kg8sDhgOSfbZ"
      },
      "outputs": [],
      "source": [
        "df1.rename(columns={'tweet': 'tweet_text', 'label': 'class_label'}, inplace=True)"
      ]
    },
    {
      "cell_type": "code",
      "execution_count": null,
      "metadata": {
        "id": "MxA2luo_SfbZ"
      },
      "outputs": [],
      "source": [
        "df1.info()"
      ]
    },
    {
      "cell_type": "code",
      "execution_count": null,
      "metadata": {
        "id": "skvXrSIDSfbZ"
      },
      "outputs": [],
      "source": [
        "df2 = df1"
      ]
    },
    {
      "cell_type": "code",
      "execution_count": null,
      "metadata": {
        "id": "n59soJWwSfba"
      },
      "outputs": [],
      "source": [
        "df2.info()"
      ]
    },
    {
      "cell_type": "code",
      "execution_count": null,
      "metadata": {
        "id": "nyCntjX8Sfba"
      },
      "outputs": [],
      "source": [
        "df2.class_label.value_counts()"
      ]
    },
    {
      "cell_type": "code",
      "execution_count": null,
      "metadata": {
        "id": "65yvDdtZSfba"
      },
      "outputs": [],
      "source": [
        "#my_tags = ['caution_and_advice','displaced_people_and_evacuations','infrastructure_and_utility_damage','injured_or_dead_people','missing_or_found_people','not_humanitarian','other_relevant_information','requests_or_urgent_needs','rescue_volunteering_or_donation_effort','sympathy_and_support']\n",
        "plt.figure(figsize=(10,4))\n",
        "df2.class_label.value_counts().plot(kind='bar');"
      ]
    },
    {
      "cell_type": "code",
      "execution_count": null,
      "metadata": {
        "id": "muDITjqCSfba"
      },
      "outputs": [],
      "source": [
        "df2['tweet_text']=df2['tweet_text'].apply(str)"
      ]
    },
    {
      "cell_type": "code",
      "execution_count": null,
      "metadata": {
        "id": "CZBarKiMSfba"
      },
      "outputs": [],
      "source": [
        "# Remove HTTP tags\n",
        "df2['tweet_text_Processed'] = df2['tweet_text'].map(lambda x : ' '.join(re.sub(\"(@[A-Za-z0-9]+)|([^0-9A-Za-z \\t])|(\\w+:\\/\\/\\S+)\",\" \",x).split()))\n",
        "df2.head()"
      ]
    },
    {
      "cell_type": "code",
      "execution_count": null,
      "metadata": {
        "id": "YiWzxpY-Sfba"
      },
      "outputs": [],
      "source": [
        "#Lower Case\n",
        "df2['tweet_text_Processed'] = df2['tweet_text_Processed'].map(lambda x: x.lower())\n",
        "df2.head()"
      ]
    },
    {
      "cell_type": "code",
      "execution_count": null,
      "metadata": {
        "id": "6fkqZQmJSfba"
      },
      "outputs": [],
      "source": [
        "#Remove punctuations\n",
        "df2['tweet_text_Processed'] = df2['tweet_text_Processed'].map(lambda x: re.sub(r'[^\\w\\s]', '', x))\n",
        "df2.head()"
      ]
    },
    {
      "cell_type": "code",
      "execution_count": null,
      "metadata": {
        "id": "YY9zS1I9Sfbb"
      },
      "outputs": [],
      "source": [
        "#Remove unicodes\n",
        "df2['tweet_text_Processed'] = df2['tweet_text_Processed'].map(lambda x : re.sub(r'[^\\x00-\\x7F]+',' ', x))\n",
        "df2.head()"
      ]
    },
    {
      "cell_type": "code",
      "execution_count": null,
      "metadata": {
        "id": "QmekZKxNSfbb"
      },
      "outputs": [],
      "source": [
        "from nltk.stem import WordNetLemmatizer\n",
        "from nltk.corpus import stopwords "
      ]
    },
    {
      "cell_type": "code",
      "execution_count": null,
      "metadata": {
        "id": "JzQIjCQgSfbb"
      },
      "outputs": [],
      "source": [
        "# Remove stopwords\n",
        "nltk.download('stopwords')\n",
        "stop_words = stopwords.words('english')\n",
        "df2['tweet_text_Processed'] = df2['tweet_text_Processed'].map(lambda x : ' '.join([w for w in x.split() if w not in stop_words]))\n",
        "df2.head()"
      ]
    },
    {
      "cell_type": "code",
      "execution_count": null,
      "metadata": {
        "id": "KgNjLWV1Sfbb"
      },
      "outputs": [],
      "source": [
        "nltk.download('wordnet')"
      ]
    },
    {
      "cell_type": "code",
      "execution_count": null,
      "metadata": {
        "id": "NWuM9_IvSfbb"
      },
      "outputs": [],
      "source": [
        "import nltk\n",
        "nltk.download('omw-1.4')"
      ]
    },
    {
      "cell_type": "code",
      "execution_count": null,
      "metadata": {
        "id": "iWaBSXGQSfbb"
      },
      "outputs": [],
      "source": [
        "# Lemmatize the text\n",
        "lemmer = WordNetLemmatizer()\n",
        "\n",
        "df2['tweet_text_Processed'] = df2['tweet_text_Processed'].map(lambda x : ' '.join([lemmer.lemmatize(w) for w in x.split() if w not in stop_words]))\n",
        "df2.head()"
      ]
    },
    {
      "cell_type": "code",
      "execution_count": null,
      "metadata": {
        "id": "_-YiMrYuSfbb"
      },
      "outputs": [],
      "source": [
        "#Removing Stop words again after Lemmatize\n",
        "df2['tweet_text_Processed'] = df2['tweet_text_Processed'].map(lambda x : ' '.join([w for w in x.split() if w not in stop_words]))\n",
        "display(df2.head())"
      ]
    },
    {
      "cell_type": "code",
      "execution_count": null,
      "metadata": {
        "id": "FgDu7liaSfbb"
      },
      "outputs": [],
      "source": [
        "df2['tweet_text_Processed'].apply(lambda x: len(x.split(' '))).sum()"
      ]
    },
    {
      "cell_type": "code",
      "execution_count": null,
      "metadata": {
        "id": "nx5POM97Sfbc"
      },
      "outputs": [],
      "source": [
        "df2['num_class_label']=df2['class_label'].replace(['NONE', 'Explosion'],\n",
        "                        [0, 1], inplace=False)"
      ]
    },
    {
      "cell_type": "code",
      "execution_count": null,
      "metadata": {
        "id": "7ObIBd0vSfbc"
      },
      "outputs": [],
      "source": [
        "df2.head()"
      ]
    },
    {
      "cell_type": "code",
      "execution_count": null,
      "metadata": {
        "id": "icH_bee1Sfbc"
      },
      "outputs": [],
      "source": [
        "#my_tags = ['caution_and_advice','displaced_people_and_evacuations','infrastructure_and_utility_damage','injured_or_dead_people','missing_or_found_people','not_humanitarian','other_relevant_information','requests_or_urgent_needs','rescue_volunteering_or_donation_effort','sympathy_and_support']\n",
        "plt.figure(figsize=(10,4))\n",
        "df2.num_class_label.value_counts().plot(kind='bar');"
      ]
    },
    {
      "cell_type": "code",
      "execution_count": null,
      "metadata": {
        "id": "tBPptdo_Sfbc"
      },
      "outputs": [],
      "source": [
        "df2.num_class_label.isnull().sum().any()"
      ]
    },
    {
      "cell_type": "code",
      "execution_count": null,
      "metadata": {
        "id": "hxgW3aEFSfbc"
      },
      "outputs": [],
      "source": [
        "df2.num_class_label"
      ]
    },
    {
      "cell_type": "code",
      "execution_count": null,
      "metadata": {
        "id": "707pg6w4Sfbc"
      },
      "outputs": [],
      "source": [
        "df2.num_class_label.unique()"
      ]
    },
    {
      "cell_type": "code",
      "execution_count": null,
      "metadata": {
        "id": "2v1Gur8sSfbd"
      },
      "outputs": [],
      "source": [
        "nRow, nCol = df2.shape\n",
        "print('There are {} rows and {} columns'.format(nRow, nCol))"
      ]
    },
    {
      "cell_type": "code",
      "execution_count": null,
      "metadata": {
        "id": "XHoiUJvrSfbd"
      },
      "outputs": [],
      "source": [
        "df=df2"
      ]
    },
    {
      "cell_type": "code",
      "execution_count": null,
      "metadata": {
        "id": "bKnL4UUkSfbd"
      },
      "outputs": [],
      "source": [
        "#Doing some adjustments\n",
        "\n",
        "#a=df['tweet_id']\n",
        "\n",
        "b=df['tweet_text_Processed']\n",
        "\n",
        "c=df['class_label']\n",
        "\n",
        "d=df['num_class_label']\n",
        "\n",
        "df= pd.concat([b,c,d], axis=1)\n",
        "df.rename(columns={'class' : 'num_class_label'}, \n",
        "                    inplace=True)\n",
        "df"
      ]
    },
    {
      "cell_type": "code",
      "execution_count": null,
      "metadata": {
        "id": "Q0goof4gSfbd"
      },
      "outputs": [],
      "source": [
        "df.shape"
      ]
    },
    {
      "cell_type": "code",
      "execution_count": null,
      "metadata": {
        "id": "XgtmQx1wSfbd"
      },
      "outputs": [],
      "source": []
    },
    {
      "cell_type": "code",
      "execution_count": null,
      "metadata": {
        "id": "VoxnzTbFSfbd"
      },
      "outputs": [],
      "source": [
        "# Grouping data by label\n",
        "df.groupby('num_class_label').count()"
      ]
    },
    {
      "cell_type": "code",
      "execution_count": null,
      "metadata": {
        "id": "rMMVdYhOSfbd"
      },
      "outputs": [],
      "source": [
        "from sklearn.model_selection import train_test_split"
      ]
    },
    {
      "cell_type": "code",
      "execution_count": null,
      "metadata": {
        "id": "OSCb_XNbSfbd"
      },
      "outputs": [],
      "source": [
        "import locale\n",
        "locale.getpreferredencoding = lambda: \"UTF-8\""
      ]
    },
    {
      "cell_type": "code",
      "execution_count": null,
      "metadata": {
        "id": "4sAZtEPiSfbd"
      },
      "outputs": [],
      "source": [
        "!pip install bert-for-tf2\n",
        "!pip install sentencepiece"
      ]
    },
    {
      "cell_type": "code",
      "execution_count": null,
      "metadata": {
        "id": "JxBA13wxSfbd"
      },
      "outputs": [],
      "source": [
        "try:\n",
        "    %tensorflow_version 2.x\n",
        "except Exception:\n",
        "    pass\n",
        "import tensorflow as tf\n",
        "\n",
        "import tensorflow_hub as hub\n",
        "\n",
        "from tensorflow.keras import layers\n",
        "import bert"
      ]
    },
    {
      "cell_type": "code",
      "execution_count": null,
      "metadata": {
        "id": "Wfz1Mbg4Sfbe",
        "trusted": true
      },
      "outputs": [],
      "source": [
        "X_train_, X_test, y_train_, y_test = train_test_split(\n",
        "    df.index.values,\n",
        "    df.num_class_label.values,\n",
        "    test_size=0.20,\n",
        "    random_state=42,\n",
        "    stratify=df.num_class_label.values,\n",
        "    )"
      ]
    },
    {
      "cell_type": "code",
      "execution_count": null,
      "metadata": {
        "id": "qDYYey0xSfbe",
        "trusted": true
      },
      "outputs": [],
      "source": [
        "X_train, X_val, y_train, y_val = train_test_split(\n",
        "    df.loc[X_train_].index.values,\n",
        "    df.loc[X_train_].num_class_label.values,\n",
        "    test_size=0.20,\n",
        "    random_state=42,\n",
        "    stratify=df.loc[X_train_].num_class_label.values,  \n",
        ")"
      ]
    },
    {
      "cell_type": "code",
      "execution_count": null,
      "metadata": {
        "id": "seN_cJOPSfbe",
        "trusted": true
      },
      "outputs": [],
      "source": [
        "df['data_type'] = ['not_set']*df.shape[0]\n",
        "df.loc[X_train, 'data_type'] = 'train'\n",
        "df.loc[X_val, 'data_type'] = 'val'\n",
        "df.loc[X_test, 'data_type'] = 'test'"
      ]
    },
    {
      "cell_type": "code",
      "execution_count": null,
      "metadata": {
        "id": "kMkymGJRSfbe",
        "trusted": true
      },
      "outputs": [],
      "source": [
        "df.groupby(['class_label', 'num_class_label', 'data_type']).count()"
      ]
    },
    {
      "cell_type": "code",
      "execution_count": null,
      "metadata": {
        "id": "K4uurv1HSfbe"
      },
      "outputs": [],
      "source": [
        "df"
      ]
    },
    {
      "cell_type": "code",
      "execution_count": null,
      "metadata": {
        "id": "uGsYTiV1Sfbe"
      },
      "outputs": [],
      "source": [
        "#df.to_csv('file_1.csv')"
      ]
    },
    {
      "cell_type": "code",
      "execution_count": null,
      "metadata": {
        "id": "h73xQ-hhSfbe"
      },
      "outputs": [],
      "source": [
        "df_train = df.loc[df[\"data_type\"]==\"train\"]\n",
        "df_train.head(5)"
      ]
    },
    {
      "cell_type": "code",
      "execution_count": null,
      "metadata": {
        "id": "lWxvUjqVSfbe"
      },
      "outputs": [],
      "source": [
        "df_val = df.loc[df[\"data_type\"]==\"val\"]\n",
        "df_val.head(5)"
      ]
    },
    {
      "cell_type": "code",
      "execution_count": null,
      "metadata": {
        "id": "cuzcyQL9Sfbe"
      },
      "outputs": [],
      "source": [
        "df_test = df.loc[df[\"data_type\"]==\"test\"]\n",
        "df_test.head(10)"
      ]
    },
    {
      "cell_type": "code",
      "execution_count": null,
      "metadata": {
        "id": "IwK9HbMQSfbf"
      },
      "outputs": [],
      "source": [
        "df.dtypes"
      ]
    },
    {
      "cell_type": "code",
      "execution_count": null,
      "metadata": {
        "id": "ndtYFBiGSfbf"
      },
      "outputs": [],
      "source": [
        "train_data_labels= df_train.num_class_label.values"
      ]
    },
    {
      "cell_type": "code",
      "execution_count": null,
      "metadata": {
        "id": "q2NuCgPiSfbf"
      },
      "outputs": [],
      "source": [
        "len(train_data_labels)"
      ]
    },
    {
      "cell_type": "code",
      "execution_count": null,
      "metadata": {
        "id": "UUw2MTxZSfbf"
      },
      "outputs": [],
      "source": [
        "print(train_data_labels)"
      ]
    },
    {
      "cell_type": "code",
      "execution_count": null,
      "metadata": {
        "id": "Bv32d11MSfbf"
      },
      "outputs": [],
      "source": [
        "val_data_labels= df_val.num_class_label.values"
      ]
    },
    {
      "cell_type": "code",
      "execution_count": null,
      "metadata": {
        "id": "m8_t0xSeSfbf"
      },
      "outputs": [],
      "source": [
        "len(val_data_labels)"
      ]
    },
    {
      "cell_type": "code",
      "execution_count": null,
      "metadata": {
        "id": "rx07CJe9Sfbf"
      },
      "outputs": [],
      "source": [
        "print(val_data_labels)"
      ]
    },
    {
      "cell_type": "code",
      "execution_count": null,
      "metadata": {
        "id": "q6sGzKFYSfbf"
      },
      "outputs": [],
      "source": [
        "test_data_labels= df_test.num_class_label.values"
      ]
    },
    {
      "cell_type": "code",
      "execution_count": null,
      "metadata": {
        "id": "r1UIe1joSfbf"
      },
      "outputs": [],
      "source": [
        "len(test_data_labels)"
      ]
    },
    {
      "cell_type": "code",
      "execution_count": null,
      "metadata": {
        "id": "xpnIhS0QSfbf"
      },
      "outputs": [],
      "source": [
        "print(test_data_labels)"
      ]
    },
    {
      "cell_type": "code",
      "execution_count": null,
      "metadata": {
        "id": "j2A2vryvSfbg"
      },
      "outputs": [],
      "source": [
        "def clean_tweet(tweet):\n",
        "    #tweet = re.sub(r\"@[A-Za-z0-9]+\", ' ', tweet)\n",
        "    #tweet = re.sub(r\"https?://[A-Za-z0-9./]+\", ' ', tweet)\n",
        "    #tweet = re.sub(r\"[^a-Za-Z.!?']\", ' ', tweet)\n",
        "    tweet = re.sub(r\" +\", ' ', tweet)\n",
        "    return tweet"
      ]
    },
    {
      "cell_type": "code",
      "execution_count": null,
      "metadata": {
        "id": "nuymJiKlSfbg"
      },
      "outputs": [],
      "source": [
        "train_data_clean = [clean_tweet(tweet) for tweet in df_train.tweet_text_Processed]"
      ]
    },
    {
      "cell_type": "code",
      "execution_count": null,
      "metadata": {
        "id": "b3xQNxTuSfbg"
      },
      "outputs": [],
      "source": [
        "print(train_data_clean[0:1])"
      ]
    },
    {
      "cell_type": "code",
      "execution_count": null,
      "metadata": {
        "id": "ou7rIA-8Sfbg"
      },
      "outputs": [],
      "source": [
        "len(train_data_clean)"
      ]
    },
    {
      "cell_type": "code",
      "execution_count": null,
      "metadata": {
        "id": "ss8vsxIBSfbg"
      },
      "outputs": [],
      "source": [
        "val_data_clean = [clean_tweet(tweet) for tweet in df_val.tweet_text_Processed]"
      ]
    },
    {
      "cell_type": "code",
      "execution_count": null,
      "metadata": {
        "id": "isgMANJgSfbg"
      },
      "outputs": [],
      "source": [
        "len(val_data_clean)"
      ]
    },
    {
      "cell_type": "code",
      "execution_count": null,
      "metadata": {
        "id": "QpFmOxIzSfbg"
      },
      "outputs": [],
      "source": [
        "test_data_clean = [clean_tweet(tweet) for tweet in df_test.tweet_text_Processed]"
      ]
    },
    {
      "cell_type": "code",
      "execution_count": null,
      "metadata": {
        "id": "0xCx9HbjSfbg"
      },
      "outputs": [],
      "source": [
        "len(test_data_clean)"
      ]
    },
    {
      "cell_type": "code",
      "execution_count": null,
      "metadata": {
        "id": "zWRggH9pSfbg"
      },
      "outputs": [],
      "source": [
        "FullTokenizer = bert.bert_tokenization.FullTokenizer\n",
        "bert_layer = hub.KerasLayer(\"https://tfhub.dev/tensorflow/bert_en_uncased_L-12_H-768_A-12/1\",\n",
        "                            trainable=False)\n",
        "vocab_file = bert_layer.resolved_object.vocab_file.asset_path.numpy()\n",
        "do_lower_case= bert_layer.resolved_object.do_lower_case.numpy()\n",
        "tokenizer = FullTokenizer(vocab_file, do_lower_case) "
      ]
    },
    {
      "cell_type": "code",
      "execution_count": null,
      "metadata": {
        "id": "UpIwE36zSfbg"
      },
      "outputs": [],
      "source": [
        "def encode_sentence(sent):\n",
        "    return [\"[CLS]\"] + tokenizer.tokenize(sent) + [\"[SEP]\"]"
      ]
    },
    {
      "cell_type": "code",
      "execution_count": null,
      "metadata": {
        "id": "EAimyTwDSfbh"
      },
      "outputs": [],
      "source": [
        "train_data_inputs = [encode_sentence(sentence) for sentence in train_data_clean]"
      ]
    },
    {
      "cell_type": "code",
      "execution_count": null,
      "metadata": {
        "id": "C-kjJBoRSfbh"
      },
      "outputs": [],
      "source": [
        "print(train_data_inputs[0])"
      ]
    },
    {
      "cell_type": "code",
      "execution_count": null,
      "metadata": {
        "id": "yRsf1R5OSfbh"
      },
      "outputs": [],
      "source": [
        "print(len(train_data_inputs[0]))"
      ]
    },
    {
      "cell_type": "code",
      "execution_count": null,
      "metadata": {
        "id": "SvtxqzAsSfbh"
      },
      "outputs": [],
      "source": [
        "val_data_inputs = [encode_sentence(sentence) for sentence in val_data_clean]"
      ]
    },
    {
      "cell_type": "code",
      "execution_count": null,
      "metadata": {
        "id": "i56vUS9ZSfbh"
      },
      "outputs": [],
      "source": [
        "print(val_data_inputs[1])"
      ]
    },
    {
      "cell_type": "code",
      "execution_count": null,
      "metadata": {
        "id": "doJZdZzGSfbh"
      },
      "outputs": [],
      "source": [
        "test_data_inputs = [encode_sentence(sentence) for sentence in test_data_clean]"
      ]
    },
    {
      "cell_type": "code",
      "execution_count": null,
      "metadata": {
        "id": "PU_kqxacSfbh"
      },
      "outputs": [],
      "source": [
        "print(test_data_inputs[0])"
      ]
    },
    {
      "cell_type": "code",
      "execution_count": null,
      "metadata": {
        "id": "JEVgrm1dSfbh"
      },
      "outputs": [],
      "source": [
        "def get_ids(tokens):\n",
        "    return tokenizer.convert_tokens_to_ids(tokens)\n",
        "\n",
        "def get_mask(tokens):\n",
        "    return np.char.not_equal(tokens,\"[PAD]\").astype(int)\n",
        "\n",
        "def get_segments(tokens):\n",
        "    seg_ids = []\n",
        "    current_seg_id = 0\n",
        "    for tok in tokens:\n",
        "        seg_ids.append(current_seg_id)\n",
        "        if tok == \"[SEP]\":\n",
        "            current_sig_id = 1-current_seg_id\n",
        "    return seg_ids\n"
      ]
    },
    {
      "cell_type": "code",
      "execution_count": null,
      "metadata": {
        "id": "aeWHd4qMSfbh"
      },
      "outputs": [],
      "source": [
        "data_with_len = [[sent, train_data_labels[i], len(sent)]\n",
        "                 for i, sent in enumerate(train_data_inputs)]\n",
        "random.shuffle(data_with_len)\n",
        "data_with_len.sort(key=lambda x: x[2])\n",
        "train_sorted_all = [([get_ids(sent_lab[0]),\n",
        "                get_mask(sent_lab[0]),\n",
        "                get_segments(sent_lab[0])],\n",
        "               sent_lab[1])\n",
        "              for sent_lab in data_with_len if sent_lab[2] > 4]"
      ]
    },
    {
      "cell_type": "code",
      "execution_count": null,
      "metadata": {
        "id": "BFRjcOKNSfbh"
      },
      "outputs": [],
      "source": [
        "train_all_dataset = tf.data.Dataset.from_generator(lambda: train_sorted_all,\n",
        "                                             output_types=(tf.int32, tf.int32))"
      ]
    },
    {
      "cell_type": "code",
      "execution_count": null,
      "metadata": {
        "id": "pcKaPotqSfbh"
      },
      "outputs": [],
      "source": [
        "BATCH_SIZE = 32\n",
        "train_all_batched = train_all_dataset.padded_batch(BATCH_SIZE,\n",
        "                                       padded_shapes=((3, None), ()),\n",
        "                                       padding_values=(0, 0))"
      ]
    },
    {
      "cell_type": "code",
      "execution_count": null,
      "metadata": {
        "id": "youpXzqsSfbi"
      },
      "outputs": [],
      "source": [
        "len(train_sorted_all)"
      ]
    },
    {
      "cell_type": "code",
      "execution_count": null,
      "metadata": {
        "id": "qmBIOQJCSfbi"
      },
      "outputs": [],
      "source": [
        "NB_BATCHES = math.ceil(len(train_sorted_all) /BATCH_SIZE)\n",
        "NB_BATCHES_TRAIN =NB_BATCHES // 1\n",
        "train_all_batched.shuffle(NB_BATCHES)\n",
        "#test_dataset = train_all_batched.take(NB_BATCHES_TRAIN)\n",
        "train_dataset = train_all_batched.take(NB_BATCHES_TRAIN)"
      ]
    },
    {
      "cell_type": "code",
      "execution_count": null,
      "metadata": {
        "id": "QqtIhV6uSfbi"
      },
      "outputs": [],
      "source": [
        "print(type(train_dataset))"
      ]
    },
    {
      "cell_type": "code",
      "execution_count": null,
      "metadata": {
        "id": "zjp5uT48Sfbi"
      },
      "outputs": [],
      "source": [
        "data_with_len = [[sent, val_data_labels[i], len(sent)]\n",
        "                 for i, sent in enumerate(val_data_inputs)]\n",
        "random.shuffle(data_with_len)\n",
        "data_with_len.sort(key=lambda x: x[2])\n",
        "val_sorted_all = [([get_ids(sent_lab[0]),\n",
        "                get_mask(sent_lab[0]),\n",
        "                get_segments(sent_lab[0])],\n",
        "               sent_lab[1])\n",
        "              for sent_lab in data_with_len if sent_lab[2] > 4]"
      ]
    },
    {
      "cell_type": "code",
      "execution_count": null,
      "metadata": {
        "id": "P-_Q03eWSfbi"
      },
      "outputs": [],
      "source": [
        "print(len((val_data_labels)))"
      ]
    },
    {
      "cell_type": "code",
      "execution_count": null,
      "metadata": {
        "id": "tGiSs2_GSfbi"
      },
      "outputs": [],
      "source": [
        "val_all_dataset = tf.data.Dataset.from_generator(lambda: val_sorted_all,\n",
        "                                             output_types=(tf.int32, tf.int32))"
      ]
    },
    {
      "cell_type": "code",
      "execution_count": null,
      "metadata": {
        "id": "pstF__NfSfbi"
      },
      "outputs": [],
      "source": [
        "BATCH_SIZE = 32\n",
        "val_all_batched = val_all_dataset.padded_batch(BATCH_SIZE,\n",
        "                                       padded_shapes=((3, None), ()),\n",
        "                                       padding_values=(0, 0))"
      ]
    },
    {
      "cell_type": "code",
      "execution_count": null,
      "metadata": {
        "id": "0nO0yKcPSfbi"
      },
      "outputs": [],
      "source": [
        "len(val_sorted_all)"
      ]
    },
    {
      "cell_type": "code",
      "execution_count": null,
      "metadata": {
        "id": "AeHZjR-2Sfbi"
      },
      "outputs": [],
      "source": [
        "NB_BATCHES = math.ceil(len(val_sorted_all) /BATCH_SIZE)\n",
        "NB_BATCHES_TRAIN =NB_BATCHES // 1\n",
        "val_all_batched.shuffle(NB_BATCHES)\n",
        "#test_dataset = train_all_batched.take(NB_BATCHES_TRAIN)\n",
        "val_dataset = val_all_batched.take(NB_BATCHES_TRAIN)"
      ]
    },
    {
      "cell_type": "code",
      "execution_count": null,
      "metadata": {
        "id": "uJTzhd8OSfbi"
      },
      "outputs": [],
      "source": [
        "print(type(val_dataset))"
      ]
    },
    {
      "cell_type": "code",
      "execution_count": null,
      "metadata": {
        "id": "ffAyqPvjSfbj"
      },
      "outputs": [],
      "source": [
        "data_with_len = [[sent, test_data_labels[i], len(sent)]\n",
        "                 for i, sent in enumerate(test_data_inputs)]\n",
        "random.shuffle(data_with_len)\n",
        "data_with_len.sort(key=lambda x: x[2])\n",
        "test_sorted_all = [([get_ids(sent_lab[0]),\n",
        "                get_mask(sent_lab[0]),\n",
        "                get_segments(sent_lab[0])],\n",
        "               sent_lab[1])\n",
        "              for sent_lab in data_with_len if sent_lab[2] > 4]"
      ]
    },
    {
      "cell_type": "code",
      "execution_count": null,
      "metadata": {
        "id": "9cEfFPvISfbj"
      },
      "outputs": [],
      "source": [
        "test_all_dataset = tf.data.Dataset.from_generator(lambda: test_sorted_all,\n",
        "                                             output_types=(tf.int32, tf.int32))"
      ]
    },
    {
      "cell_type": "code",
      "execution_count": null,
      "metadata": {
        "id": "bUtX2066Sfbj"
      },
      "outputs": [],
      "source": [
        "BATCH_SIZE = 32\n",
        "test_all_batched = test_all_dataset.padded_batch(BATCH_SIZE,\n",
        "                                       padded_shapes=((3, None), ()),\n",
        "                                       padding_values=(0, 0))"
      ]
    },
    {
      "cell_type": "code",
      "execution_count": null,
      "metadata": {
        "id": "a0hc__GbSfbj"
      },
      "outputs": [],
      "source": [
        "len(test_sorted_all)"
      ]
    },
    {
      "cell_type": "code",
      "execution_count": null,
      "metadata": {
        "id": "91BqoTFuSfbj"
      },
      "outputs": [],
      "source": [
        "NB_BATCHES = math.ceil(len(test_sorted_all) /BATCH_SIZE)\n",
        "NB_BATCHES_TRAIN =NB_BATCHES // 1\n",
        "test_all_batched.shuffle(NB_BATCHES)\n",
        "#test_dataset = train_all_batched.take(NB_BATCHES_TRAIN)\n",
        "test_dataset = test_all_batched.take(NB_BATCHES_TRAIN)"
      ]
    },
    {
      "cell_type": "code",
      "execution_count": null,
      "metadata": {
        "id": "e4JWsgU_Sfbj"
      },
      "outputs": [],
      "source": [
        "print(type(test_dataset))"
      ]
    },
    {
      "cell_type": "code",
      "execution_count": null,
      "metadata": {
        "id": "BZ6NzxZNSfbj"
      },
      "outputs": [],
      "source": []
    },
    {
      "cell_type": "markdown",
      "metadata": {
        "id": "ueCYmSg5Sfbj"
      },
      "source": [
        "##Model building"
      ]
    },
    {
      "cell_type": "code",
      "execution_count": null,
      "metadata": {
        "id": "Dys0qOvBSfbj"
      },
      "outputs": [],
      "source": [
        "#my_sent = ['[CLS]'] + tokenizer.tokenize(\"Rose are red.\") + [\"[SEP]\"]\n",
        "#bert_layer([tf.expand_dims(tf.cast(get_ids(my_sent), tf.int32), 0),\n",
        "#            tf.expand_dims(tf.cast(get_mask(my_sent), tf.int32), 0),\n",
        "#            tf.expand_dims(tf.cast(get_segments(my_sent), tf.int32), 0)])"
      ]
    },
    {
      "cell_type": "code",
      "execution_count": null,
      "metadata": {
        "id": "R6JeOasBSfbj"
      },
      "outputs": [],
      "source": [
        "class DCNNBERTEmbedding(tf.keras.Model):\n",
        "    \n",
        "    def __init__(self,\n",
        "              nb_filters=50,\n",
        "              FFN_units=512,\n",
        "              nb_classes=26,\n",
        "              dropout_rate=0.1,\n",
        "              name=\"dcnn\"):\n",
        "        super(DCNNBERTEmbedding, self).__init__(name=name)\n",
        "\n",
        "        self.bert_layer = hub.KerasLayer(\n",
        "            \"https://tfhub.dev/tensorflow/bert_en_uncased_L-12_H-768_A-12/1\",\n",
        "            trainable=False)\n",
        "\n",
        "        \n",
        "        self.bigram = layers.Conv1D(filters=nb_filters,\n",
        "                                    kernel_size=2,\n",
        "                                    padding='valid',\n",
        "                                    activation='relu')\n",
        "        self.trigram = layers.Conv1D(filters=nb_filters,\n",
        "                                     kernel_size=3,\n",
        "                                     padding='valid',\n",
        "                                     activation='relu')\n",
        "        self.fourgram = layers.Conv1D(filters=nb_filters,\n",
        "                                      kernel_size=4,\n",
        "                                      padding='valid',\n",
        "                                      activation='relu')\n",
        "        self.pool = layers.GlobalMaxPooling1D()\n",
        "\n",
        "        self.dense_1 = layers.Dense(units=FFN_units,\n",
        "                                    activation='relu')\n",
        "        self.dropout = layers.Dropout(rate = dropout_rate)\n",
        "        if nb_classes == 2:\n",
        "            self.last_dense = layers.Dense(units=1,\n",
        "                                           activation='sigmoid')\n",
        "        else:\n",
        "            self.last_dense = layers.Dense(units = nb_classes,\n",
        "                                           activation ='softmax')\n",
        "    \n",
        "\n",
        "    def embed_with_bert(self, all_tokens):\n",
        "        _, embs= self.bert_layer([all_tokens[:, 0, :],\n",
        "                                  all_tokens[:, 1, :],\n",
        "                                  all_tokens[:, 2, :]])\n",
        "        return embs\n",
        "\n",
        "    def call(self, inputs, training):\n",
        "        x= self.embed_with_bert(inputs)\n",
        "\n",
        "        x_1= self.bigram(x)\n",
        "        x_1= self.pool(x_1)\n",
        "        x_2= self.trigram(x)\n",
        "        x_2= self.pool(x_2)\n",
        "        x_3= self.fourgram(x)\n",
        "        x_3= self.pool(x_3)\n",
        "\n",
        "\n",
        "        merged = tf.concat([x_1, x_2, x_3], axis=-1)\n",
        "        merged = self.dense_1(merged)\n",
        "        merged = self.dropout(merged, training)\n",
        "        output= self.last_dense(merged)\n",
        "\n",
        "        return output"
      ]
    },
    {
      "cell_type": "code",
      "execution_count": null,
      "metadata": {
        "id": "WQynKIRdSfbk"
      },
      "outputs": [],
      "source": []
    },
    {
      "cell_type": "markdown",
      "metadata": {
        "id": "GlL0aET2Sfbk"
      },
      "source": [
        "##Model Training"
      ]
    },
    {
      "cell_type": "code",
      "execution_count": null,
      "metadata": {
        "id": "2_vAjxPYSfbk"
      },
      "outputs": [],
      "source": [
        "NB_FILTERS= 100\n",
        "FFN_UNITS= 256\n",
        "NB_CLASSES = 2\n",
        "\n",
        "DROPOUT_RATE = 0.2\n",
        "BATCH_SIZE=32\n",
        "NB_EPOCHS = 5"
      ]
    },
    {
      "cell_type": "code",
      "execution_count": null,
      "metadata": {
        "id": "LU8-m2N9Sfbk"
      },
      "outputs": [],
      "source": [
        "Dcnn = DCNNBERTEmbedding(nb_filters=NB_FILTERS,\n",
        "            FFN_units = FFN_UNITS,\n",
        "            nb_classes = NB_CLASSES,\n",
        "            dropout_rate = DROPOUT_RATE)"
      ]
    },
    {
      "cell_type": "code",
      "execution_count": null,
      "metadata": {
        "id": "ZH3739-ISfbk"
      },
      "outputs": [],
      "source": [
        "if NB_CLASSES == 2:\n",
        "    Dcnn.compile(loss='binary_crossentropy',\n",
        "                 optimizer='adam',\n",
        "                 metrics=['accuracy'])\n",
        "else:\n",
        "    Dcnn.compile(loss='sparse_categorical_crossentropy',\n",
        "                 optimizer='adam',\n",
        "                 metrics=['sparse_categorical_accuracy'])\n"
      ]
    },
    {
      "cell_type": "code",
      "execution_count": null,
      "metadata": {
        "id": "AVzhTClsSfbk"
      },
      "outputs": [],
      "source": [
        "Dcnn(None, 3, None)"
      ]
    },
    {
      "cell_type": "code",
      "execution_count": null,
      "metadata": {
        "id": "d3X6BI8sSfbk"
      },
      "outputs": [],
      "source": [
        "Dcnn.summary()"
      ]
    },
    {
      "cell_type": "code",
      "execution_count": null,
      "metadata": {
        "id": "cEa31iINSfbk"
      },
      "outputs": [],
      "source": [
        "from keras.models import Sequential\n",
        "from keras.layers import Dense\n",
        "from keras.utils.vis_utils import plot_model"
      ]
    },
    {
      "cell_type": "code",
      "execution_count": null,
      "metadata": {
        "id": "iZjQVT_2Sfbk"
      },
      "outputs": [],
      "source": [
        "plot_model(Dcnn, to_file='model_plot.png', show_shapes=True, show_layer_names=True)"
      ]
    },
    {
      "cell_type": "code",
      "execution_count": null,
      "metadata": {
        "id": "ydhGJ21OSfbk"
      },
      "outputs": [],
      "source": []
    },
    {
      "cell_type": "code",
      "execution_count": null,
      "metadata": {
        "id": "klCXPyUQSfbk"
      },
      "outputs": [],
      "source": []
    },
    {
      "cell_type": "markdown",
      "metadata": {
        "id": "mAeNLK6GSfbk"
      },
      "source": [
        "##Result"
      ]
    },
    {
      "cell_type": "code",
      "execution_count": null,
      "metadata": {
        "id": "GQfx_vSpSfbl"
      },
      "outputs": [],
      "source": [
        "Dcnn.fit(train_dataset,\n",
        "         epochs=NB_EPOCHS)\n",
        "         #callbacks=[MyCustomCallback()])"
      ]
    },
    {
      "cell_type": "markdown",
      "metadata": {
        "id": "KprfcoevSfbl"
      },
      "source": [
        "##Evaluation"
      ]
    },
    {
      "cell_type": "code",
      "execution_count": null,
      "metadata": {
        "id": "5_XzFHGHSfbl"
      },
      "outputs": [],
      "source": [
        "y_val_predict =Dcnn.predict(val_dataset)"
      ]
    },
    {
      "cell_type": "code",
      "execution_count": null,
      "metadata": {
        "id": "XNkzwUbKSfbl"
      },
      "outputs": [],
      "source": [
        "y_val_predict.shape"
      ]
    },
    {
      "cell_type": "code",
      "execution_count": null,
      "metadata": {
        "id": "A1k7fLNKSfbl"
      },
      "outputs": [],
      "source": [
        "type(y_val_predict)"
      ]
    },
    {
      "cell_type": "code",
      "execution_count": null,
      "metadata": {
        "id": "5857vb_PSfbl"
      },
      "outputs": [],
      "source": [
        "np.isnan(np.min(y_val_predict))"
      ]
    },
    {
      "cell_type": "code",
      "execution_count": null,
      "metadata": {
        "id": "yHoJ-ko8Sfbl"
      },
      "outputs": [],
      "source": [
        "print(y_val_predict)"
      ]
    },
    {
      "cell_type": "code",
      "execution_count": null,
      "metadata": {
        "id": "gtvru8yfSfbl"
      },
      "outputs": [],
      "source": [
        "results =Dcnn.evaluate(val_dataset)\n",
        "print(results)"
      ]
    },
    {
      "cell_type": "code",
      "execution_count": null,
      "metadata": {
        "id": "1edr6ldDSfbl"
      },
      "outputs": [],
      "source": []
    },
    {
      "cell_type": "code",
      "execution_count": null,
      "metadata": {
        "id": "53XMmtc3Sfbl"
      },
      "outputs": [],
      "source": [
        "classes = np.argmax(y_val_predict, axis=-1)"
      ]
    },
    {
      "cell_type": "code",
      "execution_count": null,
      "metadata": {
        "id": "ylxzQYo-Sfbm"
      },
      "outputs": [],
      "source": [
        "tweet = []\n",
        "val_labels = []\n",
        "predictions = []\n",
        "for tweet, labels in val_dataset.take(-1):\n",
        "  tweet = tweet.numpy()\n",
        "  val_labels.append(labels.numpy())\n",
        "  predictions.append(Dcnn.predict(tweet))"
      ]
    },
    {
      "cell_type": "code",
      "execution_count": null,
      "metadata": {
        "id": "HmBRfGHOSfbm"
      },
      "outputs": [],
      "source": [
        "val_labels[0:1]"
      ]
    },
    {
      "cell_type": "code",
      "execution_count": null,
      "metadata": {
        "id": "gxLgKdxFSfbm"
      },
      "outputs": [],
      "source": [
        "predictions[0:2]"
      ]
    },
    {
      "cell_type": "code",
      "execution_count": null,
      "metadata": {
        "id": "XpG8_X9iSfbm"
      },
      "outputs": [],
      "source": [
        "from itertools import chain\n",
        "flatten_list = list(chain.from_iterable(predictions))\n",
        "y_pred = np.argmax(flatten_list, axis=-1)"
      ]
    },
    {
      "cell_type": "code",
      "execution_count": null,
      "metadata": {
        "id": "waCSIIhYSfbm"
      },
      "outputs": [],
      "source": [
        "type(y_pred)"
      ]
    },
    {
      "cell_type": "code",
      "execution_count": null,
      "metadata": {
        "id": "vKhufOG7Sfbm"
      },
      "outputs": [],
      "source": [
        "from itertools import chain\n",
        "val_label = np.array(list(chain.from_iterable(val_labels)))"
      ]
    },
    {
      "cell_type": "code",
      "execution_count": null,
      "metadata": {
        "id": "aUplLN82Sfbm"
      },
      "outputs": [],
      "source": [
        "type(val_label)"
      ]
    },
    {
      "cell_type": "code",
      "execution_count": null,
      "metadata": {
        "id": "_oowunYsSfbm"
      },
      "outputs": [],
      "source": [
        "from sklearn.metrics import classification_report\n",
        "#target_names = ['class 0', 'class 1']\n",
        "print(classification_report(y_pred,val_label, target_names=target_names))"
      ]
    },
    {
      "cell_type": "code",
      "execution_count": null,
      "metadata": {
        "id": "eVUIuH5RSfbm"
      },
      "outputs": [],
      "source": []
    },
    {
      "cell_type": "code",
      "execution_count": null,
      "metadata": {
        "id": "gsUYxScgSfbm"
      },
      "outputs": [],
      "source": []
    },
    {
      "cell_type": "code",
      "execution_count": null,
      "metadata": {
        "id": "ScWmSjxUSfbn"
      },
      "outputs": [],
      "source": [
        "y_test_predict =Dcnn.predict(test_dataset)"
      ]
    },
    {
      "cell_type": "code",
      "execution_count": null,
      "metadata": {
        "id": "LkvsIHufSfbn"
      },
      "outputs": [],
      "source": [
        "len(y_test_predict)"
      ]
    },
    {
      "cell_type": "code",
      "execution_count": null,
      "metadata": {
        "id": "Fe1H7ArNSfbn"
      },
      "outputs": [],
      "source": [
        "y_test_predict.shape"
      ]
    },
    {
      "cell_type": "code",
      "execution_count": null,
      "metadata": {
        "id": "UDoxeN7jSfbn"
      },
      "outputs": [],
      "source": [
        "type(y_test_predict)"
      ]
    },
    {
      "cell_type": "code",
      "execution_count": null,
      "metadata": {
        "id": "MWqQHLOhSfbn"
      },
      "outputs": [],
      "source": [
        "np.isnan(np.min(y_test_predict))"
      ]
    },
    {
      "cell_type": "code",
      "execution_count": null,
      "metadata": {
        "id": "yJF9WSyYSfbn"
      },
      "outputs": [],
      "source": [
        "print(y_test_predict)"
      ]
    },
    {
      "cell_type": "code",
      "execution_count": null,
      "metadata": {
        "id": "ICzRKVw7Sfbn"
      },
      "outputs": [],
      "source": [
        "results =Dcnn.evaluate(test_dataset)\n",
        "print(results)"
      ]
    },
    {
      "cell_type": "code",
      "execution_count": null,
      "metadata": {
        "id": "YdLxweGqSfbn"
      },
      "outputs": [],
      "source": [
        "test_classes = np.argmax(y_test_predict, axis=-1)"
      ]
    },
    {
      "cell_type": "code",
      "execution_count": null,
      "metadata": {
        "id": "sqjBMag9Sfbn"
      },
      "outputs": [],
      "source": [
        "tweet = []\n",
        "test_labels = []\n",
        "predictions = []\n",
        "for tweet, labels in test_dataset.take(-1):\n",
        "  tweet = tweet.numpy()\n",
        "  test_labels.append(labels.numpy())\n",
        "  predictions.append(Dcnn.predict(tweet))"
      ]
    },
    {
      "cell_type": "code",
      "execution_count": null,
      "metadata": {
        "id": "RMEGYVDzSfbo"
      },
      "outputs": [],
      "source": [
        "test_labels[0:1]"
      ]
    },
    {
      "cell_type": "code",
      "execution_count": null,
      "metadata": {
        "id": "OhYr0UC1Sfbo"
      },
      "outputs": [],
      "source": [
        "predictions[0:2]"
      ]
    },
    {
      "cell_type": "code",
      "execution_count": null,
      "metadata": {
        "id": "GmlQTTvVSfbo"
      },
      "outputs": [],
      "source": [
        "from itertools import chain\n",
        "flatten_list = list(chain.from_iterable(predictions))\n",
        "test_pred = np.argmax(flatten_list, axis=-1)"
      ]
    },
    {
      "cell_type": "code",
      "execution_count": null,
      "metadata": {
        "id": "3HMEqEHnSfbo"
      },
      "outputs": [],
      "source": [
        "type(test_pred)"
      ]
    },
    {
      "cell_type": "code",
      "execution_count": null,
      "metadata": {
        "id": "_UTbYJWHSfbo"
      },
      "outputs": [],
      "source": [
        "len(test_pred)"
      ]
    },
    {
      "cell_type": "code",
      "execution_count": null,
      "metadata": {
        "id": "qjqycwSZSfbo"
      },
      "outputs": [],
      "source": [
        "from itertools import chain\n",
        "test_label = np.array(list(chain.from_iterable(test_labels)))"
      ]
    },
    {
      "cell_type": "code",
      "execution_count": null,
      "metadata": {
        "id": "FEgzYPEWSfbo"
      },
      "outputs": [],
      "source": [
        "type(test_label)"
      ]
    },
    {
      "cell_type": "code",
      "execution_count": null,
      "metadata": {
        "id": "_jEQaAMsSfbo"
      },
      "outputs": [],
      "source": [
        "len(test_label)"
      ]
    },
    {
      "cell_type": "code",
      "execution_count": null,
      "metadata": {
        "id": "B0pvHMwDSfbo"
      },
      "outputs": [],
      "source": [
        "from sklearn.metrics import classification_report\n",
        "#target_names = ['class 0', 'class 1']\n",
        "print(classification_report(test_label, test_pred, target_names=target_names))"
      ]
    },
    {
      "cell_type": "code",
      "execution_count": null,
      "metadata": {
        "id": "PGXgikUaSfbp"
      },
      "outputs": [],
      "source": [
        "confusion_matrix(test_label, test_pred)"
      ]
    },
    {
      "cell_type": "code",
      "execution_count": null,
      "metadata": {
        "id": "j59tmMwQSfbp"
      },
      "outputs": [],
      "source": []
    }
  ],
  "metadata": {
    "accelerator": "GPU",
    "colab": {
      "provenance": []
    },
    "gpuClass": "standard",
    "kernelspec": {
      "display_name": "Python 3",
      "name": "python3"
    },
    "language_info": {
      "name": "python"
    }
  },
  "nbformat": 4,
  "nbformat_minor": 0
}
